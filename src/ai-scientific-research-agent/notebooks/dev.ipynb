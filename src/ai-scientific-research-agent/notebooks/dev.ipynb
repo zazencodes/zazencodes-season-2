{
 "cells": [
  {
   "cell_type": "markdown",
   "metadata": {},
   "source": [
    "# Sci Research Agent Dev"
   ]
  },
  {
   "cell_type": "markdown",
   "metadata": {},
   "source": [
    "## arXiv\n"
   ]
  },
  {
   "cell_type": "code",
   "execution_count": 1,
   "metadata": {},
   "outputs": [],
   "source": [
    "import requests\n",
    "import xml.etree.ElementTree as ET\n"
   ]
  },
  {
   "cell_type": "code",
   "execution_count": 2,
   "metadata": {},
   "outputs": [
    {
     "data": {
      "text/plain": [
       "'http://export.arxiv.org/api/query?search_query=all:quantum+gravitymax_results=10'"
      ]
     },
     "execution_count": 2,
     "metadata": {},
     "output_type": "execute_result"
    }
   ],
   "source": [
    "search_term = \"Quantum Gravity\"\n",
    "\n",
    "max_results = 10\n",
    "query = \"+\".join(search_term.lower().split())\n",
    "url = f\"http://export.arxiv.org/api/query?search_query=all:{query}max_results={max_results}\"\n",
    "url"
   ]
  },
  {
   "cell_type": "code",
   "execution_count": 3,
   "metadata": {},
   "outputs": [],
   "source": [
    "resp = requests.get(url)"
   ]
  },
  {
   "cell_type": "code",
   "execution_count": 4,
   "metadata": {},
   "outputs": [
    {
     "data": {
      "text/plain": [
       "<Response [200]>"
      ]
     },
     "execution_count": 4,
     "metadata": {},
     "output_type": "execute_result"
    }
   ],
   "source": [
    "resp"
   ]
  },
  {
   "cell_type": "code",
   "execution_count": 5,
   "metadata": {},
   "outputs": [
    {
     "data": {
      "text/plain": [
       "'<?xml version=\"1.0\" encoding=\"UTF-8\"?>\\n<feed xmlns=\"http://www.w3.org/2005/Atom\">\\n  <link href=\"http://arxiv.org/api/query?search_query%3Dall%3Aquantum%20gravitymax_results%3D10%26id_list%3D%26start%3D0%26max_results%3D10\" rel=\"self\" type=\"application/atom+xml\"/>\\n  <title type=\"html\">ArXiv Query: search_query=all:quantum gravitymax_results=10&amp;id_list=&amp;start=0&amp;max_results=10</title>\\n  <id>http://arxiv.org/api/vK5e9MYHl4z6Z/AxxTmNPw6+d7c</id>\\n  <updated>2025-01-31T00:00:00-05:00</updated>\\n  <opensearch:totalResults xmlns:opensearch=\"http://a9.com/-/spec/opensearch/1.1/\">420401</opensearch:totalResults>\\n  <opensearch:startIndex xmlns:opensearch=\"http://a9.com/-/spec/opensearch/1.1/\">0</opensearch:startIndex>\\n  <opensearch:itemsPerPage xmlns:opensearch=\"http://a9.com/-/spec/opensearch/1.1/\">10</opensearch:itemsPerPage>\\n  <entry>\\n    <id>http://arxiv.org/abs/quant-ph/0201082v1</id>\\n    <updated>2002-01-18T15:08:05Z</updated>\\n    <published>2002-01-18T15:08:05Z</published>\\n    <title>Quantum Computers and Quantum Computer Languages: Quantum Assembly\\n  Language and Quantum C Language</title>\\n    <summary>  We show a representation of Quantum Computers defines Quantum Turing Machines\\nwith associated Quantum Grammars. We then create examples of Quantum Grammars.\\nLastly we develop an algebraic approach to high level Quantum Languages using\\nQuantum Assembly language and Quantum C language as examples.\\n</summary>\\n    <author>\\n      <name>Stephen Blaha</name>\\n    </author>\\n    <arxiv:comment xmlns:arxiv=\"http://arxiv.org/schemas/atom\">32 pages</arxiv:comment>\\n    <link href=\"http://arxiv.org/abs/quant-ph/0201082v1\" rel=\"alternate\" type=\"text/html\"/>\\n    <link title=\"pdf\" href=\"http://arxiv.org/pdf/quant-ph/0201082v1\" rel=\"related\" type=\"application/pdf\"/>\\n    <arxiv:primary_category xmlns:arxiv=\"http://arxiv.org/schemas/atom\" term=\"quant-ph\" scheme=\"http://arxiv.org/schemas/atom\"/>\\n    <category term=\"quant-ph\" scheme=\"http://arxiv.org/schemas/atom\"/>\\n    <category term=\"cs.PL\" scheme=\"http://arxiv.org/schemas/atom\"/>\\n  </entry>\\n  <entry>\\n    <id>http://arxiv.org/abs/quant-ph/0407102v1</id>\\n    <updated>2004-07-14T14:47:27Z</updated>\\n    <published>2004-07-14T14:47:27Z</published>\\n    <title>Quantum Networks for Generating Arbitrary Quantum States</title>\\n    <summary>  Quantum protocols often require the generation of specific quantum states. We\\ndescribe a quantum algorithm for generating any prescribed quantum state. For\\nan important subclass of states, including pure symmetric states, this\\nalgorithm is efficient.\\n</summary>\\n    <author>\\n      <name>Phillip Kaye</name>\\n    </author>\\n    <author>\\n      <name>Michele Mosca</name>\\n    </author>\\n    <arxiv:comment xmlns:arxiv=\"http://arxiv.org/schemas/atom\">3 pages, 2 figures. This paper previously appeared in: Proceedings,\\n  International Conference on Quantum Information (ICQI). Rochester, New York,\\n  USA, 2001</arxiv:comment>\\n    <arxiv:journal_ref xmlns:arxiv=\"http://arxiv.org/schemas/atom\">Phillip Kaye, Michele Mosca, \"Quantum Networks for Generating\\n  Arbitrary Quantum States\", Proceedings, International Conference on Quantum\\n  Information (ICQI). Rochester, New York, USA, 2001</arxiv:journal_ref>\\n    <link href=\"http://arxiv.org/abs/quant-ph/0407102v1\" rel=\"alternate\" type=\"text/html\"/>\\n    <link title=\"pdf\" href=\"http://arxiv.org/pdf/quant-ph/0407102v1\" rel=\"related\" type=\"application/pdf\"/>\\n    <arxiv:primary_category xmlns:arxiv=\"http://arxiv.org/schemas/atom\" term=\"quant-ph\" scheme=\"http://arxiv.org/schemas/atom\"/>\\n    <category term=\"quant-ph\" scheme=\"http://arxiv.org/schemas/atom\"/>\\n  </entry>\\n  <entry>\\n    <id>http://arxiv.org/abs/0804.3401v1</id>\\n    <updated>2008-04-21T20:07:38Z</updated>\\n    <published>2008-04-21T20:07:38Z</published>\\n    <title>Quantum Computational Complexity</title>\\n    <summary>  This article surveys quantum computational complexity, with a focus on three\\nfundamental notions: polynomial-time quantum computations, the efficient\\nverification of quantum proofs, and quantum interactive proof systems.\\nProperties of quantum complexity classes based on these notions, such as BQP,\\nQMA, and QIP, are presented. Other topics in quantum complexity, including\\nquantum advice, space-bounded quantum computation, and bounded-depth quantum\\ncircuits, are also discussed.\\n</summary>\\n    <author>\\n      <name>John Watrous</name>\\n    </author>\\n    <arxiv:comment xmlns:arxiv=\"http://arxiv.org/schemas/atom\">44 pages, 14 figures. To appear in the Springer Encyclopedia of\\n  Complexity and Systems Science</arxiv:comment>\\n    <link href=\"http://arxiv.org/abs/0804.3401v1\" rel=\"alternate\" type=\"text/html\"/>\\n    <link title=\"pdf\" href=\"http://arxiv.org/pdf/0804.3401v1\" rel=\"related\" type=\"application/pdf\"/>\\n    <arxiv:primary_category xmlns:arxiv=\"http://arxiv.org/schemas/atom\" term=\"quant-ph\" scheme=\"http://arxiv.org/schemas/atom\"/>\\n    <category term=\"quant-ph\" scheme=\"http://arxiv.org/schemas/atom\"/>\\n  </entry>\\n  <entry>\\n    <id>http://arxiv.org/abs/1311.4939v1</id>\\n    <updated>2013-11-20T02:23:12Z</updated>\\n    <published>2013-11-20T02:23:12Z</published>\\n    <title>Geometrical perspective on quantum states and quantum computation</title>\\n    <summary>  We interpret quantum computing as a geometric evolution process by\\nreformulating finite quantum systems via Connes\\' noncommutative geometry. In\\nthis formulation, quantum states are represented as noncommutative connections,\\nwhile gauge transformations on the connections play a role of unitary quantum\\noperations. Thereby, a geometrical model for quantum computation is presented,\\nwhich is equivalent to the quantum circuit model. This result shows a geometric\\nway of realizing quantum computing and as such, provides an alternative\\nproposal of building a quantum computer.\\n</summary>\\n    <author>\\n      <name>Zeqian Chen</name>\\n    </author>\\n    <arxiv:comment xmlns:arxiv=\"http://arxiv.org/schemas/atom\">4 pages</arxiv:comment>\\n    <link href=\"http://arxiv.org/abs/1311.4939v1\" rel=\"alternate\" type=\"text/html\"/>\\n    <link title=\"pdf\" href=\"http://arxiv.org/pdf/1311.4939v1\" rel=\"related\" type=\"application/pdf\"/>\\n    <arxiv:primary_category xmlns:arxiv=\"http://arxiv.org/schemas/atom\" term=\"quant-ph\" scheme=\"http://arxiv.org/schemas/atom\"/>\\n    <category term=\"quant-ph\" scheme=\"http://arxiv.org/schemas/atom\"/>\\n  </entry>\\n  <entry>\\n    <id>http://arxiv.org/abs/1611.03472v1</id>\\n    <updated>2016-11-10T20:30:19Z</updated>\\n    <published>2016-11-10T20:30:19Z</published>\\n    <title>Universal Quantum Algorithm</title>\\n    <summary>  Quantum amplitude amplification and quantum phase estimation are two\\nfundamental quantum algorithms. All known quantum algorithms are derived from\\nthese two algorithms. Even the adiabatic quantum algorithms can also be\\nefficiently simulated using quantum phase estimation. We present a universal\\nquantum algorithm which explains these two algorithms as special cases. An\\ninteresting result is that we do not need quantum fourier transform to do\\nquantum phase estimation.\\n</summary>\\n    <author>\\n      <name>Avatar Tulsi</name>\\n    </author>\\n    <arxiv:comment xmlns:arxiv=\"http://arxiv.org/schemas/atom\">This is a preliminary draft. Comments are most welcome</arxiv:comment>\\n    <link href=\"http://arxiv.org/abs/1611.03472v1\" rel=\"alternate\" type=\"text/html\"/>\\n    <link title=\"pdf\" href=\"http://arxiv.org/pdf/1611.03472v1\" rel=\"related\" type=\"application/pdf\"/>\\n    <arxiv:primary_category xmlns:arxiv=\"http://arxiv.org/schemas/atom\" term=\"quant-ph\" scheme=\"http://arxiv.org/schemas/atom\"/>\\n    <category term=\"quant-ph\" scheme=\"http://arxiv.org/schemas/atom\"/>\\n  </entry>\\n  <entry>\\n    <id>http://arxiv.org/abs/q-alg/9610034v1</id>\\n    <updated>1996-10-30T15:57:00Z</updated>\\n    <published>1996-10-30T15:57:00Z</published>\\n    <title>Quantum Grothendieck polynomials</title>\\n    <summary>  We study the algebraic aspects of (small) quantum equivariant $K$-theory of\\nflag manifold. Lascoux-Sch\\\\\"utzenberger\\'s type formula for quantum double and\\nquantum double dual Grothendieck polynomials and the quantum Cauchy identity\\nfor quantum Grothendieck polynomials are obtained.\\n</summary>\\n    <author>\\n      <name>Anatol N. Kirillov</name>\\n    </author>\\n    <arxiv:comment xmlns:arxiv=\"http://arxiv.org/schemas/atom\">PlainTeX, 13 pages</arxiv:comment>\\n    <link href=\"http://arxiv.org/abs/q-alg/9610034v1\" rel=\"alternate\" type=\"text/html\"/>\\n    <link title=\"pdf\" href=\"http://arxiv.org/pdf/q-alg/9610034v1\" rel=\"related\" type=\"application/pdf\"/>\\n    <arxiv:primary_category xmlns:arxiv=\"http://arxiv.org/schemas/atom\" term=\"q-alg\" scheme=\"http://arxiv.org/schemas/atom\"/>\\n    <category term=\"q-alg\" scheme=\"http://arxiv.org/schemas/atom\"/>\\n    <category term=\"math.QA\" scheme=\"http://arxiv.org/schemas/atom\"/>\\n  </entry>\\n  <entry>\\n    <id>http://arxiv.org/abs/quant-ph/0302169v1</id>\\n    <updated>2003-02-21T20:20:47Z</updated>\\n    <published>2003-02-21T20:20:47Z</published>\\n    <title>Nonlinear Dynamics In Quantum Physics -- Quantum Chaos and Quantum\\n  Instantons</title>\\n    <summary>  We discuss the recently proposed quantum action - its interpretation, its\\nmotivation, its mathematical properties and its use in physics: quantum\\nmechanical tunneling, quantum instantons and quantum chaos.\\n</summary>\\n    <author>\\n      <name>H. Kröger</name>\\n    </author>\\n    <arxiv:comment xmlns:arxiv=\"http://arxiv.org/schemas/atom\">inv. talk, 10th Int. Conf. Comput. and Appl. Math., Leuven, Belgium\\n  (2002)</arxiv:comment>\\n    <link href=\"http://arxiv.org/abs/quant-ph/0302169v1\" rel=\"alternate\" type=\"text/html\"/>\\n    <link title=\"pdf\" href=\"http://arxiv.org/pdf/quant-ph/0302169v1\" rel=\"related\" type=\"application/pdf\"/>\\n    <arxiv:primary_category xmlns:arxiv=\"http://arxiv.org/schemas/atom\" term=\"quant-ph\" scheme=\"http://arxiv.org/schemas/atom\"/>\\n    <category term=\"quant-ph\" scheme=\"http://arxiv.org/schemas/atom\"/>\\n  </entry>\\n  <entry>\\n    <id>http://arxiv.org/abs/2406.11613v1</id>\\n    <updated>2024-06-17T15:00:25Z</updated>\\n    <published>2024-06-17T15:00:25Z</published>\\n    <title>Lecture Notes on Quantum Algorithms in Open Quantum Systems</title>\\n    <summary>  These lecture notes aim to provide a clear and comprehensive introduction to\\nusing open quantum system theory for quantum algorithms. The main arguments are\\nVariational Quantum Algorithms, Quantum Error Correction, Dynamical Decoupling\\nand Quantum Error Mitigation.\\n</summary>\\n    <author>\\n      <name>Matteo Carlesso</name>\\n    </author>\\n    <arxiv:comment xmlns:arxiv=\"http://arxiv.org/schemas/atom\">Feedbacks and comments are welcome</arxiv:comment>\\n    <link href=\"http://arxiv.org/abs/2406.11613v1\" rel=\"alternate\" type=\"text/html\"/>\\n    <link title=\"pdf\" href=\"http://arxiv.org/pdf/2406.11613v1\" rel=\"related\" type=\"application/pdf\"/>\\n    <arxiv:primary_category xmlns:arxiv=\"http://arxiv.org/schemas/atom\" term=\"quant-ph\" scheme=\"http://arxiv.org/schemas/atom\"/>\\n    <category term=\"quant-ph\" scheme=\"http://arxiv.org/schemas/atom\"/>\\n    <category term=\"physics.comp-ph\" scheme=\"http://arxiv.org/schemas/atom\"/>\\n  </entry>\\n  <entry>\\n    <id>http://arxiv.org/abs/quant-ph/0309066v1</id>\\n    <updated>2003-09-08T09:37:27Z</updated>\\n    <published>2003-09-08T09:37:27Z</published>\\n    <title>Probabilistic foundations of quantum mechanics and quantum information</title>\\n    <summary>  We discuss foundation of quantum mechanics (interpretations, superposition,\\nprinciple of complementarity, locality, hidden variables) and quantum\\ninformation theory.\\n</summary>\\n    <author>\\n      <name>Andrei Khrennikov</name>\\n    </author>\\n    <arxiv:doi xmlns:arxiv=\"http://arxiv.org/schemas/atom\">10.1117/12.517850</arxiv:doi>\\n    <link title=\"doi\" href=\"http://dx.doi.org/10.1117/12.517850\" rel=\"related\"/>\\n    <arxiv:comment xmlns:arxiv=\"http://arxiv.org/schemas/atom\">Contextual probabilistic viewpoint to quantum cryptography project</arxiv:comment>\\n    <link href=\"http://arxiv.org/abs/quant-ph/0309066v1\" rel=\"alternate\" type=\"text/html\"/>\\n    <link title=\"pdf\" href=\"http://arxiv.org/pdf/quant-ph/0309066v1\" rel=\"related\" type=\"application/pdf\"/>\\n    <arxiv:primary_category xmlns:arxiv=\"http://arxiv.org/schemas/atom\" term=\"quant-ph\" scheme=\"http://arxiv.org/schemas/atom\"/>\\n    <category term=\"quant-ph\" scheme=\"http://arxiv.org/schemas/atom\"/>\\n  </entry>\\n  <entry>\\n    <id>http://arxiv.org/abs/quant-ph/0504224v1</id>\\n    <updated>2005-04-29T09:41:00Z</updated>\\n    <published>2005-04-29T09:41:00Z</published>\\n    <title>From quantum graphs to quantum random walks</title>\\n    <summary>  We give a short overview over recent developments on quantum graphs and\\noutline the connection between general quantum graphs and so-called quantum\\nrandom walks.\\n</summary>\\n    <author>\\n      <name>Gregor Tanner</name>\\n    </author>\\n    <arxiv:doi xmlns:arxiv=\"http://arxiv.org/schemas/atom\">10.1007/1-4020-3949-2_6</arxiv:doi>\\n    <link title=\"doi\" href=\"http://dx.doi.org/10.1007/1-4020-3949-2_6\" rel=\"related\"/>\\n    <arxiv:comment xmlns:arxiv=\"http://arxiv.org/schemas/atom\">14 pages, 6 figures</arxiv:comment>\\n    <link href=\"http://arxiv.org/abs/quant-ph/0504224v1\" rel=\"alternate\" type=\"text/html\"/>\\n    <link title=\"pdf\" href=\"http://arxiv.org/pdf/quant-ph/0504224v1\" rel=\"related\" type=\"application/pdf\"/>\\n    <arxiv:primary_category xmlns:arxiv=\"http://arxiv.org/schemas/atom\" term=\"quant-ph\" scheme=\"http://arxiv.org/schemas/atom\"/>\\n    <category term=\"quant-ph\" scheme=\"http://arxiv.org/schemas/atom\"/>\\n  </entry>\\n</feed>\\n'"
      ]
     },
     "execution_count": 5,
     "metadata": {},
     "output_type": "execute_result"
    }
   ],
   "source": [
    "resp.text"
   ]
  },
  {
   "cell_type": "code",
   "execution_count": 11,
   "metadata": {},
   "outputs": [],
   "source": [
    "import xml.etree.ElementTree as ET\n",
    "import json\n",
    "from collections import defaultdict\n",
    "\n",
    "def parse_arxiv_xml(xml_string):\n",
    "    # Define namespaces\n",
    "    namespaces = {\n",
    "        \"atom\": \"http://www.w3.org/2005/Atom\",\n",
    "        \"opensearch\": \"http://a9.com/-/spec/opensearch/1.1/\",\n",
    "        \"arxiv\": \"http://arxiv.org/schemas/atom\"\n",
    "    }\n",
    "\n",
    "    root = ET.fromstring(xml_string)\n",
    "\n",
    "    feed = {\n",
    "        \"title\": root.find(\"atom:title\", namespaces).text if root.find(\"atom:title\", namespaces) is not None else \"\",\n",
    "        \"id\": root.find(\"atom:id\", namespaces).text if root.find(\"atom:id\", namespaces) is not None else \"\",\n",
    "        \"updated\": root.find(\"atom:updated\", namespaces).text if root.find(\"atom:updated\", namespaces) is not None else \"\",\n",
    "        \"totalResults\": root.find(\"opensearch:totalResults\", namespaces).text if root.find(\"opensearch:totalResults\", namespaces) is not None else \"\",\n",
    "        \"startIndex\": root.find(\"opensearch:startIndex\", namespaces).text if root.find(\"opensearch:startIndex\", namespaces) is not None else \"\",\n",
    "        \"itemsPerPage\": root.find(\"opensearch:itemsPerPage\", namespaces).text if root.find(\"opensearch:itemsPerPage\", namespaces) is not None else \"\",\n",
    "        \"entries\": []\n",
    "    }\n",
    "\n",
    "    for entry in root.findall(\"atom:entry\", namespaces):\n",
    "        authors = [author.find(\"atom:name\", namespaces).text for author in entry.findall(\"atom:author\", namespaces)]\n",
    "        categories = [category.attrib.get(\"term\", \"\") for category in entry.findall(\"atom:category\", namespaces)]\n",
    "\n",
    "        entry_data = {\n",
    "            \"id\": entry.find(\"atom:id\", namespaces).text,\n",
    "            \"updated\": entry.find(\"atom:updated\", namespaces).text,\n",
    "            \"published\": entry.find(\"atom:published\", namespaces).text,\n",
    "            \"title\": entry.find(\"atom:title\", namespaces).text,\n",
    "            \"summary\": entry.find(\"atom:summary\", namespaces).text.strip(),\n",
    "            \"authors\": authors,\n",
    "            \"comment\": entry.find(\"arxiv:comment\", namespaces).text if entry.find(\"arxiv:comment\", namespaces) is not None else \"\",\n",
    "            \"journal_ref\": entry.find(\"arxiv:journal_ref\", namespaces).text if entry.find(\"arxiv:journal_ref\", namespaces) is not None else \"\",\n",
    "            \"doi\": entry.find(\"arxiv:doi\", namespaces).text if entry.find(\"arxiv:doi\", namespaces) is not None else \"\",\n",
    "            \"links\": {link.attrib.get(\"title\", \"default\"): link.attrib.get(\"href\", \"\") for link in entry.findall(\"atom:link\", namespaces)},\n",
    "            \"primary_category\": entry.find(\"arxiv:primary_category\", namespaces).attrib.get(\"term\", \"\") if entry.find(\"arxiv:primary_category\", namespaces) is not None else \"\",\n",
    "            \"categories\": categories\n",
    "        }\n",
    "\n",
    "        feed[\"entries\"].append(entry_data)\n",
    "\n",
    "    return feed\n"
   ]
  },
  {
   "cell_type": "code",
   "execution_count": 12,
   "metadata": {},
   "outputs": [],
   "source": [
    "data = parse_arxiv_xml(resp.text)"
   ]
  },
  {
   "cell_type": "code",
   "execution_count": 13,
   "metadata": {},
   "outputs": [
    {
     "data": {
      "text/plain": [
       "{'title': 'ArXiv Query: search_query=all:quantum gravitymax_results=10&id_list=&start=0&max_results=10',\n",
       " 'id': 'http://arxiv.org/api/vK5e9MYHl4z6Z/AxxTmNPw6+d7c',\n",
       " 'updated': '2025-01-31T00:00:00-05:00',\n",
       " 'totalResults': '420401',\n",
       " 'startIndex': '0',\n",
       " 'itemsPerPage': '10',\n",
       " 'entries': [{'id': 'http://arxiv.org/abs/quant-ph/0201082v1',\n",
       "   'updated': '2002-01-18T15:08:05Z',\n",
       "   'published': '2002-01-18T15:08:05Z',\n",
       "   'title': 'Quantum Computers and Quantum Computer Languages: Quantum Assembly\\n  Language and Quantum C Language',\n",
       "   'summary': 'We show a representation of Quantum Computers defines Quantum Turing Machines\\nwith associated Quantum Grammars. We then create examples of Quantum Grammars.\\nLastly we develop an algebraic approach to high level Quantum Languages using\\nQuantum Assembly language and Quantum C language as examples.',\n",
       "   'authors': ['Stephen Blaha'],\n",
       "   'comment': '32 pages',\n",
       "   'journal_ref': '',\n",
       "   'doi': '',\n",
       "   'links': {'default': 'http://arxiv.org/abs/quant-ph/0201082v1',\n",
       "    'pdf': 'http://arxiv.org/pdf/quant-ph/0201082v1'},\n",
       "   'primary_category': 'quant-ph',\n",
       "   'categories': ['quant-ph', 'cs.PL']},\n",
       "  {'id': 'http://arxiv.org/abs/quant-ph/0407102v1',\n",
       "   'updated': '2004-07-14T14:47:27Z',\n",
       "   'published': '2004-07-14T14:47:27Z',\n",
       "   'title': 'Quantum Networks for Generating Arbitrary Quantum States',\n",
       "   'summary': 'Quantum protocols often require the generation of specific quantum states. We\\ndescribe a quantum algorithm for generating any prescribed quantum state. For\\nan important subclass of states, including pure symmetric states, this\\nalgorithm is efficient.',\n",
       "   'authors': ['Phillip Kaye', 'Michele Mosca'],\n",
       "   'comment': '3 pages, 2 figures. This paper previously appeared in: Proceedings,\\n  International Conference on Quantum Information (ICQI). Rochester, New York,\\n  USA, 2001',\n",
       "   'journal_ref': 'Phillip Kaye, Michele Mosca, \"Quantum Networks for Generating\\n  Arbitrary Quantum States\", Proceedings, International Conference on Quantum\\n  Information (ICQI). Rochester, New York, USA, 2001',\n",
       "   'doi': '',\n",
       "   'links': {'default': 'http://arxiv.org/abs/quant-ph/0407102v1',\n",
       "    'pdf': 'http://arxiv.org/pdf/quant-ph/0407102v1'},\n",
       "   'primary_category': 'quant-ph',\n",
       "   'categories': ['quant-ph']},\n",
       "  {'id': 'http://arxiv.org/abs/0804.3401v1',\n",
       "   'updated': '2008-04-21T20:07:38Z',\n",
       "   'published': '2008-04-21T20:07:38Z',\n",
       "   'title': 'Quantum Computational Complexity',\n",
       "   'summary': 'This article surveys quantum computational complexity, with a focus on three\\nfundamental notions: polynomial-time quantum computations, the efficient\\nverification of quantum proofs, and quantum interactive proof systems.\\nProperties of quantum complexity classes based on these notions, such as BQP,\\nQMA, and QIP, are presented. Other topics in quantum complexity, including\\nquantum advice, space-bounded quantum computation, and bounded-depth quantum\\ncircuits, are also discussed.',\n",
       "   'authors': ['John Watrous'],\n",
       "   'comment': '44 pages, 14 figures. To appear in the Springer Encyclopedia of\\n  Complexity and Systems Science',\n",
       "   'journal_ref': '',\n",
       "   'doi': '',\n",
       "   'links': {'default': 'http://arxiv.org/abs/0804.3401v1',\n",
       "    'pdf': 'http://arxiv.org/pdf/0804.3401v1'},\n",
       "   'primary_category': 'quant-ph',\n",
       "   'categories': ['quant-ph']},\n",
       "  {'id': 'http://arxiv.org/abs/1311.4939v1',\n",
       "   'updated': '2013-11-20T02:23:12Z',\n",
       "   'published': '2013-11-20T02:23:12Z',\n",
       "   'title': 'Geometrical perspective on quantum states and quantum computation',\n",
       "   'summary': \"We interpret quantum computing as a geometric evolution process by\\nreformulating finite quantum systems via Connes' noncommutative geometry. In\\nthis formulation, quantum states are represented as noncommutative connections,\\nwhile gauge transformations on the connections play a role of unitary quantum\\noperations. Thereby, a geometrical model for quantum computation is presented,\\nwhich is equivalent to the quantum circuit model. This result shows a geometric\\nway of realizing quantum computing and as such, provides an alternative\\nproposal of building a quantum computer.\",\n",
       "   'authors': ['Zeqian Chen'],\n",
       "   'comment': '4 pages',\n",
       "   'journal_ref': '',\n",
       "   'doi': '',\n",
       "   'links': {'default': 'http://arxiv.org/abs/1311.4939v1',\n",
       "    'pdf': 'http://arxiv.org/pdf/1311.4939v1'},\n",
       "   'primary_category': 'quant-ph',\n",
       "   'categories': ['quant-ph']},\n",
       "  {'id': 'http://arxiv.org/abs/1611.03472v1',\n",
       "   'updated': '2016-11-10T20:30:19Z',\n",
       "   'published': '2016-11-10T20:30:19Z',\n",
       "   'title': 'Universal Quantum Algorithm',\n",
       "   'summary': 'Quantum amplitude amplification and quantum phase estimation are two\\nfundamental quantum algorithms. All known quantum algorithms are derived from\\nthese two algorithms. Even the adiabatic quantum algorithms can also be\\nefficiently simulated using quantum phase estimation. We present a universal\\nquantum algorithm which explains these two algorithms as special cases. An\\ninteresting result is that we do not need quantum fourier transform to do\\nquantum phase estimation.',\n",
       "   'authors': ['Avatar Tulsi'],\n",
       "   'comment': 'This is a preliminary draft. Comments are most welcome',\n",
       "   'journal_ref': '',\n",
       "   'doi': '',\n",
       "   'links': {'default': 'http://arxiv.org/abs/1611.03472v1',\n",
       "    'pdf': 'http://arxiv.org/pdf/1611.03472v1'},\n",
       "   'primary_category': 'quant-ph',\n",
       "   'categories': ['quant-ph']},\n",
       "  {'id': 'http://arxiv.org/abs/q-alg/9610034v1',\n",
       "   'updated': '1996-10-30T15:57:00Z',\n",
       "   'published': '1996-10-30T15:57:00Z',\n",
       "   'title': 'Quantum Grothendieck polynomials',\n",
       "   'summary': 'We study the algebraic aspects of (small) quantum equivariant $K$-theory of\\nflag manifold. Lascoux-Sch\\\\\"utzenberger\\'s type formula for quantum double and\\nquantum double dual Grothendieck polynomials and the quantum Cauchy identity\\nfor quantum Grothendieck polynomials are obtained.',\n",
       "   'authors': ['Anatol N. Kirillov'],\n",
       "   'comment': 'PlainTeX, 13 pages',\n",
       "   'journal_ref': '',\n",
       "   'doi': '',\n",
       "   'links': {'default': 'http://arxiv.org/abs/q-alg/9610034v1',\n",
       "    'pdf': 'http://arxiv.org/pdf/q-alg/9610034v1'},\n",
       "   'primary_category': 'q-alg',\n",
       "   'categories': ['q-alg', 'math.QA']},\n",
       "  {'id': 'http://arxiv.org/abs/quant-ph/0302169v1',\n",
       "   'updated': '2003-02-21T20:20:47Z',\n",
       "   'published': '2003-02-21T20:20:47Z',\n",
       "   'title': 'Nonlinear Dynamics In Quantum Physics -- Quantum Chaos and Quantum\\n  Instantons',\n",
       "   'summary': 'We discuss the recently proposed quantum action - its interpretation, its\\nmotivation, its mathematical properties and its use in physics: quantum\\nmechanical tunneling, quantum instantons and quantum chaos.',\n",
       "   'authors': ['H. Kröger'],\n",
       "   'comment': 'inv. talk, 10th Int. Conf. Comput. and Appl. Math., Leuven, Belgium\\n  (2002)',\n",
       "   'journal_ref': '',\n",
       "   'doi': '',\n",
       "   'links': {'default': 'http://arxiv.org/abs/quant-ph/0302169v1',\n",
       "    'pdf': 'http://arxiv.org/pdf/quant-ph/0302169v1'},\n",
       "   'primary_category': 'quant-ph',\n",
       "   'categories': ['quant-ph']},\n",
       "  {'id': 'http://arxiv.org/abs/2406.11613v1',\n",
       "   'updated': '2024-06-17T15:00:25Z',\n",
       "   'published': '2024-06-17T15:00:25Z',\n",
       "   'title': 'Lecture Notes on Quantum Algorithms in Open Quantum Systems',\n",
       "   'summary': 'These lecture notes aim to provide a clear and comprehensive introduction to\\nusing open quantum system theory for quantum algorithms. The main arguments are\\nVariational Quantum Algorithms, Quantum Error Correction, Dynamical Decoupling\\nand Quantum Error Mitigation.',\n",
       "   'authors': ['Matteo Carlesso'],\n",
       "   'comment': 'Feedbacks and comments are welcome',\n",
       "   'journal_ref': '',\n",
       "   'doi': '',\n",
       "   'links': {'default': 'http://arxiv.org/abs/2406.11613v1',\n",
       "    'pdf': 'http://arxiv.org/pdf/2406.11613v1'},\n",
       "   'primary_category': 'quant-ph',\n",
       "   'categories': ['quant-ph', 'physics.comp-ph']},\n",
       "  {'id': 'http://arxiv.org/abs/quant-ph/0309066v1',\n",
       "   'updated': '2003-09-08T09:37:27Z',\n",
       "   'published': '2003-09-08T09:37:27Z',\n",
       "   'title': 'Probabilistic foundations of quantum mechanics and quantum information',\n",
       "   'summary': 'We discuss foundation of quantum mechanics (interpretations, superposition,\\nprinciple of complementarity, locality, hidden variables) and quantum\\ninformation theory.',\n",
       "   'authors': ['Andrei Khrennikov'],\n",
       "   'comment': 'Contextual probabilistic viewpoint to quantum cryptography project',\n",
       "   'journal_ref': '',\n",
       "   'doi': '10.1117/12.517850',\n",
       "   'links': {'doi': 'http://dx.doi.org/10.1117/12.517850',\n",
       "    'default': 'http://arxiv.org/abs/quant-ph/0309066v1',\n",
       "    'pdf': 'http://arxiv.org/pdf/quant-ph/0309066v1'},\n",
       "   'primary_category': 'quant-ph',\n",
       "   'categories': ['quant-ph']},\n",
       "  {'id': 'http://arxiv.org/abs/quant-ph/0504224v1',\n",
       "   'updated': '2005-04-29T09:41:00Z',\n",
       "   'published': '2005-04-29T09:41:00Z',\n",
       "   'title': 'From quantum graphs to quantum random walks',\n",
       "   'summary': 'We give a short overview over recent developments on quantum graphs and\\noutline the connection between general quantum graphs and so-called quantum\\nrandom walks.',\n",
       "   'authors': ['Gregor Tanner'],\n",
       "   'comment': '14 pages, 6 figures',\n",
       "   'journal_ref': '',\n",
       "   'doi': '10.1007/1-4020-3949-2_6',\n",
       "   'links': {'doi': 'http://dx.doi.org/10.1007/1-4020-3949-2_6',\n",
       "    'default': 'http://arxiv.org/abs/quant-ph/0504224v1',\n",
       "    'pdf': 'http://arxiv.org/pdf/quant-ph/0504224v1'},\n",
       "   'primary_category': 'quant-ph',\n",
       "   'categories': ['quant-ph']}]}"
      ]
     },
     "execution_count": 13,
     "metadata": {},
     "output_type": "execute_result"
    }
   ],
   "source": [
    "data"
   ]
  },
  {
   "cell_type": "code",
   "execution_count": 15,
   "metadata": {},
   "outputs": [
    {
     "data": {
      "text/plain": [
       "['title',\n",
       " 'id',\n",
       " 'updated',\n",
       " 'totalResults',\n",
       " 'startIndex',\n",
       " 'itemsPerPage',\n",
       " 'entries']"
      ]
     },
     "execution_count": 15,
     "metadata": {},
     "output_type": "execute_result"
    }
   ],
   "source": [
    "list(data.keys())"
   ]
  },
  {
   "cell_type": "code",
   "execution_count": 17,
   "metadata": {},
   "outputs": [
    {
     "data": {
      "text/plain": [
       "10"
      ]
     },
     "execution_count": 17,
     "metadata": {},
     "output_type": "execute_result"
    }
   ],
   "source": [
    "len(data[\"entries\"])"
   ]
  },
  {
   "cell_type": "code",
   "execution_count": 18,
   "metadata": {},
   "outputs": [
    {
     "data": {
      "text/plain": [
       "{'id': 'http://arxiv.org/abs/quant-ph/0201082v1',\n",
       " 'updated': '2002-01-18T15:08:05Z',\n",
       " 'published': '2002-01-18T15:08:05Z',\n",
       " 'title': 'Quantum Computers and Quantum Computer Languages: Quantum Assembly\\n  Language and Quantum C Language',\n",
       " 'summary': 'We show a representation of Quantum Computers defines Quantum Turing Machines\\nwith associated Quantum Grammars. We then create examples of Quantum Grammars.\\nLastly we develop an algebraic approach to high level Quantum Languages using\\nQuantum Assembly language and Quantum C language as examples.',\n",
       " 'authors': ['Stephen Blaha'],\n",
       " 'comment': '32 pages',\n",
       " 'journal_ref': '',\n",
       " 'doi': '',\n",
       " 'links': {'default': 'http://arxiv.org/abs/quant-ph/0201082v1',\n",
       "  'pdf': 'http://arxiv.org/pdf/quant-ph/0201082v1'},\n",
       " 'primary_category': 'quant-ph',\n",
       " 'categories': ['quant-ph', 'cs.PL']}"
      ]
     },
     "execution_count": 18,
     "metadata": {},
     "output_type": "execute_result"
    }
   ],
   "source": [
    "data[\"entries\"][0]"
   ]
  },
  {
   "cell_type": "code",
   "execution_count": 19,
   "metadata": {},
   "outputs": [
    {
     "data": {
      "text/plain": [
       "[['quant-ph', 'cs.PL'],\n",
       " ['quant-ph'],\n",
       " ['quant-ph'],\n",
       " ['quant-ph'],\n",
       " ['quant-ph'],\n",
       " ['q-alg', 'math.QA'],\n",
       " ['quant-ph'],\n",
       " ['quant-ph', 'physics.comp-ph'],\n",
       " ['quant-ph'],\n",
       " ['quant-ph']]"
      ]
     },
     "execution_count": 19,
     "metadata": {},
     "output_type": "execute_result"
    }
   ],
   "source": [
    "[paper[\"categories\"] for paper in data[\"entries\"]]"
   ]
  },
  {
   "cell_type": "code",
   "execution_count": 34,
   "metadata": {},
   "outputs": [],
   "source": [
    "def get_arxiv_papers(search_term: str) -> dict:\n",
    "    max_results = 10\n",
    "    query = \"+\".join(search_term.lower().split())\n",
    "    for char in list('()\" '):\n",
    "        if char in query:\n",
    "            raise ValueError(f\"Cannot have character: '{char}' in query: {query}\")\n",
    "    url = f\"http://export.arxiv.org/api/query?search_query=all:{query}&max_results={max_results}\"\n",
    "    resp = requests.get(url)\n",
    "    print(resp)\n",
    "    data = parse_arxiv_xml(resp.text)\n",
    "    print(json.dumps([{\"title\": paper[\"title\"], \"categories\": paper[\"categories\"]} for paper in data[\"entries\"]], indent=2))\n",
    "    return data, resp\n"
   ]
  },
  {
   "cell_type": "code",
   "execution_count": 32,
   "metadata": {},
   "outputs": [
    {
     "name": "stdout",
     "output_type": "stream",
     "text": [
      "<Response [200]>\n",
      "[{'title': 'Topological quantum phase transition in the BEC-BCS crossover phenomena', 'categories': ['cond-mat.str-el']}, {'title': 'BEC-BCS Crossover in the Nambu--Jona-Lasinio Model of QCD', 'categories': ['hep-ph', 'cond-mat.supr-con', 'hep-lat', 'hep-th', 'nucl-th']}, {'title': 'Effects of three-body scattering processes on BCS-BEC crossover', 'categories': ['cond-mat.quant-gas', 'cond-mat.supr-con']}, {'title': 'Turning the BEC-BCS crossover into a transition by radiation', 'categories': ['cond-mat.quant-gas']}, {'title': 'Superconductivity of the FeSe/SrTiO3 Interface in the View of BCS-BEC\\n  Crossover', 'categories': ['cond-mat.supr-con', 'cond-mat.mtrl-sci']}, {'title': 'Possibility of BCS-BEC crossover in $κ$-type organic\\n  superconductors', 'categories': ['cond-mat.supr-con', 'cond-mat.str-el']}, {'title': 'Reliability of the Ginzburg-Landau Theory in the BCS-BEC Crossover by\\n  Including Gaussian Fluctuations for 3D Attractive Fermions', 'categories': ['cond-mat.quant-gas', 'cond-mat.supr-con']}, {'title': 'A study on the coexistence of BEC and BCS states', 'categories': ['cond-mat.supr-con', 'cond-mat.str-el']}, {'title': 'Entanglement between pairing and screening in the\\n  Gorkov-Melik-Barkhudarov correction to the critical temperature throughout\\n  the BCS-BEC crossover', 'categories': ['cond-mat.supr-con', 'cond-mat.quant-gas']}, {'title': 'BCS-BEC crossover in a two-dimensional Fermi gas', 'categories': ['cond-mat.quant-gas']}]\n"
     ]
    }
   ],
   "source": [
    "data, resp = get_arxiv_papers(\"BEC BCS\")"
   ]
  },
  {
   "cell_type": "code",
   "execution_count": 36,
   "metadata": {},
   "outputs": [
    {
     "data": {
      "text/plain": [
       "{'id': 'http://arxiv.org/abs/1003.4735v1',\n",
       " 'updated': '2010-03-24T20:03:33Z',\n",
       " 'published': '2010-03-24T20:03:33Z',\n",
       " 'title': 'Topological quantum phase transition in the BEC-BCS crossover phenomena',\n",
       " 'summary': 'A crossover between the Bose Einstein condensation (BEC) and BCS\\nsuperconducting state is described topologically in the chiral symmetric\\nfermion system with attractive interaction. Using a local Z_2 Berry phase, we\\nfound a quantum phase transition between the BEC and BCS phases without\\naccompanying the bulk gap closing.',\n",
       " 'authors': ['Mitsuhiro Arikawa', 'Isao Maruyama', 'Yasuhiro Hatsugai'],\n",
       " 'comment': '4 pages, 5 figures',\n",
       " 'journal_ref': 'Phys. Rev. B 82, 073105 (2010)',\n",
       " 'doi': '10.1103/PhysRevB.82.073105',\n",
       " 'links': {'doi': 'http://dx.doi.org/10.1103/PhysRevB.82.073105',\n",
       "  'default': 'http://arxiv.org/abs/1003.4735v1',\n",
       "  'pdf': 'http://arxiv.org/pdf/1003.4735v1'},\n",
       " 'primary_category': 'cond-mat.str-el',\n",
       " 'categories': ['cond-mat.str-el']}"
      ]
     },
     "execution_count": 36,
     "metadata": {},
     "output_type": "execute_result"
    }
   ],
   "source": [
    "data[\"entries\"][0]"
   ]
  },
  {
   "cell_type": "code",
   "execution_count": 38,
   "metadata": {},
   "outputs": [
    {
     "name": "stdout",
     "output_type": "stream",
     "text": [
      "A crossover between the Bose Einstein condensation (BEC) and BCS\n",
      "superconducting state is described topologically in the chiral symmetric\n",
      "fermion system with attractive interaction. Using a local Z_2 Berry phase, we\n",
      "found a quantum phase transition between the BEC and BCS phases without\n",
      "accompanying the bulk gap closing.\n"
     ]
    }
   ],
   "source": [
    "print(data[\"entries\"][0][\"summary\"])"
   ]
  },
  {
   "cell_type": "code",
   "execution_count": 39,
   "metadata": {},
   "outputs": [
    {
     "name": "stdout",
     "output_type": "stream",
     "text": [
      "\n",
      "--- becbcs.tex ---\n",
      "\n",
      "%\\documentclass[preprint,superscriptaddress,endfloats*,prl,showpacs,amsmath]{revtex4}\n",
      "\\documentclass[twocolumn,superscriptaddress,prb,showpacs,amsmath]{revtex4}\n",
      "%\\documentclass[twocolumn,superscriptaddress,endfloats*,prl,showpacs,amsmath]{revtex4}\n",
      "%\\documentclass[twocolumn,superscriptaddress,prb,showpacs]{revtex4}\n",
      "\\usepackage{amsmath}\n",
      "%\\usepackage{amsmath2000}\n",
      "\\usepackage{graphicx}\n",
      "\\usepackage{dcolumn}\n",
      "\\usepackage{bm}\n",
      "\\usepackage{color}\n",
      "\n",
      "\\begin{document}\n",
      "\\title{Topological quantum phase transiti\n",
      "\n",
      "--- fig1.eps ---\n",
      "\n",
      "%!PS-Adobe-3.0\n",
      "%%Pages: (atend)\n",
      "%%BoundingBox: 0 0 281 313\n",
      "%%HiResBoundingBox: 0.000000 0.000000 280.963987 312.683990\n",
      "%.........................................\n",
      "%%Creator: ESP Ghostscript 707 (pswrite)\n",
      "%%CreationDate: 2010/03/25 02:55:35\n",
      "%%DocumentData: Clean7Bit\n",
      "%%LanguageLevel: 2\n",
      "%%EndComments\n",
      "%%BeginProlog\n",
      "% This copyright applies to everything between here and the %%EndProlog:\n",
      "% Copyright 2003 artofcode LLC and Easy Software Products, all rights reserved.\n",
      "%%BeginResource: procset GS_pswrite\n",
      "\n",
      "--- fig2.eps ---\n",
      "\n",
      "%!PS-Adobe-3.1 EPSF-3.0\n",
      "%ADO_DSC_Encoding: MacOS Japanese\n",
      "%%Title: spectrum2.eps\n",
      "%%Creator: Adobe Illustrator(R) 12\n",
      "%%AI8_CreatorVersion: 12.0.1\n",
      "%AI9_PrintingDataBegin\n",
      "%%For: M Arikawa\n",
      "%%CreationDate: 09.11.9\n",
      "%%BoundingBox: 0 0 773 523\n",
      "%%HiResBoundingBox: 0 0 772.1446 522.3785\n",
      "%%CropBox: 0 0 772.1446 522.3785\n",
      "%%LanguageLevel: 2\n",
      "%%DocumentData: Clean7Bit\n",
      "%%Pages: 1\n",
      "%%DocumentNeededResources: \n",
      "%%DocumentSuppliedResources: procset Adobe_AGM_Image 1.0 0\n",
      "%%+ procset Adobe_CoolType_Utility_T42 1.0 0\n",
      "%\n",
      "\n",
      "--- fig3.eps ---\n",
      "\n",
      "%!PS-Adobe-3.0\n",
      "%%Pages: (atend)\n",
      "%%BoundingBox: 0 0 612 315\n",
      "%%HiResBoundingBox: 0.000000 0.000000 611.999981 314.704022\n",
      "%.........................................\n",
      "%%Creator: ESP Ghostscript 707 (pswrite)\n",
      "%%CreationDate: 2010/03/25 02:45:48\n",
      "%%DocumentData: Clean7Bit\n",
      "%%LanguageLevel: 2\n",
      "%%EndComments\n",
      "%%BeginProlog\n",
      "% This copyright applies to everything between here and the %%EndProlog:\n",
      "% Copyright 2003 artofcode LLC and Easy Software Products, all rights reserved.\n",
      "%%BeginResource: procset GS_pswrite\n",
      "\n",
      "--- fig4.eps ---\n",
      "\n",
      "%!PS-Adobe-3.0\n",
      "%%Pages: (atend)\n",
      "%%BoundingBox: 0 0 608 335\n",
      "%%HiResBoundingBox: 0.000000 0.000000 607.295981 334.823990\n",
      "%.........................................\n",
      "%%Creator: ESP Ghostscript 707 (pswrite)\n",
      "%%CreationDate: 2010/03/25 02:52:08\n",
      "%%DocumentData: Clean7Bit\n",
      "%%LanguageLevel: 2\n",
      "%%EndComments\n",
      "%%BeginProlog\n",
      "% This copyright applies to everything between here and the %%EndProlog:\n",
      "% Copyright 2003 artofcode LLC and Easy Software Products, all rights reserved.\n",
      "%%BeginResource: procset GS_pswrite\n",
      "\n",
      "--- fig5.eps ---\n",
      "\n",
      "%!PS-Adobe-3.0\n",
      "%%Pages: (atend)\n",
      "%%BoundingBox: 0 0 287 303\n",
      "%%HiResBoundingBox: 0.000000 0.000000 286.283991 302.549991\n",
      "%.........................................\n",
      "%%Creator: ESP Ghostscript 707 (pswrite)\n",
      "%%CreationDate: 2010/03/25 02:41:35\n",
      "%%DocumentData: Clean7Bit\n",
      "%%LanguageLevel: 2\n",
      "%%EndComments\n",
      "%%BeginProlog\n",
      "% This copyright applies to everything between here and the %%EndProlog:\n",
      "% Copyright 2003 artofcode LLC and Easy Software Products, all rights reserved.\n",
      "%%BeginResource: procset GS_pswrite\n"
     ]
    }
   ],
   "source": [
    "# Download paper as tex file\n",
    "\n",
    "import requests\n",
    "import tarfile\n",
    "import io\n",
    "\n",
    "# URL of the .tar.gz file\n",
    "url = \"https://arxiv.org/src/1003.4735v1\"\n",
    "\n",
    "# Download the file into memory\n",
    "resp = requests.get(url, stream=True)\n",
    "if resp.status_code == 200:\n",
    "    tar_gz_data = io.BytesIO(resp.content)  # Load resp content into memory\n",
    "    \n",
    "    # Open the tar.gz file in memory\n",
    "    with tarfile.open(fileobj=tar_gz_data, mode=\"r:gz\") as tar:\n",
    "        # Iterate over each file in the archive\n",
    "        for member in tar.getmembers():\n",
    "            if member.isfile():  # Skip directories\n",
    "                file_obj = tar.extractfile(member)\n",
    "                if file_obj:\n",
    "                    try:\n",
    "                        content = file_obj.read().decode(\"utf-8\")  # Read and decode file\n",
    "                        print(f\"\\n--- {member.name} ---\\n\")\n",
    "                        print(content[:500])  # Print first 500 characters\n",
    "                    except UnicodeDecodeError:\n",
    "                        print(f\"Skipping binary file: {member.name}\")\n",
    "else:\n",
    "    print(f\"Failed to download file. Status code: {resp.status_code}\")\n"
   ]
  },
  {
   "cell_type": "code",
   "execution_count": 40,
   "metadata": {},
   "outputs": [
    {
     "data": {
      "text/plain": [
       "str"
      ]
     },
     "execution_count": 40,
     "metadata": {},
     "output_type": "execute_result"
    }
   ],
   "source": [
    "type(content)"
   ]
  },
  {
   "cell_type": "code",
   "execution_count": 41,
   "metadata": {},
   "outputs": [
    {
     "data": {
      "text/plain": [
       "'%!PS-Adobe-3.0\\n%%Pages: (atend)\\n%%BoundingBox: 0 0 287 303\\n%%HiResBoundingBox: 0.000000 0.000000 286.283991 302.549991\\n%.........................................\\n%%Creator: ESP Ghostscript 707 (pswrite)\\n%%CreationDate: 2010/03/25 02:41:35\\n%%DocumentData: Clean7Bit\\n%%LanguageLevel: 2\\n%%EndComments\\n%%BeginProlog\\n% This copyright applies to everything between here and the %%EndProlog:\\n% Copyright 2003 artofcode LLC and Easy Software Products, all rights reserved.\\n%%BeginResource: procset GS_pswrite_2_0_1001\\n/GS_pswrite_2_0_1001 80 dict dup begin\\n/PageSize 2 array def/setpagesize{ PageSize aload pop 3 index eq exch\\n4 index eq and{ pop pop pop}{ PageSize dup  1\\n5 -1 roll put 0 4 -1 roll put dup null eq {false} {dup where} ifelse{ exch get exec}\\n{ pop/setpagedevice where\\n{ pop 1 dict dup /PageSize PageSize put setpagedevice}\\n{ /setpage where{ pop PageSize aload pop pageparams 3 {exch pop} repeat\\nsetpage}if}ifelse}ifelse}ifelse} bind def\\n/!{bind def}bind def/#{load def}!/N/counttomark #\\n/rG{3{3 -1 roll 255 div}repeat setrgbcolor}!/G{255 div setgray}!/K{0 G}!\\n/r6{dup 3 -1 roll rG}!/r5{dup 3 1 roll rG}!/r3{dup rG}!\\n/w/setlinewidth #/J/setlinecap #\\n/j/setlinejoin #/M/setmiterlimit #/d/setdash #/i/setflat #\\n/m/moveto #/l/lineto #/c/rcurveto #\\n/p{N 2 idiv{N -2 roll rlineto}repeat}!\\n/P{N 0 gt{N -2 roll moveto p}if}!\\n/h{p closepath}!/H{P closepath}!\\n/lx{0 rlineto}!/ly{0 exch rlineto}!/v{0 0 6 2 roll c}!/y{2 copy c}!\\n/re{4 -2 roll m exch dup lx exch ly neg lx h}!\\n/^{3 index neg 3 index neg}!\\n/f{P fill}!/f*{P eofill}!/s{H stroke}!/S{P stroke}!\\n/q/gsave #/Q/grestore #/rf{re fill}!\\n/Y{P clip newpath}!/Y*{P eoclip newpath}!/rY{re Y}!\\n/|={pop exch 4 1 roll 1 array astore cvx 3 array astore cvx exch 1 index def exec}!\\n/|{exch string readstring |=}!\\n/+{dup type/nametype eq{2 index 7 add -3 bitshift 2 index mul}if}!\\n/@/currentfile #/${+ @ |}!\\n/B{{2 copy string{readstring pop}aload pop 4 array astore cvx\\n3 1 roll}repeat pop pop true}!\\n/Ix{[1 0 0 1 11 -2 roll exch neg exch neg]exch}!\\n/,{true exch Ix imagemask}!/If{false exch Ix imagemask}!/I{exch Ix image}!\\n/Ic{exch Ix false 3 colorimage}!\\n/F{/Columns counttomark 3 add -2 roll/Rows exch/K -1/BlackIs1 true>>\\n/CCITTFaxDecode filter}!/FX{<</EndOfBlock false F}!\\n/X{/ASCII85Decode filter}!/@X{@ X}!/&2{2 index 2 index}!\\n/@F{@ &2<<F}!/@C{@X &2 FX}!\\n/$X{+ @X |}!/&4{4 index 4 index}!/$F{+ @ &4<<F |}!/$C{+ @X &4 FX |}!\\n/IC{3 1 roll 10 dict begin 1{/ImageType/Interpolate/Decode/DataSource\\n/ImageMatrix/BitsPerComponent/Height/Width}{exch def}forall\\ncurrentdict end image}!\\n/~{@ read {pop} if}!\\nend readonly def\\n%%EndResource\\n/pagesave null def\\n%%EndProlog\\n%%Page: 1 1\\n%%BeginPageSetup\\nGS_pswrite_2_0_1001 begin\\n612 792 /letter setpagesize\\n/pagesave save store 197 dict begin\\n0.012 0.012 scale\\n%%EndPageSetup\\ngsave mark\\nK\\n0 0 0 0 rf\\nQ q\\n0 0 23856.5 25452.5 re\\nY\\n20.8333 w\\n1 J\\n1 j\\nK\\n7481.04 6780.42 0 111.5 S\\n11943.4 6780.42 0 111.5 S\\n16405.8 6780.42 0 111.5 S\\n20868.2 6780.42 0 111.5 S\\n3018.63 11242.8 111.58 0 P\\n3018.63 6780.42 17849.6 0 S\\n3018.63 15705.2 111.58 0 S\\n3018.63 20167.6 111.58 0 S\\n3018.63 24630 111.58 0 S\\n3018.63 6780.42 0 17849.6 S\\n7114 5619 585 0 81 204 -19.5 9 P\\n-24 -43.5 -45 -70.5 -64.5 -82.5 c\\n-18 -10.5 -51 -16.5 -97.5 -16.5 c\\n-336 0 p\\n183 189 303 321 358.5 396 c\\n55.5 73.5 82.5 151.5 82.5 231 c\\n0 75 -25.5 138 -76.5 190.5 c\\n-51 52.5 -117 78 -199.5 78 c\\n-67.5 0 -130.5 -22.5 -187.5 -66 c\\n-58.5 -43.5 -100.5 -121.5 -124.5 -234 c\\n31.5 -6 p\\n21 55.5 43.5 96 66 123 c\\n40.5 49.5 94.5 73.5 162 73.5 c\\n54 0 100.5 -19.5 139.5 -57 c\\n39 -37.5 58.5 -93 58.5 -165 c\\n0 -82.5 -31.5 -166.5 -96 -253.5 c\\n-63 -87 -184.5 -222 -363 -408 c\\nh\\nf*\\n11962.5 5968 -360 0 360 505.5 H\\n11542.5 5968 0 -97.5 421.5 0 0 -250.5 117 0 ^ 153 0 0 97.5 \\n^ 0 658.5 -70.5 0 H\\nf*\\n16682 5952 m\\n0 100.5 -27 177 -79.5 229.5 c\\n-52.5 54 -118.5 81 -196.5 81 c\\n-39 0 -78 -7.5 -118.5 -22.5 c\\n-21 -9 -48 -22.5 -78 -42 c\\n12 54 33 108 64.5 162 c\\n31.5 54 64.5 99 100.5 133.5 c\\n34.5 36 75 63 118.5 81 c\\n45 19.5 97.5 36 159 46.5 c\\n-3 24 p\\n-153 0 -291 -51 -412.5 -154.5 c\\n-136.5 -124.5 -205.5 -271.5 -205.5 -444 c\\n0 -133.5 36 -241.5 106.5 -321 c\\n70.5 -81 148.5 -121.5 234 -121.5 c\\n93 0 166.5 36 225 108 c\\n57 70.5 85.5 151.5 85.5 240 c\\nh\\n16548.5 5896.5 m\\n0 -66 -13.5 -124.5 -39 -174 c\\n-27 -49.5 -69 -73.5 -127.5 -73.5 c\\n-73.5 0 -127.5 37.5 -162 114 c\\n-34.5 76.5 -51 154.5 -51 232.5 c\\n0 61.5 7.5 106.5 22.5 132 c\\n24 45 75 67.5 151.5 67.5 c\\n82.5 0 141 -42 174 -126 c\\n21 -49.5 31.5 -108 31.5 -172.5 c\\nh\\nf*\\n20818.5 5646 m\\n-52.5 0 -97.5 19.5 -132 58.5 c\\n-34.5 40.5 -51 93 -51 159 c\\n0 39 9 79.5 28.5 121.5 c\\n19.5 42 49.5 76.5 91.5 102 c\\n94.5 -66 157.5 -115.5 187.5 -148.5 c\\n31.5 -33 46.5 -76.5 46.5 -129 c\\n0 -46.5 -15 -85.5 -43.5 -117 c\\n-28.5 -31.5 -70.5 -46.5 -127.5 -46.5 c\\nh\\n20827.5 6204 m\\n-55.5 34.5 -102 70.5 -136.5 109.5 c\\n-34.5 39 -51 82.5 -51 127.5 c\\n0 40.5 15 75 43.5 103.5 c\\n30 28.5 67.5 42 112.5 42 c\\n57 0 100.5 -16.5 129 -48 c\\n28.5 -33 43.5 -72 43.5 -118.5 c\\n0 -52.5 -15 -97.5 -45 -135 c\\n-18 -22.5 -49.5 -49.5 -96 -81 c\\nh\\n20715 6118.5 m\\n-64.5 -42 -108 -79.5 -135 -109.5 c\\n-39 -48 -58.5 -102 -58.5 -165 c\\n0 -72 28.5 -129 85.5 -174 c\\n57 -43.5 124.5 -66 204 -66 c\\n88.5 0 160.5 24 213 72 c\\n52.5 48 79.5 106.5 79.5 177 c\\n0 61.5 -18 115.5 -54 160.5 c\\n-36 46.5 -96 99 -178.5 160.5 c\\n61.5 34.5 105 63 133.5 90 c\\n46.5 45 70.5 96 70.5 153 c\\n0 55.5 -22.5 105 -69 148.5 c\\n-46.5 42 -109.5 63 -187.5 63 c\\n-85.5 0 -156 -22.5 -208.5 -67.5 c\\n-54 -45 -81 -99 -81 -163.5 c\\n0 -57 18 -108 54 -154.5 c\\n24 -31.5 67.5 -72 132 -124.5 c\\nh\\nf*\\n2566 11826.5 -9 0 -268.5 -136.5 0 -21 P\\n18 7.5 36 15 57 22.5 c\\n19.5 7.5 36 10.5 49.5 10.5 c\\n19.5 0 31.5 -6 37.5 -18 c\\n6 -12 9 -30 9 -54 c\\n0 -676.5 p\\n0 -45 -9 -73.5 -27 -87 c\\n-18 -13.5 -57 -21 -115.5 -24 c\\n0 -22.5 412.5 0 0 21 p\\n-55.5 1.5 -93 7.5 -112.5 18 c\\n-19.5 10.5 -30 34.5 -30 72 c\\n0 882 p\\n0 4.5 0 7.5 y\\n0 1.5 -1.5 3 -3 6 c\\nh\\nf*\\n2176 15281 585 0 81 204 -19.5 9 P\\n-24 -43.5 -45 -70.5 -64.5 -82.5 c\\n-18 -10.5 -51 -16.5 -97.5 -16.5 c\\n-336 0 p\\n183 189 303 321 358.5 396 c\\n55.5 73.5 82.5 151.5 82.5 231 c\\n0 75 -25.5 138 -76.5 190.5 c\\n-51 52.5 -117 78 -199.5 78 c\\n-67.5 0 -130.5 -22.5 -187.5 -66 c\\n-58.5 -43.5 -100.5 -121.5 -124.5 -234 c\\n31.5 -6 p\\n21 55.5 43.5 96 66 123 c\\n40.5 49.5 94.5 73.5 162 73.5 c\\n54 0 100.5 -19.5 139.5 -57 c\\n39 -37.5 58.5 -93 58.5 -165 c\\n0 -82.5 -31.5 -166.5 -96 -253.5 c\\n-63 -87 -184.5 -222 -363 -408 c\\nh\\nf*\\n2237.5 19877.5 m\\n-18 0 -31.5 -6 -39 -18 c\\n-7.5 -10.5 -12 -24 -12 -36 c\\n0 -21 12 -39 36 -57 c\\n24 -18 67.5 -27 127.5 -27 c\\n135 0 238.5 36 312 106.5 c\\n73.5 70.5 109.5 151.5 109.5 244.5 c\\n0 78 -27 142.5 -81 193.5 c\\n-28.5 27 -66 51 -112.5 70.5 c\\n40.5 28.5 69 52.5 88.5 75 c\\n34.5 40.5 51 84 51 132 c\\n0 54 -21 100.5 -61.5 142.5 c\\n-40.5 40.5 -99 61.5 -172.5 61.5 c\\n-70.5 0 -132 -22.5 -186 -67.5 c\\n-52.5 -43.5 -88.5 -103.5 -109.5 -177 c\\n24 -6 p\\n25.5 45 49.5 78 72 99 c\\n40.5 40.5 88.5 60 142.5 60 c\\n45 0 85.5 -13.5 121.5 -42 c\\n34.5 -27 52.5 -69 52.5 -121.5 c\\n0 -60 -22.5 -108 -67.5 -145.5 c\\n-45 -36 -106.5 -69 -184.5 -97.5 c\\n1.5 -18 p\\n7.5 0 15 1.5 21 1.5 c\\n6 0 12 0 18 0 c\\n108 0 186 -33 231 -100.5 c\\n27 -39 40.5 -85.5 40.5 -138 c\\n0 -54 -16.5 -103.5 -49.5 -150 c\\n-34.5 -46.5 -85.5 -69 -154.5 -69 c\\n-30 0 -67.5 13.5 -112.5 42 c\\n-43.5 28.5 -79.5 42 -106.5 42 c\\nh\\nf*\\n2563.5 24554 -360 0 360 505.5 H\\n2143.5 24554 0 -97.5 421.5 0 0 -250.5 117 0 ^ 153 0 0 97.5 \\n^ 0 658.5 -70.5 0 H\\nf*\\nQ q\\n3018.63 6780.42 17849.6 17849.6 re\\nY\\n83.3333 w\\n1 J\\n1 j\\n255 0 r6\\n20592.7 23221.3 275.58 292.56 P\\n9712.25 10499 814.67 1137.42 888.33 1169.08 834.33 1048.67 802.5 975 854.08 1009.75 822.17 950.67 874 991.9 \\n841.75 941.2 810 894.24 861.58 941.58 829.83 898.39 797.75 857.51 849.42 906.9 S\\n41.6667 w\\n255 0 r3\\n3018.63 6780.42 11.07 0 10.02 0 11.59 0 10.91 0 10.17 0 9.27 0 10.18 0 \\n10.86 0 10.91 0 11.8 0 11.07 0 10.18 0 11.76 0 6.79 0 6.22 0 \\n11.28 0 12.12 0 6.27 0 6.38 0 11.44 0 6.43 0 6.07 0 6.62 0 \\n7.13 0 6.06 0 6.6 0 11.96 0 11.8 0 10.7 0 10.54 0 9.81 0 \\n10.9 0 11.6 0 11.59 0 12.13 0 10.53 0 11.28 0 6.75 0 6.07 0 \\n6.79 0 7.17 0 11.92 0 6.8 0 6.43 0 11.8 0 10.87 0 5.9 0 \\n6.59 0 11.8 0 S\\n3479.53 6780.42 7.33 0 6.59 0 6.06 0 6.59 0 7.17 0 7.65 0 6.43 0 \\n7.17 0 6.59 0 6.06 0 6.96 0 6.63 0 11.76 0 6.63 0 6.07 0 \\n10.86 0 11.8 0 11.07 0 10.18 0 11.43 0 12.29 0 6.1 0 6.76 0 \\n11.96 0 6.59 0 6.11 0 13.71 0 12.17 0 12.66 0 11.59 0 10.71 0 \\n11.8 0 12.49 0 11.43 0 12.65 0 13.02 0 12.32 0 22.14 0 12.32 0 \\n11.39 0 24.13 0 13.55 0 12.69 0 25.68 0 14.48 0 13.03 0 24.25 0 \\n22.34 0 24.45 0 25.88 0 S\\n83.3333 w\\n4071.25 6780.42 22.5 0 21.03 0.17 24.98 0 23.03 0 46.59 0.17 24.66 0 26.2 0 \\n48.59 0.33 43.9 0.17 43.01 0.58 46.39 0.5 43.94 0.58 40.32 0.75 44.07 1 47.16 1.25 \\n85.29 3.25 101.4 5.17 92.28 6.58 92.97 8.58 86.06 10 194.54 31.42 174.93 40 193.16 58.67 \\n376.99 162.67 362.68 218.08 385.74 295.25 371.46 339.67 357.34 370.42 380.37 432.67 366.09 446.25 388.98 498.33 \\n374.83 497.08 360.75 488.33 383.58 526.08 369.42 509.08 355.25 488.83 378.25 517.67 363.92 493.17 387 517.5 \\n342.5 450.83 S\\n41.6667 w\\nK\\n3018.63 6780.42 2097.17 44.58 242.76 44.67 169.93 44.58 136.35 44.67 116.42 44.58 103.15 44.58 93.34 44.75 \\n86.06 44.58 80.12 44.58 75.52 44.67 71.41 44.58 68.16 44.58 65.35 44.67 62.82 44.67 60.51 44.58 \\n58.72 44.67 57.13 44.58 55.5 44.58 54.12 44.67 52.82 44.67 51.6 44.58 50.7 44.67 49.76 44.58 \\n48.75 44.58 48.02 44.67 47.32 44.58 46.59 44.67 46.02 44.67 45.37 44.58 44.8 44.58 44.23 44.67 \\n43.74 44.58 43.38 44.58 43.01 44.75 42.47 44.58 42.16 44.58 41.75 44.67 41.42 44.58 41.22 44.58 \\n40.89 44.67 40.52 44.67 40.33 44.58 40 44.67 39.79 44.58 39.63 44.58 39.27 44.67 39.27 44.67 \\n38.9 44.58 38.9 44.67 S\\nQ q\\n0 0 23856.5 25452.5 re\\nY\\n83.3333 w\\n1 J\\n1 j\\nK\\n8085.77 8967 38.58 44.58 38.57 44.67 38.37 44.58 38.21 44.58 38.01 44.75 37.84 44.58 37.82 44.58 \\n37.67 44.67 37.67 44.58 37.5 44.58 37.33 44.67 37.25 44.67 37.33 44.58 37.08 44.67 37 44.58 \\n37.17 44.58 36.92 44.67 36.75 44.58 36.75 44.67 36.83 44.67 36.58 44.58 36.75 44.58 36.58 44.67 \\n36.58 44.58 36.42 44.67 36.42 44.67 36.58 44.58 36.42 44.58 36.25 44.67 36.42 44.58 36.42 44.58 \\n36.25 44.75 36.42 44.58 36.17 44.58 36.25 44.67 36.25 44.58 36.25 44.58 36.17 44.67 36.25 44.67 \\n36.25 44.58 36.25 44.67 36.25 44.58 36.25 44.58 36 44.67 36.25 44.67 36.25 44.58 36.25 44.67 \\n36.25 44.58 36.25 44.67 36.17 44.58 S\\n9926.25 11198.2 36.25 44.58 36.25 44.75 36.42 44.58 36.17 44.58 36.33 44.67 36.42 44.58 36.17 44.58 \\n36.42 44.67 36.25 44.67 36.42 44.58 36.42 44.67 36.42 44.58 36.42 44.58 36.42 44.67 36.42 44.58 \\n36.58 44.67 36.42 44.67 36.58 44.58 36.58 44.58 36.58 44.67 36.58 44.58 36.67 44.67 36.5 44.67 \\n36.83 44.58 36.58 44.58 36.75 44.67 36.75 44.58 36.83 44.58 36.75 44.75 36.75 44.58 36.92 44.58 \\n36.83 44.67 36.92 44.58 36.92 44.58 37 44.67 36.92 44.67 37.08 44.58 37 44.67 37.17 44.58 \\n37.08 44.58 37.17 44.67 37.08 44.58 37.33 44.67 37.17 44.67 37.25 44.58 37.33 44.67 37.25 44.58 \\n37.33 44.58 37.5 44.67 37.33 44.67 S\\n11763.8 13429.4 37.42 44.58 37.5 44.67 37.5 44.58 37.5 44.58 37.67 44.67 37.42 44.67 37.67 44.58 \\n37.75 44.67 37.67 44.58 37.58 44.58 37.92 44.67 37.58 44.58 37.83 44.67 37.83 44.67 37.83 44.58 \\n38 44.58 37.92 44.67 38.08 44.58 38 44.58 38 44.75 38 44.58 38 44.58 38.25 44.67 \\n38 44.58 38.17 44.58 38.25 44.75 38.33 44.58 38.25 44.58 38.17 44.67 38.42 44.58 38.33 44.58 \\n38.42 44.67 38.33 44.67 38.5 44.58 38.42 44.67 38.5 44.58 38.58 44.58 38.58 44.67 38.58 44.58 \\n38.58 44.67 38.67 44.67 38.75 44.58 38.58 44.58 38.67 44.67 38.92 44.58 38.75 44.67 38.75 44.67 \\n38.92 44.58 38.92 44.58 38.92 44.67 S\\n13672.9 15660.6 38.92 44.58 38.92 44.67 39.08 44.67 38.83 44.58 39.17 44.58 39.08 44.67 39.17 44.58 \\n39 44.67 39.25 44.58 39.17 44.67 39.17 44.58 39.33 44.67 39.25 44.58 39.25 44.67 39.25 44.58 \\n39.33 44.67 39.5 44.58 39.33 44.67 39.33 44.58 39.42 44.67 39.42 44.58 39.67 44.67 39.42 44.58 \\n39.67 44.67 39.5 44.58 39.58 44.58 39.67 44.67 39.58 44.67 39.83 44.58 39.58 44.67 39.58 44.58 \\n39.92 44.67 39.75 44.58 39.83 44.63 39.75 44.64 39.83 44.59 39.75 44.64 40.08 44.63 39.75 44.6 \\n40 44.63 39.92 44.63 40.08 44.6 39.92 44.63 40 44.64 40.17 44.59 40 44.64 40.17 44.63 \\n40.08 44.6 40 44.63 40.17 44.64 S\\n15651.3 17891.8 40.17 44.59 40.33 44.64 40.25 44.63 40.25 44.6 40.17 44.63 40.33 44.64 40.33 44.59 \\n40.42 44.64 40.33 44.63 40.25 44.6 40.42 44.63 40.5 44.64 40.33 44.63 40.5 44.6 40.33 44.63 \\n40.58 44.64 40.5 44.59 40.5 44.64 40.67 44.63 40.58 44.6 40.5 44.63 40.67 44.63 40.58 44.6 \\n40.67 44.63 40.67 44.64 40.75 44.59 40.67 44.64 40.67 44.63 40.67 44.64 40.92 44.59 40.75 44.64 \\n40.83 44.63 40.83 44.6 40.75 44.63 40.92 44.64 40.83 44.59 40.83 44.64 40.92 44.63 41.08 44.6 \\n40.83 44.63 41.08 44.64 40.83 44.59 41.08 44.64 41.08 44.63 40.83 44.6 41.08 44.63 41 44.64 \\n41 44.59 41.33 44.64 41.08 44.63 S\\nQ q\\n3018.63 6780.42 17849.6 17849.6 re\\nY\\n41.6667 w\\n1 J\\n1 j\\nK\\n17684.8 20123 41 44.6 41.25 44.63 41.17 44.63 41.08 44.6 41.33 44.63 41.17 44.64 41.25 44.59 \\n41.25 44.64 41.17 44.63 41.25 44.64 41.42 44.59 41.17 44.64 41.25 44.63 41.5 44.6 41.42 44.63 \\n41.17 44.64 41.42 44.59 41.42 44.64 41.42 44.63 41.42 44.6 41.42 44.63 41.42 44.64 41.58 44.59 \\n41.42 44.64 41.58 44.63 41.33 44.6 41.67 44.63 41.33 44.64 41.58 44.63 41.67 44.6 41.67 44.63 \\n41.58 44.63 41.58 44.6 41.58 44.63 41.58 44.64 41.75 44.59 41.58 44.64 41.58 44.63 41.75 44.6 \\n41.83 44.63 41.58 44.64 41.75 44.59 41.75 44.64 41.75 44.63 41.75 44.6 41.75 44.63 41.75 44.64 \\n41.75 44.59 41.83 44.64 41.92 44.63 S\\n19759.4 22354.2 41.75 44.6 41.83 44.63 41.92 44.64 41.75 44.59 42 44.64 41.92 44.63 42 44.6 \\n41.75 44.63 41.92 44.63 42 44.64 41.92 44.59 42 44.64 42 44.63 42 44.6 41.92 44.63 \\n42 44.64 42.08 44.59 42 44.64 42.08 44.63 42 44.6 42.08 44.63 42.08 44.64 42.17 44.59 \\n41.92 44.64 42.17 44.63 42.08 44.64 S\\n20850.8 23514.4 17.5 18.55 S\\nQ q\\n0 0 23856.5 25452.5 re\\nY\\n255 0 63 rG\\n2968.71 4400.75 7305.54 722.251 re\\nf\\n255 0 r6\\n10232.7 4400.75 10694.4 722.251 re\\nf\\n255 0 r3\\n2321 3151 -306 0 0 -21 P\\n22.5 -1.5 40.5 -7.5 52.5 -16.5 c\\n12 -9 24 -24 33 -46.5 c\\n9 -21 19.5 -43.5 30 -70.5 c\\n10.5 -27 15 -45 15 -54 c\\n-1.5 -9 -129 -279 -84 204 p\\n-19.5 45 -34.5 84 -45 115.5 c\\n-21 55.5 -30 90 -30 105 c\\n0 19.5 4.5 33 16.5 39 c\\n12 6 30 10.5 52.5 12 c\\n0 21 -271.5 0 ^ p\\n22.5 -3 37.5 -10.5 46.5 -21 c\\n7.5 -10.5 22.5 -46.5 46.5 -105 c\\n219 -540 p\\n1.5 -1.5 4.5 -4.5 10.5 -7.5 c\\n3 0 4.5 1.5 6 3 c\\n1.5 1.5 3 3 4.5 6 c\\n178.5 441 180 -442.5 p\\n1.5 -1.5 4.5 -4.5 10.5 -7.5 c\\n3 0 6 1.5 7.5 3 c\\n1.5 1.5 3 4.5 4.5 9 c\\n234 577.5 p\\n13.5 34.5 25.5 57 33 66 c\\n7.5 9 18 15 30 18 c\\n0 21 -186 0 ^ p\\n21 -3 37.5 -7.5 49.5 -13.5 c\\n10.5 -7.5 16.5 -19.5 16.5 -37.5 c\\n0 -10.5 -3 -27 -10.5 -49.5 c\\n-6 -22.5 -13.5 -40.5 -19.5 -54 c\\n-129 -316.5 -133.5 346.5 p\\n-6 15 -10.5 28.5 -13.5 39 c\\n-3 10.5 -4.5 22.5 -4.5 31.5 c\\n0 19.5 7.5 33 21 39 c\\n15 6 36 12 66 15 c\\nh\\nf*\\n3048.5 3157 m\\n-93 0 -168 -36 -226.5 -106.5 c\\n-58.5 -72 -87 -156 -87 -255 c\\n0 -90 25.5 -169.5 75 -240 c\\n49.5 -69 121.5 -103.5 213 -103.5 c\\n79.5 0 147 27 201 79.5 c\\n55.5 52.5 93 109.5 112.5 172.5 c\\n-25.5 9 p\\n-30 -49.5 -61.5 -87 -97.5 -114 c\\n-34.5 -27 -78 -40.5 -129 -40.5 c\\n-63 0 -117 25.5 -163.5 78 c\\n-46.5 51 -72 133.5 -76.5 246 c\\n462 0 p\\n0 87 -25.5 154.5 -78 202.5 c\\n-51 48 -111 72 -180 72 c\\nh\\n3006.5 3103 m\\n55.5 0 96 -21 120 -64.5 c\\n12 -24 21 -60 27 -109.5 c\\n-306 0 p\\n6 40.5 18 73.5 33 100.5 c\\n30 49.5 72 73.5 126 73.5 c\\nh\\nf*\\n3801.5 2644 m\\n0 -28.5 -15 -51 -45 -69 c\\n-28.5 -18 -60 -27 -91.5 -27 c\\n-24 0 -45 7.5 -64.5 21 c\\n-28.5 21 -43.5 54 -43.5 97.5 c\\n0 55.5 34.5 105 105 148.5 c\\n37.5 22.5 84 43.5 139.5 61.5 c\\nh\\n3426.5 2615.5 m\\n0 -45 15 -82.5 46.5 -111 c\\n30 -30 66 -45 108 -45 c\\n40.5 0 82.5 13.5 127.5 39 c\\n25.5 16.5 57 40.5 94.5 72 c\\n1.5 -30 9 -55.5 24 -76.5 c\\n15 -22.5 39 -33 73.5 -33 c\\n27 0 55.5 9 82.5 27 c\\n18 12 36 27 51 46.5 c\\n0 40.5 p\\n-18 -15 -30 -24 -37.5 -27 c\\n-7.5 -4.5 -16.5 -6 -28.5 -6 c\\n-19.5 0 -33 10.5 -39 31.5 c\\n-4.5 10.5 -6 30 -6 58.5 c\\n0 292.5 p\\n0 64.5 -9 114 -27 148.5 c\\n-33 61.5 -97.5 91.5 -192 91.5 c\\n-82.5 0 -144 -18 -186 -55.5 c\\n-42 -37.5 -63 -73.5 -63 -108 c\\n0 -16.5 6 -33 18 -48 c\\n12 -13.5 28.5 -21 49.5 -21 c\\n15 0 27 3 37.5 9 c\\n18 12 27 30 27 57 c\\n0 4.5 -1.5 13.5 -3 27 c\\n-3 15 -4.5 24 -4.5 30 c\\n0 22.5 10.5 40.5 33 54 c\\n22.5 13.5 46.5 19.5 72 19.5 c\\n51 0 85.5 -16.5 102 -49.5 c\\n10.5 -19.5 15 -54 15 -103.5 c\\n0 -63 p\\n-135 -49.5 -223.5 -90 -268.5 -120 c\\n-70.5 -46.5 -106.5 -105 -106.5 -177 c\\nh\\nf*\\n4040 2470 351 0 0 21 P\\n-36 0 -60 4.5 -75 10.5 c\\n-25.5 12 -37.5 34.5 -37.5 67.5 c\\n0 273 226.5 -297 p\\n4.5 -6 7.5 -12 10.5 -16.5 c\\n3 -4.5 4.5 -10.5 4.5 -15 c\\n0 -7.5 -4.5 -12 -10.5 -15 c\\n-7.5 -3 -15 -6 -22.5 -6 c\\n-27 -1.5 0 -21 327 0 ^ p\\n-40.5 3 -78 19.5 -112.5 49.5 c\\n-36 28.5 -88.5 88.5 -157.5 177 c\\n-135 177 45 37.5 p\\n93 87 157.5 139.5 190.5 157.5 c\\n33 18 78 30 132 33 c\\n0 21 -306 0 ^ p\\n28.5 -1.5 48 -3 58.5 -6 c\\n12 -3 16.5 -10.5 16.5 -21 c\\n0 -6 -1.5 -13.5 -7.5 -21 c\\n-4.5 -7.5 -15 -18 -28.5 -31.5 c\\n-204 -178.5 0 615 p\\n0 4.5 0 7.5 -1.5 9 c\\n0 1.5 -1.5 1.5 -4.5 1.5 c\\n-4.5 0 -16.5 -3 -37.5 -10.5 c\\n-36 -12 -78 -24 -129 -37.5 c\\n-66 -18 0 -21 p\\n9 1.5 16.5 1.5 22.5 1.5 c\\n7.5 1.5 15 1.5 24 1.5 c\\n22.5 0 39 -4.5 51 -13.5 c\\n12 -9 18 -31.5 18 -66 c\\n0 -733.5 p\\n0 -40.5 -7.5 -66 -22.5 -78 c\\n-15 -13.5 -46.5 -21 -93 -24 c\\nh\\nf*\\n5535.5 3160 m\\n-99 0 -178.5 -36 -243 -109.5 c\\n-64.5 -72 -96 -159 -96 -259.5 c\\n0 -103.5 30 -184.5 88.5 -244.5 c\\n58.5 -60 126 -90 202.5 -90 c\\n76.5 0 145.5 33 204 97.5 c\\n31.5 34.5 60 81 88.5 139.5 c\\n-21 13.5 p\\n-28.5 -42 -52.5 -72 -75 -91.5 c\\n-40.5 -33 -85.5 -49.5 -136.5 -49.5 c\\n-72 0 -129 28.5 -171 87 c\\n-42 58.5 -63 126 -63 199.5 c\\n0 79.5 19.5 144 57 193.5 c\\n39 48 85.5 72 141 72 c\\n27 0 48 -4.5 64.5 -15 c\\n15 -10.5 25.5 -30 33 -55.5 c\\n7.5 -34.5 p\\n6 -22.5 16.5 -40.5 28.5 -51 c\\n13.5 -12 28.5 -18 45 -18 c\\n24 0 40.5 7.5 52.5 21 c\\n10.5 13.5 16.5 28.5 16.5 45 c\\n0 37.5 -22.5 72 -66 103.5 c\\n-45 31.5 -97.5 46.5 -157.5 46.5 c\\nh\\nf*\\n5865.5 2810.5 m\\n0 -105 33 -190.5 97.5 -259.5 c\\n64.5 -69 144 -103.5 238.5 -103.5 c\\n97.5 0 177 36 238.5 108 c\\n61.5 72 93 156 93 253.5 c\\n0 105 -31.5 189 -96 253.5 c\\n-63 63 -142.5 94.5 -240 94.5 c\\n-97.5 0 -177 -33 -238.5 -100.5 c\\n-61.5 -67.5 -93 -150 -93 -246 c\\nh\\n6176 3113.5 m\\n72 0 126 -37.5 163.5 -112.5 c\\n37.5 -75 57 -154.5 57 -238.5 c\\n0 -81 -15 -147 -45 -198 c\\n-28.5 -49.5 -72 -75 -126 -75 c\\n-70.5 0 -124.5 37.5 -165 112.5 c\\n-39 75 -58.5 156 -58.5 243 c\\n0 109.5 24 186 73.5 231 c\\n28.5 25.5 61.5 37.5 100.5 37.5 c\\nh\\nf*\\n6590 3148 0 -21 P\\n36 -3 58.5 -9 69 -18 c\\n16.5 -12 25.5 -37.5 25.5 -76.5 c\\n0 -381 p\\n0 -69 19.5 -120 57 -150 c\\n37.5 -30 78 -45 120 -45 c\\n46.5 0 91.5 15 132 43.5 c\\n28.5 19.5 58.5 49.5 91.5 88.5 c\\n0 -118.5 p\\n0 -3 0 -4.5 0 -7.5 c\\n1.5 -1.5 3 -3 4.5 -3 c\\n43.5 16.5 72 27 84 31.5 c\\n30 9 51 16.5 63 19.5 c\\n13.5 4.5 33 9 60 16.5 c\\n0 21 p\\n-39 -1.5 -64.5 4.5 -76.5 16.5 c\\n-12 12 -18 34.5 -18 67.5 c\\n0 516 -235.5 0 0 -24 p\\n43.5 -3 73.5 -9 87 -21 c\\n15 -12 22.5 -37.5 22.5 -75 c\\n0 -399 p\\n-18 -22.5 -37.5 -39 -55.5 -51 c\\n-31.5 -22.5 -63 -33 -96 -33 c\\n-49.5 0 -82.5 18 -100.5 55.5 c\\n-9 19.5 -13.5 46.5 -13.5 79.5 c\\n0 468 h\\nf*\\n7566.5 2606.5 0 366 P\\n0 22.5 15 43.5 45 66 c\\n30 22.5 63 33 99 33 c\\n52.5 0 97.5 -22.5 136.5 -66 c\\n39 -45 58.5 -111 58.5 -201 c\\n0 -93 -19.5 -166.5 -57 -219 c\\n-37.5 -52.5 -82.5 -78 -135 -78 c\\n-34.5 0 -64.5 7.5 -90 24 c\\n-25.5 16.5 -43.5 42 -57 75 c\\nh\\n7335.5 2143 360 0 0 25.5 P\\n-54 4.5 -88.5 12 -105 22.5 c\\n-16.5 12 -24 42 -24 91.5 c\\n0 241.5 p\\n27 -28.5 55.5 -46.5 87 -57 c\\n19.5 -7.5 43.5 -10.5 70.5 -10.5 c\\n88.5 0 162 39 220.5 118.5 c\\n58.5 79.5 88.5 168 88.5 265.5 c\\n0 99 -24 178.5 -73.5 235.5 c\\n-48 57 -106.5 85.5 -174 85.5 c\\n-46.5 0 -91.5 -13.5 -135 -40.5 c\\n-25.5 -16.5 -52.5 -40.5 -85.5 -72 c\\n0 99 p\\n0 3 0 4.5 -1.5 7.5 c\\n-1.5 1.5 -3 3 -6 3 c\\n-94.5 -33 -144 -49.5 -147 -51 c\\n-69 -22.5 0 -24 p\\n9 1.5 15 3 19.5 3 c\\n4.5 0 10.5 0 15 0 c\\n25.5 0 42 -4.5 51 -15 c\\n9 -10.5 13.5 -34.5 13.5 -72 c\\n0 -702 p\\n0 -36 -6 -61.5 -18 -78 c\\n-13.5 -16.5 -42 -27 -87 -30 c\\nh\\nf*\\n8108 2470 355.5 0 0 21 P\\n-46.5 3 -76.5 12 -90 24 c\\n-15 12 -22.5 39 -22.5 82.5 c\\n0 877.5 p\\n0 10.5 0 16.5 -1.5 19.5 c\\n0 3 -3 4.5 -6 4.5 c\\n-93 -30 -172.5 -52.5 -238.5 -70.5 c\\n0 -24 p\\n12 3 22.5 4.5 30 6 c\\n9 1.5 16.5 3 22.5 3 c\\n30 0 49.5 -10.5 60 -31.5 c\\n4.5 -12 7.5 -34.5 7.5 -66 c\\n0 -717 p\\n0 -40.5 -7.5 -67.5 -24 -81 c\\n-16.5 -13.5 -48 -22.5 -93 -27 c\\nh\\nf*\\n8618 3416.5 m\\n0 -21 7.5 -39 22.5 -54 c\\n15 -15 33 -22.5 54 -22.5 c\\n21 0 39 7.5 54 22.5 c\\n15 15 22.5 33 22.5 54 c\\n0 21 -7.5 39 -22.5 54 c\\n-15 15 -33 22.5 -54 22.5 c\\n-21 0 -39 -7.5 -54 -22.5 c\\n-15 -15 -22.5 -33 -22.5 -54 c\\nh\\n8523.5 2470 357 0 0 21 P\\n-46.5 4.5 -78 13.5 -91.5 27 c\\n-13.5 13.5 -19.5 49.5 -19.5 103.5 c\\n0 526.5 p\\n0 3 0 7.5 -1.5 10.5 c\\n-4.5 0 -12 -3 -27 -9 c\\n-33 -13.5 -93 -34.5 -178.5 -63 c\\n-31.5 -10.5 0 -22.5 p\\n24 7.5 39 10.5 43.5 12 c\\n6 0 10.5 1.5 16.5 1.5 c\\n24 0 39 -10.5 46.5 -30 c\\n4.5 -12 6 -34.5 6 -66 c\\n0 -348 p\\n0 -57 -7.5 -93 -21 -105 c\\n-13.5 -13.5 -46.5 -22.5 -99 -27 c\\nh\\nf*\\n8939 2470 321 0 0 21 P\\n-33 1.5 -58.5 7.5 -73.5 19.5 c\\n-16.5 12 -24 36 -24 70.5 c\\n0 409.5 p\\n25.5 27 48 45 64.5 55.5 c\\n28.5 19.5 58.5 30 87 30 c\\n40.5 0 69 -13.5 85.5 -42 c\\n15 -27 22.5 -61.5 22.5 -103.5 c\\n0 -313.5 p\\n0 -49.5 -7.5 -81 -21 -96 c\\n-15 -15 -39 -25.5 -75 -30 c\\n0 -21 313.5 0 ^ p\\n-33 0 -57 9 -70.5 24 c\\n-13.5 16.5 -21 42 -21 76.5 c\\n0 342 p\\n0 94.5 -27 160.5 -79.5 198 c\\n-27 19.5 -57 28.5 -90 28.5 c\\n-40.5 0 -81 -12 -118.5 -36 c\\n-25.5 -15 -60 -43.5 -105 -85.5 c\\n0 106.5 p\\n0 4.5 0 7.5 -1.5 10.5 c\\n0 1.5 -3 3 -6 3 c\\n-69 -22.5 p\\n-73.5 -24 -121.5 -39 -141 -45 c\\n0 -25.5 p\\n7.5 1.5 12 1.5 16.5 1.5 c\\n4.5 1.5 9 1.5 13.5 1.5 c\\n28.5 0 48 -9 57 -27 c\\n6 -13.5 9 -34.5 9 -66 c\\n0 -373.5 p\\n0 -43.5 -7.5 -72 -21 -85.5 c\\n-13.5 -12 -39 -21 -73.5 -25.5 c\\nh\\nf*\\n9809 2332 m\\n0 27 12 55.5 34.5 87 c\\n24 31.5 37.5 46.5 43.5 46.5 c\\n12 -3 30 -6 54 -9 c\\n24 -3 40.5 -6 51 -6 c\\n16.5 -1.5 34.5 -1.5 55.5 -3 c\\n19.5 0 39 -1.5 57 -1.5 c\\n70.5 -1.5 118.5 -4.5 144 -10.5 c\\n40.5 -10.5 61.5 -33 61.5 -66 c\\n0 -40.5 -25.5 -75 -76.5 -103.5 c\\n-51 -28.5 -115.5 -42 -196.5 -42 c\\n-60 0 -112.5 7.5 -159 24 c\\n-46.5 15 -69 43.5 -69 84 c\\nh\\n9905 2714.5 m\\n-55.5 -48 -91.5 -84 -108 -105 c\\n-16.5 -22.5 -25.5 -42 -25.5 -60 c\\n0 -19.5 9 -37.5 28.5 -52.5 c\\n12 -9 28.5 -16.5 51 -25.5 c\\n-9 -9 -48 -43.5 p\\n-37.5 -33 -61.5 -57 -75 -75 c\\n-12 -16.5 -18 -33 -18 -51 c\\n0 -36 24 -69 70.5 -102 c\\n46.5 -31.5 109.5 -48 190.5 -48 c\\n87 0 174 22.5 261 69 c\\n85.5 45 129 106.5 129 184.5 c\\n0 75 -37.5 124.5 -111 147 c\\n-45 13.5 -129 21 -255 21 c\\n-27 0 -52.5 3 -75 7.5 c\\n-34.5 7.5 -51 19.5 -51 34.5 c\\n0 15 12 34.5 34.5 58.5 c\\n24 24 42 36 57 36 c\\n31.5 -4.5 54 -6 66 -6 c\\n78 0 139.5 24 186 70.5 c\\n46.5 46.5 69 97.5 69 153 c\\n0 25.5 -4.5 52.5 -12 81 c\\n-6 15 -12 33 -21 52.5 c\\n127.5 0 0 60 -9 0 p\\n-9 0 -24 0 -45 -1.5 c\\n-21 0 -36 0 -46.5 0 c\\n-40.5 0 -81 7.5 -124.5 24 c\\n-42 16.5 -82.5 25.5 -117 25.5 c\\n-84 0 -147 -25.5 -193.5 -76.5 c\\n-45 -52.5 -67.5 -106.5 -67.5 -163.5 c\\n0 -46.5 12 -88.5 37.5 -126 c\\n24 -37.5 58.5 -64.5 103.5 -79.5 c\\nh\\n10043 2729.5 m\\n-45 0 -82.5 24 -111 70.5 c\\n-28.5 48 -43.5 102 -43.5 160.5 c\\n0 36 4.5 66 13.5 90 c\\n18 45 51 67.5 99 67.5 c\\n55.5 0 94.5 -28.5 117 -87 c\\n24 -58.5 36 -111 36 -157.5 c\\n0 -58.5 -15 -99 -43.5 -121.5 c\\n-18 -15 -40.5 -22.5 -67.5 -22.5 c\\nh\\nf*\\n1691 1046.5 m\\n0 -177 58.5 -334.5 174 -474 c\\n69 -84 133.5 -141 193.5 -169.5 c\\n19.5 24 p\\n-109.5 72 -183 180 -223.5 324 c\\n-22.5 82.5 -33 187.5 -33 315 c\\n0 171 30 309 88.5 411 c\\n33 60 90 120 168 183 c\\n-13.5 24 p\\n-85.5 -48 -159 -111 -222 -189 c\\n-100.5 -129 -151.5 -279 -151.5 -448.5 c\\nh\\nf*\\n2566.5 724 m\\n-52.5 0 -87 4.5 -100.5 12 c\\n-15 7.5 -22.5 24 -22.5 49.5 c\\n0 373.5 p\\n12 0 22.5 0 28.5 0 c\\n6 0 19.5 0 43.5 0 c\\n93 0 169.5 -15 231 -46.5 c\\n60 -30 90 -88.5 90 -172.5 c\\n0 -84 -25.5 -141 -78 -171 c\\n-51 -30 -115.5 -45 -192 -45 c\\nh\\n2146.5 670 489 0 P\\n84 0 154.5 12 211.5 34.5 c\\n108 43.5 162 124.5 162 241.5 c\\n0 70.5 -24 124.5 -73.5 163.5 c\\n-49.5 39 -108 66 -177 82.5 c\\n55.5 13.5 97.5 31.5 126 52.5 c\\n49.5 36 73.5 90 73.5 160.5 c\\n0 94.5 -34.5 162 -105 199.5 c\\n-70.5 39 -166.5 58.5 -286.5 58.5 c\\n-420 0 0 -28.5 p\\n60 -3 99 -12 117 -28.5 c\\n18 -15 27 -51 27 -105 c\\n0 -669 p\\n0 -55.5 -9 -90 -27 -105 c\\n-18 -16.5 -57 -25.5 -117 -28.5 c\\nh\\n2586 1217.5 -142.5 -1.5 0 340.5 P\\n0 24 3 39 10.5 45 c\\n7.5 4.5 27 7.5 58.5 7.5 c\\n81 0 142.5 -9 183 -25.5 c\\n73.5 -31.5 109.5 -93 109.5 -183 c\\n0 -76.5 -31.5 -129 -94.5 -159 c\\n-33 -15 -75 -22.5 -124.5 -24 c\\nh\\nf*\\n3677 1679.5 m\\n-156 0 -282 -52.5 -379.5 -156 c\\n-91.5 -99 -138 -222 -138 -367.5 c\\n0 -142.5 43.5 -261 130.5 -357 c\\n96 -103.5 223.5 -154.5 384 -154.5 c\\n99 0 189 27 273 81 c\\n49.5 31.5 91.5 67.5 124.5 109.5 c\\n-28.5 28.5 p\\n-45 -43.5 -85.5 -75 -123 -96 c\\n-66 -37.5 -138 -55.5 -214.5 -55.5 c\\n-108 0 -196.5 40.5 -267 120 c\\n-70.5 79.5 -105 186 -105 319.5 c\\n0 145.5 33 261 100.5 343.5 c\\n66 82.5 151.5 124.5 256.5 124.5 c\\n105 0 187.5 -39 249 -115.5 c\\n31.5 -40.5 58.5 -94.5 78 -162 c\\n34.5 0 -13.5 337.5 -31.5 0 p\\n-4.5 -16.5 -13.5 -28.5 -27 -36 c\\n-12 -9 -25.5 -12 -39 -12 c\\n-7.5 0 -39 7.5 -96 24 c\\n-58.5 16.5 -114 24 -168 24 c\\nh\\nf*\\n4185 970 45 -319.5 33 0 P\\n1.5 12 6 24 12 34.5 c\\n6 10.5 18 16.5 36 16.5 c\\n7.5 0 36 -9 85.5 -25.5 c\\n51 -18 99 -27 145.5 -27 c\\n93 0 168 27 228 79.5 c\\n58.5 52.5 88.5 118.5 88.5 196.5 c\\n0 58.5 -16.5 109.5 -49.5 151.5 c\\n-33 43.5 -91.5 90 -175.5 141 c\\n-132 81 p\\n-49.5 30 -87 60 -109.5 87 c\\n-24 28.5 -36 61.5 -36 99 c\\n0 43.5 15 78 46.5 102 c\\n30 24 66 36 108 36 c\\n52.5 0 106.5 -19.5 160.5 -57 c\\n54 -37.5 94.5 -105 118.5 -201 c\\n36 0 -33 319.5 -31.5 0 p\\n-4.5 -16.5 -9 -28.5 -16.5 -37.5 c\\n-7.5 -9 -19.5 -12 -39 -12 c\\n-6 0 -34.5 7.5 -82.5 24 c\\n-48 16.5 -88.5 25.5 -123 25.5 c\\n-84 0 -150 -25.5 -201 -75 c\\n-49.5 -51 -75 -114 -75 -190.5 c\\n0 -57 21 -109.5 63 -157.5 c\\n22.5 -25.5 54 -49.5 93 -73.5 c\\n127.5 -81 p\\n75 -45 123 -79.5 147 -103.5 c\\n34.5 -36 52.5 -78 52.5 -127.5 c\\n0 -54 -18 -96 -52.5 -127.5 c\\n-34.5 -30 -76.5 -45 -124.5 -45 c\\n-87 0 -162 34.5 -220.5 105 c\\n-34.5 40.5 -64.5 94.5 -90 162 c\\nh\\nf*\\n9507 1039 m\\n0 166.5 -51 316.5 -153 450 c\\n-66 87 -138 151.5 -214.5 195 c\\n-19.5 -24 p\\n103.5 -72 174 -171 214.5 -295.5 c\\n28.5 -90 42 -204 42 -343.5 c\\n0 -174 -30 -313.5 -91.5 -418.5 c\\n-34.5 -60 -90 -118.5 -165 -175.5 c\\n13.5 -24 p\\n28.5 13.5 64.5 39 106.5 73.5 c\\n64.5 54 117 111 154.5 172.5 c\\n37.5 57 64.5 118.5 84 184.5 c\\n19.5 64.5 28.5 133.5 28.5 205.5 c\\nh\\nf*\\n255 0 r6\\n11908 2436 21 0 P\\n3 6 6 10.5 10.5 15 c\\n4.5 4.5 9 7.5 15 7.5 c\\n7.5 0 28.5 -6 66 -15 c\\n36 -10.5 69 -15 99 -15 c\\n69 0 124.5 18 168 55.5 c\\n43.5 36 64.5 82.5 64.5 141 c\\n0 75 -52.5 141 -156 196.5 c\\n-96 52.5 p\\n-67.5 34.5 -100.5 75 -100.5 120 c\\n0 28.5 10.5 52.5 30 73.5 c\\n19.5 21 45 31.5 79.5 31.5 c\\n57 0 100.5 -24 132 -73.5 c\\n16.5 -25.5 28.5 -63 39 -109.5 c\\n22.5 0 -4.5 204 -18 0 p\\n-3 -6 -6 -9 -10.5 -12 c\\n-3 -3 -10.5 -3 -19.5 -3 c\\n-3 0 -21 4.5 -52.5 13.5 c\\n-30 10.5 -58.5 15 -85.5 15 c\\n-58.5 0 -108 -18 -147 -52.5 c\\n-39 -36 -58.5 -79.5 -58.5 -135 c\\n0 -43.5 15 -82.5 43.5 -115.5 c\\n28.5 -33 72 -64.5 132 -97.5 c\\n81 -46.5 p\\n31.5 -18 52.5 -36 64.5 -55.5 c\\n12 -19.5 18 -39 18 -58.5 c\\n0 -33 -10.5 -58.5 -31.5 -79.5 c\\n-21 -19.5 -51 -30 -87 -30 c\\n-66 0 -115.5 27 -150 82.5 c\\n-18 28.5 -34.5 72 -45 127.5 c\\n-24 0 h\\nf*\\n12645.5 3115.5 0 180 P\\n0 6 0 9 -1.5 10.5 c\\n-1.5 1.5 -6 1.5 -12 1.5 c\\n-54 -73.5 -90 -120 -105 -136.5 c\\n-13.5 -18 -39 -40.5 -72 -67.5 c\\n-12 -10.5 -18 -16.5 -21 -19.5 c\\n-1.5 -1.5 -3 -6 -3 -10.5 c\\n0 -3 0 -4.5 1.5 -6 c\\n1.5 -1.5 3 -3 6 -4.5 c\\n79.5 0 0 -442.5 p\\n0 -49.5 6 -87 16.5 -115.5 c\\n21 -51 60 -76.5 118.5 -76.5 c\\n25.5 0 52.5 7.5 81 21 c\\n28.5 15 55.5 39 81 73.5 c\\n16.5 22.5 -19.5 16.5 p\\n-16.5 -18 -31.5 -31.5 -43.5 -40.5 c\\n-13.5 -7.5 -28.5 -12 -46.5 -12 c\\n-34.5 0 -58.5 16.5 -70.5 51 c\\n-6 18 -9 46.5 -9 82.5 c\\n1.5 420 150 0 0 52.5 h\\nf*\\n12837.5 2442 360 0 0 24 P\\n-45 -1.5 -78 7.5 -97.5 22.5 c\\n-19.5 16.5 -28.5 46.5 -28.5 88.5 c\\n0 330 p\\n0 28.5 12 57 37.5 85.5 c\\n24 27 45 40.5 63 40.5 c\\n10.5 0 25.5 -9 43.5 -25.5 c\\n19.5 -16.5 37.5 -25.5 55.5 -25.5 c\\n18 0 33 7.5 45 21 c\\n12 13.5 18 30 18 51 c\\n0 22.5 -7.5 40.5 -24 55.5 c\\n-15 15 -34.5 22.5 -60 22.5 c\\n-31.5 0 -61.5 -12 -90 -36 c\\n-28.5 -25.5 -58.5 -60 -90 -103.5 c\\n0 121.5 p\\n0 7.5 0 13.5 -1.5 15 c\\n0 3 -3 4.5 -6 4.5 c\\n-25.5 -12 -51 -22.5 -75 -31.5 c\\n-12 -4.5 -31.5 -12 -61.5 -22.5 c\\n-28.5 -10.5 -57 -19.5 -85.5 -30 c\\n0 -24 p\\n9 1.5 18 3 25.5 4.5 c\\n7.5 1.5 15 1.5 19.5 1.5 c\\n24 0 40.5 -10.5 49.5 -30 c\\n9 -21 13.5 -57 13.5 -105 c\\n0 -330 p\\n0 -39 -7.5 -64.5 -22.5 -76.5 c\\n-13.5 -12 -43.5 -19.5 -88.5 -24 c\\nh\\nf*\\n13367.5 2782.5 m\\n0 -105 33 -190.5 97.5 -259.5 c\\n64.5 -69 144 -103.5 238.5 -103.5 c\\n97.5 0 177 36 238.5 108 c\\n61.5 72 93 156 93 253.5 c\\n0 105 -31.5 189 -96 253.5 c\\n-63 63 -142.5 94.5 -240 94.5 c\\n-97.5 0 -177 -33 -238.5 -100.5 c\\n-61.5 -67.5 -93 -150 -93 -246 c\\nh\\n13678 3085.5 m\\n72 0 126 -37.5 163.5 -112.5 c\\n37.5 -75 57 -154.5 57 -238.5 c\\n0 -81 -15 -147 -45 -198 c\\n-28.5 -49.5 -72 -75 -126 -75 c\\n-70.5 0 -124.5 37.5 -165 112.5 c\\n-39 75 -58.5 156 -58.5 243 c\\n0 109.5 24 186 73.5 231 c\\n28.5 25.5 61.5 37.5 100.5 37.5 c\\nh\\nf*\\n14107 2442 321 0 0 21 P\\n-33 1.5 -58.5 7.5 -73.5 19.5 c\\n-16.5 12 -24 36 -24 70.5 c\\n0 409.5 p\\n25.5 27 48 45 64.5 55.5 c\\n28.5 19.5 58.5 30 87 30 c\\n40.5 0 69 -13.5 85.5 -42 c\\n15 -27 22.5 -61.5 22.5 -103.5 c\\n0 -313.5 p\\n0 -49.5 -7.5 -81 -21 -96 c\\n-15 -15 -39 -25.5 -75 -30 c\\n0 -21 313.5 0 ^ p\\n-33 0 -57 9 -70.5 24 c\\n-13.5 16.5 -21 42 -21 76.5 c\\n0 342 p\\n0 94.5 -27 160.5 -79.5 198 c\\n-27 19.5 -57 28.5 -90 28.5 c\\n-40.5 0 -81 -12 -118.5 -36 c\\n-25.5 -15 -60 -43.5 -105 -85.5 c\\n0 106.5 p\\n0 4.5 0 7.5 -1.5 10.5 c\\n0 1.5 -3 3 -6 3 c\\n-69 -22.5 p\\n-73.5 -24 -121.5 -39 -141 -45 c\\n0 -25.5 p\\n7.5 1.5 12 1.5 16.5 1.5 c\\n4.5 1.5 9 1.5 13.5 1.5 c\\n28.5 0 48 -9 57 -27 c\\n6 -13.5 9 -34.5 9 -66 c\\n0 -373.5 p\\n0 -43.5 -7.5 -72 -21 -85.5 c\\n-13.5 -12 -39 -21 -73.5 -25.5 c\\nh\\nf*\\n14977 2304 m\\n0 27 12 55.5 34.5 87 c\\n24 31.5 37.5 46.5 43.5 46.5 c\\n12 -3 30 -6 54 -9 c\\n24 -3 40.5 -6 51 -6 c\\n16.5 -1.5 34.5 -1.5 55.5 -3 c\\n19.5 0 39 -1.5 57 -1.5 c\\n70.5 -1.5 118.5 -4.5 144 -10.5 c\\n40.5 -10.5 61.5 -33 61.5 -66 c\\n0 -40.5 -25.5 -75 -76.5 -103.5 c\\n-51 -28.5 -115.5 -42 -196.5 -42 c\\n-60 0 -112.5 7.5 -159 24 c\\n-46.5 15 -69 43.5 -69 84 c\\nh\\n15073 2686.5 m\\n-55.5 -48 -91.5 -84 -108 -105 c\\n-16.5 -22.5 -25.5 -42 -25.5 -60 c\\n0 -19.5 9 -37.5 28.5 -52.5 c\\n12 -9 28.5 -16.5 51 -25.5 c\\n-9 -9 -48 -43.5 p\\n-37.5 -33 -61.5 -57 -75 -75 c\\n-12 -16.5 -18 -33 -18 -51 c\\n0 -36 24 -69 70.5 -102 c\\n46.5 -31.5 109.5 -48 190.5 -48 c\\n87 0 174 22.5 261 69 c\\n85.5 45 129 106.5 129 184.5 c\\n0 75 -37.5 124.5 -111 147 c\\n-45 13.5 -129 21 -255 21 c\\n-27 0 -52.5 3 -75 7.5 c\\n-34.5 7.5 -51 19.5 -51 34.5 c\\n0 15 12 34.5 34.5 58.5 c\\n24 24 42 36 57 36 c\\n31.5 -4.5 54 -6 66 -6 c\\n78 0 139.5 24 186 70.5 c\\n46.5 46.5 69 97.5 69 153 c\\n0 25.5 -4.5 52.5 -12 81 c\\n-6 15 -12 33 -21 52.5 c\\n127.5 0 0 60 -9 0 p\\n-9 0 -24 0 -45 -1.5 c\\n-21 0 -36 0 -46.5 0 c\\n-40.5 0 -81 7.5 -124.5 24 c\\n-42 16.5 -82.5 25.5 -117 25.5 c\\n-84 0 -147 -25.5 -193.5 -76.5 c\\n-45 -52.5 -67.5 -106.5 -67.5 -163.5 c\\n0 -46.5 12 -88.5 37.5 -126 c\\n24 -37.5 58.5 -64.5 103.5 -79.5 c\\nh\\n15211 2701.5 m\\n-45 0 -82.5 24 -111 70.5 c\\n-28.5 48 -43.5 102 -43.5 160.5 c\\n0 36 4.5 66 13.5 90 c\\n18 45 51 67.5 99 67.5 c\\n55.5 0 94.5 -28.5 117 -87 c\\n24 -58.5 36 -111 36 -157.5 c\\n0 -58.5 -15 -99 -43.5 -121.5 c\\n-18 -15 -40.5 -22.5 -67.5 -22.5 c\\nh\\nf*\\n16328.5 3132 m\\n-99 0 -178.5 -36 -243 -109.5 c\\n-64.5 -72 -96 -159 -96 -259.5 c\\n0 -103.5 30 -184.5 88.5 -244.5 c\\n58.5 -60 126 -90 202.5 -90 c\\n76.5 0 145.5 33 204 97.5 c\\n31.5 34.5 60 81 88.5 139.5 c\\n-21 13.5 p\\n-28.5 -42 -52.5 -72 -75 -91.5 c\\n-40.5 -33 -85.5 -49.5 -136.5 -49.5 c\\n-72 0 -129 28.5 -171 87 c\\n-42 58.5 -63 126 -63 199.5 c\\n0 79.5 19.5 144 57 193.5 c\\n39 48 85.5 72 141 72 c\\n27 0 48 -4.5 64.5 -15 c\\n15 -10.5 25.5 -30 33 -55.5 c\\n7.5 -34.5 p\\n6 -22.5 16.5 -40.5 28.5 -51 c\\n13.5 -12 28.5 -18 45 -18 c\\n24 0 40.5 7.5 52.5 21 c\\n10.5 13.5 16.5 28.5 16.5 45 c\\n0 37.5 -22.5 72 -66 103.5 c\\n-45 31.5 -97.5 46.5 -157.5 46.5 c\\nh\\nf*\\n16658.5 2782.5 m\\n0 -105 33 -190.5 97.5 -259.5 c\\n64.5 -69 144 -103.5 238.5 -103.5 c\\n97.5 0 177 36 238.5 108 c\\n61.5 72 93 156 93 253.5 c\\n0 105 -31.5 189 -96 253.5 c\\n-63 63 -142.5 94.5 -240 94.5 c\\n-97.5 0 -177 -33 -238.5 -100.5 c\\n-61.5 -67.5 -93 -150 -93 -246 c\\nh\\n16969 3085.5 m\\n72 0 126 -37.5 163.5 -112.5 c\\n37.5 -75 57 -154.5 57 -238.5 c\\n0 -81 -15 -147 -45 -198 c\\n-28.5 -49.5 -72 -75 -126 -75 c\\n-70.5 0 -124.5 37.5 -165 112.5 c\\n-39 75 -58.5 156 -58.5 243 c\\n0 109.5 24 186 73.5 231 c\\n28.5 25.5 61.5 37.5 100.5 37.5 c\\nh\\nf*\\n17383 3120 0 -21 P\\n36 -3 58.5 -9 69 -18 c\\n16.5 -12 25.5 -37.5 25.5 -76.5 c\\n0 -381 p\\n0 -69 19.5 -120 57 -150 c\\n37.5 -30 78 -45 120 -45 c\\n46.5 0 91.5 15 132 43.5 c\\n28.5 19.5 58.5 49.5 91.5 88.5 c\\n0 -118.5 p\\n0 -3 0 -4.5 0 -7.5 c\\n1.5 -1.5 3 -3 4.5 -3 c\\n43.5 16.5 72 27 84 31.5 c\\n30 9 51 16.5 63 19.5 c\\n13.5 4.5 33 9 60 16.5 c\\n0 21 p\\n-39 -1.5 -64.5 4.5 -76.5 16.5 c\\n-12 12 -18 34.5 -18 67.5 c\\n0 516 -235.5 0 0 -24 p\\n43.5 -3 73.5 -9 87 -21 c\\n15 -12 22.5 -37.5 22.5 -75 c\\n0 -399 p\\n-18 -22.5 -37.5 -39 -55.5 -51 c\\n-31.5 -22.5 -63 -33 -96 -33 c\\n-49.5 0 -82.5 18 -100.5 55.5 c\\n-9 19.5 -13.5 46.5 -13.5 79.5 c\\n0 468 h\\nf*\\n18359.5 2578.5 0 366 P\\n0 22.5 15 43.5 45 66 c\\n30 22.5 63 33 99 33 c\\n52.5 0 97.5 -22.5 136.5 -66 c\\n39 -45 58.5 -111 58.5 -201 c\\n0 -93 -19.5 -166.5 -57 -219 c\\n-37.5 -52.5 -82.5 -78 -135 -78 c\\n-34.5 0 -64.5 7.5 -90 24 c\\n-25.5 16.5 -43.5 42 -57 75 c\\nh\\n18128.5 2115 360 0 0 25.5 P\\n-54 4.5 -88.5 12 -105 22.5 c\\n-16.5 12 -24 42 -24 91.5 c\\n0 241.5 p\\n27 -28.5 55.5 -46.5 87 -57 c\\n19.5 -7.5 43.5 -10.5 70.5 -10.5 c\\n88.5 0 162 39 220.5 118.5 c\\n58.5 79.5 88.5 168 88.5 265.5 c\\n0 99 -24 178.5 -73.5 235.5 c\\n-48 57 -106.5 85.5 -174 85.5 c\\n-46.5 0 -91.5 -13.5 -135 -40.5 c\\n-25.5 -16.5 -52.5 -40.5 -85.5 -72 c\\n0 99 p\\n0 3 0 4.5 -1.5 7.5 c\\n-1.5 1.5 -3 3 -6 3 c\\n-94.5 -33 -144 -49.5 -147 -51 c\\n-69 -22.5 0 -24 p\\n9 1.5 15 3 19.5 3 c\\n4.5 0 10.5 0 15 0 c\\n25.5 0 42 -4.5 51 -15 c\\n9 -10.5 13.5 -34.5 13.5 -72 c\\n0 -702 p\\n0 -36 -6 -61.5 -18 -78 c\\n-13.5 -16.5 -42 -27 -87 -30 c\\nh\\nf*\\n18901 2442 355.5 0 0 21 P\\n-46.5 3 -76.5 12 -90 24 c\\n-15 12 -22.5 39 -22.5 82.5 c\\n0 877.5 p\\n0 10.5 0 16.5 -1.5 19.5 c\\n0 3 -3 4.5 -6 4.5 c\\n-93 -30 -172.5 -52.5 -238.5 -70.5 c\\n0 -24 p\\n12 3 22.5 4.5 30 6 c\\n9 1.5 16.5 3 22.5 3 c\\n30 0 49.5 -10.5 60 -31.5 c\\n4.5 -12 7.5 -34.5 7.5 -66 c\\n0 -717 p\\n0 -40.5 -7.5 -67.5 -24 -81 c\\n-16.5 -13.5 -48 -22.5 -93 -27 c\\nh\\nf*\\n19411 3388.5 m\\n0 -21 7.5 -39 22.5 -54 c\\n15 -15 33 -22.5 54 -22.5 c\\n21 0 39 7.5 54 22.5 c\\n15 15 22.5 33 22.5 54 c\\n0 21 -7.5 39 -22.5 54 c\\n-15 15 -33 22.5 -54 22.5 c\\n-21 0 -39 -7.5 -54 -22.5 c\\n-15 -15 -22.5 -33 -22.5 -54 c\\nh\\n19316.5 2442 357 0 0 21 P\\n-46.5 4.5 -78 13.5 -91.5 27 c\\n-13.5 13.5 -19.5 49.5 -19.5 103.5 c\\n0 526.5 p\\n0 3 0 7.5 -1.5 10.5 c\\n-4.5 0 -12 -3 -27 -9 c\\n-33 -13.5 -93 -34.5 -178.5 -63 c\\n-31.5 -10.5 0 -22.5 p\\n24 7.5 39 10.5 43.5 12 c\\n6 0 10.5 1.5 16.5 1.5 c\\n24 0 39 -10.5 46.5 -30 c\\n4.5 -12 6 -34.5 6 -66 c\\n0 -348 p\\n0 -57 -7.5 -93 -21 -105 c\\n-13.5 -13.5 -46.5 -22.5 -99 -27 c\\nh\\nf*\\n19732 2442 321 0 0 21 P\\n-33 1.5 -58.5 7.5 -73.5 19.5 c\\n-16.5 12 -24 36 -24 70.5 c\\n0 409.5 p\\n25.5 27 48 45 64.5 55.5 c\\n28.5 19.5 58.5 30 87 30 c\\n40.5 0 69 -13.5 85.5 -42 c\\n15 -27 22.5 -61.5 22.5 -103.5 c\\n0 -313.5 p\\n0 -49.5 -7.5 -81 -21 -96 c\\n-15 -15 -39 -25.5 -75 -30 c\\n0 -21 313.5 0 ^ p\\n-33 0 -57 9 -70.5 24 c\\n-13.5 16.5 -21 42 -21 76.5 c\\n0 342 p\\n0 94.5 -27 160.5 -79.5 198 c\\n-27 19.5 -57 28.5 -90 28.5 c\\n-40.5 0 -81 -12 -118.5 -36 c\\n-25.5 -15 -60 -43.5 -105 -85.5 c\\n0 106.5 p\\n0 4.5 0 7.5 -1.5 10.5 c\\n0 1.5 -3 3 -6 3 c\\n-69 -22.5 p\\n-73.5 -24 -121.5 -39 -141 -45 c\\n0 -25.5 p\\n7.5 1.5 12 1.5 16.5 1.5 c\\n4.5 1.5 9 1.5 13.5 1.5 c\\n28.5 0 48 -9 57 -27 c\\n6 -13.5 9 -34.5 9 -66 c\\n0 -373.5 p\\n0 -43.5 -7.5 -72 -21 -85.5 c\\n-13.5 -12 -39 -21 -73.5 -25.5 c\\nh\\nf*\\n20602 2304 m\\n0 27 12 55.5 34.5 87 c\\n24 31.5 37.5 46.5 43.5 46.5 c\\n12 -3 30 -6 54 -9 c\\n24 -3 40.5 -6 51 -6 c\\n16.5 -1.5 34.5 -1.5 55.5 -3 c\\n19.5 0 39 -1.5 57 -1.5 c\\n70.5 -1.5 118.5 -4.5 144 -10.5 c\\n40.5 -10.5 61.5 -33 61.5 -66 c\\n0 -40.5 -25.5 -75 -76.5 -103.5 c\\n-51 -28.5 -115.5 -42 -196.5 -42 c\\n-60 0 -112.5 7.5 -159 24 c\\n-46.5 15 -69 43.5 -69 84 c\\nh\\n20698 2686.5 m\\n-55.5 -48 -91.5 -84 -108 -105 c\\n-16.5 -22.5 -25.5 -42 -25.5 -60 c\\n0 -19.5 9 -37.5 28.5 -52.5 c\\n12 -9 28.5 -16.5 51 -25.5 c\\n-9 -9 -48 -43.5 p\\n-37.5 -33 -61.5 -57 -75 -75 c\\n-12 -16.5 -18 -33 -18 -51 c\\n0 -36 24 -69 70.5 -102 c\\n46.5 -31.5 109.5 -48 190.5 -48 c\\n87 0 174 22.5 261 69 c\\n85.5 45 129 106.5 129 184.5 c\\n0 75 -37.5 124.5 -111 147 c\\n-45 13.5 -129 21 -255 21 c\\n-27 0 -52.5 3 -75 7.5 c\\n-34.5 7.5 -51 19.5 -51 34.5 c\\n0 15 12 34.5 34.5 58.5 c\\n24 24 42 36 57 36 c\\n31.5 -4.5 54 -6 66 -6 c\\n78 0 139.5 24 186 70.5 c\\n46.5 46.5 69 97.5 69 153 c\\n0 25.5 -4.5 52.5 -12 81 c\\n-6 15 -12 33 -21 52.5 c\\n127.5 0 0 60 -9 0 p\\n-9 0 -24 0 -45 -1.5 c\\n-21 0 -36 0 -46.5 0 c\\n-40.5 0 -81 7.5 -124.5 24 c\\n-42 16.5 -82.5 25.5 -117 25.5 c\\n-84 0 -147 -25.5 -193.5 -76.5 c\\n-45 -52.5 -67.5 -106.5 -67.5 -163.5 c\\n0 -46.5 12 -88.5 37.5 -126 c\\n24 -37.5 58.5 -64.5 103.5 -79.5 c\\nh\\n20836 2701.5 m\\n-45 0 -82.5 24 -111 70.5 c\\n-28.5 48 -43.5 102 -43.5 160.5 c\\n0 36 4.5 66 13.5 90 c\\n18 45 51 67.5 99 67.5 c\\n55.5 0 94.5 -28.5 117 -87 c\\n24 -58.5 36 -111 36 -157.5 c\\n0 -58.5 -15 -99 -43.5 -121.5 c\\n-18 -15 -40.5 -22.5 -67.5 -22.5 c\\nh\\nf*\\n11899 1018.5 m\\n0 -177 58.5 -334.5 174 -474 c\\n69 -84 133.5 -141 193.5 -169.5 c\\n19.5 24 p\\n-109.5 72 -183 180 -223.5 324 c\\n-22.5 82.5 -33 187.5 -33 315 c\\n0 171 30 309 88.5 411 c\\n33 60 90 120 168 183 c\\n-13.5 24 p\\n-85.5 -48 -159 -111 -222 -189 c\\n-100.5 -129 -151.5 -279 -151.5 -448.5 c\\nh\\nf*\\n12774.5 696 m\\n-52.5 0 -87 4.5 -100.5 12 c\\n-15 7.5 -22.5 24 -22.5 49.5 c\\n0 373.5 p\\n12 0 22.5 0 28.5 0 c\\n6 0 19.5 0 43.5 0 c\\n93 0 169.5 -15 231 -46.5 c\\n60 -30 90 -88.5 90 -172.5 c\\n0 -84 -25.5 -141 -78 -171 c\\n-51 -30 -115.5 -45 -192 -45 c\\nh\\n12354.5 642 489 0 P\\n84 0 154.5 12 211.5 34.5 c\\n108 43.5 162 124.5 162 241.5 c\\n0 70.5 -24 124.5 -73.5 163.5 c\\n-49.5 39 -108 66 -177 82.5 c\\n55.5 13.5 97.5 31.5 126 52.5 c\\n49.5 36 73.5 90 73.5 160.5 c\\n0 94.5 -34.5 162 -105 199.5 c\\n-70.5 39 -166.5 58.5 -286.5 58.5 c\\n-420 0 0 -28.5 p\\n60 -3 99 -12 117 -28.5 c\\n18 -15 27 -51 27 -105 c\\n0 -669 p\\n0 -55.5 -9 -90 -27 -105 c\\n-18 -16.5 -57 -25.5 -117 -28.5 c\\nh\\n12794 1189.5 -142.5 -1.5 0 340.5 P\\n0 24 3 39 10.5 45 c\\n7.5 4.5 27 7.5 58.5 7.5 c\\n81 0 142.5 -9 183 -25.5 c\\n73.5 -31.5 109.5 -93 109.5 -183 c\\n0 -76.5 -31.5 -129 -94.5 -159 c\\n-33 -15 -75 -22.5 -124.5 -24 c\\nh\\nf*\\n13346.5 642 813 0 66 253.5 -40.5 0 P\\n-39 -85.5 -82.5 -139.5 -130.5 -162 c\\n-48 -22.5 -123 -33 -225 -33 c\\n-94.5 0 -151.5 3 -169.5 7.5 c\\n-19.5 6 -28.5 24 -28.5 54 c\\n0 370.5 232.5 0 p\\n63 0 103.5 -9 121.5 -28.5 c\\n18 -18 33 -57 43.5 -115.5 c\\n34.5 0 0 348 ^ p\\n-10.5 -58.5 -25.5 -96 -42 -115.5 c\\n-18 -19.5 -58.5 -28.5 -123 -28.5 c\\n-232.5 0 0 334.5 p\\n0 19.5 3 33 7.5 40.5 c\\n6 7.5 19.5 10.5 40.5 10.5 c\\n205.5 0 p\\n88.5 0 145.5 -9 171 -28.5 c\\n25.5 -19.5 45 -63 57 -129 c\\n37.5 0 -6 214.5 -798 0 0 -28.5 p\\n55.5 -4.5 91.5 -13.5 108 -30 c\\n16.5 -16.5 24 -51 24 -103.5 c\\n0 -669 p\\n0 -55.5 -7.5 -90 -24 -105 c\\n-16.5 -13.5 -52.5 -22.5 -108 -28.5 c\\nh\\nf*\\n14801 1651.5 m\\n-156 0 -282 -52.5 -379.5 -156 c\\n-91.5 -99 -138 -222 -138 -367.5 c\\n0 -142.5 43.5 -261 130.5 -357 c\\n96 -103.5 223.5 -154.5 384 -154.5 c\\n99 0 189 27 273 81 c\\n49.5 31.5 91.5 67.5 124.5 109.5 c\\n-28.5 28.5 p\\n-45 -43.5 -85.5 -75 -123 -96 c\\n-66 -37.5 -138 -55.5 -214.5 -55.5 c\\n-108 0 -196.5 40.5 -267 120 c\\n-70.5 79.5 -105 186 -105 319.5 c\\n0 145.5 33 261 100.5 343.5 c\\n66 82.5 151.5 124.5 256.5 124.5 c\\n105 0 187.5 -39 249 -115.5 c\\n31.5 -40.5 58.5 -94.5 78 -162 c\\n34.5 0 -13.5 337.5 -31.5 0 p\\n-4.5 -16.5 -13.5 -28.5 -27 -36 c\\n-12 -9 -25.5 -12 -39 -12 c\\n-7.5 0 -39 7.5 -96 24 c\\n-58.5 16.5 -114 24 -168 24 c\\nh\\nf*\\n19798 1011 m\\n0 166.5 -51 316.5 -153 450 c\\n-66 87 -138 151.5 -214.5 195 c\\n-19.5 -24 p\\n103.5 -72 174 -171 214.5 -295.5 c\\n28.5 -90 42 -204 42 -343.5 c\\n0 -174 -30 -313.5 -91.5 -418.5 c\\n-34.5 -60 -90 -118.5 -165 -175.5 c\\n13.5 -24 p\\n28.5 13.5 64.5 39 106.5 73.5 c\\n64.5 54 117 111 154.5 172.5 c\\n37.5 57 64.5 118.5 84 184.5 c\\n19.5 64.5 28.5 133.5 28.5 205.5 c\\nh\\nf*\\nK\\n5525 22391 m\\n0 79.5 31.5 172.5 94.5 279 c\\n69 120 141 180 216 180 c\\n30 0 51 -9 60 -28.5 c\\n10.5 -19.5 15 -45 15 -75 c\\n0 -93 -31.5 -193.5 -93 -298.5 c\\n-64.5 -112.5 -132 -168 -202.5 -168 c\\n-33 0 -55.5 10.5 -69 33 c\\n-13.5 22.5 -21 48 -21 78 c\\nh\\n5828 22884.5 m\\n-93 0 -187.5 -55.5 -286.5 -168 c\\n-97.5 -111 -147 -220.5 -147 -327 c\\n0 -63 16.5 -109.5 48 -139.5 c\\n31.5 -30 69 -45 111 -45 c\\n52.5 0 100.5 18 145.5 54 c\\n45 36 85.5 82.5 123 138 c\\n-6 -27 -10.5 -51 -13.5 -73.5 c\\n-3 -22.5 -4.5 -39 -4.5 -49.5 c\\n0 -30 9 -49.5 30 -61.5 c\\n10.5 -6 22.5 -9 36 -9 c\\n39 0 85.5 24 135 73.5 c\\n28.5 28.5 52.5 55.5 70.5 82.5 c\\n10.5 15 -18 16.5 p\\n-27 -31.5 -48 -55.5 -63 -72 c\\n-25.5 -25.5 -46.5 -37.5 -60 -37.5 c\\n-6 0 -12 1.5 -18 6 c\\n-6 4.5 -10.5 13.5 -10.5 27 c\\n0 4.5 1.5 10.5 3 18 c\\n0 6 3 13.5 4.5 22.5 c\\n97.5 348 145.5 525 1.5 7.5 -7.5 7.5 p\\n-97.5 -19.5 -174 -33 -229.5 -40.5 c\\n0 -24 p\\n12 1.5 21 1.5 28.5 1.5 c\\n6 1.5 15 1.5 22.5 1.5 c\\n13.5 0 24 -3 31.5 -7.5 c\\n6 -4.5 10.5 -16.5 10.5 -36 c\\n0 -4.5 -1.5 -10.5 -1.5 -16.5 c\\n-1.5 -7.5 -3 -13.5 -4.5 -22.5 c\\n-85.5 -297 p\\n-6 25.5 -13.5 43.5 -22.5 54 c\\n-16.5 19.5 -43.5 28.5 -82.5 28.5 c\\nh\\nf*\\n6291.5 22788.5 -18 -88.5 753 0 ^ H\\n6228.5 22493 -18 -88.5 753 0 ^ H\\nf*\\n7207.5 22220 417 0 0 21 P\\n-49.5 1.5 -84 4.5 -100.5 10.5 c\\n-18 6 -27 18 -27 39 c\\n0 4.5 0 7.5 1.5 12 c\\n0 4.5 1.5 7.5 3 12 c\\n244.5 897 p\\n1.5 3 1.5 6 1.5 9 c\\n1.5 3 1.5 6 1.5 9 c\\n-9 4.5 -15 -1.5 -22.5 -6 p\\n-24 -4.5 -66 -13.5 -126 -25.5 c\\n-58.5 -12 -96 -18 -109.5 -21 c\\n-18 -3 0 -22.5 70.5 3 p\\n25.5 0 43.5 -3 54 -7.5 c\\n12 -6 16.5 -18 16.5 -34.5 c\\n0 -7.5 0 -15 -1.5 -24 c\\n-3 -9 -4.5 -19.5 -9 -31.5 c\\n-204 -738 p\\n-7.5 -25.5 -21 -43.5 -40.5 -54 c\\n-19.5 -10.5 -45 -18 -78 -22.5 c\\n-49.5 0 h\\nf*\\n0.2 i\\n1253 13048 0 21 P\\n-6 3 -10.5 6 -15 10.5 c\\n-4.5 4.5 -7.5 9 -7.5 15 c\\n0 7.5 6 28.5 15 66 c\\n10.5 36 15 69 15 99 c\\n0 69 -18 124.5 -55.5 168 c\\n-36 43.5 -82.5 64.5 -141 64.5 c\\n-75 0 -141 -52.5 -196.5 -156 c\\n-52.5 -96 p\\n-34.5 -67.5 -75 -100.5 -120 -100.5 c\\n-28.5 0 -52.5 10.5 -73.5 30 c\\n-21 19.5 -31.5 45 -31.5 79.5 c\\n0 57 24 100.5 73.5 132 c\\n25.5 16.5 63 28.5 109.5 39 c\\n0 22.5 -204 -4.5 0 -18 p\\n6 -3 9 -6 12 -10.5 c\\n3 -3 3 -10.5 3 -19.5 c\\n0 -3 -4.5 -21 -13.5 -52.5 c\\n-10.5 -30 -15 -58.5 -15 -85.5 c\\n0 -58.5 18 -108 52.5 -147 c\\n36 -39 79.5 -58.5 135 -58.5 c\\n43.5 0 82.5 15 115.5 43.5 c\\n33 28.5 64.5 72 97.5 132 c\\n46.5 81 p\\n18 31.5 36 52.5 55.5 64.5 c\\n19.5 12 39 18 58.5 18 c\\n33 0 58.5 -10.5 79.5 -31.5 c\\n19.5 -21 30 -51 30 -87 c\\n0 -66 -27 -115.5 -82.5 -150 c\\n-28.5 -18 -72 -34.5 -127.5 -45 c\\n0 -24 h\\nf*\\n861.5 13612.5 94.5 373.5 re\\nf*\\n566 14752 0 -306 21 0 P\\n1.5 22.5 7.5 40.5 16.5 52.5 c\\n9 12 24 24 46.5 33 c\\n21 9 43.5 19.5 70.5 30 c\\n27 10.5 45 15 54 15 c\\n9 -1.5 279 -129 -204 -84 p\\n-45 -19.5 -84 -34.5 -115.5 -45 c\\n-55.5 -21 -90 -30 -105 -30 c\\n-19.5 0 -33 4.5 -39 16.5 c\\n-6 12 -10.5 30 -12 52.5 c\\n-21 0 0 -271.5 ^ p\\n3 22.5 10.5 37.5 21 46.5 c\\n10.5 7.5 46.5 22.5 105 46.5 c\\n540 219 p\\n1.5 1.5 4.5 4.5 7.5 10.5 c\\n0 3 -1.5 4.5 -3 6 c\\n-1.5 1.5 -3 3 -6 4.5 c\\n-441 178.5 442.5 180 p\\n1.5 1.5 4.5 4.5 7.5 10.5 c\\n0 3 -1.5 6 -3 7.5 c\\n-1.5 1.5 -4.5 3 -9 4.5 c\\n-577.5 234 p\\n-34.5 13.5 -57 25.5 -66 33 c\\n-9 7.5 -15 18 -18 30 c\\n-21 0 0 -186 ^ p\\n3 21 7.5 37.5 13.5 49.5 c\\n7.5 10.5 19.5 16.5 37.5 16.5 c\\n10.5 0 27 -3 49.5 -10.5 c\\n22.5 -6 40.5 -13.5 54 -19.5 c\\n316.5 -129 -346.5 -133.5 p\\n-15 -6 -28.5 -10.5 -39 -13.5 c\\n-10.5 -3 -22.5 -4.5 -31.5 -4.5 c\\n-19.5 0 -33 7.5 -39 21 c\\n-6 15 -12 36 -15 66 c\\nh\\nf*\\n1073 15566.5 m\\n28.5 0 51 -15 69 -45 c\\n18 -28.5 27 -60 27 -91.5 c\\n0 -24 -7.5 -45 -21 -64.5 c\\n-21 -28.5 -54 -43.5 -97.5 -43.5 c\\n-55.5 0 -105 34.5 -148.5 105 c\\n-22.5 37.5 -43.5 84 -61.5 139.5 c\\nh\\n1101.5 15191.5 m\\n45 0 82.5 15 111 46.5 c\\n30 30 45 66 45 108 c\\n0 40.5 -13.5 82.5 -39 127.5 c\\n-16.5 25.5 -40.5 57 -72 94.5 c\\n30 1.5 55.5 9 76.5 24 c\\n22.5 15 33 39 33 73.5 c\\n0 27 -9 55.5 -27 82.5 c\\n-12 18 -27 36 -46.5 51 c\\n-40.5 0 p\\n15 -18 24 -30 27 -37.5 c\\n4.5 -7.5 6 -16.5 6 -28.5 c\\n0 -19.5 -10.5 -33 -31.5 -39 c\\n-10.5 -4.5 -30 -6 -58.5 -6 c\\n-292.5 0 p\\n-64.5 0 -114 -9 -148.5 -27 c\\n-61.5 -33 -91.5 -97.5 -91.5 -192 c\\n0 -82.5 18 -144 55.5 -186 c\\n37.5 -42 73.5 -63 108 -63 c\\n16.5 0 33 6 48 18 c\\n13.5 12 21 28.5 21 49.5 c\\n0 15 -3 27 -9 37.5 c\\n-12 18 -30 27 -57 27 c\\n-4.5 0 -13.5 -1.5 -27 -3 c\\n-15 -3 -24 -4.5 -30 -4.5 c\\n-22.5 0 -40.5 10.5 -54 33 c\\n-13.5 22.5 -19.5 46.5 -19.5 72 c\\n0 51 16.5 85.5 49.5 102 c\\n19.5 10.5 54 15 103.5 15 c\\n63 0 p\\n49.5 -135 90 -223.5 120 -268.5 c\\n46.5 -70.5 105 -106.5 177 -106.5 c\\nh\\nf*\\n566 15829 22.5 0 P\\n3 24 9 42 18 54 c\\n15 19.5 45 39 88.5 57 c\\n535.5 225 p\\n9 4.5 16.5 7.5 21 10.5 c\\n6 4.5 9 7.5 9 13.5 c\\n0 4.5 -1.5 7.5 -4.5 10.5 c\\n-4.5 1.5 -10.5 4.5 -19.5 9 c\\n-528 211.5 p\\n-49.5 19.5 -82.5 36 -96 46.5 c\\n-13.5 10.5 -22.5 27 -24 51 c\\n-22.5 0 0 -208.5 ^ p\\n1.5 19.5 4.5 33 9 45 c\\n7.5 18 22.5 27 40.5 27 c\\n9 0 22.5 -3 40.5 -9 c\\n18 -6 34.5 -12 51 -18 c\\n325.5 -130.5 -369 -154.5 p\\n-13.5 -4.5 -24 -9 -31.5 -10.5 c\\n-7.5 -3 -13.5 -3 -22.5 -3 c\\n-16.5 0 -27 4.5 -31.5 15 c\\n-4.5 10.5 -9 28.5 -12 54 c\\n-22.5 0 h\\nf*\\n560 16895.5 m\\n0 -93 36 -168 106.5 -226.5 c\\n72 -58.5 156 -87 255 -87 c\\n90 0 169.5 25.5 240 75 c\\n69 49.5 103.5 121.5 103.5 213 c\\n0 79.5 -27 147 -79.5 201 c\\n-52.5 55.5 -109.5 93 -172.5 112.5 c\\n-9 -25.5 p\\n49.5 -30 87 -61.5 114 -97.5 c\\n27 -34.5 40.5 -78 40.5 -129 c\\n0 -63 -25.5 -117 -78 -163.5 c\\n-51 -46.5 -133.5 -72 -246 -76.5 c\\n0 462 p\\n-87 0 -154.5 -25.5 -202.5 -78 c\\n-48 -51 -72 -111 -72 -180 c\\nh\\n614 16853.5 m\\n0 55.5 21 96 64.5 120 c\\n24 12 60 21 109.5 27 c\\n0 -306 p\\n-40.5 6 -73.5 18 -100.5 33 c\\n-49.5 30 -73.5 72 -73.5 126 c\\nh\\nf*\\n1385 17740 m\\n-27 0 -55.5 12 -87 34.5 c\\n-31.5 24 -46.5 37.5 -46.5 43.5 c\\n3 12 6 30 9 54 c\\n3 24 6 40.5 6 51 c\\n1.5 16.5 1.5 34.5 3 55.5 c\\n0 19.5 1.5 39 1.5 57 c\\n1.5 70.5 4.5 118.5 10.5 144 c\\n10.5 40.5 33 61.5 66 61.5 c\\n40.5 0 75 -25.5 103.5 -76.5 c\\n28.5 -51 42 -115.5 42 -196.5 c\\n0 -60 -7.5 -112.5 -24 -159 c\\n-15 -46.5 -43.5 -69 -84 -69 c\\nh\\n1002.5 17836 m\\n48 -55.5 84 -91.5 105 -108 c\\n22.5 -16.5 42 -25.5 60 -25.5 c\\n19.5 0 37.5 9 52.5 28.5 c\\n9 12 16.5 28.5 25.5 51 c\\n9 -9 43.5 -48 p\\n33 -37.5 57 -61.5 75 -75 c\\n16.5 -12 33 -18 51 -18 c\\n36 0 69 24 102 70.5 c\\n31.5 46.5 48 109.5 48 190.5 c\\n0 87 -22.5 174 -69 261 c\\n-45 85.5 -106.5 129 -184.5 129 c\\n-75 0 -124.5 -37.5 -147 -111 c\\n-13.5 -45 -21 -129 -21 -255 c\\n0 -27 -3 -52.5 -7.5 -75 c\\n-7.5 -34.5 -19.5 -51 -34.5 -51 c\\n-15 0 -34.5 12 -58.5 34.5 c\\n-24 24 -36 42 -36 57 c\\n4.5 31.5 6 54 6 66 c\\n0 78 -24 139.5 -70.5 186 c\\n-46.5 46.5 -97.5 69 -153 69 c\\n-25.5 0 -52.5 -4.5 -81 -12 c\\n-15 -6 -33 -12 -52.5 -21 c\\n0 127.5 -60 0 0 -9 p\\n0 -9 0 -24 1.5 -45 c\\n0 -21 0 -36 0 -46.5 c\\n0 -40.5 -7.5 -81 -24 -124.5 c\\n-16.5 -42 -25.5 -82.5 -25.5 -117 c\\n0 -84 25.5 -147 76.5 -193.5 c\\n52.5 -45 106.5 -67.5 163.5 -67.5 c\\n46.5 0 88.5 12 126 37.5 c\\n37.5 24 64.5 58.5 79.5 103.5 c\\nh\\n987.5 17974 m\\n0 -45 -24 -82.5 -70.5 -111 c\\n-48 -28.5 -102 -43.5 -160.5 -43.5 c\\n-36 0 -66 4.5 -90 13.5 c\\n-45 18 -67.5 51 -67.5 99 c\\n0 55.5 28.5 94.5 87 117 c\\n58.5 24 111 36 157.5 36 c\\n58.5 0 99 -15 121.5 -43.5 c\\n15 -18 22.5 -40.5 22.5 -67.5 c\\nh\\nf*\\n1073 18773.5 m\\n28.5 0 51 -15 69 -45 c\\n18 -28.5 27 -60 27 -91.5 c\\n0 -24 -7.5 -45 -21 -64.5 c\\n-21 -28.5 -54 -43.5 -97.5 -43.5 c\\n-55.5 0 -105 34.5 -148.5 105 c\\n-22.5 37.5 -43.5 84 -61.5 139.5 c\\nh\\n1101.5 18398.5 m\\n45 0 82.5 15 111 46.5 c\\n30 30 45 66 45 108 c\\n0 40.5 -13.5 82.5 -39 127.5 c\\n-16.5 25.5 -40.5 57 -72 94.5 c\\n30 1.5 55.5 9 76.5 24 c\\n22.5 15 33 39 33 73.5 c\\n0 27 -9 55.5 -27 82.5 c\\n-12 18 -27 36 -46.5 51 c\\n-40.5 0 p\\n15 -18 24 -30 27 -37.5 c\\n4.5 -7.5 6 -16.5 6 -28.5 c\\n0 -19.5 -10.5 -33 -31.5 -39 c\\n-10.5 -4.5 -30 -6 -58.5 -6 c\\n-292.5 0 p\\n-64.5 0 -114 -9 -148.5 -27 c\\n-61.5 -33 -91.5 -97.5 -91.5 -192 c\\n0 -82.5 18 -144 55.5 -186 c\\n37.5 -42 73.5 -63 108 -63 c\\n16.5 0 33 6 48 18 c\\n13.5 12 21 28.5 21 49.5 c\\n0 15 -3 27 -9 37.5 c\\n-12 18 -30 27 -57 27 c\\n-4.5 0 -13.5 -1.5 -27 -3 c\\n-15 -3 -24 -4.5 -30 -4.5 c\\n-22.5 0 -40.5 10.5 -54 33 c\\n-13.5 22.5 -19.5 46.5 -19.5 72 c\\n0 51 16.5 85.5 49.5 102 c\\n19.5 10.5 54 15 103.5 15 c\\n63 0 p\\n49.5 -135 90 -223.5 120 -268.5 c\\n46.5 -70.5 105 -106.5 177 -106.5 c\\nh\\nf*\\n1110.5 19247.5 -366 0 P\\n-22.5 0 -43.5 15 -66 45 c\\n-22.5 30 -33 63 -33 99 c\\n0 52.5 22.5 97.5 66 136.5 c\\n45 39 111 58.5 201 58.5 c\\n93 0 166.5 -19.5 219 -57 c\\n52.5 -37.5 78 -82.5 78 -135 c\\n0 -34.5 -7.5 -64.5 -24 -90 c\\n-16.5 -25.5 -42 -43.5 -75 -57 c\\nh\\n1574 19016.5 0 360 -25.5 0 P\\n-4.5 -54 -12 -88.5 -22.5 -105 c\\n-12 -16.5 -42 -24 -91.5 -24 c\\n-241.5 0 p\\n28.5 27 46.5 55.5 57 87 c\\n7.5 19.5 10.5 43.5 10.5 70.5 c\\n0 88.5 -39 162 -118.5 220.5 c\\n-79.5 58.5 -168 88.5 -265.5 88.5 c\\n-99 0 -178.5 -24 -235.5 -73.5 c\\n-57 -48 -85.5 -106.5 -85.5 -174 c\\n0 -46.5 13.5 -91.5 40.5 -135 c\\n16.5 -25.5 40.5 -52.5 72 -85.5 c\\n-99 0 p\\n-3 0 -4.5 0 -7.5 -1.5 c\\n-1.5 -1.5 -3 -3 -3 -6 c\\n33 -94.5 49.5 -144 51 -147 c\\n22.5 -69 24 0 p\\n-1.5 9 -3 15 -3 19.5 c\\n0 4.5 0 10.5 0 15 c\\n0 25.5 4.5 42 15 51 c\\n10.5 9 34.5 13.5 72 13.5 c\\n702 0 p\\n36 0 61.5 -6 78 -18 c\\n16.5 -13.5 27 -42 30 -87 c\\nh\\nf*\\n1 i\\n5436.81 323.334 0 0 re\\nf\\n255 39 0 rG\\n5513.18 1026.17 m\\n57.13 168.33 216.72 170.83 232.82 170.83 c\\n221.19 0 237.96 -257 237.96 -373 c\\n0 -89.34 -7.61 -114.25 -18.23 -143.59 c\\n-32.23 -106.83 -76.18 -276.83 -76.18 -314.83 c\\n0 -16.08 7.33 -25.92 19 -25.92 c\\n19.08 0 30.81 32 46.92 87.33 c\\n33.69 123.08 48.34 206.58 54.2 252 c\\n2.93 19 5.82 38.17 11.68 57.09 c\\n46.88 145.08 140.59 363.25 199.18 478.91 c\\n10.25 17.5 27.83 49.75 27.83 55.58 c\\n0 14.67 -14.65 16.5 -17.58 16.5 c\\n-4.39 0 -13.18 -1.83 -17.53 -11.92 c\\n-75.85 -139.25 -134.2 -285.67 -192.47 -433.58 c\\n-1.47 45.42 -3.01 156.75 -60.87 298.83 c\\n-35.19 89.33 -93.71 162.75 -194.82 162.75 c\\n-183.02 0 -285.61 -223.92 -285.61 -269.67 c\\n0 -14.67 13.22 -14.67 27.83 -14.67 c\\n5.86 7.33 p f*\\n7706.13 850.08 m\\n20.51 0 50.01 -1.25 50.01 28 c\\n0 29.33 -28.77 29.25 -51.47 29.25 c\\n-874.35 0 p\\n-21.97 0 -50.13 0.17 -50.13 -29.25 c\\n0 -29.25 27.99 -28 48.67 -28 c\\n877.28 0 h\\n7704.68 1131.83 m\\n21.97 0 51.47 1.16 51.47 30.42 c\\n0 29.25 -28.81 26.83 -50.01 26.83 c\\n-877.23 0 p\\n-20.51 0 -48.67 2.5 -48.67 -26.83 c\\n0 -29.25 27.99 -30.42 50.13 -30.42 c\\n874.31 0 p f*\\n8610.83 654.58 m\\n-57.17 0 -143.58 36.42 -169.92 176.75 c\\n-16.17 87.83 -15.08 222.59 -15.08 309 c\\n0 93.67 -1 190.42 10.67 269.5 c\\n27.83 174.25 137.67 187.5 174.33 187.5 c\\n48.33 0 145 -26.33 172.83 -171.42 c\\n14.67 -82.08 13.75 -193.42 13.75 -285.67 c\\n0 -109.75 0.83 -209.42 -15.25 -303.17 c\\n-22 -139.08 -105.42 -182.5 -171.33 -182.5 c\\nh\\n8919.92 1122.75 m\\n0 117.08 -7.33 234.25 -58.75 342.67 c\\n-67.33 140.67 -187.42 164.58 -248.92 164.58 c\\n-87.83 0 -194.75 -38.25 -254.83 -174.83 c\\n-46.87 -101.08 -54.12 -215.33 -54.12 -332.42 c\\n0 -109.83 5.83 -241.58 65.78 -352.92 c\\n63 -118.67 169.92 -148 241.75 -148 c\\n79.08 0 190.33 30.75 254.75 169.92 c\\n46.92 101.08 54.33 215.17 54.33 331 c\\nf*\\nK\\n15478.3 326.584 0 0 re\\nf\\n0 63 255 rG\\n15583.2 1021.17 m\\n57.17 168.5 216.83 170.92 232.83 170.92 c\\n221.17 0 238 -257 238 -372.92 c\\n0 -89.33 -7.58 -114.25 -18.17 -143.5 c\\n-32.33 -106.92 -76.25 -276.92 -76.25 -314.92 c\\n0 -16.17 7.33 -25.91 19 -25.91 c\\n19.08 0 30.75 32.08 46.92 87.5 c\\n33.67 123 48.33 206.42 54.17 251.83 c\\n2.92 19.08 5.83 38.08 11.75 57.17 c\\n46.83 145 140.5 363.17 199.08 478.83 c\\n10.33 17.66 27.83 49.75 27.83 55.67 c\\n0 14.67 -14.58 16.42 -17.5 16.42 c\\n-4.33 0 -13.25 -1.75 -17.67 -12 c\\n-75.67 -139.17 -134.08 -285.58 -192.33 -433.5 c\\n-1.5 45.42 -3 156.67 -61 298.83 c\\n-35.08 89.33 -93.67 162.75 -194.83 162.75 c\\n-182.92 0 -285.42 -224 -285.42 -269.67 c\\n0 -14.75 13.17 -14.75 27.75 -14.75 c\\n5.83 7.25 p f*\\n17776.2 845.25 m\\n20.58 0 50.08 -1.25 50.08 28 c\\n0 29.33 -28.83 29.08 -51.42 29.08 c\\n-874.33 0 p\\n-22 0 -50.25 0.25 -50.25 -29.08 c\\n0 -29.25 28.08 -28 48.75 -28 c\\n877.17 0 h\\n17774.8 1127 m\\n21.92 0 51.42 1.08 51.42 30.42 c\\n0 29.33 -28.83 26.66 -50.08 26.66 c\\n-877.17 0 p\\n-20.5 0 -48.67 2.75 -48.67 -26.66 c\\n0 -29.33 28 -30.42 50.17 -30.42 c\\n874.33 0 p f*\\n18700.2 1196.42 165.5 0 P\\n-48.42 -217.25 -63.58 -280.42 -63.58 -378.75 c\\n0 -21.92 2.08 -61.42 13.75 -111.33 c\\n14.75 -64.41 30.75 -73.17 52.83 -73.17 c\\n29.17 0 60 26.33 60 55.67 c\\n0 8.67 0 11.75 -8.75 32.25 c\\n-42.58 105.25 -42.58 200.58 -42.58 241.58 c\\n0 77.92 10.25 157.33 26.5 233.83 c\\n166.92 0 p\\n19 0 71.75 -1 71.75 48.83 c\\n0 35.17 -30.75 36.92 -58.67 36.92 c\\n-490.58 0 p\\n-32.25 0 -87.92 -1.75 -152.33 -70.67 c\\n-51.25 -57.08 -89.33 -124.5 -89.33 -131.83 c\\n0 -1.42 0 -14.5 17.58 -14.5 c\\n11.67 0 14.58 5.75 23.42 17.42 c\\n71.75 112.83 156.75 113.75 186 113.75 c\\n83.42 0 p\\n-46.75 -177.58 -125.83 -355.08 -187.42 -488.67 c\\n-11.67 -21.92 -11.67 -24.75 -11.67 -35 c\\n0 -27.92 23.42 -39.58 42.42 -39.58 c\\n43.92 0 55.67 41 73.17 95.17 c\\n20.5 67.42 20.5 70.33 39.58 143.5 c\\n82.08 324.58 p f*\\nK\\n19086.8 7212.17 0 0 re\\nf\\n19190.9 8691.92 m\\n0 20.92 0.17 49.42 -29.75 49.42 c\\n-29.92 0 -28.58 -28.42 -28.58 -49.42 c\\n0 -1395.75 p\\n0 -20.92 -1.33 -50.67 28.58 -50.67 c\\n29.83 0 29.75 29.17 29.75 50.67 c\\n0 1395.75 p f*\\n20314.8 8484.25 m\\n15 61.17 41.83 106.08 161.42 110.58 c\\n7.42 0 25.42 1.5 25.42 29.83 c\\n0 1.5 0 16.67 -19.5 16.67 c\\n-49.33 0 -101.58 -4.5 -152.33 -4.5 c\\n-50.83 0 -106.08 4.5 -155.42 4.5 c\\n-9 0 -26.92 -0.17 -26.92 -30.08 c\\n0 -16.42 14.92 -15.75 26.92 -15.75 c\\n85.08 -1.58 101.67 -33.25 101.67 -66.42 c\\n0 -4.5 -3.08 -26.92 -4.58 -31.42 c\\n-134.42 -533.42 p\\n-50.92 -200.33 -222.67 -330.83 -372.17 -330.83 c\\n-101.67 0 -182.33 65.92 -182.33 194.83 c\\n0 2.92 0 50.75 16.42 116.5 c\\n145 581.33 p\\n13.5 53.75 16.5 69.42 125.58 69.42 c\\n38.75 0 50.75 -0.67 50.75 29.17 c\\n0 16.5 -16.42 16.67 -20.92 16.67 c\\n-41.83 0 -149.42 -4.5 -191.25 -4.5 c\\n-43.33 0 -149.5 4.5 -192.83 4.5 c\\n-11.92 0 -30 -0.17 -30 -30.08 c\\n0 -16.42 14 -15.75 43.5 -15.75 c\\n3 0 31.42 -0.67 56.75 -3.67 c\\n26.92 -3 40.33 -4.5 40.33 -23.92 c\\n0 -9 -16.5 -71.83 -25.42 -106.17 c\\n-32.83 -131.5 p\\n-13.5 -58.25 -85.25 -340.67 -91.17 -369.08 c\\n-10.5 -41.75 -10.5 -64.25 -10.5 -86.67 c\\n0 -182.33 136.08 -286.92 292.92 -286.92 c\\n188.33 0 373.58 168.83 422.92 366.17 c\\n133 530.5 p f*\\n20786.8 8691.92 m\\n0 20.92 0.08 49.42 -29.75 49.42 c\\n-29.92 0 -28.58 -28.42 -28.58 -49.42 c\\n0 -1395.75 p\\n0 -20.92 -1.25 -50.67 28.58 -50.67 c\\n29.83 0 29.75 29.17 29.75 50.67 c\\n0 1395.75 p f*\\n3838.13 11806.6 0 0 re\\nf\\n255 39 0 rG\\n4908.93 12343.2 m\\n0 31.42 -8.06 49.42 -22.62 49.42 c\\n-15.17 0 -19.69 -24.92 -21.23 -40.42 c\\n-7.49 -153.92 -114.91 -224.75 -205.89 -224.75 c\\n-94.16 0 -155.44 53.5 -266.03 151.58 c\\n-95.62 85.08 -161.37 115.08 -231.61 115.08 c\\n-155.44 0 -248.42 -159.17 -248.42 -301.92 c\\n0 -35.92 10.63 -46.58 21.28 -46.58 c\\n16.48 0 22.63 28.83 22.63 33.17 c\\n7.4 173.33 125.98 232 204.51 232 c\\n94.16 0 155.43 -54.42 266.03 -154.33 c\\n95.62 -85.17 161.38 -112.33 231.61 -112.33 c\\n155.43 0 249.75 157.75 249.75 299.08 c\\nf*\\n5721.27 12322.2 m\\n41.83 -25.33 112.1 -70.17 183.83 -116.5 c\\n41.83 -28.42 112.18 -73.25 112.18 -164.42 c\\n0 -110.58 -112.1 -188.42 -234.74 -188.42 c\\n-128.5 0 -236.08 92.75 -236.08 216.83 c\\n0 86.67 47.85 182.42 174.81 252.58 c\\n0 -0.08 h\\n5870.68 12385 m\\n107.59 55.33 179.93 133 179.93 231.67 c\\n0 137.5 -132.53 223.25 -268.07 223.25 c\\n-149.45 0 -269.45 -110.83 -269.45 -250.17 c\\n0 -26.92 3.02 -94.08 64.74 -164.33 c\\n16.48 -17.92 71.73 -55.25 109.09 -80.75 c\\n-86.68 -43.25 -215.5 -127 -215.5 -274.92 c\\n0 -158.42 152.59 -258.5 309.62 -258.5 c\\n168.86 0 311.23 124 311.23 283.92 c\\n0 53.75 -16.52 121 -73.61 183.75 c\\n-28.36 31.42 -52.28 46.33 -147.99 106.08 c\\nh\\n5652.55 12527 m\\n-68.72 44.83 -72.76 95.67 -72.76 121.08 c\\n0 91.08 96.23 154.25 201.26 154.25 c\\n109.08 0 202.92 -77.83 202.92 -185.67 c\\n0 -85.25 -57.53 -156.92 -146.16 -209.25 c\\n-185.26 119.58 p f*\\n6364.02 12223.2 m\\n58.27 226.17 212.2 249.75 251.06 249.75 c\\n70.23 0 110.51 -43.83 110.51 -95.42 c\\n0 -155.42 -239.09 -154.33 -300.33 -154.33 c\\n-61.23 0 h\\n6434.24 12189.9 m\\n43.34 0 153.93 2.92 228.64 33.75 c\\n104.62 44.83 112.75 133 112.75 153.92 c\\n0 65.75 -57.05 128.75 -160.56 128.75 c\\n-165.9 0 -393.64 -145.58 -393.64 -408.17 c\\n0 -152.42 88.95 -270.5 236.7 -270.5 c\\n213.7 0 339.23 158.42 339.23 176.33 c\\n0 9 -9 19.42 -17.95 19.42 c\\n-7.44 0 -10.46 -3 -19.41 -14.92 c\\n-118.04 -148 -280.97 -147.58 -298.91 -147.58 c\\n-116.53 0 -131.31 125.25 -131.31 172.92 c\\n0 18 1.59 64.5 25.27 156.08 c\\n79.18 0 p f*\\n7632 12802.4 m\\n13.67 0 39.47 -1 39.47 24 c\\n0 26.17 -24.49 26 -39.47 26 c\\n-629.73 0 p\\n-14.6 0 -39.14 0.17 -39.14 -26 c\\n0 -25.08 25.39 -24 39.14 -24 c\\n629.73 0 p f*\\n9211.58 13113.3 -31.42 0 P\\n-2.25 -14.25 -9.75 -60.58 -21.67 -68.08 c\\n-6 -4.42 -68.75 -5.33 -80 -5.33 c\\n-146.33 0 p\\n49.25 36.92 104.5 79.17 149.42 109.25 c\\n67.17 46.33 131.58 89.75 131.58 168.92 c\\n0 95.58 -91.17 146.83 -198.83 146.83 c\\n-100.92 0 -176.17 -57.5 -176.17 -129.67 c\\n0 -38.92 33.83 -45.33 44.67 -45.33 c\\n20.17 0 42.75 13.42 42.75 43.75 c\\n0 26.92 -18.83 41.83 -41.33 44.17 c\\n21 33.58 64.33 53.75 114.33 53.75 c\\n72.58 0 135.33 -42.5 135.33 -114.25 c\\n0 -62.83 -44.25 -110.58 -103.17 -159.17 c\\n-182.25 -154.75 p\\n-8.67 -6.67 -9.5 -6.67 -10.33 -11.92 c\\n0 -22.42 348.75 0 24.67 144.25 p f*\\nQ q\\n3879.64 11806.6 6208.36 1666.67 re\\nY\\n101.61 w\\n255 39 0 rG\\n7964.93 12828.3 2119.57 0 S\\nQ q\\n0 0 23856.5 25452.5 re\\nY\\n255 39 0 rG\\n8489.92 12455.2 m\\n13.5 0 20.92 0 31.42 7.42 c\\n4.5 4.58 11.83 15 11.83 25.5 c\\n0 23.92 -22.33 22.67 -35 22.67 c\\n-320.59 0 p\\n-16.44 0 -49.97 1.25 -94.07 -36.17 c\\n-20.18 -17.92 -53.87 -56 -53.87 -65 c\\n0 -10.5 10.49 -10.5 14.98 -10.5 c\\n10.49 0 10.49 0.75 16.43 7.5 c\\n25.48 32.17 61.37 48.58 106.93 48.58 c\\n52.98 0 p\\n-26.94 -93.42 -65.02 -171.08 -91.15 -218.17 c\\n-11.23 -19.42 -11.23 -20.92 -11.23 -28.42 c\\n0 -17.17 13.43 -26.83 28.4 -26.83 c\\n31.41 0 41.82 34.33 59.08 94.83 c\\n17.08 58.33 30.59 112.08 47.77 178.58 c\\n97.93 0 p\\n-3 -11.25 -21.92 -92.67 -21.92 -151.67 c\\n0 -51.5 18 -121.75 49.58 -121.75 c\\n17.92 0 38.83 17.08 38.83 36.58 c\\n0 8.17 -3.08 12 -8.25 20.92 c\\n-34.33 56 -34.33 121.75 -34.33 135.25 c\\n0 25.42 3.75 55.33 8.08 80.67 c\\n106.17 0 p f*\\n8804.83 12719.7 m\\n0 10.42 0.33 32.75 -20.58 32.75 c\\n-20.92 0 -21.08 -21.5 -21.08 -32.75 c\\n0 -685.92 p\\n0 -10.42 0.17 -31.33 21.08 -31.33 c\\n20.92 0 20.58 20.67 20.58 31.33 c\\n0 685.92 p f*\\n9569.75 12615.1 m\\n5.25 20.92 12.75 49.33 80.75 51.5 c\\n5.92 0 19.42 0.83 19.42 20.92 c\\n0 3 -2.25 10.75 -12.67 10.75 c\\n-13.5 0 -29.17 -2.25 -42.67 -2.25 c\\n-13.5 0 -27.67 -0.75 -41.83 -0.75 c\\n-15 0 -29.17 0.75 -44.08 0.75 c\\n-13.42 0 -29.17 2.25 -41.83 2.25 c\\n-5.25 0 -17.92 2 -17.92 -18.92 c\\n0 -12.75 11.25 -12.75 18.75 -12.75 c\\n49.25 -0.67 52.25 -16.42 52.25 -29.08 c\\n0 -3.75 -0.75 -6.67 -1.5 -10.42 c\\n-15.83 -62 -56.08 -226.42 -67.33 -269.83 c\\n-22.33 -79.17 -110.58 -150.08 -215.25 -150.08 c\\n-43.25 0 -117.67 14.92 -117.67 102.33 c\\n0 16.42 1.58 32.17 4.17 47.83 c\\n70.25 279.5 p\\n6 23.92 7.5 29.83 64.25 29.83 c\\n19.42 0 20.92 0 23.92 2.25 c\\n4.5 4.5 6.67 13.5 6.67 18.67 c\\n0 1.5 -0.67 10.67 -13.5 10.67 c\\n-15.58 0 -33.5 -2.17 -49.92 -2.17 c\\n-17.92 0 -36.67 -0.83 -54.58 -0.83 c\\n-18.67 0 -36.58 0.83 -55.33 0.83 c\\n-17.17 0 -35.75 2.17 -52.25 2.17 c\\n-5.25 0 -18.67 2.08 -18.67 -18.83 c\\n0 -12.75 8.92 -12.75 27.67 -12.75 c\\n7.5 0 32.08 0 47.83 -4.42 c\\n0 -9.83 0 -11.25 -0.83 -15 c\\n-2.25 -8.25 -22.33 -88.25 -26.83 -104.67 c\\n-15 -62 -31.42 -122.58 -45.58 -184.58 c\\n-2.25 -8.92 -3.75 -22.33 -3.75 -31.33 c\\n0 -84.42 75.42 -153.17 190.42 -153.17 c\\n115.92 0 227.25 81.5 253.33 185.33 c\\n64.33 256.25 p f*\\n9933.92 12719.7 m\\n0 10.42 0.42 32.75 -20.5 32.75 c\\n-20.92 0 -21.17 -21.5 -21.17 -32.75 c\\n0 -685.92 p\\n0 -10.42 0.17 -31.33 21.17 -31.33 c\\n20.92 0 20.5 20.67 20.5 31.33 c\\n0 685.92 p f*\\nK\\n13627.3 14366.1 0 0 re\\nf\\n0 63 255 rG\\n14694 15273.6 m\\n0 31.33 -8.08 49.25 -22.58 49.25 c\\n-15.25 0 -19.83 -24.83 -21.25 -40.33 c\\n-7.5 -154 -114.92 -224.75 -205.92 -224.75 c\\n-94.17 0 -155.42 53.42 -266 151.5 c\\n-95.67 85.17 -161.42 115.08 -231.67 115.08 c\\n-155.42 0 -248.42 -159.17 -248.42 -301.83 c\\n0 -35.92 10.67 -46.67 21.33 -46.67 c\\n16.42 0 22.58 28.83 22.58 33.17 c\\n7.42 173.33 126 232 204.5 232 c\\n94.17 0 155.5 -54.33 266.08 -154.33 c\\n95.58 -85.08 161.25 -112.25 231.58 -112.25 c\\n155.42 0 249.75 157.67 249.75 299.17 c\\nf*\\n15431.6 15845.8 m\\n0 20.92 0.08 49.33 -29.83 49.33 c\\n-29.92 0 -28.5 -28.33 -28.5 -49.33 c\\n0 -1395.75 p\\n0 -20.92 -1.42 -50.75 28.5 -50.75 c\\n29.92 0 29.83 29.25 29.83 50.75 c\\n0 1395.75 p f*\\n16555.4 15638.2 m\\n15 61.17 41.83 106.08 161.5 110.58 c\\n7.33 0 25.33 1.42 25.33 29.83 c\\n0 1.5 0 16.58 -19.42 16.58 c\\n-49.33 0 -101.67 -4.42 -152.42 -4.42 c\\n-50.83 0 -106.08 4.42 -155.5 4.42 c\\n-8.92 0 -26.83 -0.17 -26.83 -30 c\\n0 -16.42 15 -15.83 26.83 -15.83 c\\n85.25 -1.5 101.67 -33.17 101.67 -66.33 c\\n0 -4.5 -3 -27 -4.42 -31.42 c\\n-134.58 -533.5 p\\n-50.75 -200.25 -222.67 -330.75 -372.08 -330.75 c\\n-101.58 0 -182.33 65.92 -182.33 194.75 c\\n0 3 0 50.83 16.5 116.58 c\\n144.92 581.25 p\\n13.58 53.83 16.5 69.42 125.58 69.42 c\\n38.83 0 50.83 -0.58 50.83 29.25 c\\n0 16.42 -16.58 16.58 -20.92 16.58 c\\n-41.83 0 -149.5 -4.42 -191.33 -4.42 c\\n-43.33 0 -149.42 4.42 -192.83 4.42 c\\n-11.92 0 -29.92 -0.17 -29.92 -30 c\\n0 -16.42 13.92 -15.83 43.42 -15.83 c\\n3 0 31.33 -0.58 56.83 -3.58 c\\n26.83 -3.08 40.25 -4.5 40.25 -24 c\\n0 -8.92 -16.42 -71.75 -25.33 -106.08 c\\n-32.92 -131.5 p\\n-13.5 -58.25 -85.17 -340.67 -91.25 -369.08 c\\n-10.42 -41.83 -10.42 -64.25 -10.42 -86.67 c\\n0 -182.33 136 -286.92 292.92 -286.92 c\\n188.33 0 373.67 168.83 422.92 366.08 c\\n133 530.58 p f*\\n17027.3 15845.8 m\\n0 20.92 0.17 49.33 -29.75 49.33 c\\n-29.92 0 -28.58 -28.33 -28.58 -49.33 c\\n0 -1395.75 p\\n0 -20.92 -1.33 -50.75 28.58 -50.75 c\\n29.83 0 29.75 29.25 29.75 50.75 c\\n0 1395.75 p f*\\n17862.6 15838.4 m\\n7.42 19.33 7.42 25.42 7.42 26.83 c\\n0 16.5 -13.42 29.92 -29.83 29.92 c\\n-10.5 0 -20.92 -4.42 -25.5 -13.5 c\\n-518.42 -1424.08 p\\n-7.5 -19.5 -7.5 -25.42 -7.5 -27 c\\n0 -16.42 13.42 -31.25 29.83 -31.25 c\\n19.5 0 23.92 10.83 32.92 37.25 c\\n511.08 1401.83 p f*\\n18623.3 15034.4 -37.33 0 P\\n-7.5 -44.83 -17.92 -110.58 -32.83 -133 c\\n-10.5 -12 -109.17 -10.33 -142 -10.33 c\\n-269 0 158.33 152.33 p\\n233.17 206.17 322.75 286.83 322.75 436.33 c\\n0 170.42 -134.5 290.5 -316.67 290.5 c\\n-169 0 -279.25 -137.83 -279.25 -271 c\\n0 -83.67 74.5 -83.17 78.92 -83.17 c\\n25.5 0 79.5 17.75 79.5 78.67 c\\n0 38.83 -27.5 79.67 -81 79.67 c\\n-11.92 0 -14.92 -2.08 -19.42 -3.5 c\\n34.42 97.17 115.08 153.5 201.75 153.5 c\\n136 0 198.58 -121.58 198.58 -244.67 c\\n0 -119.5 -73.92 -237.58 -155.17 -330.25 c\\n-287 -319.83 p\\n-16.42 -16.42 -16.17 -19.33 -16.17 -55.25 c\\n554.17 0 41.83 260 p f*\\n20019.2 15120.2 m\\n21 0 49.83 -2.17 49.83 27.75 c\\n0 29.83 -28.67 30.5 -49.83 30.5 c\\n-814.42 0 p\\n-20.83 0 -48.33 -0.67 -48.33 -30.5 c\\n0 -29.92 27.83 -27.75 48.33 -27.75 c\\n814.42 0 p f*\\n21198.3 15034.4 -37.25 0 P\\n-7.5 -44.83 -18 -110.58 -32.92 -133 c\\n-10.5 -12 -109.08 -10.33 -142 -10.33 c\\n-269 0 158.42 152.33 p\\n233.17 206.17 322.58 286.83 322.58 436.33 c\\n0 170.42 -134.33 290.5 -316.58 290.5 c\\n-168.92 0 -279.17 -137.83 -279.17 -271 c\\n0 -83.67 74.42 -83.17 78.83 -83.17 c\\n25.42 0 79.42 17.75 79.42 78.67 c\\n0 38.83 -27.42 79.67 -80.92 79.67 c\\n-11.92 0 -14.92 -2.08 -19.33 -3.5 c\\n34.33 97.17 115.08 153.5 201.67 153.5 c\\n136.08 0 198.67 -121.58 198.67 -244.67 c\\n0 -119.5 -74 -237.58 -155.33 -330.25 c\\n-286.83 -319.83 p\\n-16.42 -16.42 -16.17 -19.33 -16.17 -55.25 c\\n554.08 0 41.83 260 p f*\\n21929.2 15838.4 m\\n7.42 19.33 7.42 25.42 7.42 26.83 c\\n0 16.5 -13.42 29.92 -29.83 29.92 c\\n-10.42 0 -20.91 -4.42 -25.42 -13.5 c\\n-518.58 -1424.08 p\\n-7.42 -19.5 -7.42 -25.42 -7.42 -27 c\\n0 -16.42 13.5 -31.25 29.91 -31.25 c\\n19.33 0 23.92 10.83 32.92 37.25 c\\n511 1401.83 p f*\\n22256.6 15845.8 m\\n0 20.92 0.08 49.33 -29.83 49.33 c\\n-29.92 0 -28.58 -28.33 -28.58 -49.33 c\\n0 -1395.75 p\\n0 -20.92 -1.33 -50.75 28.58 -50.75 c\\n29.83 0 29.83 29.25 29.83 50.75 c\\n0 1395.75 p f*\\n23384.6 15638.2 m\\n15 61.17 41.83 106.08 161.42 110.58 c\\n7.5 0 25.33 1.42 25.33 29.83 c\\n0 1.5 0 16.58 -19.33 16.58 c\\n-49.33 0 -101.67 -4.42 -152.42 -4.42 c\\n-50.75 0 -106.08 4.42 -155.42 4.42 c\\n-9 0 -27 -0.17 -27 -30 c\\n0 -16.42 15 -15.83 27 -15.83 c\\n85.17 -1.5 101.58 -33.17 101.58 -66.33 c\\n0 -4.5 -3 -27 -4.5 -31.42 c\\n-134.5 -533.5 p\\n-50.75 -200.25 -222.58 -330.75 -372 -330.75 c\\n-101.67 0 -182.33 65.92 -182.33 194.75 c\\n0 3 0 50.83 16.42 116.58 c\\n145 581.25 p\\n13.42 53.83 16.42 69.42 125.5 69.42 c\\n38.75 0 50.83 -0.58 50.83 29.25 c\\n0 16.42 -16.42 16.58 -21 16.58 c\\n-41.83 0 -149.42 -4.42 -191.25 -4.42 c\\n-43.33 0 -149.42 4.42 -192.83 4.42 c\\n-11.92 0 -30 -0.17 -30 -30 c\\n0 -16.42 14 -15.83 43.5 -15.83 c\\n3 0 31.42 -0.58 56.75 -3.58 c\\n27 -3.08 40.42 -4.5 40.42 -24 c\\n0 -8.92 -16.5 -71.75 -25.42 -106.08 c\\n-32.92 -131.5 p\\n-13.5 -58.25 -85.16 -340.67 -91.17 -369.08 c\\n-10.5 -41.83 -10.5 -64.25 -10.5 -86.67 c\\n0 -182.33 136.09 -286.92 292.92 -286.92 c\\n188.33 0 373.58 168.83 423 366.08 c\\n132.92 530.58 p f*\\n23856.5 15845.8 m\\n0 20.92 0.17 49.33 -29.75 49.33 c\\n-29.83 0 -28.5 -28.33 -28.5 -49.33 c\\n0 -1395.75 p\\n0 -20.92 -1.34 -50.75 28.5 -50.75 c\\n29.83 0 29.75 29.25 29.75 50.75 c\\n0 1395.75 p f*\\ncleartomark end end pagesave restore showpage\\n%%PageTrailer\\n%%Trailer\\n%%Pages: 1\\n%%EOF\\n'"
      ]
     },
     "execution_count": 41,
     "metadata": {},
     "output_type": "execute_result"
    }
   ],
   "source": [
    "content"
   ]
  },
  {
   "cell_type": "code",
   "execution_count": 42,
   "metadata": {},
   "outputs": [],
   "source": [
    "# This doesn't help me. My best bet might be to download the HTML. However there is no HTML for that one"
   ]
  },
  {
   "cell_type": "code",
   "execution_count": 45,
   "metadata": {},
   "outputs": [
    {
     "data": {
      "text/plain": [
       "[{'doi': 'http://dx.doi.org/10.1103/PhysRevB.82.073105',\n",
       "  'default': 'http://arxiv.org/abs/1003.4735v1',\n",
       "  'pdf': 'http://arxiv.org/pdf/1003.4735v1'},\n",
       " {'doi': 'http://dx.doi.org/10.1103/PhysRevD.75.096004',\n",
       "  'default': 'http://arxiv.org/abs/hep-ph/0703159v3',\n",
       "  'pdf': 'http://arxiv.org/pdf/hep-ph/0703159v3'},\n",
       " {'doi': 'http://dx.doi.org/10.1103/PhysRevA.82.063607',\n",
       "  'default': 'http://arxiv.org/abs/1110.3417v1',\n",
       "  'pdf': 'http://arxiv.org/pdf/1110.3417v1'},\n",
       " {'default': 'http://arxiv.org/abs/1505.04820v1',\n",
       "  'pdf': 'http://arxiv.org/pdf/1505.04820v1'},\n",
       " {'doi': 'http://dx.doi.org/10.1088/0256-307X/36/10/107404',\n",
       "  'default': 'http://arxiv.org/abs/1908.11126v1',\n",
       "  'pdf': 'http://arxiv.org/pdf/1908.11126v1'},\n",
       " {'default': 'http://arxiv.org/abs/2411.15510v1',\n",
       "  'pdf': 'http://arxiv.org/pdf/2411.15510v1'},\n",
       " {'doi': 'http://dx.doi.org/10.3390/condmat6040049',\n",
       "  'default': 'http://arxiv.org/abs/2204.03590v1',\n",
       "  'pdf': 'http://arxiv.org/pdf/2204.03590v1'},\n",
       " {'default': 'http://arxiv.org/abs/cond-mat/0504775v2',\n",
       "  'pdf': 'http://arxiv.org/pdf/cond-mat/0504775v2'},\n",
       " {'doi': 'http://dx.doi.org/10.1103/PhysRevB.97.014528',\n",
       "  'default': 'http://arxiv.org/abs/1712.04666v1',\n",
       "  'pdf': 'http://arxiv.org/pdf/1712.04666v1'},\n",
       " {'doi': 'http://dx.doi.org/10.1103/PhysRevLett.106.110403',\n",
       "  'default': 'http://arxiv.org/abs/1011.3737v2',\n",
       "  'pdf': 'http://arxiv.org/pdf/1011.3737v2'}]"
      ]
     },
     "execution_count": 45,
     "metadata": {},
     "output_type": "execute_result"
    }
   ],
   "source": [
    "# Looks like none have HTML\n",
    "[paper[\"links\"] for paper in data[\"entries\"]]"
   ]
  },
  {
   "cell_type": "code",
   "execution_count": 46,
   "metadata": {},
   "outputs": [],
   "source": [
    "# I'll have to play the game of PDF parsing. I can do this with Claude actually\n",
    "# https://docs.anthropic.com/en/docs/build-with-claude/pdf-support\n",
    "\n",
    "import anthropic\n",
    "import base64\n",
    "import httpx\n",
    "\n",
    "# Load and encode the PDF\n",
    "pdf_url = \"https://assets.anthropic.com/m/1cd9d098ac3e6467/original/Claude-3-Model-Card-October-Addendum.pdf\"\n",
    "pdf_data = base64.standard_b64encode(httpx.get(pdf_url).content).decode(\"utf-8\")\n",
    "\n",
    "# Send to Claude\n",
    "client = anthropic.Anthropic()\n",
    "message = client.messages.create(\n",
    "    model=\"claude-3-5-sonnet-20241022\",\n",
    "    max_tokens=1024,\n",
    "    messages=[\n",
    "        {\n",
    "            \"role\": \"user\",\n",
    "            \"content\": [\n",
    "                {\n",
    "                    \"type\": \"document\",\n",
    "                    \"source\": {\n",
    "                        \"type\": \"base64\",\n",
    "                        \"media_type\": \"application/pdf\",\n",
    "                        \"data\": pdf_data\n",
    "                    }\n",
    "                },\n",
    "                {\n",
    "                    \"type\": \"text\",\n",
    "                    \"text\": \"What are the key findings in this document?\"\n",
    "                }\n",
    "            ]\n",
    "        }\n",
    "    ],\n",
    ")\n",
    "\n",
    "print(message.content)\n"
   ]
  },
  {
   "cell_type": "code",
   "execution_count": 7,
   "metadata": {},
   "outputs": [
    {
     "name": "stdout",
     "output_type": "stream",
     "text": [
      "Assistant: Hello! How can I assist you today?\n",
      "Assistant: Nice to meet you, Alex! How can I help you today?\n",
      "Assistant: Your name is Alex! How can I assist you further?\n",
      "Assistant: It looks like your message might have been empty. How can I assist you today?\n",
      "Goodbye!\n"
     ]
    }
   ],
   "source": [
    "# How to print state?\n",
    "\n",
    "from typing import Annotated\n",
    "\n",
    "from langchain_openai import ChatOpenAI\n",
    "from typing_extensions import TypedDict\n",
    "\n",
    "from langgraph.graph import StateGraph\n",
    "from langgraph.graph.message import add_messages\n",
    "from langgraph.checkpoint.memory import MemorySaver\n",
    "\n",
    "\n",
    "class State(TypedDict):\n",
    "    messages: Annotated[list, add_messages]\n",
    "\n",
    "graph_builder = StateGraph(State)\n",
    "\n",
    "config = {\"configurable\": {\"thread_id\": \"1\"}}\n",
    "memory = MemorySaver()\n",
    "\n",
    "llm = ChatOpenAI(model=\"gpt-4o-mini\")\n",
    "\n",
    "\n",
    "def chatbot(state: State):\n",
    "    return {\"messages\": [llm.invoke(state[\"messages\"])]}\n",
    "\n",
    "\n",
    "# The first argument is the unique node name\n",
    "# The second argument is the function or object that will be called whenever\n",
    "# the node is used.\n",
    "graph_builder.add_node(\"chatbot\", chatbot)\n",
    "graph_builder.set_entry_point(\"chatbot\")\n",
    "graph_builder.set_finish_point(\"chatbot\")\n",
    "graph = graph_builder.compile(checkpointer=memory)\n",
    "\n",
    "\n",
    "def stream_graph_updates(user_input: str):\n",
    "    for event in graph.stream({\"messages\": [{\"role\": \"user\", \"content\": user_input}]}, config):\n",
    "        for value in event.values():\n",
    "            print(\"Assistant:\", value[\"messages\"][-1].content)\n",
    "\n",
    "    snapshot = graph.get_state(config)\n",
    "    return snapshot\n",
    "\n",
    "while True:\n",
    "    user_input = input(\"User: \")\n",
    "    if user_input.lower() in [\"quit\", \"exit\", \"q\"]:\n",
    "        print(\"Goodbye!\")\n",
    "        break\n",
    "\n",
    "    snapshot = stream_graph_updates(user_input)\n"
   ]
  },
  {
   "cell_type": "code",
   "execution_count": 8,
   "metadata": {},
   "outputs": [
    {
     "data": {
      "text/plain": [
       "StateSnapshot(values={'messages': [HumanMessage(content='hey', additional_kwargs={}, response_metadata={}, id='971fd0d9-b8ad-4ba9-9478-f8b4df0eadb0'), AIMessage(content='Hello! How can I assist you today?', additional_kwargs={'refusal': None}, response_metadata={'token_usage': {'completion_tokens': 10, 'prompt_tokens': 8, 'total_tokens': 18, 'completion_tokens_details': {'accepted_prediction_tokens': 0, 'audio_tokens': 0, 'reasoning_tokens': 0, 'rejected_prediction_tokens': 0}, 'prompt_tokens_details': {'audio_tokens': 0, 'cached_tokens': 0}}, 'model_name': 'gpt-4o-mini-2024-07-18', 'system_fingerprint': 'fp_bd83329f63', 'finish_reason': 'stop', 'logprobs': None}, id='run-02e834d4-9a92-418a-8c5e-37acafb1a4e6-0', usage_metadata={'input_tokens': 8, 'output_tokens': 10, 'total_tokens': 18, 'input_token_details': {'audio': 0, 'cache_read': 0}, 'output_token_details': {'audio': 0, 'reasoning': 0}}), HumanMessage(content='im alex', additional_kwargs={}, response_metadata={}, id='948c8f94-1c3e-46dd-9ec3-b38f72b0d200'), AIMessage(content='Nice to meet you, Alex! How can I help you today?', additional_kwargs={'refusal': None}, response_metadata={'token_usage': {'completion_tokens': 15, 'prompt_tokens': 27, 'total_tokens': 42, 'completion_tokens_details': {'accepted_prediction_tokens': 0, 'audio_tokens': 0, 'reasoning_tokens': 0, 'rejected_prediction_tokens': 0}, 'prompt_tokens_details': {'audio_tokens': 0, 'cached_tokens': 0}}, 'model_name': 'gpt-4o-mini-2024-07-18', 'system_fingerprint': 'fp_72ed7ab54c', 'finish_reason': 'stop', 'logprobs': None}, id='run-121027d7-1d72-4da8-a6a6-cdee11eb64a2-0', usage_metadata={'input_tokens': 27, 'output_tokens': 15, 'total_tokens': 42, 'input_token_details': {'audio': 0, 'cache_read': 0}, 'output_token_details': {'audio': 0, 'reasoning': 0}}), HumanMessage(content='whats my name?', additional_kwargs={}, response_metadata={}, id='8af6822b-b47d-4555-9cd7-de51a4f232d6'), AIMessage(content='Your name is Alex! How can I assist you further?', additional_kwargs={'refusal': None}, response_metadata={'token_usage': {'completion_tokens': 13, 'prompt_tokens': 54, 'total_tokens': 67, 'completion_tokens_details': {'accepted_prediction_tokens': 0, 'audio_tokens': 0, 'reasoning_tokens': 0, 'rejected_prediction_tokens': 0}, 'prompt_tokens_details': {'audio_tokens': 0, 'cached_tokens': 0}}, 'model_name': 'gpt-4o-mini-2024-07-18', 'system_fingerprint': 'fp_bd83329f63', 'finish_reason': 'stop', 'logprobs': None}, id='run-dbdc0328-32f2-4d67-a29d-93778c5fb35d-0', usage_metadata={'input_tokens': 54, 'output_tokens': 13, 'total_tokens': 67, 'input_token_details': {'audio': 0, 'cache_read': 0}, 'output_token_details': {'audio': 0, 'reasoning': 0}}), HumanMessage(content='', additional_kwargs={}, response_metadata={}, id='1d540331-cf34-4ce7-8117-3a20b0eca31a'), AIMessage(content='It looks like your message might have been empty. How can I assist you today?', additional_kwargs={'refusal': None}, response_metadata={'token_usage': {'completion_tokens': 18, 'prompt_tokens': 74, 'total_tokens': 92, 'completion_tokens_details': {'accepted_prediction_tokens': 0, 'audio_tokens': 0, 'reasoning_tokens': 0, 'rejected_prediction_tokens': 0}, 'prompt_tokens_details': {'audio_tokens': 0, 'cached_tokens': 0}}, 'model_name': 'gpt-4o-mini-2024-07-18', 'system_fingerprint': 'fp_bd83329f63', 'finish_reason': 'stop', 'logprobs': None}, id='run-cf809287-cd8a-49fa-a95b-58498f53da32-0', usage_metadata={'input_tokens': 74, 'output_tokens': 18, 'total_tokens': 92, 'input_token_details': {'audio': 0, 'cache_read': 0}, 'output_token_details': {'audio': 0, 'reasoning': 0}})]}, next=(), config={'configurable': {'thread_id': '1', 'checkpoint_ns': '', 'checkpoint_id': '1efe16bb-6238-6710-800a-84873838bcfb'}}, metadata={'source': 'loop', 'writes': {'chatbot': {'messages': [AIMessage(content='It looks like your message might have been empty. How can I assist you today?', additional_kwargs={'refusal': None}, response_metadata={'token_usage': {'completion_tokens': 18, 'prompt_tokens': 74, 'total_tokens': 92, 'completion_tokens_details': {'accepted_prediction_tokens': 0, 'audio_tokens': 0, 'reasoning_tokens': 0, 'rejected_prediction_tokens': 0}, 'prompt_tokens_details': {'audio_tokens': 0, 'cached_tokens': 0}}, 'model_name': 'gpt-4o-mini-2024-07-18', 'system_fingerprint': 'fp_bd83329f63', 'finish_reason': 'stop', 'logprobs': None}, id='run-cf809287-cd8a-49fa-a95b-58498f53da32-0', usage_metadata={'input_tokens': 74, 'output_tokens': 18, 'total_tokens': 92, 'input_token_details': {'audio': 0, 'cache_read': 0}, 'output_token_details': {'audio': 0, 'reasoning': 0}})]}}, 'thread_id': '1', 'step': 10, 'parents': {}}, created_at='2025-02-02T13:43:40.530609+00:00', parent_config={'configurable': {'thread_id': '1', 'checkpoint_ns': '', 'checkpoint_id': '1efe16bb-51e4-6cc4-8009-7b3607e14ec6'}}, tasks=())"
      ]
     },
     "execution_count": 8,
     "metadata": {},
     "output_type": "execute_result"
    }
   ],
   "source": [
    "snapshot"
   ]
  },
  {
   "cell_type": "code",
   "execution_count": 13,
   "metadata": {},
   "outputs": [
    {
     "name": "stdout",
     "output_type": "stream",
     "text": [
      "snapshot.__add__\n",
      "snapshot.__annotations__\n",
      "snapshot.__class__\n",
      "snapshot.__class_getitem__\n",
      "snapshot.__contains__\n",
      "snapshot.__delattr__\n",
      "snapshot.__dir__\n",
      "snapshot.__doc__\n",
      "snapshot.__eq__\n",
      "snapshot.__format__\n",
      "snapshot.__ge__\n",
      "snapshot.__getattribute__\n",
      "snapshot.__getitem__\n",
      "snapshot.__getnewargs__\n",
      "snapshot.__getstate__\n",
      "snapshot.__gt__\n",
      "snapshot.__hash__\n",
      "snapshot.__init__\n",
      "snapshot.__init_subclass__\n",
      "snapshot.__iter__\n",
      "snapshot.__le__\n",
      "snapshot.__len__\n",
      "snapshot.__lt__\n",
      "snapshot.__match_args__\n",
      "snapshot.__module__\n",
      "snapshot.__mul__\n",
      "snapshot.__ne__\n",
      "snapshot.__new__\n",
      "snapshot.__orig_bases__\n",
      "snapshot.__reduce__\n",
      "snapshot.__reduce_ex__\n",
      "snapshot.__repr__\n",
      "snapshot.__rmul__\n",
      "snapshot.__setattr__\n",
      "snapshot.__sizeof__\n",
      "snapshot.__slots__\n",
      "snapshot.__str__\n",
      "snapshot.__subclasshook__\n",
      "snapshot.config\n",
      "snapshot.count\n",
      "snapshot.created_at\n",
      "snapshot.index\n",
      "snapshot.metadata\n",
      "snapshot.next\n",
      "snapshot.parent_config\n",
      "snapshot.tasks\n",
      "snapshot.values"
     ]
    }
   ],
   "source": [
    "snapshot.*?"
   ]
  },
  {
   "cell_type": "code",
   "execution_count": 16,
   "metadata": {},
   "outputs": [
    {
     "data": {
      "text/plain": [
       "{'messages': [HumanMessage(content='hey', additional_kwargs={}, response_metadata={}, id='971fd0d9-b8ad-4ba9-9478-f8b4df0eadb0'),\n",
       "  AIMessage(content='Hello! How can I assist you today?', additional_kwargs={'refusal': None}, response_metadata={'token_usage': {'completion_tokens': 10, 'prompt_tokens': 8, 'total_tokens': 18, 'completion_tokens_details': {'accepted_prediction_tokens': 0, 'audio_tokens': 0, 'reasoning_tokens': 0, 'rejected_prediction_tokens': 0}, 'prompt_tokens_details': {'audio_tokens': 0, 'cached_tokens': 0}}, 'model_name': 'gpt-4o-mini-2024-07-18', 'system_fingerprint': 'fp_bd83329f63', 'finish_reason': 'stop', 'logprobs': None}, id='run-02e834d4-9a92-418a-8c5e-37acafb1a4e6-0', usage_metadata={'input_tokens': 8, 'output_tokens': 10, 'total_tokens': 18, 'input_token_details': {'audio': 0, 'cache_read': 0}, 'output_token_details': {'audio': 0, 'reasoning': 0}}),\n",
       "  HumanMessage(content='im alex', additional_kwargs={}, response_metadata={}, id='948c8f94-1c3e-46dd-9ec3-b38f72b0d200'),\n",
       "  AIMessage(content='Nice to meet you, Alex! How can I help you today?', additional_kwargs={'refusal': None}, response_metadata={'token_usage': {'completion_tokens': 15, 'prompt_tokens': 27, 'total_tokens': 42, 'completion_tokens_details': {'accepted_prediction_tokens': 0, 'audio_tokens': 0, 'reasoning_tokens': 0, 'rejected_prediction_tokens': 0}, 'prompt_tokens_details': {'audio_tokens': 0, 'cached_tokens': 0}}, 'model_name': 'gpt-4o-mini-2024-07-18', 'system_fingerprint': 'fp_72ed7ab54c', 'finish_reason': 'stop', 'logprobs': None}, id='run-121027d7-1d72-4da8-a6a6-cdee11eb64a2-0', usage_metadata={'input_tokens': 27, 'output_tokens': 15, 'total_tokens': 42, 'input_token_details': {'audio': 0, 'cache_read': 0}, 'output_token_details': {'audio': 0, 'reasoning': 0}}),\n",
       "  HumanMessage(content='whats my name?', additional_kwargs={}, response_metadata={}, id='8af6822b-b47d-4555-9cd7-de51a4f232d6'),\n",
       "  AIMessage(content='Your name is Alex! How can I assist you further?', additional_kwargs={'refusal': None}, response_metadata={'token_usage': {'completion_tokens': 13, 'prompt_tokens': 54, 'total_tokens': 67, 'completion_tokens_details': {'accepted_prediction_tokens': 0, 'audio_tokens': 0, 'reasoning_tokens': 0, 'rejected_prediction_tokens': 0}, 'prompt_tokens_details': {'audio_tokens': 0, 'cached_tokens': 0}}, 'model_name': 'gpt-4o-mini-2024-07-18', 'system_fingerprint': 'fp_bd83329f63', 'finish_reason': 'stop', 'logprobs': None}, id='run-dbdc0328-32f2-4d67-a29d-93778c5fb35d-0', usage_metadata={'input_tokens': 54, 'output_tokens': 13, 'total_tokens': 67, 'input_token_details': {'audio': 0, 'cache_read': 0}, 'output_token_details': {'audio': 0, 'reasoning': 0}}),\n",
       "  HumanMessage(content='', additional_kwargs={}, response_metadata={}, id='1d540331-cf34-4ce7-8117-3a20b0eca31a'),\n",
       "  AIMessage(content='It looks like your message might have been empty. How can I assist you today?', additional_kwargs={'refusal': None}, response_metadata={'token_usage': {'completion_tokens': 18, 'prompt_tokens': 74, 'total_tokens': 92, 'completion_tokens_details': {'accepted_prediction_tokens': 0, 'audio_tokens': 0, 'reasoning_tokens': 0, 'rejected_prediction_tokens': 0}, 'prompt_tokens_details': {'audio_tokens': 0, 'cached_tokens': 0}}, 'model_name': 'gpt-4o-mini-2024-07-18', 'system_fingerprint': 'fp_bd83329f63', 'finish_reason': 'stop', 'logprobs': None}, id='run-cf809287-cd8a-49fa-a95b-58498f53da32-0', usage_metadata={'input_tokens': 74, 'output_tokens': 18, 'total_tokens': 92, 'input_token_details': {'audio': 0, 'cache_read': 0}, 'output_token_details': {'audio': 0, 'reasoning': 0}})]}"
      ]
     },
     "execution_count": 16,
     "metadata": {},
     "output_type": "execute_result"
    }
   ],
   "source": [
    "snapshot.values"
   ]
  },
  {
   "cell_type": "code",
   "execution_count": 17,
   "metadata": {},
   "outputs": [],
   "source": [
    "import json"
   ]
  },
  {
   "cell_type": "code",
   "execution_count": 18,
   "metadata": {},
   "outputs": [
    {
     "ename": "TypeError",
     "evalue": "Object of type HumanMessage is not JSON serializable",
     "output_type": "error",
     "traceback": [
      "\u001b[0;31m---------------------------------------------------------------------------\u001b[0m",
      "\u001b[0;31mTypeError\u001b[0m                                 Traceback (most recent call last)",
      "Cell \u001b[0;32mIn[18], line 1\u001b[0m\n\u001b[0;32m----> 1\u001b[0m \u001b[43mjson\u001b[49m\u001b[38;5;241;43m.\u001b[39;49m\u001b[43mdumps\u001b[49m\u001b[43m(\u001b[49m\u001b[43msnapshot\u001b[49m\u001b[38;5;241;43m.\u001b[39;49m\u001b[43mvalues\u001b[49m\u001b[43m)\u001b[49m\n",
      "File \u001b[0;32m/opt/homebrew/Cellar/python@3.12/3.12.7_1/Frameworks/Python.framework/Versions/3.12/lib/python3.12/json/__init__.py:231\u001b[0m, in \u001b[0;36mdumps\u001b[0;34m(obj, skipkeys, ensure_ascii, check_circular, allow_nan, cls, indent, separators, default, sort_keys, **kw)\u001b[0m\n\u001b[1;32m    226\u001b[0m \u001b[38;5;66;03m# cached encoder\u001b[39;00m\n\u001b[1;32m    227\u001b[0m \u001b[38;5;28;01mif\u001b[39;00m (\u001b[38;5;129;01mnot\u001b[39;00m skipkeys \u001b[38;5;129;01mand\u001b[39;00m ensure_ascii \u001b[38;5;129;01mand\u001b[39;00m\n\u001b[1;32m    228\u001b[0m     check_circular \u001b[38;5;129;01mand\u001b[39;00m allow_nan \u001b[38;5;129;01mand\u001b[39;00m\n\u001b[1;32m    229\u001b[0m     \u001b[38;5;28mcls\u001b[39m \u001b[38;5;129;01mis\u001b[39;00m \u001b[38;5;28;01mNone\u001b[39;00m \u001b[38;5;129;01mand\u001b[39;00m indent \u001b[38;5;129;01mis\u001b[39;00m \u001b[38;5;28;01mNone\u001b[39;00m \u001b[38;5;129;01mand\u001b[39;00m separators \u001b[38;5;129;01mis\u001b[39;00m \u001b[38;5;28;01mNone\u001b[39;00m \u001b[38;5;129;01mand\u001b[39;00m\n\u001b[1;32m    230\u001b[0m     default \u001b[38;5;129;01mis\u001b[39;00m \u001b[38;5;28;01mNone\u001b[39;00m \u001b[38;5;129;01mand\u001b[39;00m \u001b[38;5;129;01mnot\u001b[39;00m sort_keys \u001b[38;5;129;01mand\u001b[39;00m \u001b[38;5;129;01mnot\u001b[39;00m kw):\n\u001b[0;32m--> 231\u001b[0m     \u001b[38;5;28;01mreturn\u001b[39;00m \u001b[43m_default_encoder\u001b[49m\u001b[38;5;241;43m.\u001b[39;49m\u001b[43mencode\u001b[49m\u001b[43m(\u001b[49m\u001b[43mobj\u001b[49m\u001b[43m)\u001b[49m\n\u001b[1;32m    232\u001b[0m \u001b[38;5;28;01mif\u001b[39;00m \u001b[38;5;28mcls\u001b[39m \u001b[38;5;129;01mis\u001b[39;00m \u001b[38;5;28;01mNone\u001b[39;00m:\n\u001b[1;32m    233\u001b[0m     \u001b[38;5;28mcls\u001b[39m \u001b[38;5;241m=\u001b[39m JSONEncoder\n",
      "File \u001b[0;32m/opt/homebrew/Cellar/python@3.12/3.12.7_1/Frameworks/Python.framework/Versions/3.12/lib/python3.12/json/encoder.py:200\u001b[0m, in \u001b[0;36mJSONEncoder.encode\u001b[0;34m(self, o)\u001b[0m\n\u001b[1;32m    196\u001b[0m         \u001b[38;5;28;01mreturn\u001b[39;00m encode_basestring(o)\n\u001b[1;32m    197\u001b[0m \u001b[38;5;66;03m# This doesn't pass the iterator directly to ''.join() because the\u001b[39;00m\n\u001b[1;32m    198\u001b[0m \u001b[38;5;66;03m# exceptions aren't as detailed.  The list call should be roughly\u001b[39;00m\n\u001b[1;32m    199\u001b[0m \u001b[38;5;66;03m# equivalent to the PySequence_Fast that ''.join() would do.\u001b[39;00m\n\u001b[0;32m--> 200\u001b[0m chunks \u001b[38;5;241m=\u001b[39m \u001b[38;5;28;43mself\u001b[39;49m\u001b[38;5;241;43m.\u001b[39;49m\u001b[43miterencode\u001b[49m\u001b[43m(\u001b[49m\u001b[43mo\u001b[49m\u001b[43m,\u001b[49m\u001b[43m \u001b[49m\u001b[43m_one_shot\u001b[49m\u001b[38;5;241;43m=\u001b[39;49m\u001b[38;5;28;43;01mTrue\u001b[39;49;00m\u001b[43m)\u001b[49m\n\u001b[1;32m    201\u001b[0m \u001b[38;5;28;01mif\u001b[39;00m \u001b[38;5;129;01mnot\u001b[39;00m \u001b[38;5;28misinstance\u001b[39m(chunks, (\u001b[38;5;28mlist\u001b[39m, \u001b[38;5;28mtuple\u001b[39m)):\n\u001b[1;32m    202\u001b[0m     chunks \u001b[38;5;241m=\u001b[39m \u001b[38;5;28mlist\u001b[39m(chunks)\n",
      "File \u001b[0;32m/opt/homebrew/Cellar/python@3.12/3.12.7_1/Frameworks/Python.framework/Versions/3.12/lib/python3.12/json/encoder.py:258\u001b[0m, in \u001b[0;36mJSONEncoder.iterencode\u001b[0;34m(self, o, _one_shot)\u001b[0m\n\u001b[1;32m    253\u001b[0m \u001b[38;5;28;01melse\u001b[39;00m:\n\u001b[1;32m    254\u001b[0m     _iterencode \u001b[38;5;241m=\u001b[39m _make_iterencode(\n\u001b[1;32m    255\u001b[0m         markers, \u001b[38;5;28mself\u001b[39m\u001b[38;5;241m.\u001b[39mdefault, _encoder, \u001b[38;5;28mself\u001b[39m\u001b[38;5;241m.\u001b[39mindent, floatstr,\n\u001b[1;32m    256\u001b[0m         \u001b[38;5;28mself\u001b[39m\u001b[38;5;241m.\u001b[39mkey_separator, \u001b[38;5;28mself\u001b[39m\u001b[38;5;241m.\u001b[39mitem_separator, \u001b[38;5;28mself\u001b[39m\u001b[38;5;241m.\u001b[39msort_keys,\n\u001b[1;32m    257\u001b[0m         \u001b[38;5;28mself\u001b[39m\u001b[38;5;241m.\u001b[39mskipkeys, _one_shot)\n\u001b[0;32m--> 258\u001b[0m \u001b[38;5;28;01mreturn\u001b[39;00m \u001b[43m_iterencode\u001b[49m\u001b[43m(\u001b[49m\u001b[43mo\u001b[49m\u001b[43m,\u001b[49m\u001b[43m \u001b[49m\u001b[38;5;241;43m0\u001b[39;49m\u001b[43m)\u001b[49m\n",
      "File \u001b[0;32m/opt/homebrew/Cellar/python@3.12/3.12.7_1/Frameworks/Python.framework/Versions/3.12/lib/python3.12/json/encoder.py:180\u001b[0m, in \u001b[0;36mJSONEncoder.default\u001b[0;34m(self, o)\u001b[0m\n\u001b[1;32m    161\u001b[0m \u001b[38;5;28;01mdef\u001b[39;00m\u001b[38;5;250m \u001b[39m\u001b[38;5;21mdefault\u001b[39m(\u001b[38;5;28mself\u001b[39m, o):\n\u001b[1;32m    162\u001b[0m \u001b[38;5;250m    \u001b[39m\u001b[38;5;124;03m\"\"\"Implement this method in a subclass such that it returns\u001b[39;00m\n\u001b[1;32m    163\u001b[0m \u001b[38;5;124;03m    a serializable object for ``o``, or calls the base implementation\u001b[39;00m\n\u001b[1;32m    164\u001b[0m \u001b[38;5;124;03m    (to raise a ``TypeError``).\u001b[39;00m\n\u001b[0;32m   (...)\u001b[0m\n\u001b[1;32m    178\u001b[0m \n\u001b[1;32m    179\u001b[0m \u001b[38;5;124;03m    \"\"\"\u001b[39;00m\n\u001b[0;32m--> 180\u001b[0m     \u001b[38;5;28;01mraise\u001b[39;00m \u001b[38;5;167;01mTypeError\u001b[39;00m(\u001b[38;5;124mf\u001b[39m\u001b[38;5;124m'\u001b[39m\u001b[38;5;124mObject of type \u001b[39m\u001b[38;5;132;01m{\u001b[39;00mo\u001b[38;5;241m.\u001b[39m\u001b[38;5;18m__class__\u001b[39m\u001b[38;5;241m.\u001b[39m\u001b[38;5;18m__name__\u001b[39m\u001b[38;5;132;01m}\u001b[39;00m\u001b[38;5;124m \u001b[39m\u001b[38;5;124m'\u001b[39m\n\u001b[1;32m    181\u001b[0m                     \u001b[38;5;124mf\u001b[39m\u001b[38;5;124m'\u001b[39m\u001b[38;5;124mis not JSON serializable\u001b[39m\u001b[38;5;124m'\u001b[39m)\n",
      "\u001b[0;31mTypeError\u001b[0m: Object of type HumanMessage is not JSON serializable"
     ]
    }
   ],
   "source": [
    "json.dumps(snapshot.values)"
   ]
  },
  {
   "cell_type": "code",
   "execution_count": 35,
   "metadata": {},
   "outputs": [
    {
     "data": {
      "text/plain": [
       "'It looks like your message might have been empty. How can I assist you today?'"
      ]
     },
     "execution_count": 35,
     "metadata": {},
     "output_type": "execute_result"
    }
   ],
   "source": [
    "snapshot.values[\"messages\"][-1].content"
   ]
  },
  {
   "cell_type": "code",
   "execution_count": null,
   "metadata": {},
   "outputs": [],
   "source": []
  }
 ],
 "metadata": {
  "kernelspec": {
   "display_name": "venv",
   "language": "python",
   "name": "python3"
  },
  "language_info": {
   "codemirror_mode": {
    "name": "ipython",
    "version": 3
   },
   "file_extension": ".py",
   "mimetype": "text/x-python",
   "name": "python",
   "nbconvert_exporter": "python",
   "pygments_lexer": "ipython3",
   "version": "3.12.7"
  }
 },
 "nbformat": 4,
 "nbformat_minor": 2
}
