{
 "cells": [
  {
   "cell_type": "markdown",
   "id": "ddfe8811",
   "metadata": {},
   "source": [
    "# GPT-5 New Params and Tools"
   ]
  },
  {
   "cell_type": "markdown",
   "id": "cf8e0570",
   "metadata": {},
   "source": [
    "## Imports and Setup"
   ]
  },
  {
   "cell_type": "code",
   "execution_count": 29,
   "id": "238cb0ed",
   "metadata": {},
   "outputs": [],
   "source": [
    "from openai import OpenAI\n",
    "from IPython.display import display\n",
    "import pandas as pd\n",
    "import time\n",
    "\n",
    "\n",
    "# Display nicely with centered headers\n",
    "def display_df(df):\n",
    "    with pd.option_context('display.max_colwidth', None):\n",
    "        styled_df = df.style.set_table_styles(\n",
    "            [\n",
    "                {'selector': 'th', 'props': [('text-align', 'center')]},  # Center column headers\n",
    "                {'selector': 'td', 'props': [('text-align', 'left')]}     # Left-align table cells\n",
    "            ]\n",
    "        )\n",
    "\n",
    "        display(styled_df)"
   ]
  },
  {
   "cell_type": "markdown",
   "id": "cef406f2",
   "metadata": {},
   "source": [
    "## Reasoning strength"
   ]
  },
  {
   "cell_type": "code",
   "execution_count": null,
   "id": "32cfe6c7",
   "metadata": {},
   "outputs": [
    {
     "name": "stdout",
     "output_type": "stream",
     "text": [
      "Requesting with effort: minimal\n",
      "Response: Response(id='resp_68975ffebbe481a29e26b947a30d9b0b0700620b456d1f08', created_at=1754750974.0, error=None, incomplete_details=None, instructions=None, metadata={}, model='gpt-5-nano-2025-08-07', object='response', output=[ResponseReasoningItem(id='rs_68975fff01d881a29c4ed75d23086b4c0700620b456d1f08', summary=[], type='reasoning', content=None, encrypted_content=None, status=None), ResponseOutputMessage(id='msg_68975fff0e4881a2840311489a7d29f40700620b456d1f08', content=[ResponseOutputText(annotations=[], text='For a particle in an infinite square well of width L with walls at x = -L/2 and x = L/2, the normalized stationary states are:\\n\\n- n = 1: psi1(x) = sqrt(2/L) cos(pi x / L)\\n- n = 2: psi2(x) = sqrt(2/L) sin(2 pi x / L)\\n- n = 3: psi3(x) = sqrt(2/L) cos(3 pi x / L)\\n\\n(Note: parity alternating: odd n -> cosine, even n -> sine, with the given symmetric well.)', type='output_text', logprobs=[])], role='assistant', status='completed', type='message')], parallel_tool_calls=True, temperature=1.0, tool_choice='auto', tools=[], top_p=1.0, background=False, max_output_tokens=None, max_tool_calls=None, previous_response_id=None, prompt=None, prompt_cache_key=None, reasoning=Reasoning(effort='minimal', generate_summary=None, summary=None), safety_identifier=None, service_tier='default', status='completed', text=ResponseTextConfig(format=ResponseFormatText(type='text'), verbosity='medium'), top_logprobs=0, truncation='disabled', usage=ResponseUsage(input_tokens=64, input_tokens_details=InputTokensDetails(cached_tokens=0), output_tokens=130, output_tokens_details=OutputTokensDetails(reasoning_tokens=0), total_tokens=194), user=None, store=True)\n",
      "Requesting with effort: high\n",
      "Response: Response(id='resp_68975fffdb6081a2ab3df25142e3601a07c8be135e7ac2ce', created_at=1754750975.0, error=None, incomplete_details=None, instructions=None, metadata={}, model='gpt-5-nano-2025-08-07', object='response', output=[ResponseReasoningItem(id='rs_6897600013bc81a2aec0ab04e51bf32707c8be135e7ac2ce', summary=[], type='reasoning', content=None, encrypted_content=None, status=None), ResponseOutputMessage(id='msg_6897601a22dc81a2b8b9d5eab275c21d07c8be135e7ac2ce', content=[ResponseOutputText(annotations=[], text='For a well of width L from -L/2 to L/2, the first three normalized eigenfunctions are:\\n\\n- ψ1(x) = sqrt(2/L) cos(π x / L)\\n- ψ2(x) = sqrt(2/L) sin(2π x / L)\\n- ψ3(x) = sqrt(2/L) cos(3π x / L)\\n\\n(Outside |x| ≥ L/2: ψn(x) = 0.)', type='output_text', logprobs=[])], role='assistant', status='completed', type='message')], parallel_tool_calls=True, temperature=1.0, tool_choice='auto', tools=[], top_p=1.0, background=False, max_output_tokens=None, max_tool_calls=None, previous_response_id=None, prompt=None, prompt_cache_key=None, reasoning=Reasoning(effort='high', generate_summary=None, summary=None), safety_identifier=None, service_tier='default', status='completed', text=ResponseTextConfig(format=ResponseFormatText(type='text'), verbosity='medium'), top_logprobs=0, truncation='disabled', usage=ResponseUsage(input_tokens=64, input_tokens_details=InputTokensDetails(cached_tokens=0), output_tokens=7208, output_tokens_details=OutputTokensDetails(reasoning_tokens=7104), total_tokens=7272), user=None, store=True)\n"
     ]
    }
   ],
   "source": [
    "client = OpenAI()\n",
    "\n",
    "question = \"\"\"\n",
    "A particle with mass m is in an infinite square well potential with\n",
    "walls at x = -L/2 and x = L/2.  Write the wave functions for the states\n",
    "n = 1, n = 2 and n = 3. Answer succinctly.\n",
    "\"\"\"\n",
    "\n",
    "data = []\n",
    "\n",
    "for effort in [\"minimal\", \"low\", \"medium\", \"high\"]:\n",
    "    print(f\"Requesting with effort: {effort}\")\n",
    "    start_time = time.time()\n",
    "    response = client.responses.create(\n",
    "        model=\"gpt-5-nano\",\n",
    "        input=question,\n",
    "        reasoning={\"effort\": effort}\n",
    "    )\n",
    "    elapsed_time = time.time() - start_time\n",
    "    print(f\"Response: {response}\")\n",
    "\n",
    "    data.append({\n",
    "        \"Effort\": effort,\n",
    "        \"Output Text\": response.output_text,\n",
    "        \"Reasoning Tokens\": response.usage.output_tokens_details.reasoning_tokens,\n",
    "        \"Output Tokens\": response.usage.output_tokens,\n",
    "        \"Time (s)\": round(elapsed_time, 2)\n",
    "    })\n",
    "\n",
    "# Create DataFrame\n",
    "df = pd.DataFrame(data)"
   ]
  },
  {
   "cell_type": "code",
   "execution_count": 16,
   "id": "ea0449c5",
   "metadata": {},
   "outputs": [
    {
     "data": {
      "text/html": [
       "<style type=\"text/css\">\n",
       "#T_ce4b9 th {\n",
       "  text-align: center;\n",
       "}\n",
       "#T_ce4b9 td {\n",
       "  text-align: left;\n",
       "}\n",
       "</style>\n",
       "<table id=\"T_ce4b9\">\n",
       "  <thead>\n",
       "    <tr>\n",
       "      <th class=\"blank level0\" >&nbsp;</th>\n",
       "      <th id=\"T_ce4b9_level0_col0\" class=\"col_heading level0 col0\" >Effort</th>\n",
       "      <th id=\"T_ce4b9_level0_col1\" class=\"col_heading level0 col1\" >Sample Output</th>\n",
       "      <th id=\"T_ce4b9_level0_col2\" class=\"col_heading level0 col2\" >Reasoning Tokens</th>\n",
       "    </tr>\n",
       "  </thead>\n",
       "  <tbody>\n",
       "    <tr>\n",
       "      <th id=\"T_ce4b9_level0_row0\" class=\"row_heading level0 row0\" >0</th>\n",
       "      <td id=\"T_ce4b9_row0_col0\" class=\"data row0 col0\" >minimal</td>\n",
       "      <td id=\"T_ce4b9_row0_col1\" class=\"data row0 col1\" >For a particle in an infinite square well of width L with walls at x = -L/2 and x = L/2, the normalized stationary states are:\n",
       "\n",
       "- n = 1: psi1(x) = sqrt(2/L) cos(pi x / L)\n",
       "- n = 2: psi2(x) = sqrt(2/L) sin(2 pi x / L)\n",
       "- n = 3: psi3(x) = sqrt(2/L) cos(3 pi x / L)\n",
       "\n",
       "(Note: parity alternating: odd n -> cosine, even n -> sine, with the given symmetric well.)</td>\n",
       "      <td id=\"T_ce4b9_row0_col2\" class=\"data row0 col2\" >0</td>\n",
       "    </tr>\n",
       "    <tr>\n",
       "      <th id=\"T_ce4b9_level0_row1\" class=\"row_heading level0 row1\" >1</th>\n",
       "      <td id=\"T_ce4b9_row1_col0\" class=\"data row1 col0\" >high</td>\n",
       "      <td id=\"T_ce4b9_row1_col1\" class=\"data row1 col1\" >For a well of width L from -L/2 to L/2, the first three normalized eigenfunctions are:\n",
       "\n",
       "- ψ1(x) = sqrt(2/L) cos(π x / L)\n",
       "- ψ2(x) = sqrt(2/L) sin(2π x / L)\n",
       "- ψ3(x) = sqrt(2/L) cos(3π x / L)\n",
       "\n",
       "(Outside |x| ≥ L/2: ψn(x) = 0.)</td>\n",
       "      <td id=\"T_ce4b9_row1_col2\" class=\"data row1 col2\" >7104</td>\n",
       "    </tr>\n",
       "  </tbody>\n",
       "</table>\n"
      ],
      "text/plain": [
       "<pandas.io.formats.style.Styler at 0x11e567a40>"
      ]
     },
     "metadata": {},
     "output_type": "display_data"
    }
   ],
   "source": [
    "display_df(df)"
   ]
  },
  {
   "cell_type": "markdown",
   "id": "7e4e4110",
   "metadata": {},
   "source": [
    "## Verbosity"
   ]
  },
  {
   "cell_type": "code",
   "execution_count": null,
   "id": "f6513a8f",
   "metadata": {},
   "outputs": [
    {
     "name": "stdout",
     "output_type": "stream",
     "text": [
      "Requesting with verbosity: low\n",
      "Response: Response(id='resp_68975db93ee081a2b432330818241af80a0267a32387dd28', created_at=1754750393.0, error=None, incomplete_details=None, instructions=None, metadata={}, model='gpt-5-nano-2025-08-07', object='response', output=[ResponseReasoningItem(id='rs_68975db9e80481a2b17a0183266e85c50a0267a32387dd28', summary=[], type='reasoning', content=None, encrypted_content=None, status=None), ResponseOutputMessage(id='msg_68975dbdec9481a28d6e436ceee8599a0a0267a32387dd28', content=[ResponseOutputText(annotations=[], text='Cast iron pans offer several practical benefits:\\n\\n- Superior heat retention and even heating, great for searing, frying, and browning.\\n- Extremely versatile: stovetop, oven, grill, or campfire; can go from heat to heat without warping.\\n- Develops a durable, natural nonstick coating (seasoning) with use; improves with time.\\n- Creates fond for easy pan sauces and flavorful results.\\n- Very durable and often inexpensive; can last for generations.\\n- Small amount of iron can leach into food, especially with acidic ingredients, potentially helping iron intake.\\n- Works with all heat sources, including induction, and is easy to finish in the oven if needed.\\n\\nNote: it requires occasional maintenance to prevent rust (drying and oiling after cleaning).', type='output_text', logprobs=[])], role='assistant', status='completed', type='message')], parallel_tool_calls=True, temperature=1.0, tool_choice='auto', tools=[], top_p=1.0, background=False, max_output_tokens=None, max_tool_calls=None, previous_response_id=None, prompt=None, prompt_cache_key=None, reasoning=Reasoning(effort='medium', generate_summary=None, summary=None), safety_identifier=None, service_tier='default', status='completed', text=ResponseTextConfig(format=ResponseFormatText(type='text'), verbosity='low'), top_logprobs=0, truncation='disabled', usage=ResponseUsage(input_tokens=16, input_tokens_details=InputTokensDetails(cached_tokens=0), output_tokens=1314, output_tokens_details=OutputTokensDetails(reasoning_tokens=1152), total_tokens=1330), user=None, store=True)\n",
      "Requesting with verbosity: medium\n",
      "Response: Response(id='resp_68975dc8dcdc8191bac3f5f148f59e1c05f6c93f2dd0dbe8', created_at=1754750408.0, error=None, incomplete_details=None, instructions=None, metadata={}, model='gpt-5-nano-2025-08-07', object='response', output=[ResponseReasoningItem(id='rs_68975dc97a208191bc7e98d64a01159d05f6c93f2dd0dbe8', summary=[], type='reasoning', content=None, encrypted_content=None, status=None), ResponseOutputMessage(id='msg_68975dcec43881918b95b026913e051105f6c93f2dd0dbe8', content=[ResponseOutputText(annotations=[], text='Here are the main benefits of cooking with a cast iron pan, and why many home cooks love them:\\n\\n- Excellent heat retention and steady temps\\n  - Once hot, it stays hot. This is ideal for searing meat, frying, and oven finishes where you want a consistent surface temperature.\\n\\n- Even heating across the surface\\n  - Cast iron distributes heat well (once preheated), helping you get uniform browning and crusts rather than hot spots.\\n\\n- Durability and longevity\\n  - Cast iron is incredibly sturdy. With proper care, a well-seasoned pan can last a lifetime and even become more durable with age.\\n\\n- Versatility across methods and heat sources\\n  - Safe on the stove, in the oven, on the grill, or over a campfire. Great for sautéing, frying, baking, roasting, and braising in one pan (or a related Dutch oven).\\n\\n- Natural nonstick with seasoning\\n  - Building a polymerized layer of oil (seasoning) over time creates a natural nonstick surface. Regular cooking and proper maintenance improve this coating.\\n\\n- Adds a small amount of iron to your food\\n  - A touch of iron can leach into dishes, which can be beneficial for some people with iron needs. It’s not a replacement for supplements if you’re iron deficient, and those with iron overload conditions should monitor intake.\\n\\n- Cost-effective and eco-friendly\\n  - Very durable and long-lasting, with no disposable coatings to replace. A single good pan can serve for generations.\\n\\n- High-heat safety for browning and flavor\\n  - Can withstand very high temperatures, which is ideal for searing and creating fond (the browned bits) that you can deglaze into delicious sauces.\\n\\n- Excellent for a wide range of dishes\\n  - From seared steaks and pancakes to cornbread, frittatas, shakshuka, and one-pan skillet suppers. The pan’s fond and seasoning enhance flavors over time.\\n\\n- Easy to maintain with proper care\\n  - Simple cleaning and upkeep (no soap required in many cases; just wipe, scrub with salt for stuck bits, dry thoroughly, and oil lightly to prevent rust). Occasional reseasoning keeps the surface in good shape.\\n\\nA quick care note:\\n- After cooking, clean off food residue, dry immediately, apply a light coat of oil, and store in a dry place. Avoid soaking or using harsh detergent that can strip seasoning. If the pan develops rust, you can scrub it off and reseason.\\n\\nIf you’re new to cast iron, start with a well-made seasoned pan, learn the preheating and oiling routine, and you’ll likely notice the benefits quickly.', type='output_text', logprobs=[])], role='assistant', status='completed', type='message')], parallel_tool_calls=True, temperature=1.0, tool_choice='auto', tools=[], top_p=1.0, background=False, max_output_tokens=None, max_tool_calls=None, previous_response_id=None, prompt=None, prompt_cache_key=None, reasoning=Reasoning(effort='medium', generate_summary=None, summary=None), safety_identifier=None, service_tier='default', status='completed', text=ResponseTextConfig(format=ResponseFormatText(type='text'), verbosity='medium'), top_logprobs=0, truncation='disabled', usage=ResponseUsage(input_tokens=16, input_tokens_details=InputTokensDetails(cached_tokens=0), output_tokens=1958, output_tokens_details=OutputTokensDetails(reasoning_tokens=1408), total_tokens=1974), user=None, store=True)\n",
      "Requesting with verbosity: high\n",
      "Response: Response(id='resp_68975dd11ad481a18ae9ccc2286b1fb90927ff04c73dbbdf', created_at=1754750417.0, error=None, incomplete_details=None, instructions=None, metadata={}, model='gpt-5-nano-2025-08-07', object='response', output=[ResponseReasoningItem(id='rs_68975dd1cf4881a181c09b268d337fcc0927ff04c73dbbdf', summary=[], type='reasoning', content=None, encrypted_content=None, status=None), ResponseOutputMessage(id='msg_68975dd73ce081a1b918f6c9cddedf520927ff04c73dbbdf', content=[ResponseOutputText(annotations=[], text='Cast iron pans are a classic for good reason. Here are the main benefits and why many home cooks love them.\\n\\n- Excellent heat retention and even heating\\n  - Once hot, cast iron holds a steady, even temperature. This makes it superb for searing steaks, browning chicken, and getting a golden crust on vegetables or baked goods.\\n\\n- Very versatile\\n  - Can go from stove to oven to grill or campfire. Great for frying, sautéing, roasting, baking (think cornbread, frittatas), and even slow-cooking dishes.\\n\\n- Durable and long-lasting\\n  - With proper care, a cast-iron pan can last for decades and often becomes a family heirloom. It’s sturdy, resistant to dents, and virtually unbreakable when compared to some other cookware.\\n\\n- Natural, developing nonstick surface\\n  - When seasoned well, the pan develops a polymerized oil layer that provides a reliable nonstick surface. The more you use it (and maintain the seasoning), the better it gets.\\n\\n- Adds iron to your food (beneficial for many)\\n  - Cooking in cast iron can contribute small amounts of dietary iron to your meals, which can be helpful for people who are iron-deficient. The amount varies with food and cooking time, so it’s a bonus rather than a replacement for medical advice or iron supplements when needed.\\n\\n- Cost-effective and sustainable\\n  - Cast iron pans are generally affordable, durable, and repairable. Their long life means less waste and fewer replacements over time.\\n\\n- Works on all major heat sources\\n  - Suitable for gas, electric, induction (thanks to ferrous material), and outdoor heat sources like grills or campfires.\\n\\n- Flavor and fond development\\n  - Searing in cast iron creates fond (browned bits) that’s perfect for deglazing into delicious sauces. The pan’s seasoning can also contribute to richer flavors as it builds up over time.\\n\\n- Hearty, forgiving cookware\\n  - The pan tolerates high heat well, and its rugged surface stands up to metal utensils and a range of cooking techniques.\\n\\nCare and best-practice tips (to keep all these benefits)\\n- Seasoning and maintenance\\n  - Start with a proper seasoning: clean, dry pan; apply a thin layer of oil (high-smoke-point oil works well); heat in an oven at 350–450°F for about an hour; cool and wipe clean.\\n  - After cooking, clean with warm water and a brush or nonmetal scrub pad. Avoid dishwashers; avoid soap if possible, or use it sparingly as it can strip seasoning.\\n  - Dry thoroughly and apply a light coat of oil to prevent rust. Store in a dry place; you can place a paper towel between the pan and lid or stack it with a sheet of paper to absorb moisture.\\n\\n- Cleaning tricky bits\\n  - For stuck-on bits, scrub with coarse salt and a little oil, then rinse. Dry completely and re-oil.\\n\\n- Rust and restoration\\n  - If rust forms, scrub it off with steel wool, wash, dry, and re-season.\\n\\n- Cooking acids\\n  - You can cook acidic foods (like tomatoes) in cast iron, but long, highly acidic cooking can wear down seasoning. If it happens, re-season afterward.\\n\\n- Weight considerations\\n  - Cast iron is heavy. If you’re just starting out or need ultra-light cookware, you might prefer a lighter pan (e.g., nonstick or carbon steel) for some tasks, but many people quickly adapt to the weight because of the benefits.\\n\\nQuick starter guide for a perfect sear\\n- Preheat the pan on medium-high until a drop of water dances.\\n- Add a small amount of oil; let it shimmer.\\n- Pat food dry, place it in the pan without crowding, and don’t move it for a few minutes to get crust.\\n- Flip once the crust forms; finish on the stove or transfer to the oven if needed.\\n\\nCommon questions\\n- Is it safe on induction?\\n  - Yes. Cast iron works with induction as long as the pan is flat on the cooktop.\\n- Do I need to “re-season” after every use?\\n  - Not every time. Regular cleaning and a light oil coating after use is usually enough to maintain the patina.\\n- Can I use metal utensils?\\n  - Yes, though gentle use helps prevent scratching newly formed seasoning early on. As seasoning builds, you can use metal utensils with less worry.\\n\\nIf you’re new to cast iron, a beginner-friendly skillet (around 10–12 inches) is a great starting point. With a little care, you’ll quickly enjoy a pan that delivers superb searing, versatile cooking, and a growing, natural nonstick coating.', type='output_text', logprobs=[])], role='assistant', status='completed', type='message')], parallel_tool_calls=True, temperature=1.0, tool_choice='auto', tools=[], top_p=1.0, background=False, max_output_tokens=None, max_tool_calls=None, previous_response_id=None, prompt=None, prompt_cache_key=None, reasoning=Reasoning(effort='medium', generate_summary=None, summary=None), safety_identifier=None, service_tier='default', status='completed', text=ResponseTextConfig(format=ResponseFormatText(type='text'), verbosity='high'), top_logprobs=0, truncation='disabled', usage=ResponseUsage(input_tokens=16, input_tokens_details=InputTokensDetails(cached_tokens=0), output_tokens=2445, output_tokens_details=OutputTokensDetails(reasoning_tokens=1472), total_tokens=2461), user=None, store=True)\n"
     ]
    }
   ],
   "source": [
    "client = OpenAI()\n",
    "\n",
    "question = \"Explain the benefits of cooking with a cast iron pan\"\n",
    "\n",
    "data = []\n",
    "\n",
    "for verbosity in [\"low\", \"medium\", \"high\"]:\n",
    "    print(f\"Requesting with verbosity: {verbosity}\")\n",
    "    response = client.responses.create(\n",
    "        model=\"gpt-5-nano\",\n",
    "        input=question,\n",
    "        text={\"verbosity\": verbosity}\n",
    "    )\n",
    "    print(f\"Response: {response}\")\n",
    "\n",
    "    data.append({\n",
    "        \"Verbosity\": verbosity,\n",
    "        \"Output Text\": response.output_text,\n",
    "        \"Output Tokens\": response.usage.output_tokens\n",
    "    })\n",
    "\n",
    "# Create DataFrame\n",
    "df = pd.DataFrame(data)"
   ]
  },
  {
   "cell_type": "code",
   "execution_count": 9,
   "id": "d2d0a2fb",
   "metadata": {},
   "outputs": [
    {
     "data": {
      "text/html": [
       "<style type=\"text/css\">\n",
       "#T_c5b91 th {\n",
       "  text-align: center;\n",
       "}\n",
       "#T_c5b91 td {\n",
       "  text-align: left;\n",
       "}\n",
       "</style>\n",
       "<table id=\"T_c5b91\">\n",
       "  <thead>\n",
       "    <tr>\n",
       "      <th class=\"blank level0\" >&nbsp;</th>\n",
       "      <th id=\"T_c5b91_level0_col0\" class=\"col_heading level0 col0\" >Verbosity</th>\n",
       "      <th id=\"T_c5b91_level0_col1\" class=\"col_heading level0 col1\" >Sample Output</th>\n",
       "      <th id=\"T_c5b91_level0_col2\" class=\"col_heading level0 col2\" >Output Tokens</th>\n",
       "    </tr>\n",
       "  </thead>\n",
       "  <tbody>\n",
       "    <tr>\n",
       "      <th id=\"T_c5b91_level0_row0\" class=\"row_heading level0 row0\" >0</th>\n",
       "      <td id=\"T_c5b91_row0_col0\" class=\"data row0 col0\" >low</td>\n",
       "      <td id=\"T_c5b91_row0_col1\" class=\"data row0 col1\" >Cast iron pans offer several practical benefits:\n",
       "\n",
       "- Superior heat retention and even heating, great for searing, frying, and browning.\n",
       "- Extremely versatile: stovetop, oven, grill, or campfire; can go from heat to heat without warping.\n",
       "- Develops a durable, natural nonstick coating (seasoning) with use; improves with time.\n",
       "- Creates fond for easy pan sauces and flavorful results.\n",
       "- Very durable and often inexpensive; can last for generations.\n",
       "- Small amount of iron can leach into food, especially with acidic ingredients, potentially helping iron intake.\n",
       "- Works with all heat sources, including induction, and is easy to finish in the oven if needed.\n",
       "\n",
       "Note: it requires occasional maintenance to prevent rust (drying and oiling after cleaning).</td>\n",
       "      <td id=\"T_c5b91_row0_col2\" class=\"data row0 col2\" >1314</td>\n",
       "    </tr>\n",
       "    <tr>\n",
       "      <th id=\"T_c5b91_level0_row1\" class=\"row_heading level0 row1\" >1</th>\n",
       "      <td id=\"T_c5b91_row1_col0\" class=\"data row1 col0\" >medium</td>\n",
       "      <td id=\"T_c5b91_row1_col1\" class=\"data row1 col1\" >Here are the main benefits of cooking with a cast iron pan, and why many home cooks love them:\n",
       "\n",
       "- Excellent heat retention and steady temps\n",
       "  - Once hot, it stays hot. This is ideal for searing meat, frying, and oven finishes where you want a consistent surface temperature.\n",
       "\n",
       "- Even heating across the surface\n",
       "  - Cast iron distributes heat well (once preheated), helping you get uniform browning and crusts rather than hot spots.\n",
       "\n",
       "- Durability and longevity\n",
       "  - Cast iron is incredibly sturdy. With proper care, a well-seasoned pan can last a lifetime and even become more durable with age.\n",
       "\n",
       "- Versatility across methods and heat sources\n",
       "  - Safe on the stove, in the oven, on the grill, or over a campfire. Great for sautéing, frying, baking, roasting, and braising in one pan (or a related Dutch oven).\n",
       "\n",
       "- Natural nonstick with seasoning\n",
       "  - Building a polymerized layer of oil (seasoning) over time creates a natural nonstick surface. Regular cooking and proper maintenance improve this coating.\n",
       "\n",
       "- Adds a small amount of iron to your food\n",
       "  - A touch of iron can leach into dishes, which can be beneficial for some people with iron needs. It’s not a replacement for supplements if you’re iron deficient, and those with iron overload conditions should monitor intake.\n",
       "\n",
       "- Cost-effective and eco-friendly\n",
       "  - Very durable and long-lasting, with no disposable coatings to replace. A single good pan can serve for generations.\n",
       "\n",
       "- High-heat safety for browning and flavor\n",
       "  - Can withstand very high temperatures, which is ideal for searing and creating fond (the browned bits) that you can deglaze into delicious sauces.\n",
       "\n",
       "- Excellent for a wide range of dishes\n",
       "  - From seared steaks and pancakes to cornbread, frittatas, shakshuka, and one-pan skillet suppers. The pan’s fond and seasoning enhance flavors over time.\n",
       "\n",
       "- Easy to maintain with proper care\n",
       "  - Simple cleaning and upkeep (no soap required in many cases; just wipe, scrub with salt for stuck bits, dry thoroughly, and oil lightly to prevent rust). Occasional reseasoning keeps the surface in good shape.\n",
       "\n",
       "A quick care note:\n",
       "- After cooking, clean off food residue, dry immediately, apply a light coat of oil, and store in a dry place. Avoid soaking or using harsh detergent that can strip seasoning. If the pan develops rust, you can scrub it off and reseason.\n",
       "\n",
       "If you’re new to cast iron, start with a well-made seasoned pan, learn the preheating and oiling routine, and you’ll likely notice the benefits quickly.</td>\n",
       "      <td id=\"T_c5b91_row1_col2\" class=\"data row1 col2\" >1958</td>\n",
       "    </tr>\n",
       "    <tr>\n",
       "      <th id=\"T_c5b91_level0_row2\" class=\"row_heading level0 row2\" >2</th>\n",
       "      <td id=\"T_c5b91_row2_col0\" class=\"data row2 col0\" >high</td>\n",
       "      <td id=\"T_c5b91_row2_col1\" class=\"data row2 col1\" >Cast iron pans are a classic for good reason. Here are the main benefits and why many home cooks love them.\n",
       "\n",
       "- Excellent heat retention and even heating\n",
       "  - Once hot, cast iron holds a steady, even temperature. This makes it superb for searing steaks, browning chicken, and getting a golden crust on vegetables or baked goods.\n",
       "\n",
       "- Very versatile\n",
       "  - Can go from stove to oven to grill or campfire. Great for frying, sautéing, roasting, baking (think cornbread, frittatas), and even slow-cooking dishes.\n",
       "\n",
       "- Durable and long-lasting\n",
       "  - With proper care, a cast-iron pan can last for decades and often becomes a family heirloom. It’s sturdy, resistant to dents, and virtually unbreakable when compared to some other cookware.\n",
       "\n",
       "- Natural, developing nonstick surface\n",
       "  - When seasoned well, the pan develops a polymerized oil layer that provides a reliable nonstick surface. The more you use it (and maintain the seasoning), the better it gets.\n",
       "\n",
       "- Adds iron to your food (beneficial for many)\n",
       "  - Cooking in cast iron can contribute small amounts of dietary iron to your meals, which can be helpful for people who are iron-deficient. The amount varies with food and cooking time, so it’s a bonus rather than a replacement for medical advice or iron supplements when needed.\n",
       "\n",
       "- Cost-effective and sustainable\n",
       "  - Cast iron pans are generally affordable, durable, and repairable. Their long life means less waste and fewer replacements over time.\n",
       "\n",
       "- Works on all major heat sources\n",
       "  - Suitable for gas, electric, induction (thanks to ferrous material), and outdoor heat sources like grills or campfires.\n",
       "\n",
       "- Flavor and fond development\n",
       "  - Searing in cast iron creates fond (browned bits) that’s perfect for deglazing into delicious sauces. The pan’s seasoning can also contribute to richer flavors as it builds up over time.\n",
       "\n",
       "- Hearty, forgiving cookware\n",
       "  - The pan tolerates high heat well, and its rugged surface stands up to metal utensils and a range of cooking techniques.\n",
       "\n",
       "Care and best-practice tips (to keep all these benefits)\n",
       "- Seasoning and maintenance\n",
       "  - Start with a proper seasoning: clean, dry pan; apply a thin layer of oil (high-smoke-point oil works well); heat in an oven at 350–450°F for about an hour; cool and wipe clean.\n",
       "  - After cooking, clean with warm water and a brush or nonmetal scrub pad. Avoid dishwashers; avoid soap if possible, or use it sparingly as it can strip seasoning.\n",
       "  - Dry thoroughly and apply a light coat of oil to prevent rust. Store in a dry place; you can place a paper towel between the pan and lid or stack it with a sheet of paper to absorb moisture.\n",
       "\n",
       "- Cleaning tricky bits\n",
       "  - For stuck-on bits, scrub with coarse salt and a little oil, then rinse. Dry completely and re-oil.\n",
       "\n",
       "- Rust and restoration\n",
       "  - If rust forms, scrub it off with steel wool, wash, dry, and re-season.\n",
       "\n",
       "- Cooking acids\n",
       "  - You can cook acidic foods (like tomatoes) in cast iron, but long, highly acidic cooking can wear down seasoning. If it happens, re-season afterward.\n",
       "\n",
       "- Weight considerations\n",
       "  - Cast iron is heavy. If you’re just starting out or need ultra-light cookware, you might prefer a lighter pan (e.g., nonstick or carbon steel) for some tasks, but many people quickly adapt to the weight because of the benefits.\n",
       "\n",
       "Quick starter guide for a perfect sear\n",
       "- Preheat the pan on medium-high until a drop of water dances.\n",
       "- Add a small amount of oil; let it shimmer.\n",
       "- Pat food dry, place it in the pan without crowding, and don’t move it for a few minutes to get crust.\n",
       "- Flip once the crust forms; finish on the stove or transfer to the oven if needed.\n",
       "\n",
       "Common questions\n",
       "- Is it safe on induction?\n",
       "  - Yes. Cast iron works with induction as long as the pan is flat on the cooktop.\n",
       "- Do I need to “re-season” after every use?\n",
       "  - Not every time. Regular cleaning and a light oil coating after use is usually enough to maintain the patina.\n",
       "- Can I use metal utensils?\n",
       "  - Yes, though gentle use helps prevent scratching newly formed seasoning early on. As seasoning builds, you can use metal utensils with less worry.\n",
       "\n",
       "If you’re new to cast iron, a beginner-friendly skillet (around 10–12 inches) is a great starting point. With a little care, you’ll quickly enjoy a pan that delivers superb searing, versatile cooking, and a growing, natural nonstick coating.</td>\n",
       "      <td id=\"T_c5b91_row2_col2\" class=\"data row2 col2\" >2445</td>\n",
       "    </tr>\n",
       "  </tbody>\n",
       "</table>\n"
      ],
      "text/plain": [
       "<pandas.io.formats.style.Styler at 0x11872da60>"
      ]
     },
     "metadata": {},
     "output_type": "display_data"
    }
   ],
   "source": [
    "display_df(df)"
   ]
  },
  {
   "cell_type": "markdown",
   "id": "840eaf82",
   "metadata": {},
   "source": [
    "## Freeform Function Calling"
   ]
  },
  {
   "cell_type": "code",
   "execution_count": 12,
   "id": "896ef9ef",
   "metadata": {},
   "outputs": [],
   "source": [
    "client = OpenAI()\n",
    "\n",
    "response = client.responses.create(\n",
    "    model=\"gpt-5-nano\",\n",
    "    input=\"Use the exec_bash_command tool to list the files in the /Users/alex/pro/zazencodes-season-2/src directory using eza (tree depth 2)\",\n",
    "    text={\"format\": {\"type\": \"text\"}},\n",
    "    tools=[\n",
    "        {\n",
    "            \"type\": \"custom\",\n",
    "            \"name\": \"exec_bash_command\",\n",
    "            \"description\": \"Executes arbitrary bash commands\",\n",
    "        }\n",
    "    ]\n",
    ")"
   ]
  },
  {
   "cell_type": "code",
   "execution_count": 13,
   "id": "1d8d4aea",
   "metadata": {},
   "outputs": [
    {
     "data": {
      "text/plain": [
       "[ResponseReasoningItem(id='rs_689766c10dac8192b6fcd2d04d6e7a230f1fc3ee71babab9', summary=[], type='reasoning', content=None, encrypted_content=None, status=None),\n",
       " ResponseCustomToolCall(call_id='call_zkKTm3MS04m04Z9rQKoumfAJ', input='eza --tree -L 2 /Users/alex/pro/zazencodes-season-2/src', name='exec_bash_command', type='custom_tool_call', id='ctc_689766c521688192bb7ae2691e71ee5b0f1fc3ee71babab9', status='completed')]"
      ]
     },
     "execution_count": 13,
     "metadata": {},
     "output_type": "execute_result"
    }
   ],
   "source": [
    "response.output"
   ]
  },
  {
   "cell_type": "code",
   "execution_count": 14,
   "id": "214ced95",
   "metadata": {},
   "outputs": [
    {
     "data": {
      "text/plain": [
       "{'call_id': 'call_zkKTm3MS04m04Z9rQKoumfAJ',\n",
       " 'input': 'eza --tree -L 2 /Users/alex/pro/zazencodes-season-2/src',\n",
       " 'name': 'exec_bash_command',\n",
       " 'type': 'custom_tool_call',\n",
       " 'id': 'ctc_689766c521688192bb7ae2691e71ee5b0f1fc3ee71babab9',\n",
       " 'status': 'completed'}"
      ]
     },
     "execution_count": 14,
     "metadata": {},
     "output_type": "execute_result"
    }
   ],
   "source": [
    "response.output[-1].to_dict()"
   ]
  },
  {
   "cell_type": "code",
   "execution_count": 15,
   "id": "48745259",
   "metadata": {},
   "outputs": [],
   "source": [
    "import subprocess\n",
    "\n",
    "def bash_command_tool(command: str) -> str:\n",
    "    print(subprocess.run(command, shell=True, capture_output=True, text=True).stdout)\n",
    "    return "
   ]
  },
  {
   "cell_type": "code",
   "execution_count": 16,
   "id": "a0f4f320",
   "metadata": {},
   "outputs": [
    {
     "name": "stdout",
     "output_type": "stream",
     "text": [
      "/Users/alex/pro/zazencodes-season-2/src\n",
      "├── ai-eng-tier-lists\n",
      "│   └── startups\n",
      "├── ai-scientific-research-agent\n",
      "│   ├── dev\n",
      "│   ├── DEVLOG.md\n",
      "│   ├── notebooks\n",
      "│   ├── output\n",
      "│   ├── README.md\n",
      "│   ├── requirements.txt\n",
      "│   ├── sci_research_agent\n",
      "│   └── setup.py\n",
      "├── anatomy-of-a-system-prompt\n",
      "│   ├── anatomy_of_a_system_prompt.html\n",
      "│   ├── anatomy_of_a_system_prompt.md\n",
      "│   ├── anatomy_of_a_system_prompt.pdf\n",
      "│   ├── chad_gpt_system_prompt.md\n",
      "│   ├── chad_gpt_user_questions.md\n",
      "│   ├── dracula.css\n",
      "│   ├── images\n",
      "│   ├── README.md\n",
      "│   └── render_slides.sh\n",
      "├── claude-code-sub-agents\n",
      "│   ├── anime-quote-fetcher\n",
      "│   ├── dracula-style-plots\n",
      "│   └── plant-helper-mcp\n",
      "├── data-jobs-2025\n",
      "│   ├── job_tables.md\n",
      "│   ├── jobs_hierarchy.md\n",
      "│   └── README.md\n",
      "├── deepseek-ollama\n",
      "│   ├── favorites.json\n",
      "│   ├── README.md\n",
      "│   └── test.py\n",
      "├── discord-ai-bot-trivia-greetings\n",
      "│   ├── Dockerfile\n",
      "│   ├── main.py\n",
      "│   ├── README.md\n",
      "│   ├── requirements.txt\n",
      "│   ├── test_add_user.py\n",
      "│   └── test_send_message.py\n",
      "├── dspy-tutorial-5-real-world-use-cases\n",
      "│   ├── 01_structured_output.py\n",
      "│   ├── 02_chain_of_thought.py\n",
      "│   ├── 03_rag_hr_bot.py\n",
      "│   ├── 04_react_expense_assistant.py\n",
      "│   ├── 05_self_improving_rag.py\n",
      "│   ├── advanced\n",
      "│   ├── diagrams\n",
      "│   ├── README.md\n",
      "│   └── requirements.txt\n",
      "├── fastmcp-tutorial\n",
      "│   ├── __pycache__\n",
      "│   ├── LICENSE\n",
      "│   ├── PACKAGE_SUMMARY.md\n",
      "│   ├── PUBLISHING.md\n",
      "│   ├── pyproject.toml\n",
      "│   ├── README.md\n",
      "│   ├── src\n",
      "│   └── uv.lock\n",
      "├── gemma3-ollama\n",
      "│   ├── gemma3-1b-quotes-app\n",
      "│   ├── gemma3-4b-quotes-app\n",
      "│   ├── gemma3-12b-quotes-app\n",
      "│   ├── gemma3-27b-quotes-app\n",
      "│   ├── images\n",
      "│   ├── quote_app_prompt.txt\n",
      "│   └── README.md\n",
      "├── gitingest-terminal-guide\n",
      "│   ├── digest.txt\n",
      "│   └── venv\n",
      "├── gpt-4.5-vs-claude-3.7-head-to-head\n",
      "│   ├── package-lock.json\n",
      "│   ├── package.json\n",
      "│   ├── public\n",
      "│   ├── README.md\n",
      "│   ├── requirements.txt\n",
      "│   └── server.js\n",
      "├── gpt-5\n",
      "│   └── gpt_5_new_params_and_tools.ipynb\n",
      "├── jupyter-notebook-cursor-analytics\n",
      "│   ├── japan-trade-statistics\n",
      "│   └── video-game-sales\n",
      "├── mcp-server-analysis\n",
      "│   ├── mcp_repo_data_2025-06-22.json\n",
      "│   ├── mcp_repo_extracted_functions_2025-06-22.json\n",
      "│   └── workbook.ipynb\n",
      "├── mcphub\n",
      "│   ├── futile.json\n",
      "│   ├── img\n",
      "│   ├── README.md\n",
      "│   ├── z5k.json\n",
      "│   └── zc_season_2_git.json\n",
      "├── neovim-ai-data-eng-tricks\n",
      "│   ├── 1_demo.py\n",
      "│   ├── 2_query.sql\n",
      "│   ├── 3_demo.py\n",
      "│   ├── 4_demo.py\n",
      "│   ├── 5_demo_test.py\n",
      "│   ├── 6_demo.py\n",
      "│   ├── 7_demo.md\n",
      "│   ├── 8_demo.json\n",
      "│   ├── 8_demo.md\n",
      "│   ├── 8_demo_formatted.json\n",
      "│   ├── 9_demo.log\n",
      "│   ├── 9_demo.md\n",
      "│   ├── 10_demo.py\n",
      "│   ├── 11_demo.csv\n",
      "│   ├── 11_demo.md\n",
      "│   ├── 12_demo.py\n",
      "│   ├── airflow.py\n",
      "│   ├── demo_5.py\n",
      "│   ├── DEVLOG.md\n",
      "│   ├── more-tricks.md\n",
      "│   ├── query.sql\n",
      "│   ├── README.md\n",
      "│   ├── sql_regex_merge.sql\n",
      "│   └── tricks.md\n",
      "├── obsidian-mcp\n",
      "│   ├── generate_system_prompt_json.py\n",
      "│   ├── img\n",
      "│   ├── README.md\n",
      "│   └── system_prompts\n",
      "├── rise-of-the-ai-engineer\n",
      "│   ├── ai_eng_job_posting_scrape_summary.md\n",
      "│   └── render_slides.sh\n",
      "├── supabase-mcp\n",
      "│   ├── index.html\n",
      "│   ├── node_modules\n",
      "│   ├── package-lock.json\n",
      "│   ├── package.json\n",
      "│   ├── src\n",
      "│   ├── tsconfig.json\n",
      "│   ├── tsconfig.node.json\n",
      "│   └── vite.config.ts\n",
      "├── supabase-mcp-cline\n",
      "│   ├── css\n",
      "│   ├── index.html\n",
      "│   ├── js\n",
      "│   ├── LICENSE\n",
      "│   ├── migrations\n",
      "│   ├── public\n",
      "│   ├── README.md\n",
      "│   └── supabase\n",
      "├── terminal-llm-tricks\n",
      "│   ├── app.py\n",
      "│   ├── docker_app.log\n",
      "│   ├── log_errors_example.log\n",
      "│   ├── ml_script.py\n",
      "│   ├── ml_script_documented.py\n",
      "│   ├── ml_script_messy.py\n",
      "│   ├── py2_migrated.py\n",
      "│   ├── py2_script.py\n",
      "│   └── README.md\n",
      "├── testsprite-mcp\n",
      "│   └── news-data-mcp-website\n",
      "└── trip-mapper\n",
      "    ├── 1-ollama\n",
      "    ├── 2-gemini\n",
      "    └── 3-youware\n",
      "\n"
     ]
    }
   ],
   "source": [
    "\"\"\"\n",
    "This cell will execute arbitrary bash commands.\n",
    "USE WITH CAUTION!\n",
    "\"\"\"\n",
    "\n",
    "for item in response.output:\n",
    "    if item.type == \"custom_tool_call\" and item.name == \"exec_bash_command\":\n",
    "        bash_command_tool(item.input)\n",
    "        "
   ]
  },
  {
   "cell_type": "markdown",
   "id": "44cab717",
   "metadata": {},
   "source": [
    "## Context‑Free Grammar (CFG)\n",
    "\n",
    "CFG's are effectively contracts that force the model to emit only strings that the grammar accept"
   ]
  },
  {
   "cell_type": "code",
   "execution_count": 89,
   "id": "1cf613b4",
   "metadata": {},
   "outputs": [],
   "source": [
    "client = OpenAI()\n",
    "\n",
    "# + followed by 8–15 digits total, first digit 1–9 (E.164). Add |UNKNOWN to allow a fallback.\n",
    "phone_grammar_definition = r\"^(?:\\+[1-9]\\d{7,14}|UNKNOWN)$\"\n",
    "\n",
    "def normalize_phone(prompt: str) -> OpenAI:\n",
    "    resp = client.responses.create(\n",
    "        model=\"gpt-5-nano\",\n",
    "        input=prompt,\n",
    "        tools=[{\n",
    "            \"type\": \"custom\",\n",
    "            \"name\": \"e164_phone\",\n",
    "            \"description\": \"Return E.164 phone or UNKNOWN.\",\n",
    "            \"format\": {\n",
    "                \"type\": \"grammar\",\n",
    "                \"syntax\": \"regex\",\n",
    "                \"definition\": phone_grammar_definition\n",
    "            }\n",
    "        }],\n",
    "    )\n",
    "    return resp\n",
    "\n",
    "\n",
    "resp = normalize_phone(\"Convert the phone number (123) 456-7890 to E.164 or output UNKNOWN\")"
   ]
  },
  {
   "cell_type": "code",
   "execution_count": 90,
   "id": "9cbe0e17",
   "metadata": {},
   "outputs": [
    {
     "data": {
      "text/plain": [
       "Response(id='resp_689797919a0c819484170b0a91b214b80b24c035c104fa39', created_at=1754765204.0, error=None, incomplete_details=None, instructions=None, metadata={}, model='gpt-5-nano-2025-08-07', object='response', output=[ResponseReasoningItem(id='rs_68979794cdc48194b271f9d0322cc2d60b24c035c104fa39', summary=[], type='reasoning', content=None, encrypted_content=None, status=None), ResponseCustomToolCall(call_id='call_hkSjvBlExZotaMcOwIiz3EOW', input='+11234567890', name='e164_phone', type='custom_tool_call', id='ctc_6897979996488194ad0fa6991e9a30820b24c035c104fa39', status='completed')], parallel_tool_calls=True, temperature=1.0, tool_choice='auto', tools=[CustomTool(name='e164_phone', type='custom', description='Return E.164 phone or UNKNOWN.', format=Grammar(definition='^(?:\\\\+[1-9]\\\\d{7,14}|UNKNOWN)$', syntax='regex', type='grammar'))], top_p=1.0, background=False, max_output_tokens=None, max_tool_calls=None, previous_response_id=None, prompt=None, prompt_cache_key=None, reasoning=Reasoning(effort='medium', generate_summary=None, summary=None), safety_identifier=None, service_tier='default', status='completed', text=ResponseTextConfig(format=ResponseFormatText(type='text'), verbosity='medium'), top_logprobs=0, truncation='disabled', usage=ResponseUsage(input_tokens=124, input_tokens_details=InputTokensDetails(cached_tokens=0), output_tokens=1237, output_tokens_details=OutputTokensDetails(reasoning_tokens=1216), total_tokens=1361), user=None, store=True)"
      ]
     },
     "execution_count": 90,
     "metadata": {},
     "output_type": "execute_result"
    }
   ],
   "source": [
    "resp"
   ]
  },
  {
   "cell_type": "code",
   "execution_count": 91,
   "id": "21274b62",
   "metadata": {},
   "outputs": [
    {
     "data": {
      "text/plain": [
       "''"
      ]
     },
     "execution_count": 91,
     "metadata": {},
     "output_type": "execute_result"
    }
   ],
   "source": [
    "resp.output_text"
   ]
  },
  {
   "cell_type": "code",
   "execution_count": 92,
   "id": "397047e9",
   "metadata": {},
   "outputs": [
    {
     "data": {
      "text/plain": [
       "[ResponseReasoningItem(id='rs_68979794cdc48194b271f9d0322cc2d60b24c035c104fa39', summary=[], type='reasoning', content=None, encrypted_content=None, status=None),\n",
       " ResponseCustomToolCall(call_id='call_hkSjvBlExZotaMcOwIiz3EOW', input='+11234567890', name='e164_phone', type='custom_tool_call', id='ctc_6897979996488194ad0fa6991e9a30820b24c035c104fa39', status='completed')]"
      ]
     },
     "execution_count": 92,
     "metadata": {},
     "output_type": "execute_result"
    }
   ],
   "source": [
    "resp.output"
   ]
  },
  {
   "cell_type": "code",
   "execution_count": 93,
   "id": "9b01e1da",
   "metadata": {},
   "outputs": [
    {
     "data": {
      "text/plain": [
       "{'call_id': 'call_hkSjvBlExZotaMcOwIiz3EOW',\n",
       " 'input': '+11234567890',\n",
       " 'name': 'e164_phone',\n",
       " 'type': 'custom_tool_call',\n",
       " 'id': 'ctc_6897979996488194ad0fa6991e9a30820b24c035c104fa39',\n",
       " 'status': 'completed'}"
      ]
     },
     "execution_count": 93,
     "metadata": {},
     "output_type": "execute_result"
    }
   ],
   "source": [
    "resp.output[-1].to_dict()"
   ]
  },
  {
   "cell_type": "code",
   "execution_count": 61,
   "id": "04fea7f5",
   "metadata": {},
   "outputs": [],
   "source": [
    "resp2 = normalize_phone(\"Convert the Canadian phone number 456-780 to E.164 or output UNKNOWN\")"
   ]
  },
  {
   "cell_type": "code",
   "execution_count": 62,
   "id": "ae150954",
   "metadata": {},
   "outputs": [
    {
     "data": {
      "text/plain": [
       "Response(id='resp_689793befb5c819fb3776022700d69b10f9c98a638d89ad3', created_at=1754764226.0, error=None, incomplete_details=None, instructions=None, metadata={}, model='gpt-5-nano-2025-08-07', object='response', output=[ResponseReasoningItem(id='rs_689793c29844819fa7cdc11eece500e30f9c98a638d89ad3', summary=[], type='reasoning', content=None, encrypted_content=None, status=None), ResponseCustomToolCall(call_id='call_M0DLo2eqskOjp3RxUGV1RtYm', input='UNKNOWN', name='e164_phone', type='custom_tool_call', id='ctc_689793c4e920819fb8367e2bc23773ff0f9c98a638d89ad3', status='completed')], parallel_tool_calls=True, temperature=1.0, tool_choice='auto', tools=[CustomTool(name='e164_phone', type='custom', description='Return E.164 phone or UNKNOWN.', format=Grammar(definition='^(?:\\\\+[1-9]\\\\d{7,14}|UNKNOWN)$', syntax='regex', type='grammar'))], top_p=1.0, background=False, max_output_tokens=None, max_tool_calls=None, previous_response_id=None, prompt=None, prompt_cache_key=None, reasoning=Reasoning(effort='medium', generate_summary=None, summary=None), safety_identifier=None, service_tier='default', status='completed', text=ResponseTextConfig(format=ResponseFormatText(type='text'), verbosity='medium'), top_logprobs=0, truncation='disabled', usage=ResponseUsage(input_tokens=121, input_tokens_details=InputTokensDetails(cached_tokens=0), output_tokens=593, output_tokens_details=OutputTokensDetails(reasoning_tokens=576), total_tokens=714), user=None, store=True)"
      ]
     },
     "execution_count": 62,
     "metadata": {},
     "output_type": "execute_result"
    }
   ],
   "source": [
    "resp2"
   ]
  },
  {
   "cell_type": "code",
   "execution_count": 63,
   "id": "88c6acc0",
   "metadata": {},
   "outputs": [
    {
     "data": {
      "text/plain": [
       "''"
      ]
     },
     "execution_count": 63,
     "metadata": {},
     "output_type": "execute_result"
    }
   ],
   "source": [
    "resp2.output_text"
   ]
  },
  {
   "cell_type": "code",
   "execution_count": 64,
   "id": "7e065fe7",
   "metadata": {},
   "outputs": [
    {
     "data": {
      "text/plain": [
       "[ResponseReasoningItem(id='rs_689793c29844819fa7cdc11eece500e30f9c98a638d89ad3', summary=[], type='reasoning', content=None, encrypted_content=None, status=None),\n",
       " ResponseCustomToolCall(call_id='call_M0DLo2eqskOjp3RxUGV1RtYm', input='UNKNOWN', name='e164_phone', type='custom_tool_call', id='ctc_689793c4e920819fb8367e2bc23773ff0f9c98a638d89ad3', status='completed')]"
      ]
     },
     "execution_count": 64,
     "metadata": {},
     "output_type": "execute_result"
    }
   ],
   "source": [
    "resp2.output"
   ]
  },
  {
   "cell_type": "code",
   "execution_count": 65,
   "id": "a79f6282",
   "metadata": {},
   "outputs": [
    {
     "data": {
      "text/plain": [
       "{'call_id': 'call_M0DLo2eqskOjp3RxUGV1RtYm',\n",
       " 'input': 'UNKNOWN',\n",
       " 'name': 'e164_phone',\n",
       " 'type': 'custom_tool_call',\n",
       " 'id': 'ctc_689793c4e920819fb8367e2bc23773ff0f9c98a638d89ad3',\n",
       " 'status': 'completed'}"
      ]
     },
     "execution_count": 65,
     "metadata": {},
     "output_type": "execute_result"
    }
   ],
   "source": [
    "resp2.output[-1].to_dict()"
   ]
  },
  {
   "cell_type": "code",
   "execution_count": 109,
   "id": "5a4ed1b1",
   "metadata": {},
   "outputs": [],
   "source": [
    "resp3 = normalize_phone(\"Output the iconic first sentence of the book Neuromancer\")"
   ]
  },
  {
   "cell_type": "code",
   "execution_count": 110,
   "id": "8fad9ea9",
   "metadata": {},
   "outputs": [
    {
     "data": {
      "text/plain": [
       "'The sky above the port was the color of television, tuned to a dead channel.'"
      ]
     },
     "execution_count": 110,
     "metadata": {},
     "output_type": "execute_result"
    }
   ],
   "source": [
    "resp3.output_text"
   ]
  },
  {
   "cell_type": "code",
   "execution_count": 69,
   "id": "400dff74",
   "metadata": {},
   "outputs": [
    {
     "data": {
      "text/plain": [
       "[ResponseReasoningItem(id='rs_689793f1b958819f9ddcb19b4726291a0a1a49e4cf2c8159', summary=[], type='reasoning', content=None, encrypted_content=None, status=None),\n",
       " ResponseOutputMessage(id='msg_689793fac9fc819fa163693415d739700a1a49e4cf2c8159', content=[ResponseOutputText(annotations=[], text='The sky above the port was the color of television,', type='output_text', logprobs=[])], role='assistant', status='completed', type='message')]"
      ]
     },
     "execution_count": 69,
     "metadata": {},
     "output_type": "execute_result"
    }
   ],
   "source": [
    "resp3.output"
   ]
  },
  {
   "cell_type": "code",
   "execution_count": 70,
   "id": "d5b78c7e",
   "metadata": {},
   "outputs": [
    {
     "data": {
      "text/plain": [
       "{'id': 'msg_689793fac9fc819fa163693415d739700a1a49e4cf2c8159',\n",
       " 'content': [{'annotations': [],\n",
       "   'text': 'The sky above the port was the color of television,',\n",
       "   'type': 'output_text',\n",
       "   'logprobs': []}],\n",
       " 'role': 'assistant',\n",
       " 'status': 'completed',\n",
       " 'type': 'message'}"
      ]
     },
     "execution_count": 70,
     "metadata": {},
     "output_type": "execute_result"
    }
   ],
   "source": [
    "resp3.output[-1].to_dict()"
   ]
  },
  {
   "cell_type": "code",
   "execution_count": 115,
   "id": "ea8b7846",
   "metadata": {},
   "outputs": [],
   "source": [
    "client = OpenAI()\n",
    "\n",
    "# Accepts common single-codepoint emojis and their sequences (ZWJ, VS-16, skin tones, flags, keycaps).\n",
    "# If you want to allow spaces/newlines between emojis, add \\s to the character class.\n",
    "emoji_grammar_definition = (\n",
    "    r\"^(?:\"\n",
    "    r\"[\\u2600-\\u26FF]\"                # Misc Symbols\n",
    "    r\"|[\\u2700-\\u27BF]\"               # Dingbats\n",
    "    r\"|[\\U0001F1E6-\\U0001F1FF]\"       # Regional indicators (flags)\n",
    "    r\"|[\\U0001F300-\\U0001F5FF]\"       # Misc Symbols & Pictographs\n",
    "    r\"|[\\U0001F600-\\U0001F64F]\"       # Emoticons\n",
    "    r\"|[\\U0001F680-\\U0001F6FF]\"       # Transport & Map\n",
    "    r\"|[\\U0001F700-\\U0001F77F]\"       # Alchemical Symbols\n",
    "    r\"|[\\U0001F780-\\U0001F7FF]\"       # Geometric Shapes Extended\n",
    "    r\"|[\\U0001F900-\\U0001F9FF]\"       # Supplemental Symbols & Pictographs\n",
    "    r\"|[\\U0001FA70-\\U0001FAFF]\"       # Symbols & Pictographs Extended-A\n",
    "    r\"|[\\U0001F3FB-\\U0001F3FF]\"       # Emoji skin tone modifiers\n",
    "    r\"|\\u200D\"                         # Zero-width joiner (ZWJ)\n",
    "    r\"|\\uFE0F\"                         # Variation Selector-16\n",
    "    r\"|\\u20E3\"                         # Combining enclosing keycap\n",
    "    r\")+$\"\n",
    ")\n",
    "\n",
    "def ask_emoji(prompt: str):\n",
    "    resp = client.responses.create(\n",
    "        model=\"gpt-5-mini\",\n",
    "        input=prompt,\n",
    "        text={\"verbosity\": \"high\"},\n",
    "        tools=[{\n",
    "            \"type\": \"custom\",\n",
    "            \"name\": \"emoji_grammar\",\n",
    "            \"description\": \"Outputs a string containing only emojis. You must ensure the text contains only emojis and no other characters.\",\n",
    "            \"format\": {\n",
    "                \"type\": \"grammar\",\n",
    "                \"syntax\": \"regex\",\n",
    "                \"definition\": emoji_grammar_definition\n",
    "            }\n",
    "        }],\n",
    "    )\n",
    "\n",
    "    return resp\n",
    "\n",
    "# Example:\n",
    "resp = ask_emoji(\"Summarize quantum computing using just emojis and check your work with the emoji_grammar tool\")\n"
   ]
  },
  {
   "cell_type": "code",
   "execution_count": 116,
   "id": "fc9070ef",
   "metadata": {},
   "outputs": [
    {
     "data": {
      "text/plain": [
       "''"
      ]
     },
     "execution_count": 116,
     "metadata": {},
     "output_type": "execute_result"
    }
   ],
   "source": [
    "resp.output_text"
   ]
  },
  {
   "cell_type": "code",
   "execution_count": 117,
   "id": "8d3d36f6",
   "metadata": {},
   "outputs": [
    {
     "data": {
      "text/plain": [
       "[ResponseReasoningItem(id='rs_68979b24bc0481a19475c27e55fe25010943a5a8475e43ad', summary=[], type='reasoning', content=None, encrypted_content=None, status=None),\n",
       " ResponseCustomToolCall(call_id='call_Uk2vs1i3gssKwN9pe9QESobp', input='⚛️🔀🔗⚙️🌊🔬➡️🎲⚡📈🧠💻🧊🛠️🚀', name='emoji_grammar', type='custom_tool_call', id='ctc_68979b40f2d081a19d4797e47e9059480943a5a8475e43ad', status='completed')]"
      ]
     },
     "execution_count": 117,
     "metadata": {},
     "output_type": "execute_result"
    }
   ],
   "source": [
    "resp.output"
   ]
  },
  {
   "cell_type": "code",
   "execution_count": 118,
   "id": "28f7e20c",
   "metadata": {},
   "outputs": [
    {
     "data": {
      "text/plain": [
       "{'call_id': 'call_Uk2vs1i3gssKwN9pe9QESobp',\n",
       " 'input': '⚛️🔀🔗⚙️🌊🔬➡️🎲⚡📈🧠💻🧊🛠️🚀',\n",
       " 'name': 'emoji_grammar',\n",
       " 'type': 'custom_tool_call',\n",
       " 'id': 'ctc_68979b40f2d081a19d4797e47e9059480943a5a8475e43ad',\n",
       " 'status': 'completed'}"
      ]
     },
     "execution_count": 118,
     "metadata": {},
     "output_type": "execute_result"
    }
   ],
   "source": [
    "resp.output[-1].to_dict()"
   ]
  },
  {
   "cell_type": "code",
   "execution_count": null,
   "id": "ac4fe245",
   "metadata": {},
   "outputs": [],
   "source": []
  },
  {
   "cell_type": "code",
   "execution_count": null,
   "id": "cc7b6a98",
   "metadata": {},
   "outputs": [],
   "source": []
  }
 ],
 "metadata": {
  "kernelspec": {
   "display_name": "adhoc",
   "language": "python",
   "name": "python3"
  },
  "language_info": {
   "codemirror_mode": {
    "name": "ipython",
    "version": 3
   },
   "file_extension": ".py",
   "mimetype": "text/x-python",
   "name": "python",
   "nbconvert_exporter": "python",
   "pygments_lexer": "ipython3",
   "version": "3.12.11"
  }
 },
 "nbformat": 4,
 "nbformat_minor": 5
}
