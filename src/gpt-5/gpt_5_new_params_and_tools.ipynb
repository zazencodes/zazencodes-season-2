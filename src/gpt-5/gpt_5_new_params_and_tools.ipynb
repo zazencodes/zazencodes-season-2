{
 "cells": [
  {
   "cell_type": "markdown",
   "id": "ddfe8811",
   "metadata": {},
   "source": [
    "# GPT-5 New Developer Features\n",
    "\n",
    "- Reasoning strength\n",
    "- Verbosity\n",
    "- Freeform function calling\n",
    "- CFG"
   ]
  },
  {
   "cell_type": "markdown",
   "id": "cf8e0570",
   "metadata": {},
   "source": [
    "## Notebook Setup"
   ]
  },
  {
   "cell_type": "code",
   "execution_count": 1,
   "id": "238cb0ed",
   "metadata": {},
   "outputs": [],
   "source": [
    "from IPython.display import display\n",
    "import pandas as pd\n",
    "import time\n",
    "\n",
    "\n",
    "# Display nicely with centered headers\n",
    "def display_df(df):\n",
    "    with pd.option_context('display.max_colwidth', None):\n",
    "        styled_df = df.style.set_table_styles(\n",
    "            [\n",
    "                {'selector': 'th', 'props': [('text-align', 'center')]},  # Center column headers\n",
    "                {'selector': 'td', 'props': [('text-align', 'left')]}     # Left-align table cells\n",
    "            ]\n",
    "        )\n",
    "\n",
    "        display(styled_df)"
   ]
  },
  {
   "cell_type": "markdown",
   "id": "9fc1a9d4",
   "metadata": {},
   "source": [
    "## OpenAI Responses VS Chat Completions"
   ]
  },
  {
   "cell_type": "code",
   "execution_count": 2,
   "id": "66586da2",
   "metadata": {},
   "outputs": [],
   "source": [
    "from openai import OpenAI"
   ]
  },
  {
   "cell_type": "code",
   "execution_count": 3,
   "id": "7b503705",
   "metadata": {},
   "outputs": [],
   "source": [
    "client = OpenAI()\n",
    "\n",
    "completion_resp = client.chat.completions.create(\n",
    "    model=\"gpt-5\",\n",
    "    messages=[\n",
    "        {\"role\": \"user\", \"content\": \"what's the top vegan food in the world?\"}\n",
    "    ]\n",
    ")\n"
   ]
  },
  {
   "cell_type": "code",
   "execution_count": 5,
   "id": "f87c0d66",
   "metadata": {},
   "outputs": [
    {
     "data": {
      "text/plain": [
       "ChatCompletion(id='chatcmpl-C33MHIVNFmPZ4PlNjtPiNCkVMxBWZ', choices=[Choice(finish_reason='stop', index=0, logprobs=None, message=ChatCompletionMessage(content='There isn’t a single “top” vegan food—it depends on what you mean. By sheer global consumption, a strong contender is dal (lentil stew): it’s a daily staple for hundreds of millions across South Asia, inexpensive, nutritious, and endlessly varied.\\n\\nIf you mean internationally beloved/recognizable dishes, top contenders include:\\n- Falafel and hummus (Levant/Middle East)\\n- Chana masala and vegetable curries (India)\\n- Rice and beans (Latin America, Caribbean, Africa)\\n- Tofu stir-fries (East Asia)\\n- Pasta al pomodoro or pizza marinara (Italy)\\n\\nWant a quick recipe or picks tailored to your taste and region?', refusal=None, role='assistant', annotations=[], audio=None, function_call=None, tool_calls=None))], created=1754843929, model='gpt-5-2025-08-07', object='chat.completion', service_tier='default', system_fingerprint=None, usage=CompletionUsage(completion_tokens=917, prompt_tokens=16, total_tokens=933, completion_tokens_details=CompletionTokensDetails(accepted_prediction_tokens=0, audio_tokens=0, reasoning_tokens=768, rejected_prediction_tokens=0), prompt_tokens_details=PromptTokensDetails(audio_tokens=0, cached_tokens=0)))"
      ]
     },
     "execution_count": 5,
     "metadata": {},
     "output_type": "execute_result"
    }
   ],
   "source": [
    "completion_resp"
   ]
  },
  {
   "cell_type": "code",
   "execution_count": 4,
   "id": "8db1eced",
   "metadata": {},
   "outputs": [
    {
     "name": "stdout",
     "output_type": "stream",
     "text": [
      "There isn’t a single “top” vegan food—it depends on what you mean. By sheer global consumption, a strong contender is dal (lentil stew): it’s a daily staple for hundreds of millions across South Asia, inexpensive, nutritious, and endlessly varied.\n",
      "\n",
      "If you mean internationally beloved/recognizable dishes, top contenders include:\n",
      "- Falafel and hummus (Levant/Middle East)\n",
      "- Chana masala and vegetable curries (India)\n",
      "- Rice and beans (Latin America, Caribbean, Africa)\n",
      "- Tofu stir-fries (East Asia)\n",
      "- Pasta al pomodoro or pizza marinara (Italy)\n",
      "\n",
      "Want a quick recipe or picks tailored to your taste and region?\n"
     ]
    }
   ],
   "source": [
    "print(completion_resp.choices[0].message.content)"
   ]
  },
  {
   "cell_type": "code",
   "execution_count": 6,
   "id": "c19400ab",
   "metadata": {},
   "outputs": [],
   "source": [
    "client = OpenAI()\n",
    "\n",
    "responses_resp = client.responses.create(\n",
    "    model=\"gpt-5\",\n",
    "    input=\"what's the top vegan food in the world?\",\n",
    ")"
   ]
  },
  {
   "cell_type": "code",
   "execution_count": 8,
   "id": "5c382a67",
   "metadata": {},
   "outputs": [
    {
     "data": {
      "text/plain": [
       "Response(id='resp_6898cb60bfc48193b1eb8a91bd2d3a8a03eec41b88155996', created_at=1754844000.0, error=None, incomplete_details=None, instructions=None, metadata={}, model='gpt-5-2025-08-07', object='response', output=[ResponseReasoningItem(id='rs_6898cb6164308193a387d4481b1f703003eec41b88155996', summary=[], type='reasoning', content=None, encrypted_content=None, status=None), ResponseOutputMessage(id='msg_6898cb6893848193afffdcbaeea4a46803eec41b88155996', content=[ResponseOutputText(annotations=[], text='There isn’t a single “top” vegan food worldwide, but two strong contenders depending on how you define it:\\n\\n- By sheer number of people eating it: dal (lentil stew) with rice or roti. It’s a daily staple for hundreds of millions across South Asia and is fully vegan by default.\\n- By global popularity/recognition: falafel. It’s an iconic, widely loved vegan street food available almost everywhere.\\n\\nOther globally popular vegan staples: hummus, chana masala, vegetable curries, tofu stir-fries, pizza marinara, and bean tacos.\\n\\nWant a quick recipe for any of these?', type='output_text', logprobs=[])], role='assistant', status='completed', type='message')], parallel_tool_calls=True, temperature=1.0, tool_choice='auto', tools=[], top_p=1.0, background=False, max_output_tokens=None, max_tool_calls=None, previous_response_id=None, prompt=None, prompt_cache_key=None, reasoning=Reasoning(effort='medium', generate_summary=None, summary=None), safety_identifier=None, service_tier='auto', status='completed', text=ResponseTextConfig(format=ResponseFormatText(type='text'), verbosity='medium'), top_logprobs=0, truncation='disabled', usage=ResponseUsage(input_tokens=16, input_tokens_details=InputTokensDetails(cached_tokens=0), output_tokens=646, output_tokens_details=OutputTokensDetails(reasoning_tokens=512), total_tokens=662), user=None, store=True)"
      ]
     },
     "execution_count": 8,
     "metadata": {},
     "output_type": "execute_result"
    }
   ],
   "source": [
    "responses_resp"
   ]
  },
  {
   "cell_type": "code",
   "execution_count": 10,
   "id": "012fb0a6",
   "metadata": {},
   "outputs": [
    {
     "data": {
      "text/plain": [
       "[ResponseReasoningItem(id='rs_6898cb6164308193a387d4481b1f703003eec41b88155996', summary=[], type='reasoning', content=None, encrypted_content=None, status=None),\n",
       " ResponseOutputMessage(id='msg_6898cb6893848193afffdcbaeea4a46803eec41b88155996', content=[ResponseOutputText(annotations=[], text='There isn’t a single “top” vegan food worldwide, but two strong contenders depending on how you define it:\\n\\n- By sheer number of people eating it: dal (lentil stew) with rice or roti. It’s a daily staple for hundreds of millions across South Asia and is fully vegan by default.\\n- By global popularity/recognition: falafel. It’s an iconic, widely loved vegan street food available almost everywhere.\\n\\nOther globally popular vegan staples: hummus, chana masala, vegetable curries, tofu stir-fries, pizza marinara, and bean tacos.\\n\\nWant a quick recipe for any of these?', type='output_text', logprobs=[])], role='assistant', status='completed', type='message')]"
      ]
     },
     "execution_count": 10,
     "metadata": {},
     "output_type": "execute_result"
    }
   ],
   "source": [
    "responses_resp.output"
   ]
  },
  {
   "cell_type": "code",
   "execution_count": 7,
   "id": "0a87b33b",
   "metadata": {},
   "outputs": [
    {
     "name": "stdout",
     "output_type": "stream",
     "text": [
      "There isn’t a single “top” vegan food worldwide, but two strong contenders depending on how you define it:\n",
      "\n",
      "- By sheer number of people eating it: dal (lentil stew) with rice or roti. It’s a daily staple for hundreds of millions across South Asia and is fully vegan by default.\n",
      "- By global popularity/recognition: falafel. It’s an iconic, widely loved vegan street food available almost everywhere.\n",
      "\n",
      "Other globally popular vegan staples: hummus, chana masala, vegetable curries, tofu stir-fries, pizza marinara, and bean tacos.\n",
      "\n",
      "Want a quick recipe for any of these?\n"
     ]
    }
   ],
   "source": [
    "print(responses_resp.output_text)"
   ]
  },
  {
   "cell_type": "markdown",
   "id": "cef406f2",
   "metadata": {},
   "source": [
    "## Reasoning strength"
   ]
  },
  {
   "cell_type": "code",
   "execution_count": 13,
   "id": "32cfe6c7",
   "metadata": {},
   "outputs": [
    {
     "name": "stdout",
     "output_type": "stream",
     "text": [
      "Requesting with effort: minimal\n",
      "Response: Response(id='resp_6898ccb58650819f98d3fe9cddf3ee890d27e5b119ad0485', created_at=1754844341.0, error=None, incomplete_details=None, instructions=None, metadata={}, model='gpt-5-nano-2025-08-07', object='response', output=[ResponseReasoningItem(id='rs_6898ccb5e540819fa1d897a340cacde00d27e5b119ad0485', summary=[], type='reasoning', content=None, encrypted_content=None, status=None), ResponseOutputMessage(id='msg_6898ccb5ee44819fb60f444ebba3b8a50d27e5b119ad0485', content=[ResponseOutputText(annotations=[], text='For an infinite square well of width L centered at x = 0 (walls at x = ±L/2), the normalized eigenfunctions are:\\n\\nψ_n(x) = sqrt(2/L) * sin[nπ (x + L/2)/L], with n = 1,2,3\\n\\nEquivalently, using parity:\\n\\n- n odd: ψ_n(x) = sqrt(2/L) cos(nπ x / L)\\n- n even: ψ_n(x) = sqrt(2/L) sin(nπ x / L)\\n\\nFor n = 1, 2, 3 explicitly:\\n- n = 1: ψ_1(x) = sqrt(2/L) cos(π x / L)\\n- n = 2: ψ_2(x) = sqrt(2/L) sin(2π x / L)\\n- n = 3: ψ_3(x) = sqrt(2/L) cos(3π x / L)', type='output_text', logprobs=[])], role='assistant', status='completed', type='message')], parallel_tool_calls=True, temperature=1.0, tool_choice='auto', tools=[], top_p=1.0, background=False, max_output_tokens=None, max_tool_calls=None, previous_response_id=None, prompt=None, prompt_cache_key=None, reasoning=Reasoning(effort='minimal', generate_summary=None, summary=None), safety_identifier=None, service_tier='default', status='completed', text=ResponseTextConfig(format=ResponseFormatText(type='text'), verbosity='medium'), top_logprobs=0, truncation='disabled', usage=ResponseUsage(input_tokens=64, input_tokens_details=InputTokensDetails(cached_tokens=0), output_tokens=205, output_tokens_details=OutputTokensDetails(reasoning_tokens=0), total_tokens=269), user=None, store=True)\n",
      "Requesting with effort: low\n",
      "Response: Response(id='resp_6898ccb7186c8197aab340cc867bb4a6092b1d1963ab2dda', created_at=1754844343.0, error=None, incomplete_details=None, instructions=None, metadata={}, model='gpt-5-nano-2025-08-07', object='response', output=[ResponseReasoningItem(id='rs_6898ccb7a5e881979137d09d48c6beac092b1d1963ab2dda', summary=[], type='reasoning', content=None, encrypted_content=None, status=None), ResponseOutputMessage(id='msg_6898ccb89df081978f5272eca8cf85c3092b1d1963ab2dda', content=[ResponseOutputText(annotations=[], text='For a well of width L between x = -L/2 and x = L/2, the normalized eigenfunctions are\\n\\nψ_n(x) = sqrt(2/L) sin[ nπ (x + L/2) / L ],  n = 1, 2, 3.\\n\\nThus:\\n- n = 1: ψ_1(x) = sqrt(2/L) sin[ π (x + L/2) / L ]\\n- n = 2: ψ_2(x) = sqrt(2/L) sin[ 2π (x + L/2) / L ]\\n- n = 3: ψ_3(x) = sqrt(2/L) sin[ 3π (x + L/2) / L ]', type='output_text', logprobs=[])], role='assistant', status='completed', type='message')], parallel_tool_calls=True, temperature=1.0, tool_choice='auto', tools=[], top_p=1.0, background=False, max_output_tokens=None, max_tool_calls=None, previous_response_id=None, prompt=None, prompt_cache_key=None, reasoning=Reasoning(effort='low', generate_summary=None, summary=None), safety_identifier=None, service_tier='default', status='completed', text=ResponseTextConfig(format=ResponseFormatText(type='text'), verbosity='medium'), top_logprobs=0, truncation='disabled', usage=ResponseUsage(input_tokens=64, input_tokens_details=InputTokensDetails(cached_tokens=0), output_tokens=420, output_tokens_details=OutputTokensDetails(reasoning_tokens=256), total_tokens=484), user=None, store=True)\n",
      "Requesting with effort: medium\n",
      "Response: Response(id='resp_6898ccb9aec481928f0422dba4f48ab60490dbe5df2e86c4', created_at=1754844345.0, error=None, incomplete_details=None, instructions=None, metadata={}, model='gpt-5-nano-2025-08-07', object='response', output=[ResponseReasoningItem(id='rs_6898ccb9ea308192a5875b291c6aa74d0490dbe5df2e86c4', summary=[], type='reasoning', content=None, encrypted_content=None, status=None), ResponseOutputMessage(id='msg_6898ccc059588192b4273edfc6c16a740490dbe5df2e86c4', content=[ResponseOutputText(annotations=[], text='For a well with walls at x = ±L/2, the normalized eigenfunctions are:\\n\\n- n = 1: ψ_1(x) = sqrt{2/L} cos(π x / L)\\n- n = 2: ψ_2(x) = sqrt{2/L} sin(2π x / L)\\n- n = 3: ψ_3(x) = sqrt{2/L} cos(3π x / L)\\n\\n(Satisfying ψ_n(±L/2) = 0; defined for -L/2 ≤ x ≤ L/2, zero outside.)', type='output_text', logprobs=[])], role='assistant', status='completed', type='message')], parallel_tool_calls=True, temperature=1.0, tool_choice='auto', tools=[], top_p=1.0, background=False, max_output_tokens=None, max_tool_calls=None, previous_response_id=None, prompt=None, prompt_cache_key=None, reasoning=Reasoning(effort='medium', generate_summary=None, summary=None), safety_identifier=None, service_tier='default', status='completed', text=ResponseTextConfig(format=ResponseFormatText(type='text'), verbosity='medium'), top_logprobs=0, truncation='disabled', usage=ResponseUsage(input_tokens=64, input_tokens_details=InputTokensDetails(cached_tokens=0), output_tokens=2242, output_tokens_details=OutputTokensDetails(reasoning_tokens=2112), total_tokens=2306), user=None, store=True)\n",
      "Requesting with effort: high\n",
      "Response: Response(id='resp_6898ccc122a0819c90d8bcf60bc776890f9855926fc92f55', created_at=1754844353.0, error=None, incomplete_details=None, instructions=None, metadata={}, model='gpt-5-nano-2025-08-07', object='response', output=[ResponseReasoningItem(id='rs_6898ccc1f56c819c853588962078c07b0f9855926fc92f55', summary=[], type='reasoning', content=None, encrypted_content=None, status=None), ResponseOutputMessage(id='msg_6898ccda1078819cae009fb61757a5650f9855926fc92f55', content=[ResponseOutputText(annotations=[], text='Normalized stationary states (−L/2 < x < L/2; zero outside):\\n\\n- ψ1(x) = sqrt(2/L) cos(π x / L)\\n- ψ2(x) = sqrt(2/L) sin(2π x / L)\\n- ψ3(x) = sqrt(2/L) cos(3π x / L)\\n\\n(Outside the well, ψn(x) = 0.)', type='output_text', logprobs=[])], role='assistant', status='completed', type='message')], parallel_tool_calls=True, temperature=1.0, tool_choice='auto', tools=[], top_p=1.0, background=False, max_output_tokens=None, max_tool_calls=None, previous_response_id=None, prompt=None, prompt_cache_key=None, reasoning=Reasoning(effort='high', generate_summary=None, summary=None), safety_identifier=None, service_tier='default', status='completed', text=ResponseTextConfig(format=ResponseFormatText(type='text'), verbosity='medium'), top_logprobs=0, truncation='disabled', usage=ResponseUsage(input_tokens=64, input_tokens_details=InputTokensDetails(cached_tokens=0), output_tokens=7389, output_tokens_details=OutputTokensDetails(reasoning_tokens=7296), total_tokens=7453), user=None, store=True)\n"
     ]
    }
   ],
   "source": [
    "client = OpenAI()\n",
    "\n",
    "question = \"\"\"\n",
    "A particle with mass m is in an infinite square well potential with\n",
    "walls at x = -L/2 and x = L/2.  Write the wave functions for the states\n",
    "n = 1, n = 2 and n = 3. Answer succinctly.\n",
    "\"\"\"\n",
    "\n",
    "data = []\n",
    "\n",
    "for effort in [\"minimal\", \"low\", \"medium\", \"high\"]:\n",
    "    print(f\"Requesting with effort: {effort}\")\n",
    "    start_time = time.time()\n",
    "    response = client.responses.create(\n",
    "        model=\"gpt-5-nano\",\n",
    "        input=question,\n",
    "        reasoning={\"effort\": effort}\n",
    "    )\n",
    "    elapsed_time = time.time() - start_time\n",
    "    print(f\"Response: {response}\")\n",
    "\n",
    "    data.append({\n",
    "        \"Effort\": effort,\n",
    "        \"Output Text\": response.output_text,\n",
    "        \"Reasoning Tokens\": response.usage.output_tokens_details.reasoning_tokens,\n",
    "        \"Output Tokens\": response.usage.output_tokens,\n",
    "        \"Time (s)\": round(elapsed_time, 2)\n",
    "    })\n",
    "\n",
    "# Create DataFrame\n",
    "df = pd.DataFrame(data)"
   ]
  },
  {
   "cell_type": "code",
   "execution_count": 14,
   "id": "ea0449c5",
   "metadata": {},
   "outputs": [
    {
     "data": {
      "text/html": [
       "<style type=\"text/css\">\n",
       "#T_cc4f7 th {\n",
       "  text-align: center;\n",
       "}\n",
       "#T_cc4f7 td {\n",
       "  text-align: left;\n",
       "}\n",
       "</style>\n",
       "<table id=\"T_cc4f7\">\n",
       "  <thead>\n",
       "    <tr>\n",
       "      <th class=\"blank level0\" >&nbsp;</th>\n",
       "      <th id=\"T_cc4f7_level0_col0\" class=\"col_heading level0 col0\" >Effort</th>\n",
       "      <th id=\"T_cc4f7_level0_col1\" class=\"col_heading level0 col1\" >Output Text</th>\n",
       "      <th id=\"T_cc4f7_level0_col2\" class=\"col_heading level0 col2\" >Reasoning Tokens</th>\n",
       "      <th id=\"T_cc4f7_level0_col3\" class=\"col_heading level0 col3\" >Output Tokens</th>\n",
       "      <th id=\"T_cc4f7_level0_col4\" class=\"col_heading level0 col4\" >Time (s)</th>\n",
       "    </tr>\n",
       "  </thead>\n",
       "  <tbody>\n",
       "    <tr>\n",
       "      <th id=\"T_cc4f7_level0_row0\" class=\"row_heading level0 row0\" >0</th>\n",
       "      <td id=\"T_cc4f7_row0_col0\" class=\"data row0 col0\" >minimal</td>\n",
       "      <td id=\"T_cc4f7_row0_col1\" class=\"data row0 col1\" >For an infinite square well of width L centered at x = 0 (walls at x = ±L/2), the normalized eigenfunctions are:\n",
       "\n",
       "ψ_n(x) = sqrt(2/L) * sin[nπ (x + L/2)/L], with n = 1,2,3\n",
       "\n",
       "Equivalently, using parity:\n",
       "\n",
       "- n odd: ψ_n(x) = sqrt(2/L) cos(nπ x / L)\n",
       "- n even: ψ_n(x) = sqrt(2/L) sin(nπ x / L)\n",
       "\n",
       "For n = 1, 2, 3 explicitly:\n",
       "- n = 1: ψ_1(x) = sqrt(2/L) cos(π x / L)\n",
       "- n = 2: ψ_2(x) = sqrt(2/L) sin(2π x / L)\n",
       "- n = 3: ψ_3(x) = sqrt(2/L) cos(3π x / L)</td>\n",
       "      <td id=\"T_cc4f7_row0_col2\" class=\"data row0 col2\" >0</td>\n",
       "      <td id=\"T_cc4f7_row0_col3\" class=\"data row0 col3\" >205</td>\n",
       "      <td id=\"T_cc4f7_row0_col4\" class=\"data row0 col4\" >2.190000</td>\n",
       "    </tr>\n",
       "    <tr>\n",
       "      <th id=\"T_cc4f7_level0_row1\" class=\"row_heading level0 row1\" >1</th>\n",
       "      <td id=\"T_cc4f7_row1_col0\" class=\"data row1 col0\" >low</td>\n",
       "      <td id=\"T_cc4f7_row1_col1\" class=\"data row1 col1\" >For a well of width L between x = -L/2 and x = L/2, the normalized eigenfunctions are\n",
       "\n",
       "ψ_n(x) = sqrt(2/L) sin[ nπ (x + L/2) / L ],  n = 1, 2, 3.\n",
       "\n",
       "Thus:\n",
       "- n = 1: ψ_1(x) = sqrt(2/L) sin[ π (x + L/2) / L ]\n",
       "- n = 2: ψ_2(x) = sqrt(2/L) sin[ 2π (x + L/2) / L ]\n",
       "- n = 3: ψ_3(x) = sqrt(2/L) sin[ 3π (x + L/2) / L ]</td>\n",
       "      <td id=\"T_cc4f7_row1_col2\" class=\"data row1 col2\" >256</td>\n",
       "      <td id=\"T_cc4f7_row1_col3\" class=\"data row1 col3\" >420</td>\n",
       "      <td id=\"T_cc4f7_row1_col4\" class=\"data row1 col4\" >2.580000</td>\n",
       "    </tr>\n",
       "    <tr>\n",
       "      <th id=\"T_cc4f7_level0_row2\" class=\"row_heading level0 row2\" >2</th>\n",
       "      <td id=\"T_cc4f7_row2_col0\" class=\"data row2 col0\" >medium</td>\n",
       "      <td id=\"T_cc4f7_row2_col1\" class=\"data row2 col1\" >For a well with walls at x = ±L/2, the normalized eigenfunctions are:\n",
       "\n",
       "- n = 1: ψ_1(x) = sqrt{2/L} cos(π x / L)\n",
       "- n = 2: ψ_2(x) = sqrt{2/L} sin(2π x / L)\n",
       "- n = 3: ψ_3(x) = sqrt{2/L} cos(3π x / L)\n",
       "\n",
       "(Satisfying ψ_n(±L/2) = 0; defined for -L/2 ≤ x ≤ L/2, zero outside.)</td>\n",
       "      <td id=\"T_cc4f7_row2_col2\" class=\"data row2 col2\" >2112</td>\n",
       "      <td id=\"T_cc4f7_row2_col3\" class=\"data row2 col3\" >2242</td>\n",
       "      <td id=\"T_cc4f7_row2_col4\" class=\"data row2 col4\" >7.480000</td>\n",
       "    </tr>\n",
       "    <tr>\n",
       "      <th id=\"T_cc4f7_level0_row3\" class=\"row_heading level0 row3\" >3</th>\n",
       "      <td id=\"T_cc4f7_row3_col0\" class=\"data row3 col0\" >high</td>\n",
       "      <td id=\"T_cc4f7_row3_col1\" class=\"data row3 col1\" >Normalized stationary states (−L/2 < x < L/2; zero outside):\n",
       "\n",
       "- ψ1(x) = sqrt(2/L) cos(π x / L)\n",
       "- ψ2(x) = sqrt(2/L) sin(2π x / L)\n",
       "- ψ3(x) = sqrt(2/L) cos(3π x / L)\n",
       "\n",
       "(Outside the well, ψn(x) = 0.)</td>\n",
       "      <td id=\"T_cc4f7_row3_col2\" class=\"data row3 col2\" >7296</td>\n",
       "      <td id=\"T_cc4f7_row3_col3\" class=\"data row3 col3\" >7389</td>\n",
       "      <td id=\"T_cc4f7_row3_col4\" class=\"data row3 col4\" >25.600000</td>\n",
       "    </tr>\n",
       "  </tbody>\n",
       "</table>\n"
      ],
      "text/plain": [
       "<pandas.io.formats.style.Styler at 0x11f2b5220>"
      ]
     },
     "metadata": {},
     "output_type": "display_data"
    }
   ],
   "source": [
    "display_df(df)"
   ]
  },
  {
   "cell_type": "markdown",
   "id": "7e4e4110",
   "metadata": {},
   "source": [
    "## Verbosity"
   ]
  },
  {
   "cell_type": "code",
   "execution_count": 15,
   "id": "f6513a8f",
   "metadata": {},
   "outputs": [
    {
     "name": "stdout",
     "output_type": "stream",
     "text": [
      "Requesting with verbosity: low\n",
      "Response: Response(id='resp_6898ccf933448190804937087961005e0c9cd1c1b39be987', created_at=1754844409.0, error=None, incomplete_details=None, instructions=None, metadata={}, model='gpt-5-nano-2025-08-07', object='response', output=[ResponseReasoningItem(id='rs_6898ccf9c968819082576b2a67c244c10c9cd1c1b39be987', summary=[], type='reasoning', content=None, encrypted_content=None, status=None), ResponseOutputMessage(id='msg_6898ccff0b40819094d7b9d2e498d45e0c9cd1c1b39be987', content=[ResponseOutputText(annotations=[], text='Here are the main benefits of cooking with cast iron:\\n\\n- Excellent heat retention and even heating, great for searing and frying.\\n- Superior crusts and Maillard browning for flavorful dishes.\\n- Very versatile: stovetop, oven, grill, or campfire; good for finishing in the oven.\\n- Extremely durable and long-lasting; can last generations with proper care.\\n- Natural nonstick seasoning that improves with use (less reliance on synthetic coatings).\\n- Adds a small amount of dietary iron to food.\\n- Cost-effective and widely available; low ongoing maintenance compared to some nonstick pans.\\n- Works well on all cooktops, including induction.\\n\\nCare tip (brief): hand-wash with mild soap or hot water, dry immediately, lightly oil the surface, and re-season periodically to maintain the coating. Avoid dishwashers and soaking to prevent rust.', type='output_text', logprobs=[])], role='assistant', status='completed', type='message')], parallel_tool_calls=True, temperature=1.0, tool_choice='auto', tools=[], top_p=1.0, background=False, max_output_tokens=None, max_tool_calls=None, previous_response_id=None, prompt=None, prompt_cache_key=None, reasoning=Reasoning(effort='medium', generate_summary=None, summary=None), safety_identifier=None, service_tier='default', status='completed', text=ResponseTextConfig(format=ResponseFormatText(type='text'), verbosity='low'), top_logprobs=0, truncation='disabled', usage=ResponseUsage(input_tokens=16, input_tokens_details=InputTokensDetails(cached_tokens=0), output_tokens=1650, output_tokens_details=OutputTokensDetails(reasoning_tokens=1472), total_tokens=1666), user=None, store=True)\n",
      "Requesting with verbosity: medium\n",
      "Response: Response(id='resp_6898cd004a7481a3893f1b3b5f90a19304ac26c1e6d1fa2d', created_at=1754844416.0, error=None, incomplete_details=None, instructions=None, metadata={}, model='gpt-5-nano-2025-08-07', object='response', output=[ResponseReasoningItem(id='rs_6898cd007ee881a3aa7beff96bc94b5204ac26c1e6d1fa2d', summary=[], type='reasoning', content=None, encrypted_content=None, status=None), ResponseOutputMessage(id='msg_6898cd05e1a481a3b61e315231de15b604ac26c1e6d1fa2d', content=[ResponseOutputText(annotations=[], text='Cast iron pans are a kitchen workhorse for good reasons. Here are the main benefits and how they help in everyday cooking:\\n\\n- Superior heat retention and searing\\n  - The heavy metal holds high heat and distributes it well, giving you a great crust on meats and crispy edges on veggies.\\n\\n- Even heating and versatility across heat sources\\n  - Works well on gas, electric, induction, ovens, grills, and campfires. You can go from stovetop to oven without changing pans.\\n\\n- Builds a natural non-stick surface with use\\n  - A properly seasoned skillet develops a patina that improves with time and use, making it easier to cook with less oil.\\n\\n- Very durable and long-lasting\\n  - With proper care, cast iron can last for generations and can be passed down as a family heirloom.\\n\\n- Great for a wide range of cooking tasks\\n  - Searing, frying, sautéing, roasting, baking (cornbread, frittatas, pan pizzas), and even finishing sauces after deglazing.\\n\\n- Adds iron content to food\\n  - Cooking in cast iron can contribute a small amount of dietary iron, which can be helpful for some people.\\n\\n- Cost-effective\\n  - Generally affordable and widely available; a single good skillet can replace several other pans over time.\\n\\nTips to get the most from a cast iron pan\\n- Season and care for it: start with a thin oil coating and heat in the oven to polymerize the layer. Re-season as needed.\\n- Cleaning: rinse with hot water and a stiff brush; avoid harsh detergents. Dry thoroughly to prevent rust, then apply a light oil.\\n- Preheating: allow the pan to heat gradually to the desired temperature for best browning.\\n- Avoid long acidic cooking on a brand-new or poorly seasoned pan; it can strip the seasoning until the pan is well seasoned.\\n- Don’t soak or put in the dishwasher; rust is the enemy.\\n- If you do get rust, scrub it off and re-season.\\n\\nIf you’d like, tell me what you usually cook (stovetop only vs. oven use, grilling, camping, etc.), and I can tailor a simple care and cooking plan for your specific setup.', type='output_text', logprobs=[])], role='assistant', status='completed', type='message')], parallel_tool_calls=True, temperature=1.0, tool_choice='auto', tools=[], top_p=1.0, background=False, max_output_tokens=None, max_tool_calls=None, previous_response_id=None, prompt=None, prompt_cache_key=None, reasoning=Reasoning(effort='medium', generate_summary=None, summary=None), safety_identifier=None, service_tier='default', status='completed', text=ResponseTextConfig(format=ResponseFormatText(type='text'), verbosity='medium'), top_logprobs=0, truncation='disabled', usage=ResponseUsage(input_tokens=16, input_tokens_details=InputTokensDetails(cached_tokens=0), output_tokens=2118, output_tokens_details=OutputTokensDetails(reasoning_tokens=1664), total_tokens=2134), user=None, store=True)\n",
      "Requesting with verbosity: high\n",
      "Response: Response(id='resp_6898cd0fc6b48197b2ee345a44ab5a0c0e409e2de031ef11', created_at=1754844431.0, error=None, incomplete_details=None, instructions=None, metadata={}, model='gpt-5-nano-2025-08-07', object='response', output=[ResponseReasoningItem(id='rs_6898cd108a44819784072e33ec5225f50e409e2de031ef11', summary=[], type='reasoning', content=None, encrypted_content=None, status=None), ResponseOutputMessage(id='msg_6898cd2b452c8197932751c56d971f3a0e409e2de031ef11', content=[ResponseOutputText(annotations=[], text=' cast iron pans offer a lot of practical, long-lasting perks. Here’s a thorough look at why so many home cooks love them.\\n\\nKey benefits\\n\\n- Superior heat retention and even heating\\n  - Once hot, cast iron stays hot and distributes heat evenly. That makes it excellent for searing meats, achieving a great crust, and browning vegetables without hot spots.\\n\\n- Natural nonstick with seasoning\\n  - A well-seasoned pan develops a polymerized oil layer that provides a useful nonstick surface. With proper use (thin oil, gradual heating, and routine seasoning), you can cook things like eggs and pancakes with minimal sticking.\\n\\n- Incredible versatility\\n  - Stovetop, oven, grill, or campfire — you can sauté, fry, fry, bake cornbread, skillet pizzas, frittatas, roasts, and more. It can go from the stove to the oven in one dish.\\n\\n- Builds flavor and fond\\n  - The browned bits (fond) left after searing add depth to sauces when deglazed. Cast iron is great for developing and exploiting that fond.\\n\\n- Durability and long lifespan\\n  - Cast iron is famously tough. With proper care, a pan can last for generations, often becoming a family heirloom.\\n\\n- Cost-effective\\n  - Generally inexpensive relative to specialty nonstick or ceramic pans, yet they perform exceptionally well and last longer with good care.\\n\\n- Adds dietary iron (when appropriate)\\n  - Cooking in cast iron can contribute small amounts of iron to food, which can be beneficial for some people. If you have hemochromatosis or iron overload conditions, you might want to be mindful of this.\\n\\n- Induction-friendly and adaptable\\n  - Cast iron works on induction cooktops and on gas, electric, or ceramic ranges. It also handles high heat, which is handy for professional-style searing.\\n\\n- Eco-friendly and low-waste\\n  - The long life of a well-maintained pan means fewer replacements and less waste over time.\\n\\nGetting the most out of your pan\\n\\n- Preheat properly\\n  - Give it time to heat up slowly to prevent sticking and ensure even cooking.\\n\\n- Use oil wisely\\n  - For cooking, use a small amount of oil with a high smoke point (e.g., canola, grapeseed, or avocado oil). For seasoning, thin coats of oil work best; too much oil can create a sticky surface.\\n\\n- Maintain and season\\n  - After cleaning, dry immediately and lightly coat with a thin layer of oil. Bake or heat briefly to polymerize the oil and build the patina.\\n\\n- Cleaning and care\\n  - Rinse with warm water and scrub with a stiff brush or a rough sponge. Avoid soaking. If food sticks, scrub with coarse salt, rinse, dry, then re-oil. Dry thoroughly to prevent rust.\\n\\n- Storage and rust prevention\\n  - Store in a dry place. You can place a paper towel in the pan to absorb moisture or keep a light coat of oil to prevent rust.\\n\\n- Re-season as needed\\n  - If the surface looks dull, gray, or sticky, re-season with a thin oil layer and heat to restore patina.\\n\\n- Handling and safety\\n  - The handle and pan walls get very hot. Use oven mitts or a handle cover. Avoid sudden temperature shocks that could warp or crack the pan.\\n\\n- When to choose enamel over bare cast iron\\n  - For long-simmered acidic dishes (like tomato sauces) or if you want a pan that never needs seasoning, enamel-coated cast iron is a great alternative. Bare cast iron can interact with acidic foods over long cooks if the seasoning isn’t well established.\\n\\nCommon myths and clarifications\\n\\n- Myth: Cast iron is too heavy for everyday use.\\n  - It’s heavier than many pans, but many cooks find it comfortable once they get used to the weight. You’ll likely appreciate its stability and grip.\\n\\n- Myth: It can’t go in the dishwasher.\\n  - It should not be regularly washed in a dishwasher; hand washing is best to protect the seasoning. Occasional light soap isn’t catastrophic, but many people skip it to preserve the patina.\\n\\n- Myth: You should never cook acidic foods in cast iron.\\n  - You can, especially if the pot is well-seasoned. The key is to maintain your seasoning and not leave highly acidic foods in a poorly seasoned pan for long periods.\\n\\nIf you’d like, tell me what you cook most (steaks, fried eggs, cornbread, tomato sauces, etc.), your stove type, and whether you’re using bare cast iron or enamel-coated. I can tailor a simple maintenance routine, seasoning steps, and a few starter recipes to maximize the pan’s benefits for your setup.', type='output_text', logprobs=[])], role='assistant', status='completed', type='message')], parallel_tool_calls=True, temperature=1.0, tool_choice='auto', tools=[], top_p=1.0, background=False, max_output_tokens=None, max_tool_calls=None, previous_response_id=None, prompt=None, prompt_cache_key=None, reasoning=Reasoning(effort='medium', generate_summary=None, summary=None), safety_identifier=None, service_tier='default', status='completed', text=ResponseTextConfig(format=ResponseFormatText(type='text'), verbosity='high'), top_logprobs=0, truncation='disabled', usage=ResponseUsage(input_tokens=16, input_tokens_details=InputTokensDetails(cached_tokens=0), output_tokens=2894, output_tokens_details=OutputTokensDetails(reasoning_tokens=1920), total_tokens=2910), user=None, store=True)\n"
     ]
    }
   ],
   "source": [
    "client = OpenAI()\n",
    "\n",
    "question = \"Explain the benefits of cooking with a cast iron pan\"\n",
    "\n",
    "data = []\n",
    "\n",
    "for verbosity in [\"low\", \"medium\", \"high\"]:\n",
    "    print(f\"Requesting with verbosity: {verbosity}\")\n",
    "    response = client.responses.create(\n",
    "        model=\"gpt-5-nano\",\n",
    "        input=question,\n",
    "        text={\"verbosity\": verbosity}\n",
    "    )\n",
    "    print(f\"Response: {response}\")\n",
    "\n",
    "    data.append({\n",
    "        \"Verbosity\": verbosity,\n",
    "        \"Output Text\": response.output_text,\n",
    "        \"Output Tokens\": response.usage.output_tokens\n",
    "    })\n",
    "\n",
    "# Create DataFrame\n",
    "df = pd.DataFrame(data)"
   ]
  },
  {
   "cell_type": "code",
   "execution_count": 16,
   "id": "d2d0a2fb",
   "metadata": {},
   "outputs": [
    {
     "data": {
      "text/html": [
       "<style type=\"text/css\">\n",
       "#T_97d4c th {\n",
       "  text-align: center;\n",
       "}\n",
       "#T_97d4c td {\n",
       "  text-align: left;\n",
       "}\n",
       "</style>\n",
       "<table id=\"T_97d4c\">\n",
       "  <thead>\n",
       "    <tr>\n",
       "      <th class=\"blank level0\" >&nbsp;</th>\n",
       "      <th id=\"T_97d4c_level0_col0\" class=\"col_heading level0 col0\" >Verbosity</th>\n",
       "      <th id=\"T_97d4c_level0_col1\" class=\"col_heading level0 col1\" >Output Text</th>\n",
       "      <th id=\"T_97d4c_level0_col2\" class=\"col_heading level0 col2\" >Output Tokens</th>\n",
       "    </tr>\n",
       "  </thead>\n",
       "  <tbody>\n",
       "    <tr>\n",
       "      <th id=\"T_97d4c_level0_row0\" class=\"row_heading level0 row0\" >0</th>\n",
       "      <td id=\"T_97d4c_row0_col0\" class=\"data row0 col0\" >low</td>\n",
       "      <td id=\"T_97d4c_row0_col1\" class=\"data row0 col1\" >Here are the main benefits of cooking with cast iron:\n",
       "\n",
       "- Excellent heat retention and even heating, great for searing and frying.\n",
       "- Superior crusts and Maillard browning for flavorful dishes.\n",
       "- Very versatile: stovetop, oven, grill, or campfire; good for finishing in the oven.\n",
       "- Extremely durable and long-lasting; can last generations with proper care.\n",
       "- Natural nonstick seasoning that improves with use (less reliance on synthetic coatings).\n",
       "- Adds a small amount of dietary iron to food.\n",
       "- Cost-effective and widely available; low ongoing maintenance compared to some nonstick pans.\n",
       "- Works well on all cooktops, including induction.\n",
       "\n",
       "Care tip (brief): hand-wash with mild soap or hot water, dry immediately, lightly oil the surface, and re-season periodically to maintain the coating. Avoid dishwashers and soaking to prevent rust.</td>\n",
       "      <td id=\"T_97d4c_row0_col2\" class=\"data row0 col2\" >1650</td>\n",
       "    </tr>\n",
       "    <tr>\n",
       "      <th id=\"T_97d4c_level0_row1\" class=\"row_heading level0 row1\" >1</th>\n",
       "      <td id=\"T_97d4c_row1_col0\" class=\"data row1 col0\" >medium</td>\n",
       "      <td id=\"T_97d4c_row1_col1\" class=\"data row1 col1\" >Cast iron pans are a kitchen workhorse for good reasons. Here are the main benefits and how they help in everyday cooking:\n",
       "\n",
       "- Superior heat retention and searing\n",
       "  - The heavy metal holds high heat and distributes it well, giving you a great crust on meats and crispy edges on veggies.\n",
       "\n",
       "- Even heating and versatility across heat sources\n",
       "  - Works well on gas, electric, induction, ovens, grills, and campfires. You can go from stovetop to oven without changing pans.\n",
       "\n",
       "- Builds a natural non-stick surface with use\n",
       "  - A properly seasoned skillet develops a patina that improves with time and use, making it easier to cook with less oil.\n",
       "\n",
       "- Very durable and long-lasting\n",
       "  - With proper care, cast iron can last for generations and can be passed down as a family heirloom.\n",
       "\n",
       "- Great for a wide range of cooking tasks\n",
       "  - Searing, frying, sautéing, roasting, baking (cornbread, frittatas, pan pizzas), and even finishing sauces after deglazing.\n",
       "\n",
       "- Adds iron content to food\n",
       "  - Cooking in cast iron can contribute a small amount of dietary iron, which can be helpful for some people.\n",
       "\n",
       "- Cost-effective\n",
       "  - Generally affordable and widely available; a single good skillet can replace several other pans over time.\n",
       "\n",
       "Tips to get the most from a cast iron pan\n",
       "- Season and care for it: start with a thin oil coating and heat in the oven to polymerize the layer. Re-season as needed.\n",
       "- Cleaning: rinse with hot water and a stiff brush; avoid harsh detergents. Dry thoroughly to prevent rust, then apply a light oil.\n",
       "- Preheating: allow the pan to heat gradually to the desired temperature for best browning.\n",
       "- Avoid long acidic cooking on a brand-new or poorly seasoned pan; it can strip the seasoning until the pan is well seasoned.\n",
       "- Don’t soak or put in the dishwasher; rust is the enemy.\n",
       "- If you do get rust, scrub it off and re-season.\n",
       "\n",
       "If you’d like, tell me what you usually cook (stovetop only vs. oven use, grilling, camping, etc.), and I can tailor a simple care and cooking plan for your specific setup.</td>\n",
       "      <td id=\"T_97d4c_row1_col2\" class=\"data row1 col2\" >2118</td>\n",
       "    </tr>\n",
       "    <tr>\n",
       "      <th id=\"T_97d4c_level0_row2\" class=\"row_heading level0 row2\" >2</th>\n",
       "      <td id=\"T_97d4c_row2_col0\" class=\"data row2 col0\" >high</td>\n",
       "      <td id=\"T_97d4c_row2_col1\" class=\"data row2 col1\" > cast iron pans offer a lot of practical, long-lasting perks. Here’s a thorough look at why so many home cooks love them.\n",
       "\n",
       "Key benefits\n",
       "\n",
       "- Superior heat retention and even heating\n",
       "  - Once hot, cast iron stays hot and distributes heat evenly. That makes it excellent for searing meats, achieving a great crust, and browning vegetables without hot spots.\n",
       "\n",
       "- Natural nonstick with seasoning\n",
       "  - A well-seasoned pan develops a polymerized oil layer that provides a useful nonstick surface. With proper use (thin oil, gradual heating, and routine seasoning), you can cook things like eggs and pancakes with minimal sticking.\n",
       "\n",
       "- Incredible versatility\n",
       "  - Stovetop, oven, grill, or campfire — you can sauté, fry, fry, bake cornbread, skillet pizzas, frittatas, roasts, and more. It can go from the stove to the oven in one dish.\n",
       "\n",
       "- Builds flavor and fond\n",
       "  - The browned bits (fond) left after searing add depth to sauces when deglazed. Cast iron is great for developing and exploiting that fond.\n",
       "\n",
       "- Durability and long lifespan\n",
       "  - Cast iron is famously tough. With proper care, a pan can last for generations, often becoming a family heirloom.\n",
       "\n",
       "- Cost-effective\n",
       "  - Generally inexpensive relative to specialty nonstick or ceramic pans, yet they perform exceptionally well and last longer with good care.\n",
       "\n",
       "- Adds dietary iron (when appropriate)\n",
       "  - Cooking in cast iron can contribute small amounts of iron to food, which can be beneficial for some people. If you have hemochromatosis or iron overload conditions, you might want to be mindful of this.\n",
       "\n",
       "- Induction-friendly and adaptable\n",
       "  - Cast iron works on induction cooktops and on gas, electric, or ceramic ranges. It also handles high heat, which is handy for professional-style searing.\n",
       "\n",
       "- Eco-friendly and low-waste\n",
       "  - The long life of a well-maintained pan means fewer replacements and less waste over time.\n",
       "\n",
       "Getting the most out of your pan\n",
       "\n",
       "- Preheat properly\n",
       "  - Give it time to heat up slowly to prevent sticking and ensure even cooking.\n",
       "\n",
       "- Use oil wisely\n",
       "  - For cooking, use a small amount of oil with a high smoke point (e.g., canola, grapeseed, or avocado oil). For seasoning, thin coats of oil work best; too much oil can create a sticky surface.\n",
       "\n",
       "- Maintain and season\n",
       "  - After cleaning, dry immediately and lightly coat with a thin layer of oil. Bake or heat briefly to polymerize the oil and build the patina.\n",
       "\n",
       "- Cleaning and care\n",
       "  - Rinse with warm water and scrub with a stiff brush or a rough sponge. Avoid soaking. If food sticks, scrub with coarse salt, rinse, dry, then re-oil. Dry thoroughly to prevent rust.\n",
       "\n",
       "- Storage and rust prevention\n",
       "  - Store in a dry place. You can place a paper towel in the pan to absorb moisture or keep a light coat of oil to prevent rust.\n",
       "\n",
       "- Re-season as needed\n",
       "  - If the surface looks dull, gray, or sticky, re-season with a thin oil layer and heat to restore patina.\n",
       "\n",
       "- Handling and safety\n",
       "  - The handle and pan walls get very hot. Use oven mitts or a handle cover. Avoid sudden temperature shocks that could warp or crack the pan.\n",
       "\n",
       "- When to choose enamel over bare cast iron\n",
       "  - For long-simmered acidic dishes (like tomato sauces) or if you want a pan that never needs seasoning, enamel-coated cast iron is a great alternative. Bare cast iron can interact with acidic foods over long cooks if the seasoning isn’t well established.\n",
       "\n",
       "Common myths and clarifications\n",
       "\n",
       "- Myth: Cast iron is too heavy for everyday use.\n",
       "  - It’s heavier than many pans, but many cooks find it comfortable once they get used to the weight. You’ll likely appreciate its stability and grip.\n",
       "\n",
       "- Myth: It can’t go in the dishwasher.\n",
       "  - It should not be regularly washed in a dishwasher; hand washing is best to protect the seasoning. Occasional light soap isn’t catastrophic, but many people skip it to preserve the patina.\n",
       "\n",
       "- Myth: You should never cook acidic foods in cast iron.\n",
       "  - You can, especially if the pot is well-seasoned. The key is to maintain your seasoning and not leave highly acidic foods in a poorly seasoned pan for long periods.\n",
       "\n",
       "If you’d like, tell me what you cook most (steaks, fried eggs, cornbread, tomato sauces, etc.), your stove type, and whether you’re using bare cast iron or enamel-coated. I can tailor a simple maintenance routine, seasoning steps, and a few starter recipes to maximize the pan’s benefits for your setup.</td>\n",
       "      <td id=\"T_97d4c_row2_col2\" class=\"data row2 col2\" >2894</td>\n",
       "    </tr>\n",
       "  </tbody>\n",
       "</table>\n"
      ],
      "text/plain": [
       "<pandas.io.formats.style.Styler at 0x11f2f45c0>"
      ]
     },
     "metadata": {},
     "output_type": "display_data"
    }
   ],
   "source": [
    "display_df(df)"
   ]
  },
  {
   "cell_type": "markdown",
   "id": "840eaf82",
   "metadata": {},
   "source": [
    "## Freeform Function Calling"
   ]
  },
  {
   "cell_type": "code",
   "execution_count": 3,
   "id": "896ef9ef",
   "metadata": {},
   "outputs": [],
   "source": [
    "client = OpenAI()\n",
    "\n",
    "response = client.responses.create(\n",
    "    model=\"gpt-5-nano\",\n",
    "    input=\"Use the exec_bash_command tool to list the files in the /Users/alex/pro/zazencodes-season-2/src directory using eza (tree depth 2)\",\n",
    "    tools=[\n",
    "        {\n",
    "            \"type\": \"custom\",\n",
    "            \"name\": \"exec_bash_command\",\n",
    "            \"description\": \"Executes arbitrary bash commands\",\n",
    "        }\n",
    "    ]\n",
    ")"
   ]
  },
  {
   "cell_type": "code",
   "execution_count": 4,
   "id": "1d8d4aea",
   "metadata": {},
   "outputs": [
    {
     "data": {
      "text/plain": [
       "[ResponseReasoningItem(id='rs_6898d03dfc408191b6cc7ae62688d69b07007a4f5ff13164', summary=[], type='reasoning', content=None, encrypted_content=None, status=None),\n",
       " ResponseCustomToolCall(call_id='call_vDxeDsZ6x5rWiQtiYs3MTL49', input='eza --tree -L 2 /Users/alex/pro/zazencodes-season-2/src\\n', name='exec_bash_command', type='custom_tool_call', id='ctc_6898d0407b3c81918ccf616ab0a1248e07007a4f5ff13164', status='completed')]"
      ]
     },
     "execution_count": 4,
     "metadata": {},
     "output_type": "execute_result"
    }
   ],
   "source": [
    "response.output"
   ]
  },
  {
   "cell_type": "code",
   "execution_count": 5,
   "id": "da855a14",
   "metadata": {},
   "outputs": [
    {
     "data": {
      "text/plain": [
       "''"
      ]
     },
     "execution_count": 5,
     "metadata": {},
     "output_type": "execute_result"
    }
   ],
   "source": [
    "response.output_text"
   ]
  },
  {
   "cell_type": "code",
   "execution_count": 6,
   "id": "214ced95",
   "metadata": {},
   "outputs": [
    {
     "data": {
      "text/plain": [
       "{'call_id': 'call_vDxeDsZ6x5rWiQtiYs3MTL49',\n",
       " 'input': 'eza --tree -L 2 /Users/alex/pro/zazencodes-season-2/src\\n',\n",
       " 'name': 'exec_bash_command',\n",
       " 'type': 'custom_tool_call',\n",
       " 'id': 'ctc_6898d0407b3c81918ccf616ab0a1248e07007a4f5ff13164',\n",
       " 'status': 'completed'}"
      ]
     },
     "execution_count": 6,
     "metadata": {},
     "output_type": "execute_result"
    }
   ],
   "source": [
    "response.output[-1].to_dict()"
   ]
  },
  {
   "cell_type": "code",
   "execution_count": 7,
   "id": "48745259",
   "metadata": {},
   "outputs": [],
   "source": [
    "import subprocess\n",
    "\n",
    "def bash_command_tool(command: str) -> None:\n",
    "    print(f\"Executing command: {command}\")\n",
    "    res = subprocess.run(command, shell=True, capture_output=True, text=True)\n",
    "    print(res.stdout)"
   ]
  },
  {
   "cell_type": "code",
   "execution_count": 8,
   "id": "ef2785fb",
   "metadata": {},
   "outputs": [
    {
     "name": "stdout",
     "output_type": "stream",
     "text": [
      "Executing command: pwd\n",
      "/Users/alex/pro/zazencodes-season-2/src/gpt-5\n",
      "\n"
     ]
    }
   ],
   "source": [
    "bash_command_tool(\"pwd\")"
   ]
  },
  {
   "cell_type": "code",
   "execution_count": 9,
   "id": "a0f4f320",
   "metadata": {},
   "outputs": [
    {
     "name": "stdout",
     "output_type": "stream",
     "text": [
      "Executing command: eza --tree -L 2 /Users/alex/pro/zazencodes-season-2/src\n",
      "\n",
      "/Users/alex/pro/zazencodes-season-2/src\n",
      "├── ai-eng-tier-lists\n",
      "│   └── startups\n",
      "├── ai-scientific-research-agent\n",
      "│   ├── dev\n",
      "│   ├── DEVLOG.md\n",
      "│   ├── notebooks\n",
      "│   ├── output\n",
      "│   ├── README.md\n",
      "│   ├── requirements.txt\n",
      "│   ├── sci_research_agent\n",
      "│   └── setup.py\n",
      "├── anatomy-of-a-system-prompt\n",
      "│   ├── anatomy_of_a_system_prompt.html\n",
      "│   ├── anatomy_of_a_system_prompt.md\n",
      "│   ├── anatomy_of_a_system_prompt.pdf\n",
      "│   ├── chad_gpt_system_prompt.md\n",
      "│   ├── chad_gpt_user_questions.md\n",
      "│   ├── dracula.css\n",
      "│   ├── images\n",
      "│   ├── README.md\n",
      "│   └── render_slides.sh\n",
      "├── claude-code-sub-agents\n",
      "│   ├── anime-quote-fetcher\n",
      "│   ├── dracula-style-plots\n",
      "│   └── plant-helper-mcp\n",
      "├── data-jobs-2025\n",
      "│   ├── job_tables.md\n",
      "│   ├── jobs_hierarchy.md\n",
      "│   └── README.md\n",
      "├── deepseek-ollama\n",
      "│   ├── favorites.json\n",
      "│   ├── README.md\n",
      "│   └── test.py\n",
      "├── discord-ai-bot-trivia-greetings\n",
      "│   ├── Dockerfile\n",
      "│   ├── main.py\n",
      "│   ├── README.md\n",
      "│   ├── requirements.txt\n",
      "│   ├── test_add_user.py\n",
      "│   └── test_send_message.py\n",
      "├── dspy-tutorial-5-real-world-use-cases\n",
      "│   ├── 01_structured_output.py\n",
      "│   ├── 02_chain_of_thought.py\n",
      "│   ├── 03_rag_hr_bot.py\n",
      "│   ├── 04_react_expense_assistant.py\n",
      "│   ├── 05_self_improving_rag.py\n",
      "│   ├── advanced\n",
      "│   ├── diagrams\n",
      "│   ├── README.md\n",
      "│   └── requirements.txt\n",
      "├── fastmcp-tutorial\n",
      "│   ├── __pycache__\n",
      "│   ├── LICENSE\n",
      "│   ├── PACKAGE_SUMMARY.md\n",
      "│   ├── PUBLISHING.md\n",
      "│   ├── pyproject.toml\n",
      "│   ├── README.md\n",
      "│   ├── src\n",
      "│   └── uv.lock\n",
      "├── gemma3-ollama\n",
      "│   ├── gemma3-1b-quotes-app\n",
      "│   ├── gemma3-4b-quotes-app\n",
      "│   ├── gemma3-12b-quotes-app\n",
      "│   ├── gemma3-27b-quotes-app\n",
      "│   ├── images\n",
      "│   ├── quote_app_prompt.txt\n",
      "│   └── README.md\n",
      "├── gitingest-terminal-guide\n",
      "│   ├── digest.txt\n",
      "│   └── venv\n",
      "├── gpt-4.5-vs-claude-3.7-head-to-head\n",
      "│   ├── package-lock.json\n",
      "│   ├── package.json\n",
      "│   ├── public\n",
      "│   ├── README.md\n",
      "│   ├── requirements.txt\n",
      "│   └── server.js\n",
      "├── gpt-5\n",
      "│   ├── cline-demos\n",
      "│   └── gpt_5_new_params_and_tools.ipynb\n",
      "├── jupyter-notebook-cursor-analytics\n",
      "│   ├── japan-trade-statistics\n",
      "│   └── video-game-sales\n",
      "├── mcp-server-analysis\n",
      "│   ├── mcp_repo_data_2025-06-22.json\n",
      "│   ├── mcp_repo_extracted_functions_2025-06-22.json\n",
      "│   └── workbook.ipynb\n",
      "├── mcphub\n",
      "│   ├── futile.json\n",
      "│   ├── img\n",
      "│   ├── README.md\n",
      "│   ├── z5k.json\n",
      "│   └── zc_season_2_git.json\n",
      "├── neovim-ai-data-eng-tricks\n",
      "│   ├── 1_demo.py\n",
      "│   ├── 2_query.sql\n",
      "│   ├── 3_demo.py\n",
      "│   ├── 4_demo.py\n",
      "│   ├── 5_demo_test.py\n",
      "│   ├── 6_demo.py\n",
      "│   ├── 7_demo.md\n",
      "│   ├── 8_demo.json\n",
      "│   ├── 8_demo.md\n",
      "│   ├── 8_demo_formatted.json\n",
      "│   ├── 9_demo.log\n",
      "│   ├── 9_demo.md\n",
      "│   ├── 10_demo.py\n",
      "│   ├── 11_demo.csv\n",
      "│   ├── 11_demo.md\n",
      "│   ├── 12_demo.py\n",
      "│   ├── airflow.py\n",
      "│   ├── demo_5.py\n",
      "│   ├── DEVLOG.md\n",
      "│   ├── more-tricks.md\n",
      "│   ├── query.sql\n",
      "│   ├── README.md\n",
      "│   ├── sql_regex_merge.sql\n",
      "│   └── tricks.md\n",
      "├── obsidian-mcp\n",
      "│   ├── generate_system_prompt_json.py\n",
      "│   ├── img\n",
      "│   ├── README.md\n",
      "│   └── system_prompts\n",
      "├── rise-of-the-ai-engineer\n",
      "│   ├── ai_eng_job_posting_scrape_summary.md\n",
      "│   └── render_slides.sh\n",
      "├── supabase-mcp\n",
      "│   ├── index.html\n",
      "│   ├── node_modules\n",
      "│   ├── package-lock.json\n",
      "│   ├── package.json\n",
      "│   ├── src\n",
      "│   ├── tsconfig.json\n",
      "│   ├── tsconfig.node.json\n",
      "│   └── vite.config.ts\n",
      "├── supabase-mcp-cline\n",
      "│   ├── css\n",
      "│   ├── index.html\n",
      "│   ├── js\n",
      "│   ├── LICENSE\n",
      "│   ├── migrations\n",
      "│   ├── public\n",
      "│   ├── README.md\n",
      "│   └── supabase\n",
      "├── terminal-llm-tricks\n",
      "│   ├── app.py\n",
      "│   ├── docker_app.log\n",
      "│   ├── log_errors_example.log\n",
      "│   ├── ml_script.py\n",
      "│   ├── ml_script_documented.py\n",
      "│   ├── ml_script_messy.py\n",
      "│   ├── py2_migrated.py\n",
      "│   ├── py2_script.py\n",
      "│   └── README.md\n",
      "├── testsprite-mcp\n",
      "│   └── news-data-mcp-website\n",
      "└── trip-mapper\n",
      "    ├── 1-ollama\n",
      "    ├── 2-gemini\n",
      "    └── 3-youware\n",
      "\n"
     ]
    }
   ],
   "source": [
    "\"\"\"\n",
    "This cell will execute arbitrary bash commands.\n",
    "USE WITH CAUTION!\n",
    "\"\"\"\n",
    "\n",
    "for item in response.output:\n",
    "    if item.type == \"custom_tool_call\" and item.name == \"exec_bash_command\":\n",
    "        bash_command_tool(item.input)\n",
    "        "
   ]
  },
  {
   "cell_type": "code",
   "execution_count": 14,
   "id": "da0ddf35",
   "metadata": {},
   "outputs": [],
   "source": [
    "client = OpenAI()\n",
    "\n",
    "response2 = client.responses.create(\n",
    "    model=\"gpt-5-nano\",\n",
    "    input=\"Use the exec_bash_command function to get the current time with python for all time zones in the world\",\n",
    "    tools=[\n",
    "        {\n",
    "            \"type\": \"function\",\n",
    "            \"name\": \"exec_bash_command\",\n",
    "            \"description\": \"Executes arbitrary bash commands\",\n",
    "            \"parameters\": {\n",
    "                \"type\": \"object\",\n",
    "                \"properties\": {\n",
    "                    \"command\": {\n",
    "                        \"type\": \"string\",\n",
    "                        \"description\": \"A bash command to execute\",\n",
    "                    },\n",
    "                },\n",
    "            },\n",
    "        }\n",
    "    ]\n",
    ")"
   ]
  },
  {
   "cell_type": "code",
   "execution_count": 15,
   "id": "d9ebb14b",
   "metadata": {},
   "outputs": [
    {
     "data": {
      "text/plain": [
       "[ResponseReasoningItem(id='rs_6898d1bd7684819faf002515ef8ad617016e8cd3d4c1d7c8', summary=[], type='reasoning', content=None, encrypted_content=None, status=None),\n",
       " ResponseFunctionToolCall(arguments='{\"command\":\"python - <<\\'PY\\'\\\\nimport sys\\\\nfrom datetime import datetime\\\\nzones = []\\\\nhas_zoneinfo = False\\\\ntry:\\\\n  from zoneinfo import ZoneInfo\\\\n  import zoneinfo as zoneinfo_mod\\\\n  zones = sorted(zoneinfo_mod.available_timezones())\\\\n  has_zoneinfo = True\\\\nexcept Exception:\\\\n  zones = []\\\\ntry:\\\\n  if not zones:\\\\n    import pytz\\\\n    zones = sorted(pytz.all_timezones)\\\\nexcept Exception:\\\\n  pass\\\\nif not zones:\\\\n  print(\\\\\"No timezones available\\\\\", file=sys.stderr)\\\\n  sys.exit(1)\\\\nfor z in zones:\\\\n  try:\\\\n    if has_zoneinfo:\\\\n      t = datetime.now(ZoneInfo(z))\\\\n    else:\\\\n      import pytz\\\\n      t = datetime.now(pytz.timezone(z))\\\\n    print(f\\\\\"{z}\\\\\\\\t{t.isoformat(timespec=\\'seconds\\')}\\\\\")\\\\n  except Exception as e:\\\\n    print(f\\\\\"{z}\\\\\\\\tERROR: {e}\\\\\")\\\\nPY\"}', call_id='call_ovAk2fYx4FAuGHz0cQp50gDH', name='exec_bash_command', type='function_call', id='fc_6898d1c903f8819f9c888c590fdc74d4016e8cd3d4c1d7c8', status='completed')]"
      ]
     },
     "execution_count": 15,
     "metadata": {},
     "output_type": "execute_result"
    }
   ],
   "source": [
    "response2.output"
   ]
  },
  {
   "cell_type": "code",
   "execution_count": 16,
   "id": "f85cf4cc",
   "metadata": {},
   "outputs": [
    {
     "data": {
      "text/plain": [
       "''"
      ]
     },
     "execution_count": 16,
     "metadata": {},
     "output_type": "execute_result"
    }
   ],
   "source": [
    "response2.output_text"
   ]
  },
  {
   "cell_type": "code",
   "execution_count": 17,
   "id": "cdb204ad",
   "metadata": {},
   "outputs": [
    {
     "data": {
      "text/plain": [
       "{'arguments': '{\"command\":\"python - <<\\'PY\\'\\\\nimport sys\\\\nfrom datetime import datetime\\\\nzones = []\\\\nhas_zoneinfo = False\\\\ntry:\\\\n  from zoneinfo import ZoneInfo\\\\n  import zoneinfo as zoneinfo_mod\\\\n  zones = sorted(zoneinfo_mod.available_timezones())\\\\n  has_zoneinfo = True\\\\nexcept Exception:\\\\n  zones = []\\\\ntry:\\\\n  if not zones:\\\\n    import pytz\\\\n    zones = sorted(pytz.all_timezones)\\\\nexcept Exception:\\\\n  pass\\\\nif not zones:\\\\n  print(\\\\\"No timezones available\\\\\", file=sys.stderr)\\\\n  sys.exit(1)\\\\nfor z in zones:\\\\n  try:\\\\n    if has_zoneinfo:\\\\n      t = datetime.now(ZoneInfo(z))\\\\n    else:\\\\n      import pytz\\\\n      t = datetime.now(pytz.timezone(z))\\\\n    print(f\\\\\"{z}\\\\\\\\t{t.isoformat(timespec=\\'seconds\\')}\\\\\")\\\\n  except Exception as e:\\\\n    print(f\\\\\"{z}\\\\\\\\tERROR: {e}\\\\\")\\\\nPY\"}',\n",
       " 'call_id': 'call_ovAk2fYx4FAuGHz0cQp50gDH',\n",
       " 'name': 'exec_bash_command',\n",
       " 'type': 'function_call',\n",
       " 'id': 'fc_6898d1c903f8819f9c888c590fdc74d4016e8cd3d4c1d7c8',\n",
       " 'status': 'completed'}"
      ]
     },
     "execution_count": 17,
     "metadata": {},
     "output_type": "execute_result"
    }
   ],
   "source": [
    "response2.output[-1].to_dict()"
   ]
  },
  {
   "cell_type": "code",
   "execution_count": 20,
   "id": "ceae8ecb",
   "metadata": {},
   "outputs": [
    {
     "name": "stdout",
     "output_type": "stream",
     "text": [
      "Executing command: python - <<'PY'\n",
      "import sys\n",
      "from datetime import datetime\n",
      "zones = []\n",
      "has_zoneinfo = False\n",
      "try:\n",
      "  from zoneinfo import ZoneInfo\n",
      "  import zoneinfo as zoneinfo_mod\n",
      "  zones = sorted(zoneinfo_mod.available_timezones())\n",
      "  has_zoneinfo = True\n",
      "except Exception:\n",
      "  zones = []\n",
      "try:\n",
      "  if not zones:\n",
      "    import pytz\n",
      "    zones = sorted(pytz.all_timezones)\n",
      "except Exception:\n",
      "  pass\n",
      "if not zones:\n",
      "  print(\"No timezones available\", file=sys.stderr)\n",
      "  sys.exit(1)\n",
      "for z in zones:\n",
      "  try:\n",
      "    if has_zoneinfo:\n",
      "      t = datetime.now(ZoneInfo(z))\n",
      "    else:\n",
      "      import pytz\n",
      "      t = datetime.now(pytz.timezone(z))\n",
      "    print(f\"{z}\\t{t.isoformat(timespec='seconds')}\")\n",
      "  except Exception as e:\n",
      "    print(f\"{z}\\tERROR: {e}\")\n",
      "PY\n",
      "Africa/Abidjan\t2025-08-10T17:08:56+00:00\n",
      "Africa/Accra\t2025-08-10T17:08:56+00:00\n",
      "Africa/Addis_Ababa\t2025-08-10T20:08:56+03:00\n",
      "Africa/Algiers\t2025-08-10T18:08:56+01:00\n",
      "Africa/Asmara\t2025-08-10T20:08:56+03:00\n",
      "Africa/Asmera\t2025-08-10T20:08:56+03:00\n",
      "Africa/Bamako\t2025-08-10T17:08:56+00:00\n",
      "Africa/Bangui\t2025-08-10T18:08:56+01:00\n",
      "Africa/Banjul\t2025-08-10T17:08:56+00:00\n",
      "Africa/Bissau\t2025-08-10T17:08:56+00:00\n",
      "Africa/Blantyre\t2025-08-10T19:08:56+02:00\n",
      "Africa/Brazzaville\t2025-08-10T18:08:56+01:00\n",
      "Africa/Bujumbura\t2025-08-10T19:08:56+02:00\n",
      "Africa/Cairo\t2025-08-10T20:08:56+03:00\n",
      "Africa/Casablanca\t2025-08-10T18:08:56+01:00\n",
      "Africa/Ceuta\t2025-08-10T19:08:56+02:00\n",
      "Africa/Conakry\t2025-08-10T17:08:56+00:00\n",
      "Africa/Dakar\t2025-08-10T17:08:56+00:00\n",
      "Africa/Dar_es_Salaam\t2025-08-10T20:08:56+03:00\n",
      "Africa/Djibouti\t2025-08-10T20:08:56+03:00\n",
      "Africa/Douala\t2025-08-10T18:08:56+01:00\n",
      "Africa/El_Aaiun\t2025-08-10T18:08:56+01:00\n",
      "Africa/Freetown\t2025-08-10T17:08:56+00:00\n",
      "Africa/Gaborone\t2025-08-10T19:08:56+02:00\n",
      "Africa/Harare\t2025-08-10T19:08:56+02:00\n",
      "Africa/Johannesburg\t2025-08-10T19:08:56+02:00\n",
      "Africa/Juba\t2025-08-10T19:08:56+02:00\n",
      "Africa/Kampala\t2025-08-10T20:08:56+03:00\n",
      "Africa/Khartoum\t2025-08-10T19:08:56+02:00\n",
      "Africa/Kigali\t2025-08-10T19:08:56+02:00\n",
      "Africa/Kinshasa\t2025-08-10T18:08:56+01:00\n",
      "Africa/Lagos\t2025-08-10T18:08:56+01:00\n",
      "Africa/Libreville\t2025-08-10T18:08:56+01:00\n",
      "Africa/Lome\t2025-08-10T17:08:56+00:00\n",
      "Africa/Luanda\t2025-08-10T18:08:56+01:00\n",
      "Africa/Lubumbashi\t2025-08-10T19:08:56+02:00\n",
      "Africa/Lusaka\t2025-08-10T19:08:56+02:00\n",
      "Africa/Malabo\t2025-08-10T18:08:56+01:00\n",
      "Africa/Maputo\t2025-08-10T19:08:56+02:00\n",
      "Africa/Maseru\t2025-08-10T19:08:56+02:00\n",
      "Africa/Mbabane\t2025-08-10T19:08:56+02:00\n",
      "Africa/Mogadishu\t2025-08-10T20:08:56+03:00\n",
      "Africa/Monrovia\t2025-08-10T17:08:56+00:00\n",
      "Africa/Nairobi\t2025-08-10T20:08:56+03:00\n",
      "Africa/Ndjamena\t2025-08-10T18:08:56+01:00\n",
      "Africa/Niamey\t2025-08-10T18:08:56+01:00\n",
      "Africa/Nouakchott\t2025-08-10T17:08:56+00:00\n",
      "Africa/Ouagadougou\t2025-08-10T17:08:56+00:00\n",
      "Africa/Porto-Novo\t2025-08-10T18:08:56+01:00\n",
      "Africa/Sao_Tome\t2025-08-10T17:08:56+00:00\n",
      "Africa/Timbuktu\t2025-08-10T17:08:56+00:00\n",
      "Africa/Tripoli\t2025-08-10T19:08:56+02:00\n",
      "Africa/Tunis\t2025-08-10T18:08:56+01:00\n",
      "Africa/Windhoek\t2025-08-10T19:08:56+02:00\n",
      "America/Adak\t2025-08-10T08:08:56-09:00\n",
      "America/Anchorage\t2025-08-10T09:08:56-08:00\n",
      "America/Anguilla\t2025-08-10T13:08:56-04:00\n",
      "America/Antigua\t2025-08-10T13:08:56-04:00\n",
      "America/Araguaina\t2025-08-10T14:08:56-03:00\n",
      "America/Argentina/Buenos_Aires\t2025-08-10T14:08:56-03:00\n",
      "America/Argentina/Catamarca\t2025-08-10T14:08:56-03:00\n",
      "America/Argentina/ComodRivadavia\t2025-08-10T14:08:56-03:00\n",
      "America/Argentina/Cordoba\t2025-08-10T14:08:56-03:00\n",
      "America/Argentina/Jujuy\t2025-08-10T14:08:56-03:00\n",
      "America/Argentina/La_Rioja\t2025-08-10T14:08:56-03:00\n",
      "America/Argentina/Mendoza\t2025-08-10T14:08:56-03:00\n",
      "America/Argentina/Rio_Gallegos\t2025-08-10T14:08:56-03:00\n",
      "America/Argentina/Salta\t2025-08-10T14:08:56-03:00\n",
      "America/Argentina/San_Juan\t2025-08-10T14:08:56-03:00\n",
      "America/Argentina/San_Luis\t2025-08-10T14:08:56-03:00\n",
      "America/Argentina/Tucuman\t2025-08-10T14:08:56-03:00\n",
      "America/Argentina/Ushuaia\t2025-08-10T14:08:56-03:00\n",
      "America/Aruba\t2025-08-10T13:08:56-04:00\n",
      "America/Asuncion\t2025-08-10T14:08:56-03:00\n",
      "America/Atikokan\t2025-08-10T12:08:56-05:00\n",
      "America/Atka\t2025-08-10T08:08:56-09:00\n",
      "America/Bahia\t2025-08-10T14:08:56-03:00\n",
      "America/Bahia_Banderas\t2025-08-10T11:08:56-06:00\n",
      "America/Barbados\t2025-08-10T13:08:56-04:00\n",
      "America/Belem\t2025-08-10T14:08:56-03:00\n",
      "America/Belize\t2025-08-10T11:08:56-06:00\n",
      "America/Blanc-Sablon\t2025-08-10T13:08:56-04:00\n",
      "America/Boa_Vista\t2025-08-10T13:08:56-04:00\n",
      "America/Bogota\t2025-08-10T12:08:56-05:00\n",
      "America/Boise\t2025-08-10T11:08:56-06:00\n",
      "America/Buenos_Aires\t2025-08-10T14:08:56-03:00\n",
      "America/Cambridge_Bay\t2025-08-10T11:08:56-06:00\n",
      "America/Campo_Grande\t2025-08-10T13:08:56-04:00\n",
      "America/Cancun\t2025-08-10T12:08:56-05:00\n",
      "America/Caracas\t2025-08-10T13:08:56-04:00\n",
      "America/Catamarca\t2025-08-10T14:08:56-03:00\n",
      "America/Cayenne\t2025-08-10T14:08:56-03:00\n",
      "America/Cayman\t2025-08-10T12:08:56-05:00\n",
      "America/Chicago\t2025-08-10T12:08:56-05:00\n",
      "America/Chihuahua\t2025-08-10T11:08:56-06:00\n",
      "America/Ciudad_Juarez\t2025-08-10T11:08:56-06:00\n",
      "America/Coral_Harbour\t2025-08-10T12:08:56-05:00\n",
      "America/Cordoba\t2025-08-10T14:08:56-03:00\n",
      "America/Costa_Rica\t2025-08-10T11:08:56-06:00\n",
      "America/Coyhaique\t2025-08-10T14:08:56-03:00\n",
      "America/Creston\t2025-08-10T10:08:56-07:00\n",
      "America/Cuiaba\t2025-08-10T13:08:56-04:00\n",
      "America/Curacao\t2025-08-10T13:08:56-04:00\n",
      "America/Danmarkshavn\t2025-08-10T17:08:56+00:00\n",
      "America/Dawson\t2025-08-10T10:08:56-07:00\n",
      "America/Dawson_Creek\t2025-08-10T10:08:56-07:00\n",
      "America/Denver\t2025-08-10T11:08:56-06:00\n",
      "America/Detroit\t2025-08-10T13:08:56-04:00\n",
      "America/Dominica\t2025-08-10T13:08:56-04:00\n",
      "America/Edmonton\t2025-08-10T11:08:56-06:00\n",
      "America/Eirunepe\t2025-08-10T12:08:56-05:00\n",
      "America/El_Salvador\t2025-08-10T11:08:56-06:00\n",
      "America/Ensenada\t2025-08-10T10:08:56-07:00\n",
      "America/Fort_Nelson\t2025-08-10T10:08:56-07:00\n",
      "America/Fort_Wayne\t2025-08-10T13:08:56-04:00\n",
      "America/Fortaleza\t2025-08-10T14:08:56-03:00\n",
      "America/Glace_Bay\t2025-08-10T14:08:56-03:00\n",
      "America/Godthab\t2025-08-10T16:08:56-01:00\n",
      "America/Goose_Bay\t2025-08-10T14:08:56-03:00\n",
      "America/Grand_Turk\t2025-08-10T13:08:56-04:00\n",
      "America/Grenada\t2025-08-10T13:08:56-04:00\n",
      "America/Guadeloupe\t2025-08-10T13:08:56-04:00\n",
      "America/Guatemala\t2025-08-10T11:08:56-06:00\n",
      "America/Guayaquil\t2025-08-10T12:08:56-05:00\n",
      "America/Guyana\t2025-08-10T13:08:56-04:00\n",
      "America/Halifax\t2025-08-10T14:08:56-03:00\n",
      "America/Havana\t2025-08-10T13:08:56-04:00\n",
      "America/Hermosillo\t2025-08-10T10:08:56-07:00\n",
      "America/Indiana/Indianapolis\t2025-08-10T13:08:56-04:00\n",
      "America/Indiana/Knox\t2025-08-10T12:08:56-05:00\n",
      "America/Indiana/Marengo\t2025-08-10T13:08:56-04:00\n",
      "America/Indiana/Petersburg\t2025-08-10T13:08:56-04:00\n",
      "America/Indiana/Tell_City\t2025-08-10T12:08:56-05:00\n",
      "America/Indiana/Vevay\t2025-08-10T13:08:56-04:00\n",
      "America/Indiana/Vincennes\t2025-08-10T13:08:56-04:00\n",
      "America/Indiana/Winamac\t2025-08-10T13:08:56-04:00\n",
      "America/Indianapolis\t2025-08-10T13:08:56-04:00\n",
      "America/Inuvik\t2025-08-10T11:08:56-06:00\n",
      "America/Iqaluit\t2025-08-10T13:08:56-04:00\n",
      "America/Jamaica\t2025-08-10T12:08:56-05:00\n",
      "America/Jujuy\t2025-08-10T14:08:56-03:00\n",
      "America/Juneau\t2025-08-10T09:08:56-08:00\n",
      "America/Kentucky/Louisville\t2025-08-10T13:08:56-04:00\n",
      "America/Kentucky/Monticello\t2025-08-10T13:08:56-04:00\n",
      "America/Knox_IN\t2025-08-10T12:08:56-05:00\n",
      "America/Kralendijk\t2025-08-10T13:08:56-04:00\n",
      "America/La_Paz\t2025-08-10T13:08:56-04:00\n",
      "America/Lima\t2025-08-10T12:08:56-05:00\n",
      "America/Los_Angeles\t2025-08-10T10:08:56-07:00\n",
      "America/Louisville\t2025-08-10T13:08:56-04:00\n",
      "America/Lower_Princes\t2025-08-10T13:08:56-04:00\n",
      "America/Maceio\t2025-08-10T14:08:56-03:00\n",
      "America/Managua\t2025-08-10T11:08:56-06:00\n",
      "America/Manaus\t2025-08-10T13:08:56-04:00\n",
      "America/Marigot\t2025-08-10T13:08:56-04:00\n",
      "America/Martinique\t2025-08-10T13:08:56-04:00\n",
      "America/Matamoros\t2025-08-10T12:08:56-05:00\n",
      "America/Mazatlan\t2025-08-10T10:08:56-07:00\n",
      "America/Mendoza\t2025-08-10T14:08:56-03:00\n",
      "America/Menominee\t2025-08-10T12:08:56-05:00\n",
      "America/Merida\t2025-08-10T11:08:56-06:00\n",
      "America/Metlakatla\t2025-08-10T09:08:56-08:00\n",
      "America/Mexico_City\t2025-08-10T11:08:56-06:00\n",
      "America/Miquelon\t2025-08-10T15:08:56-02:00\n",
      "America/Moncton\t2025-08-10T14:08:56-03:00\n",
      "America/Monterrey\t2025-08-10T11:08:56-06:00\n",
      "America/Montevideo\t2025-08-10T14:08:56-03:00\n",
      "America/Montreal\t2025-08-10T13:08:56-04:00\n",
      "America/Montserrat\t2025-08-10T13:08:56-04:00\n",
      "America/Nassau\t2025-08-10T13:08:56-04:00\n",
      "America/New_York\t2025-08-10T13:08:56-04:00\n",
      "America/Nipigon\t2025-08-10T13:08:56-04:00\n",
      "America/Nome\t2025-08-10T09:08:56-08:00\n",
      "America/Noronha\t2025-08-10T15:08:56-02:00\n",
      "America/North_Dakota/Beulah\t2025-08-10T12:08:56-05:00\n",
      "America/North_Dakota/Center\t2025-08-10T12:08:56-05:00\n",
      "America/North_Dakota/New_Salem\t2025-08-10T12:08:56-05:00\n",
      "America/Nuuk\t2025-08-10T16:08:56-01:00\n",
      "America/Ojinaga\t2025-08-10T12:08:56-05:00\n",
      "America/Panama\t2025-08-10T12:08:56-05:00\n",
      "America/Pangnirtung\t2025-08-10T13:08:56-04:00\n",
      "America/Paramaribo\t2025-08-10T14:08:56-03:00\n",
      "America/Phoenix\t2025-08-10T10:08:56-07:00\n",
      "America/Port-au-Prince\t2025-08-10T13:08:56-04:00\n",
      "America/Port_of_Spain\t2025-08-10T13:08:56-04:00\n",
      "America/Porto_Acre\t2025-08-10T12:08:56-05:00\n",
      "America/Porto_Velho\t2025-08-10T13:08:56-04:00\n",
      "America/Puerto_Rico\t2025-08-10T13:08:56-04:00\n",
      "America/Punta_Arenas\t2025-08-10T14:08:56-03:00\n",
      "America/Rainy_River\t2025-08-10T12:08:56-05:00\n",
      "America/Rankin_Inlet\t2025-08-10T12:08:56-05:00\n",
      "America/Recife\t2025-08-10T14:08:56-03:00\n",
      "America/Regina\t2025-08-10T11:08:56-06:00\n",
      "America/Resolute\t2025-08-10T12:08:56-05:00\n",
      "America/Rio_Branco\t2025-08-10T12:08:56-05:00\n",
      "America/Rosario\t2025-08-10T14:08:56-03:00\n",
      "America/Santa_Isabel\t2025-08-10T10:08:56-07:00\n",
      "America/Santarem\t2025-08-10T14:08:56-03:00\n",
      "America/Santiago\t2025-08-10T13:08:56-04:00\n",
      "America/Santo_Domingo\t2025-08-10T13:08:56-04:00\n",
      "America/Sao_Paulo\t2025-08-10T14:08:56-03:00\n",
      "America/Scoresbysund\t2025-08-10T16:08:56-01:00\n",
      "America/Shiprock\t2025-08-10T11:08:56-06:00\n",
      "America/Sitka\t2025-08-10T09:08:56-08:00\n",
      "America/St_Barthelemy\t2025-08-10T13:08:56-04:00\n",
      "America/St_Johns\t2025-08-10T14:38:56-02:30\n",
      "America/St_Kitts\t2025-08-10T13:08:56-04:00\n",
      "America/St_Lucia\t2025-08-10T13:08:56-04:00\n",
      "America/St_Thomas\t2025-08-10T13:08:56-04:00\n",
      "America/St_Vincent\t2025-08-10T13:08:56-04:00\n",
      "America/Swift_Current\t2025-08-10T11:08:56-06:00\n",
      "America/Tegucigalpa\t2025-08-10T11:08:56-06:00\n",
      "America/Thule\t2025-08-10T14:08:56-03:00\n",
      "America/Thunder_Bay\t2025-08-10T13:08:56-04:00\n",
      "America/Tijuana\t2025-08-10T10:08:56-07:00\n",
      "America/Toronto\t2025-08-10T13:08:56-04:00\n",
      "America/Tortola\t2025-08-10T13:08:56-04:00\n",
      "America/Vancouver\t2025-08-10T10:08:56-07:00\n",
      "America/Virgin\t2025-08-10T13:08:56-04:00\n",
      "America/Whitehorse\t2025-08-10T10:08:56-07:00\n",
      "America/Winnipeg\t2025-08-10T12:08:56-05:00\n",
      "America/Yakutat\t2025-08-10T09:08:56-08:00\n",
      "America/Yellowknife\t2025-08-10T11:08:56-06:00\n",
      "Antarctica/Casey\t2025-08-11T01:08:56+08:00\n",
      "Antarctica/Davis\t2025-08-11T00:08:56+07:00\n",
      "Antarctica/DumontDUrville\t2025-08-11T03:08:56+10:00\n",
      "Antarctica/Macquarie\t2025-08-11T03:08:56+10:00\n",
      "Antarctica/Mawson\t2025-08-10T22:08:56+05:00\n",
      "Antarctica/McMurdo\t2025-08-11T05:08:56+12:00\n",
      "Antarctica/Palmer\t2025-08-10T14:08:56-03:00\n",
      "Antarctica/Rothera\t2025-08-10T14:08:56-03:00\n",
      "Antarctica/South_Pole\t2025-08-11T05:08:56+12:00\n",
      "Antarctica/Syowa\t2025-08-10T20:08:56+03:00\n",
      "Antarctica/Troll\t2025-08-10T19:08:56+02:00\n",
      "Antarctica/Vostok\t2025-08-10T22:08:56+05:00\n",
      "Arctic/Longyearbyen\t2025-08-10T19:08:56+02:00\n",
      "Asia/Aden\t2025-08-10T20:08:56+03:00\n",
      "Asia/Almaty\t2025-08-10T22:08:56+05:00\n",
      "Asia/Amman\t2025-08-10T20:08:56+03:00\n",
      "Asia/Anadyr\t2025-08-11T05:08:56+12:00\n",
      "Asia/Aqtau\t2025-08-10T22:08:56+05:00\n",
      "Asia/Aqtobe\t2025-08-10T22:08:56+05:00\n",
      "Asia/Ashgabat\t2025-08-10T22:08:56+05:00\n",
      "Asia/Ashkhabad\t2025-08-10T22:08:56+05:00\n",
      "Asia/Atyrau\t2025-08-10T22:08:56+05:00\n",
      "Asia/Baghdad\t2025-08-10T20:08:56+03:00\n",
      "Asia/Bahrain\t2025-08-10T20:08:56+03:00\n",
      "Asia/Baku\t2025-08-10T21:08:56+04:00\n",
      "Asia/Bangkok\t2025-08-11T00:08:56+07:00\n",
      "Asia/Barnaul\t2025-08-11T00:08:56+07:00\n",
      "Asia/Beirut\t2025-08-10T20:08:56+03:00\n",
      "Asia/Bishkek\t2025-08-10T23:08:56+06:00\n",
      "Asia/Brunei\t2025-08-11T01:08:56+08:00\n",
      "Asia/Calcutta\t2025-08-10T22:38:56+05:30\n",
      "Asia/Chita\t2025-08-11T02:08:56+09:00\n",
      "Asia/Choibalsan\t2025-08-11T01:08:56+08:00\n",
      "Asia/Chongqing\t2025-08-11T01:08:56+08:00\n",
      "Asia/Chungking\t2025-08-11T01:08:56+08:00\n",
      "Asia/Colombo\t2025-08-10T22:38:56+05:30\n",
      "Asia/Dacca\t2025-08-10T23:08:56+06:00\n",
      "Asia/Damascus\t2025-08-10T20:08:56+03:00\n",
      "Asia/Dhaka\t2025-08-10T23:08:56+06:00\n",
      "Asia/Dili\t2025-08-11T02:08:56+09:00\n",
      "Asia/Dubai\t2025-08-10T21:08:56+04:00\n",
      "Asia/Dushanbe\t2025-08-10T22:08:56+05:00\n",
      "Asia/Famagusta\t2025-08-10T20:08:56+03:00\n",
      "Asia/Gaza\t2025-08-10T20:08:56+03:00\n",
      "Asia/Harbin\t2025-08-11T01:08:56+08:00\n",
      "Asia/Hebron\t2025-08-10T20:08:56+03:00\n",
      "Asia/Ho_Chi_Minh\t2025-08-11T00:08:56+07:00\n",
      "Asia/Hong_Kong\t2025-08-11T01:08:56+08:00\n",
      "Asia/Hovd\t2025-08-11T00:08:56+07:00\n",
      "Asia/Irkutsk\t2025-08-11T01:08:56+08:00\n",
      "Asia/Istanbul\t2025-08-10T20:08:56+03:00\n",
      "Asia/Jakarta\t2025-08-11T00:08:56+07:00\n",
      "Asia/Jayapura\t2025-08-11T02:08:56+09:00\n",
      "Asia/Jerusalem\t2025-08-10T20:08:56+03:00\n",
      "Asia/Kabul\t2025-08-10T21:38:56+04:30\n",
      "Asia/Kamchatka\t2025-08-11T05:08:56+12:00\n",
      "Asia/Karachi\t2025-08-10T22:08:56+05:00\n",
      "Asia/Kashgar\t2025-08-10T23:08:56+06:00\n",
      "Asia/Kathmandu\t2025-08-10T22:53:56+05:45\n",
      "Asia/Katmandu\t2025-08-10T22:53:56+05:45\n",
      "Asia/Khandyga\t2025-08-11T02:08:56+09:00\n",
      "Asia/Kolkata\t2025-08-10T22:38:56+05:30\n",
      "Asia/Krasnoyarsk\t2025-08-11T00:08:56+07:00\n",
      "Asia/Kuala_Lumpur\t2025-08-11T01:08:56+08:00\n",
      "Asia/Kuching\t2025-08-11T01:08:56+08:00\n",
      "Asia/Kuwait\t2025-08-10T20:08:56+03:00\n",
      "Asia/Macao\t2025-08-11T01:08:56+08:00\n",
      "Asia/Macau\t2025-08-11T01:08:56+08:00\n",
      "Asia/Magadan\t2025-08-11T04:08:56+11:00\n",
      "Asia/Makassar\t2025-08-11T01:08:56+08:00\n",
      "Asia/Manila\t2025-08-11T01:08:56+08:00\n",
      "Asia/Muscat\t2025-08-10T21:08:56+04:00\n",
      "Asia/Nicosia\t2025-08-10T20:08:56+03:00\n",
      "Asia/Novokuznetsk\t2025-08-11T00:08:56+07:00\n",
      "Asia/Novosibirsk\t2025-08-11T00:08:56+07:00\n",
      "Asia/Omsk\t2025-08-10T23:08:56+06:00\n",
      "Asia/Oral\t2025-08-10T22:08:56+05:00\n",
      "Asia/Phnom_Penh\t2025-08-11T00:08:56+07:00\n",
      "Asia/Pontianak\t2025-08-11T00:08:56+07:00\n",
      "Asia/Pyongyang\t2025-08-11T02:08:56+09:00\n",
      "Asia/Qatar\t2025-08-10T20:08:56+03:00\n",
      "Asia/Qostanay\t2025-08-10T22:08:56+05:00\n",
      "Asia/Qyzylorda\t2025-08-10T22:08:56+05:00\n",
      "Asia/Rangoon\t2025-08-10T23:38:56+06:30\n",
      "Asia/Riyadh\t2025-08-10T20:08:56+03:00\n",
      "Asia/Saigon\t2025-08-11T00:08:56+07:00\n",
      "Asia/Sakhalin\t2025-08-11T04:08:56+11:00\n",
      "Asia/Samarkand\t2025-08-10T22:08:56+05:00\n",
      "Asia/Seoul\t2025-08-11T02:08:56+09:00\n",
      "Asia/Shanghai\t2025-08-11T01:08:56+08:00\n",
      "Asia/Singapore\t2025-08-11T01:08:56+08:00\n",
      "Asia/Srednekolymsk\t2025-08-11T04:08:56+11:00\n",
      "Asia/Taipei\t2025-08-11T01:08:56+08:00\n",
      "Asia/Tashkent\t2025-08-10T22:08:56+05:00\n",
      "Asia/Tbilisi\t2025-08-10T21:08:56+04:00\n",
      "Asia/Tehran\t2025-08-10T20:38:56+03:30\n",
      "Asia/Tel_Aviv\t2025-08-10T20:08:56+03:00\n",
      "Asia/Thimbu\t2025-08-10T23:08:56+06:00\n",
      "Asia/Thimphu\t2025-08-10T23:08:56+06:00\n",
      "Asia/Tokyo\t2025-08-11T02:08:56+09:00\n",
      "Asia/Tomsk\t2025-08-11T00:08:56+07:00\n",
      "Asia/Ujung_Pandang\t2025-08-11T01:08:56+08:00\n",
      "Asia/Ulaanbaatar\t2025-08-11T01:08:56+08:00\n",
      "Asia/Ulan_Bator\t2025-08-11T01:08:56+08:00\n",
      "Asia/Urumqi\t2025-08-10T23:08:56+06:00\n",
      "Asia/Ust-Nera\t2025-08-11T03:08:56+10:00\n",
      "Asia/Vientiane\t2025-08-11T00:08:56+07:00\n",
      "Asia/Vladivostok\t2025-08-11T03:08:56+10:00\n",
      "Asia/Yakutsk\t2025-08-11T02:08:56+09:00\n",
      "Asia/Yangon\t2025-08-10T23:38:56+06:30\n",
      "Asia/Yekaterinburg\t2025-08-10T22:08:56+05:00\n",
      "Asia/Yerevan\t2025-08-10T21:08:56+04:00\n",
      "Atlantic/Azores\t2025-08-10T17:08:56+00:00\n",
      "Atlantic/Bermuda\t2025-08-10T14:08:56-03:00\n",
      "Atlantic/Canary\t2025-08-10T18:08:56+01:00\n",
      "Atlantic/Cape_Verde\t2025-08-10T16:08:56-01:00\n",
      "Atlantic/Faeroe\t2025-08-10T18:08:56+01:00\n",
      "Atlantic/Faroe\t2025-08-10T18:08:56+01:00\n",
      "Atlantic/Jan_Mayen\t2025-08-10T19:08:56+02:00\n",
      "Atlantic/Madeira\t2025-08-10T18:08:56+01:00\n",
      "Atlantic/Reykjavik\t2025-08-10T17:08:56+00:00\n",
      "Atlantic/South_Georgia\t2025-08-10T15:08:56-02:00\n",
      "Atlantic/St_Helena\t2025-08-10T17:08:56+00:00\n",
      "Atlantic/Stanley\t2025-08-10T14:08:56-03:00\n",
      "Australia/ACT\t2025-08-11T03:08:56+10:00\n",
      "Australia/Adelaide\t2025-08-11T02:38:56+09:30\n",
      "Australia/Brisbane\t2025-08-11T03:08:56+10:00\n",
      "Australia/Broken_Hill\t2025-08-11T02:38:56+09:30\n",
      "Australia/Canberra\t2025-08-11T03:08:56+10:00\n",
      "Australia/Currie\t2025-08-11T03:08:56+10:00\n",
      "Australia/Darwin\t2025-08-11T02:38:56+09:30\n",
      "Australia/Eucla\t2025-08-11T01:53:56+08:45\n",
      "Australia/Hobart\t2025-08-11T03:08:56+10:00\n",
      "Australia/LHI\t2025-08-11T03:38:56+10:30\n",
      "Australia/Lindeman\t2025-08-11T03:08:56+10:00\n",
      "Australia/Lord_Howe\t2025-08-11T03:38:56+10:30\n",
      "Australia/Melbourne\t2025-08-11T03:08:56+10:00\n",
      "Australia/NSW\t2025-08-11T03:08:56+10:00\n",
      "Australia/North\t2025-08-11T02:38:56+09:30\n",
      "Australia/Perth\t2025-08-11T01:08:56+08:00\n",
      "Australia/Queensland\t2025-08-11T03:08:56+10:00\n",
      "Australia/South\t2025-08-11T02:38:56+09:30\n",
      "Australia/Sydney\t2025-08-11T03:08:56+10:00\n",
      "Australia/Tasmania\t2025-08-11T03:08:56+10:00\n",
      "Australia/Victoria\t2025-08-11T03:08:56+10:00\n",
      "Australia/West\t2025-08-11T01:08:56+08:00\n",
      "Australia/Yancowinna\t2025-08-11T02:38:56+09:30\n",
      "Brazil/Acre\t2025-08-10T12:08:56-05:00\n",
      "Brazil/DeNoronha\t2025-08-10T15:08:56-02:00\n",
      "Brazil/East\t2025-08-10T14:08:56-03:00\n",
      "Brazil/West\t2025-08-10T13:08:56-04:00\n",
      "CET\t2025-08-10T19:08:56+02:00\n",
      "CST6CDT\t2025-08-10T12:08:56-05:00\n",
      "Canada/Atlantic\t2025-08-10T14:08:56-03:00\n",
      "Canada/Central\t2025-08-10T12:08:56-05:00\n",
      "Canada/Eastern\t2025-08-10T13:08:56-04:00\n",
      "Canada/Mountain\t2025-08-10T11:08:56-06:00\n",
      "Canada/Newfoundland\t2025-08-10T14:38:56-02:30\n",
      "Canada/Pacific\t2025-08-10T10:08:56-07:00\n",
      "Canada/Saskatchewan\t2025-08-10T11:08:56-06:00\n",
      "Canada/Yukon\t2025-08-10T10:08:56-07:00\n",
      "Chile/Continental\t2025-08-10T13:08:56-04:00\n",
      "Chile/EasterIsland\t2025-08-10T11:08:56-06:00\n",
      "Cuba\t2025-08-10T13:08:56-04:00\n",
      "EET\t2025-08-10T20:08:56+03:00\n",
      "EST\t2025-08-10T12:08:56-05:00\n",
      "EST5EDT\t2025-08-10T13:08:56-04:00\n",
      "Egypt\t2025-08-10T20:08:56+03:00\n",
      "Eire\t2025-08-10T18:08:56+01:00\n",
      "Etc/GMT\t2025-08-10T17:08:56+00:00\n",
      "Etc/GMT+0\t2025-08-10T17:08:56+00:00\n",
      "Etc/GMT+1\t2025-08-10T16:08:56-01:00\n",
      "Etc/GMT+10\t2025-08-10T07:08:56-10:00\n",
      "Etc/GMT+11\t2025-08-10T06:08:56-11:00\n",
      "Etc/GMT+12\t2025-08-10T05:08:56-12:00\n",
      "Etc/GMT+2\t2025-08-10T15:08:56-02:00\n",
      "Etc/GMT+3\t2025-08-10T14:08:56-03:00\n",
      "Etc/GMT+4\t2025-08-10T13:08:56-04:00\n",
      "Etc/GMT+5\t2025-08-10T12:08:56-05:00\n",
      "Etc/GMT+6\t2025-08-10T11:08:56-06:00\n",
      "Etc/GMT+7\t2025-08-10T10:08:56-07:00\n",
      "Etc/GMT+8\t2025-08-10T09:08:56-08:00\n",
      "Etc/GMT+9\t2025-08-10T08:08:56-09:00\n",
      "Etc/GMT-0\t2025-08-10T17:08:56+00:00\n",
      "Etc/GMT-1\t2025-08-10T18:08:56+01:00\n",
      "Etc/GMT-10\t2025-08-11T03:08:56+10:00\n",
      "Etc/GMT-11\t2025-08-11T04:08:56+11:00\n",
      "Etc/GMT-12\t2025-08-11T05:08:56+12:00\n",
      "Etc/GMT-13\t2025-08-11T06:08:56+13:00\n",
      "Etc/GMT-14\t2025-08-11T07:08:56+14:00\n",
      "Etc/GMT-2\t2025-08-10T19:08:56+02:00\n",
      "Etc/GMT-3\t2025-08-10T20:08:56+03:00\n",
      "Etc/GMT-4\t2025-08-10T21:08:56+04:00\n",
      "Etc/GMT-5\t2025-08-10T22:08:56+05:00\n",
      "Etc/GMT-6\t2025-08-10T23:08:56+06:00\n",
      "Etc/GMT-7\t2025-08-11T00:08:56+07:00\n",
      "Etc/GMT-8\t2025-08-11T01:08:56+08:00\n",
      "Etc/GMT-9\t2025-08-11T02:08:56+09:00\n",
      "Etc/GMT0\t2025-08-10T17:08:56+00:00\n",
      "Etc/Greenwich\t2025-08-10T17:08:56+00:00\n",
      "Etc/UCT\t2025-08-10T17:08:56+00:00\n",
      "Etc/UTC\t2025-08-10T17:08:56+00:00\n",
      "Etc/Universal\t2025-08-10T17:08:56+00:00\n",
      "Etc/Zulu\t2025-08-10T17:08:56+00:00\n",
      "Europe/Amsterdam\t2025-08-10T19:08:56+02:00\n",
      "Europe/Andorra\t2025-08-10T19:08:56+02:00\n",
      "Europe/Astrakhan\t2025-08-10T21:08:56+04:00\n",
      "Europe/Athens\t2025-08-10T20:08:56+03:00\n",
      "Europe/Belfast\t2025-08-10T18:08:56+01:00\n",
      "Europe/Belgrade\t2025-08-10T19:08:56+02:00\n",
      "Europe/Berlin\t2025-08-10T19:08:56+02:00\n",
      "Europe/Bratislava\t2025-08-10T19:08:56+02:00\n",
      "Europe/Brussels\t2025-08-10T19:08:56+02:00\n",
      "Europe/Bucharest\t2025-08-10T20:08:56+03:00\n",
      "Europe/Budapest\t2025-08-10T19:08:56+02:00\n",
      "Europe/Busingen\t2025-08-10T19:08:56+02:00\n",
      "Europe/Chisinau\t2025-08-10T20:08:56+03:00\n",
      "Europe/Copenhagen\t2025-08-10T19:08:56+02:00\n",
      "Europe/Dublin\t2025-08-10T18:08:56+01:00\n",
      "Europe/Gibraltar\t2025-08-10T19:08:56+02:00\n",
      "Europe/Guernsey\t2025-08-10T18:08:56+01:00\n",
      "Europe/Helsinki\t2025-08-10T20:08:56+03:00\n",
      "Europe/Isle_of_Man\t2025-08-10T18:08:56+01:00\n",
      "Europe/Istanbul\t2025-08-10T20:08:56+03:00\n",
      "Europe/Jersey\t2025-08-10T18:08:56+01:00\n",
      "Europe/Kaliningrad\t2025-08-10T19:08:56+02:00\n",
      "Europe/Kiev\t2025-08-10T20:08:56+03:00\n",
      "Europe/Kirov\t2025-08-10T20:08:56+03:00\n",
      "Europe/Kyiv\t2025-08-10T20:08:56+03:00\n",
      "Europe/Lisbon\t2025-08-10T18:08:56+01:00\n",
      "Europe/Ljubljana\t2025-08-10T19:08:56+02:00\n",
      "Europe/London\t2025-08-10T18:08:56+01:00\n",
      "Europe/Luxembourg\t2025-08-10T19:08:56+02:00\n",
      "Europe/Madrid\t2025-08-10T19:08:56+02:00\n",
      "Europe/Malta\t2025-08-10T19:08:56+02:00\n",
      "Europe/Mariehamn\t2025-08-10T20:08:56+03:00\n",
      "Europe/Minsk\t2025-08-10T20:08:56+03:00\n",
      "Europe/Monaco\t2025-08-10T19:08:56+02:00\n",
      "Europe/Moscow\t2025-08-10T20:08:56+03:00\n",
      "Europe/Nicosia\t2025-08-10T20:08:56+03:00\n",
      "Europe/Oslo\t2025-08-10T19:08:56+02:00\n",
      "Europe/Paris\t2025-08-10T19:08:56+02:00\n",
      "Europe/Podgorica\t2025-08-10T19:08:56+02:00\n",
      "Europe/Prague\t2025-08-10T19:08:56+02:00\n",
      "Europe/Riga\t2025-08-10T20:08:56+03:00\n",
      "Europe/Rome\t2025-08-10T19:08:56+02:00\n",
      "Europe/Samara\t2025-08-10T21:08:56+04:00\n",
      "Europe/San_Marino\t2025-08-10T19:08:56+02:00\n",
      "Europe/Sarajevo\t2025-08-10T19:08:56+02:00\n",
      "Europe/Saratov\t2025-08-10T21:08:56+04:00\n",
      "Europe/Simferopol\t2025-08-10T20:08:56+03:00\n",
      "Europe/Skopje\t2025-08-10T19:08:56+02:00\n",
      "Europe/Sofia\t2025-08-10T20:08:56+03:00\n",
      "Europe/Stockholm\t2025-08-10T19:08:56+02:00\n",
      "Europe/Tallinn\t2025-08-10T20:08:56+03:00\n",
      "Europe/Tirane\t2025-08-10T19:08:56+02:00\n",
      "Europe/Tiraspol\t2025-08-10T20:08:56+03:00\n",
      "Europe/Ulyanovsk\t2025-08-10T21:08:56+04:00\n",
      "Europe/Uzhgorod\t2025-08-10T20:08:56+03:00\n",
      "Europe/Vaduz\t2025-08-10T19:08:56+02:00\n",
      "Europe/Vatican\t2025-08-10T19:08:56+02:00\n",
      "Europe/Vienna\t2025-08-10T19:08:56+02:00\n",
      "Europe/Vilnius\t2025-08-10T20:08:56+03:00\n",
      "Europe/Volgograd\t2025-08-10T20:08:56+03:00\n",
      "Europe/Warsaw\t2025-08-10T19:08:56+02:00\n",
      "Europe/Zagreb\t2025-08-10T19:08:56+02:00\n",
      "Europe/Zaporozhye\t2025-08-10T20:08:56+03:00\n",
      "Europe/Zurich\t2025-08-10T19:08:56+02:00\n",
      "Factory\t2025-08-10T17:08:56+00:00\n",
      "GB\t2025-08-10T18:08:56+01:00\n",
      "GB-Eire\t2025-08-10T18:08:56+01:00\n",
      "GMT\t2025-08-10T17:08:56+00:00\n",
      "GMT+0\t2025-08-10T17:08:56+00:00\n",
      "GMT-0\t2025-08-10T17:08:56+00:00\n",
      "GMT0\t2025-08-10T17:08:56+00:00\n",
      "Greenwich\t2025-08-10T17:08:56+00:00\n",
      "HST\t2025-08-10T07:08:56-10:00\n",
      "Hongkong\t2025-08-11T01:08:56+08:00\n",
      "Iceland\t2025-08-10T17:08:56+00:00\n",
      "Indian/Antananarivo\t2025-08-10T20:08:56+03:00\n",
      "Indian/Chagos\t2025-08-10T23:08:56+06:00\n",
      "Indian/Christmas\t2025-08-11T00:08:56+07:00\n",
      "Indian/Cocos\t2025-08-10T23:38:56+06:30\n",
      "Indian/Comoro\t2025-08-10T20:08:56+03:00\n",
      "Indian/Kerguelen\t2025-08-10T22:08:56+05:00\n",
      "Indian/Mahe\t2025-08-10T21:08:56+04:00\n",
      "Indian/Maldives\t2025-08-10T22:08:56+05:00\n",
      "Indian/Mauritius\t2025-08-10T21:08:56+04:00\n",
      "Indian/Mayotte\t2025-08-10T20:08:56+03:00\n",
      "Indian/Reunion\t2025-08-10T21:08:56+04:00\n",
      "Iran\t2025-08-10T20:38:56+03:30\n",
      "Israel\t2025-08-10T20:08:56+03:00\n",
      "Jamaica\t2025-08-10T12:08:56-05:00\n",
      "Japan\t2025-08-11T02:08:56+09:00\n",
      "Kwajalein\t2025-08-11T05:08:56+12:00\n",
      "Libya\t2025-08-10T19:08:56+02:00\n",
      "MET\t2025-08-10T19:08:56+02:00\n",
      "MST\t2025-08-10T10:08:56-07:00\n",
      "MST7MDT\t2025-08-10T11:08:56-06:00\n",
      "Mexico/BajaNorte\t2025-08-10T10:08:56-07:00\n",
      "Mexico/BajaSur\t2025-08-10T10:08:56-07:00\n",
      "Mexico/General\t2025-08-10T11:08:56-06:00\n",
      "NZ\t2025-08-11T05:08:56+12:00\n",
      "NZ-CHAT\t2025-08-11T05:53:56+12:45\n",
      "Navajo\t2025-08-10T11:08:56-06:00\n",
      "PRC\t2025-08-11T01:08:56+08:00\n",
      "PST8PDT\t2025-08-10T10:08:56-07:00\n",
      "Pacific/Apia\t2025-08-11T06:08:56+13:00\n",
      "Pacific/Auckland\t2025-08-11T05:08:56+12:00\n",
      "Pacific/Bougainville\t2025-08-11T04:08:56+11:00\n",
      "Pacific/Chatham\t2025-08-11T05:53:56+12:45\n",
      "Pacific/Chuuk\t2025-08-11T03:08:56+10:00\n",
      "Pacific/Easter\t2025-08-10T11:08:56-06:00\n",
      "Pacific/Efate\t2025-08-11T04:08:56+11:00\n",
      "Pacific/Enderbury\t2025-08-11T06:08:56+13:00\n",
      "Pacific/Fakaofo\t2025-08-11T06:08:56+13:00\n",
      "Pacific/Fiji\t2025-08-11T05:08:56+12:00\n",
      "Pacific/Funafuti\t2025-08-11T05:08:56+12:00\n",
      "Pacific/Galapagos\t2025-08-10T11:08:56-06:00\n",
      "Pacific/Gambier\t2025-08-10T08:08:56-09:00\n",
      "Pacific/Guadalcanal\t2025-08-11T04:08:56+11:00\n",
      "Pacific/Guam\t2025-08-11T03:08:56+10:00\n",
      "Pacific/Honolulu\t2025-08-10T07:08:56-10:00\n",
      "Pacific/Johnston\t2025-08-10T07:08:56-10:00\n",
      "Pacific/Kanton\t2025-08-11T06:08:56+13:00\n",
      "Pacific/Kiritimati\t2025-08-11T07:08:56+14:00\n",
      "Pacific/Kosrae\t2025-08-11T04:08:56+11:00\n",
      "Pacific/Kwajalein\t2025-08-11T05:08:56+12:00\n",
      "Pacific/Majuro\t2025-08-11T05:08:56+12:00\n",
      "Pacific/Marquesas\t2025-08-10T07:38:56-09:30\n",
      "Pacific/Midway\t2025-08-10T06:08:56-11:00\n",
      "Pacific/Nauru\t2025-08-11T05:08:56+12:00\n",
      "Pacific/Niue\t2025-08-10T06:08:56-11:00\n",
      "Pacific/Norfolk\t2025-08-11T04:08:56+11:00\n",
      "Pacific/Noumea\t2025-08-11T04:08:56+11:00\n",
      "Pacific/Pago_Pago\t2025-08-10T06:08:56-11:00\n",
      "Pacific/Palau\t2025-08-11T02:08:56+09:00\n",
      "Pacific/Pitcairn\t2025-08-10T09:08:56-08:00\n",
      "Pacific/Pohnpei\t2025-08-11T04:08:56+11:00\n",
      "Pacific/Ponape\t2025-08-11T04:08:56+11:00\n",
      "Pacific/Port_Moresby\t2025-08-11T03:08:56+10:00\n",
      "Pacific/Rarotonga\t2025-08-10T07:08:56-10:00\n",
      "Pacific/Saipan\t2025-08-11T03:08:56+10:00\n",
      "Pacific/Samoa\t2025-08-10T06:08:56-11:00\n",
      "Pacific/Tahiti\t2025-08-10T07:08:56-10:00\n",
      "Pacific/Tarawa\t2025-08-11T05:08:56+12:00\n",
      "Pacific/Tongatapu\t2025-08-11T06:08:56+13:00\n",
      "Pacific/Truk\t2025-08-11T03:08:56+10:00\n",
      "Pacific/Wake\t2025-08-11T05:08:56+12:00\n",
      "Pacific/Wallis\t2025-08-11T05:08:56+12:00\n",
      "Pacific/Yap\t2025-08-11T03:08:56+10:00\n",
      "Poland\t2025-08-10T19:08:56+02:00\n",
      "Portugal\t2025-08-10T18:08:56+01:00\n",
      "ROC\t2025-08-11T01:08:56+08:00\n",
      "ROK\t2025-08-11T02:08:56+09:00\n",
      "Singapore\t2025-08-11T01:08:56+08:00\n",
      "Turkey\t2025-08-10T20:08:56+03:00\n",
      "UCT\t2025-08-10T17:08:56+00:00\n",
      "US/Alaska\t2025-08-10T09:08:56-08:00\n",
      "US/Aleutian\t2025-08-10T08:08:56-09:00\n",
      "US/Arizona\t2025-08-10T10:08:56-07:00\n",
      "US/Central\t2025-08-10T12:08:56-05:00\n",
      "US/East-Indiana\t2025-08-10T13:08:56-04:00\n",
      "US/Eastern\t2025-08-10T13:08:56-04:00\n",
      "US/Hawaii\t2025-08-10T07:08:56-10:00\n",
      "US/Indiana-Starke\t2025-08-10T12:08:56-05:00\n",
      "US/Michigan\t2025-08-10T13:08:56-04:00\n",
      "US/Mountain\t2025-08-10T11:08:56-06:00\n",
      "US/Pacific\t2025-08-10T10:08:56-07:00\n",
      "US/Samoa\t2025-08-10T06:08:56-11:00\n",
      "UTC\t2025-08-10T17:08:56+00:00\n",
      "Universal\t2025-08-10T17:08:56+00:00\n",
      "W-SU\t2025-08-10T20:08:56+03:00\n",
      "WET\t2025-08-10T18:08:56+01:00\n",
      "Zulu\t2025-08-10T17:08:56+00:00\n",
      "\n"
     ]
    }
   ],
   "source": [
    "import json\n",
    "bash_command_tool(**json.loads(response2.output[-1].arguments))"
   ]
  },
  {
   "cell_type": "code",
   "execution_count": null,
   "id": "95f6ed38",
   "metadata": {},
   "outputs": [],
   "source": []
  },
  {
   "cell_type": "markdown",
   "id": "44cab717",
   "metadata": {},
   "source": [
    "## Context‑Free Grammar (CFG)\n",
    "\n",
    "CFG's are effectively contracts that force the model to emit only strings that the grammar accept"
   ]
  },
  {
   "cell_type": "code",
   "execution_count": 21,
   "id": "1cf613b4",
   "metadata": {},
   "outputs": [],
   "source": [
    "client = OpenAI()\n",
    "\n",
    "# + followed by 8–15 digits total, first digit 1–9 (E.164). Add |UNKNOWN to allow a fallback.\n",
    "phone_grammar_definition = r\"^(?:\\+[1-9]\\d{7,14}|UNKNOWN)$\"\n",
    "\n",
    "def normalize_phone(prompt: str) -> OpenAI:\n",
    "    resp = client.responses.create(\n",
    "        model=\"gpt-5-nano\",\n",
    "        input=prompt,\n",
    "        tools=[{\n",
    "            \"type\": \"custom\",\n",
    "            \"name\": \"e164_phone\",\n",
    "            \"description\": \"Return E.164 phone or UNKNOWN.\",\n",
    "            \"format\": {\n",
    "                \"type\": \"grammar\",\n",
    "                \"syntax\": \"regex\",\n",
    "                \"definition\": phone_grammar_definition\n",
    "            }\n",
    "        }],\n",
    "    )\n",
    "    return resp\n",
    "\n",
    "\n",
    "resp = normalize_phone(\"Convert the phone number (123) 456-7890 to E.164 or output UNKNOWN\")"
   ]
  },
  {
   "cell_type": "code",
   "execution_count": 22,
   "id": "9cbe0e17",
   "metadata": {},
   "outputs": [
    {
     "data": {
      "text/plain": [
       "Response(id='resp_6898d33cf3588197af4f682fbbfd7a920b09088bbd507170', created_at=1754846017.0, error=None, incomplete_details=None, instructions=None, metadata={}, model='gpt-5-nano-2025-08-07', object='response', output=[ResponseReasoningItem(id='rs_6898d34228608197b2ba550a511fe9200b09088bbd507170', summary=[], type='reasoning', content=None, encrypted_content=None, status=None), ResponseCustomToolCall(call_id='call_HTM70Reva8C1iPlga2EZLuOx', input='+11234567890', name='e164_phone', type='custom_tool_call', id='ctc_6898d344aa588197a6d62875bd5fcedd0b09088bbd507170', status='completed')], parallel_tool_calls=True, temperature=1.0, tool_choice='auto', tools=[CustomTool(name='e164_phone', type='custom', description='Return E.164 phone or UNKNOWN.', format=Grammar(definition='^(?:\\\\+[1-9]\\\\d{7,14}|UNKNOWN)$', syntax='regex', type='grammar'))], top_p=1.0, background=False, max_output_tokens=None, max_tool_calls=None, previous_response_id=None, prompt=None, prompt_cache_key=None, reasoning=Reasoning(effort='medium', generate_summary=None, summary=None), safety_identifier=None, service_tier='default', status='completed', text=ResponseTextConfig(format=ResponseFormatText(type='text'), verbosity='medium'), top_logprobs=0, truncation='disabled', usage=ResponseUsage(input_tokens=124, input_tokens_details=InputTokensDetails(cached_tokens=0), output_tokens=789, output_tokens_details=OutputTokensDetails(reasoning_tokens=768), total_tokens=913), user=None, store=True)"
      ]
     },
     "execution_count": 22,
     "metadata": {},
     "output_type": "execute_result"
    }
   ],
   "source": [
    "resp"
   ]
  },
  {
   "cell_type": "code",
   "execution_count": 23,
   "id": "21274b62",
   "metadata": {},
   "outputs": [
    {
     "data": {
      "text/plain": [
       "''"
      ]
     },
     "execution_count": 23,
     "metadata": {},
     "output_type": "execute_result"
    }
   ],
   "source": [
    "resp.output_text"
   ]
  },
  {
   "cell_type": "code",
   "execution_count": 24,
   "id": "397047e9",
   "metadata": {},
   "outputs": [
    {
     "data": {
      "text/plain": [
       "[ResponseReasoningItem(id='rs_6898d34228608197b2ba550a511fe9200b09088bbd507170', summary=[], type='reasoning', content=None, encrypted_content=None, status=None),\n",
       " ResponseCustomToolCall(call_id='call_HTM70Reva8C1iPlga2EZLuOx', input='+11234567890', name='e164_phone', type='custom_tool_call', id='ctc_6898d344aa588197a6d62875bd5fcedd0b09088bbd507170', status='completed')]"
      ]
     },
     "execution_count": 24,
     "metadata": {},
     "output_type": "execute_result"
    }
   ],
   "source": [
    "resp.output"
   ]
  },
  {
   "cell_type": "code",
   "execution_count": 25,
   "id": "9b01e1da",
   "metadata": {},
   "outputs": [
    {
     "data": {
      "text/plain": [
       "{'call_id': 'call_HTM70Reva8C1iPlga2EZLuOx',\n",
       " 'input': '+11234567890',\n",
       " 'name': 'e164_phone',\n",
       " 'type': 'custom_tool_call',\n",
       " 'id': 'ctc_6898d344aa588197a6d62875bd5fcedd0b09088bbd507170',\n",
       " 'status': 'completed'}"
      ]
     },
     "execution_count": 25,
     "metadata": {},
     "output_type": "execute_result"
    }
   ],
   "source": [
    "resp.output[-1].to_dict()"
   ]
  },
  {
   "cell_type": "code",
   "execution_count": null,
   "id": "98aa4b91",
   "metadata": {},
   "outputs": [
    {
     "data": {
      "text/plain": [
       "'+11234567890'"
      ]
     },
     "execution_count": 26,
     "metadata": {},
     "output_type": "execute_result"
    }
   ],
   "source": [
    "resp.output[-1].input"
   ]
  },
  {
   "cell_type": "code",
   "execution_count": 32,
   "id": "f69cb78e",
   "metadata": {},
   "outputs": [
    {
     "name": "stdout",
     "output_type": "stream",
     "text": [
      "+11234567890\n"
     ]
    }
   ],
   "source": [
    "parsed_number = None\n",
    "\n",
    "for output in resp.output:\n",
    "    if output.type == \"custom_tool_call\" and output.name == \"e164_phone\":\n",
    "        pass\n",
    "        parsed_number = output.input\n",
    "\n",
    "\n",
    "print(parsed_number)"
   ]
  },
  {
   "cell_type": "code",
   "execution_count": 40,
   "id": "5a4ed1b1",
   "metadata": {},
   "outputs": [],
   "source": [
    "resp2 = normalize_phone(\"Output the iconic first sentence of the book Neuromancer\")"
   ]
  },
  {
   "cell_type": "code",
   "execution_count": 41,
   "id": "8fad9ea9",
   "metadata": {},
   "outputs": [
    {
     "data": {
      "text/plain": [
       "'The sky above the port was the color of television, tuned to a dead channel.'"
      ]
     },
     "execution_count": 41,
     "metadata": {},
     "output_type": "execute_result"
    }
   ],
   "source": [
    "resp2.output_text"
   ]
  },
  {
   "cell_type": "code",
   "execution_count": 42,
   "id": "400dff74",
   "metadata": {},
   "outputs": [
    {
     "data": {
      "text/plain": [
       "[ResponseReasoningItem(id='rs_6898d496859c81a09174a66045ec7552093b6cfe714dca01', summary=[], type='reasoning', content=None, encrypted_content=None, status=None),\n",
       " ResponseOutputMessage(id='msg_6898d49b580481a098ade8c007e7f0cd093b6cfe714dca01', content=[ResponseOutputText(annotations=[], text='The sky above the port was the color of television, tuned to a dead channel.', type='output_text', logprobs=[])], role='assistant', status='completed', type='message')]"
      ]
     },
     "execution_count": 42,
     "metadata": {},
     "output_type": "execute_result"
    }
   ],
   "source": [
    "resp2.output"
   ]
  },
  {
   "cell_type": "code",
   "execution_count": 44,
   "id": "d5b78c7e",
   "metadata": {},
   "outputs": [
    {
     "data": {
      "text/plain": [
       "{'id': 'msg_6898d49b580481a098ade8c007e7f0cd093b6cfe714dca01',\n",
       " 'content': [{'annotations': [],\n",
       "   'text': 'The sky above the port was the color of television, tuned to a dead channel.',\n",
       "   'type': 'output_text',\n",
       "   'logprobs': []}],\n",
       " 'role': 'assistant',\n",
       " 'status': 'completed',\n",
       " 'type': 'message'}"
      ]
     },
     "execution_count": 44,
     "metadata": {},
     "output_type": "execute_result"
    }
   ],
   "source": [
    "resp2.output[-1].to_dict()"
   ]
  },
  {
   "cell_type": "code",
   "execution_count": 45,
   "id": "ea8b7846",
   "metadata": {},
   "outputs": [],
   "source": [
    "client = OpenAI()\n",
    "\n",
    "# Accepts common single-codepoint emojis and their sequences (ZWJ, VS-16, skin tones, flags, keycaps).\n",
    "# If you want to allow spaces/newlines between emojis, add \\s to the character class.\n",
    "emoji_grammar_definition = (\n",
    "    r\"^(?:\"\n",
    "    r\"[\\u2600-\\u26FF]\"                # Misc Symbols\n",
    "    r\"|[\\u2700-\\u27BF]\"               # Dingbats\n",
    "    r\"|[\\U0001F1E6-\\U0001F1FF]\"       # Regional indicators (flags)\n",
    "    r\"|[\\U0001F300-\\U0001F5FF]\"       # Misc Symbols & Pictographs\n",
    "    r\"|[\\U0001F600-\\U0001F64F]\"       # Emoticons\n",
    "    r\"|[\\U0001F680-\\U0001F6FF]\"       # Transport & Map\n",
    "    r\"|[\\U0001F700-\\U0001F77F]\"       # Alchemical Symbols\n",
    "    r\"|[\\U0001F780-\\U0001F7FF]\"       # Geometric Shapes Extended\n",
    "    r\"|[\\U0001F900-\\U0001F9FF]\"       # Supplemental Symbols & Pictographs\n",
    "    r\"|[\\U0001FA70-\\U0001FAFF]\"       # Symbols & Pictographs Extended-A\n",
    "    r\"|[\\U0001F3FB-\\U0001F3FF]\"       # Emoji skin tone modifiers\n",
    "    r\"|\\u200D\"                         # Zero-width joiner (ZWJ)\n",
    "    r\"|\\uFE0F\"                         # Variation Selector-16\n",
    "    r\"|\\u20E3\"                         # Combining enclosing keycap\n",
    "    r\")+$\"\n",
    ")\n",
    "\n",
    "def ask_emoji(prompt: str):\n",
    "    resp = client.responses.create(\n",
    "        model=\"gpt-5-mini\",\n",
    "        input=prompt,\n",
    "        text={\"verbosity\": \"high\"},\n",
    "        tools=[{\n",
    "            \"type\": \"custom\",\n",
    "            \"name\": \"emoji_grammar\",\n",
    "            \"description\": \"Outputs a string containing only emojis. You must ensure the text contains only emojis and no other characters.\",\n",
    "            \"format\": {\n",
    "                \"type\": \"grammar\",\n",
    "                \"syntax\": \"regex\",\n",
    "                \"definition\": emoji_grammar_definition\n",
    "            }\n",
    "        }],\n",
    "    )\n",
    "\n",
    "    return resp\n",
    "\n",
    "# Example:\n",
    "resp = ask_emoji(\"Summarize quantum computing using just emojis and check your work with the emoji_grammar tool\")\n"
   ]
  },
  {
   "cell_type": "code",
   "execution_count": 46,
   "id": "fc9070ef",
   "metadata": {},
   "outputs": [
    {
     "data": {
      "text/plain": [
       "''"
      ]
     },
     "execution_count": 46,
     "metadata": {},
     "output_type": "execute_result"
    }
   ],
   "source": [
    "resp.output_text"
   ]
  },
  {
   "cell_type": "code",
   "execution_count": 47,
   "id": "8d3d36f6",
   "metadata": {},
   "outputs": [
    {
     "data": {
      "text/plain": [
       "[ResponseReasoningItem(id='rs_6898d5b7ec5c81968a006c1a8d00ea6b08180cbd8d071f57', summary=[], type='reasoning', content=None, encrypted_content=None, status=None),\n",
       " ResponseCustomToolCall(call_id='call_4R9YBSA31kjGSGDpvz89lfgc', input='⚛️🔀🔗⚙️🔬🚀🔓⚠️🛡️🧪🧬💻📈', name='emoji_grammar', type='custom_tool_call', id='ctc_6898d5d255f08196b6600c1cf7b0d2c808180cbd8d071f57', status='completed')]"
      ]
     },
     "execution_count": 47,
     "metadata": {},
     "output_type": "execute_result"
    }
   ],
   "source": [
    "resp.output"
   ]
  },
  {
   "cell_type": "code",
   "execution_count": 48,
   "id": "28f7e20c",
   "metadata": {},
   "outputs": [
    {
     "data": {
      "text/plain": [
       "{'call_id': 'call_4R9YBSA31kjGSGDpvz89lfgc',\n",
       " 'input': '⚛️🔀🔗⚙️🔬🚀🔓⚠️🛡️🧪🧬💻📈',\n",
       " 'name': 'emoji_grammar',\n",
       " 'type': 'custom_tool_call',\n",
       " 'id': 'ctc_6898d5d255f08196b6600c1cf7b0d2c808180cbd8d071f57',\n",
       " 'status': 'completed'}"
      ]
     },
     "execution_count": 48,
     "metadata": {},
     "output_type": "execute_result"
    }
   ],
   "source": [
    "resp.output[-1].to_dict()"
   ]
  },
  {
   "cell_type": "markdown",
   "id": "7ed61c96",
   "metadata": {},
   "source": [
    "## CFG - LARK grammars"
   ]
  },
  {
   "cell_type": "code",
   "execution_count": 51,
   "id": "301f661a",
   "metadata": {},
   "outputs": [],
   "source": [
    "import textwrap\n",
    "\n",
    "postgres_grammar = textwrap.dedent(r\"\"\"\n",
    "            // ---------- Punctuation & operators ----------\n",
    "            SP: \" \"\n",
    "            COMMA: \",\"\n",
    "            GT: \">\"\n",
    "            EQ: \"=\"\n",
    "            SEMI: \";\"\n",
    "\n",
    "            // ---------- Start ----------\n",
    "            start: \"SELECT\" SP select_list SP \"FROM\" SP table SP \"WHERE\" SP amount_filter SP \"AND\" SP date_filter SP \"ORDER\" SP \"BY\" SP sort_cols SP \"LIMIT\" SP NUMBER SEMI\n",
    "\n",
    "            // ---------- Projections ----------\n",
    "            select_list: column (COMMA SP column)*\n",
    "            column: IDENTIFIER\n",
    "\n",
    "            // ---------- Tables ----------\n",
    "            table: IDENTIFIER\n",
    "\n",
    "            // ---------- Filters ----------\n",
    "            amount_filter: \"total_amount\" SP GT SP NUMBER\n",
    "            date_filter: \"order_date\" SP GT SP DATE\n",
    "\n",
    "            // ---------- Sorting ----------\n",
    "            sort_cols: \"order_date\" SP \"DESC\"\n",
    "\n",
    "            // ---------- Terminals ----------\n",
    "            IDENTIFIER: /[A-Za-z_][A-Za-z0-9_]*/\n",
    "            NUMBER: /[0-9]+/\n",
    "            DATE: /'[0-9]{4}-[0-9]{2}-[0-9]{2}'/\n",
    "    \"\"\")\n",
    "\n"
   ]
  },
  {
   "cell_type": "code",
   "execution_count": 52,
   "id": "aff545dc",
   "metadata": {},
   "outputs": [
    {
     "data": {
      "text/plain": [
       "'\\n// ---------- Punctuation & operators ----------\\nSP: \" \"\\nCOMMA: \",\"\\nGT: \">\"\\nEQ: \"=\"\\nSEMI: \";\"\\n\\n// ---------- Start ----------\\nstart: \"SELECT\" SP select_list SP \"FROM\" SP table SP \"WHERE\" SP amount_filter SP \"AND\" SP date_filter SP \"ORDER\" SP \"BY\" SP sort_cols SP \"LIMIT\" SP NUMBER SEMI\\n\\n// ---------- Projections ----------\\nselect_list: column (COMMA SP column)*\\ncolumn: IDENTIFIER\\n\\n// ---------- Tables ----------\\ntable: IDENTIFIER\\n\\n// ---------- Filters ----------\\namount_filter: \"total_amount\" SP GT SP NUMBER\\ndate_filter: \"order_date\" SP GT SP DATE\\n\\n// ---------- Sorting ----------\\nsort_cols: \"order_date\" SP \"DESC\"\\n\\n// ---------- Terminals ----------\\nIDENTIFIER: /[A-Za-z_][A-Za-z0-9_]*/\\nNUMBER: /[0-9]+/\\nDATE: /\\'[0-9]{4}-[0-9]{2}-[0-9]{2}\\'/\\n'"
      ]
     },
     "execution_count": 52,
     "metadata": {},
     "output_type": "execute_result"
    }
   ],
   "source": [
    "postgres_grammar"
   ]
  },
  {
   "cell_type": "code",
   "execution_count": 82,
   "id": "807f48ef",
   "metadata": {},
   "outputs": [
    {
     "name": "stdout",
     "output_type": "stream",
     "text": [
      "--- PG SQL Query ---\n",
      "SELECT customer_id, order_id, order_date, total_amount FROM orders WHERE total_amount > 500 AND order_date > '2025-01-01' ORDER BY order_date DESC LIMIT 5;\n"
     ]
    }
   ],
   "source": [
    "sql_prompt_pg = (\n",
    "    \"Call the postgres_grammar to generate a query for PostgreSQL that retrieve the \"\n",
    "    \"five most recent orders per customer, showing customer_id, order_id, order_date, and total_amount, \"\n",
    "    \"where total_amount > 500 and order_date is after '2025-01-01' \"\n",
    ")\n",
    "\n",
    "response_pg = client.responses.create(\n",
    "    model=\"gpt-5\",\n",
    "    input=sql_prompt_pg,\n",
    "    tools=[\n",
    "        {\n",
    "            \"type\": \"custom\",\n",
    "            \"name\": \"postgres_grammar\",\n",
    "            \"description\": \"Executes read-only PostgreSQL queries limited to SELECT statements with LIMIT and basic WHERE/ORDER BY. YOU MUST REASON HEAVILY ABOUT THE QUERY AND MAKE SURE IT OBEYS THE GRAMMAR.\",\n",
    "            \"format\": {\n",
    "                \"type\": \"grammar\",\n",
    "                \"syntax\": \"lark\",\n",
    "                \"definition\": postgres_grammar\n",
    "            }\n",
    "        },\n",
    "    ],\n",
    ")\n",
    "\n",
    "print(\"--- PG SQL Query ---\")\n",
    "print(response_pg.output[1].input)"
   ]
  },
  {
   "cell_type": "code",
   "execution_count": 83,
   "id": "b72ed010",
   "metadata": {},
   "outputs": [
    {
     "data": {
      "text/plain": [
       "''"
      ]
     },
     "execution_count": 83,
     "metadata": {},
     "output_type": "execute_result"
    }
   ],
   "source": [
    "response_pg.output_text"
   ]
  },
  {
   "cell_type": "code",
   "execution_count": 84,
   "id": "83922d4f",
   "metadata": {},
   "outputs": [
    {
     "data": {
      "text/plain": [
       "{'call_id': 'call_DPCcKx9S7JfMcs86BZ6lfwEe',\n",
       " 'input': \"SELECT customer_id, order_id, order_date, total_amount FROM orders WHERE total_amount > 500 AND order_date > '2025-01-01' ORDER BY order_date DESC LIMIT 5;\",\n",
       " 'name': 'postgres_grammar',\n",
       " 'type': 'custom_tool_call',\n",
       " 'id': 'ctc_6898d8dfbfb881a3ae0e49cb04bc2d280d2697d31192ac2b',\n",
       " 'status': 'completed'}"
      ]
     },
     "execution_count": 84,
     "metadata": {},
     "output_type": "execute_result"
    }
   ],
   "source": [
    "response_pg.output[-1].to_dict()"
   ]
  },
  {
   "cell_type": "code",
   "execution_count": 85,
   "id": "543b2527",
   "metadata": {},
   "outputs": [
    {
     "data": {
      "text/plain": [
       "[ResponseReasoningItem(id='rs_6898d8d5780881a3aaef335ab400e4ec0d2697d31192ac2b', summary=[], type='reasoning', content=None, encrypted_content=None, status=None),\n",
       " ResponseCustomToolCall(call_id='call_DPCcKx9S7JfMcs86BZ6lfwEe', input=\"SELECT customer_id, order_id, order_date, total_amount FROM orders WHERE total_amount > 500 AND order_date > '2025-01-01' ORDER BY order_date DESC LIMIT 5;\", name='postgres_grammar', type='custom_tool_call', id='ctc_6898d8dfbfb881a3ae0e49cb04bc2d280d2697d31192ac2b', status='completed')]"
      ]
     },
     "execution_count": 85,
     "metadata": {},
     "output_type": "execute_result"
    }
   ],
   "source": [
    "response_pg.output"
   ]
  },
  {
   "cell_type": "code",
   "execution_count": 86,
   "id": "6e308b8b",
   "metadata": {},
   "outputs": [
    {
     "data": {
      "text/plain": [
       "{'id': 'resp_6898d8ce952c81a3b10a7a63a7f40a690d2697d31192ac2b',\n",
       " 'created_at': 1754847444.0,\n",
       " 'error': None,\n",
       " 'incomplete_details': None,\n",
       " 'instructions': None,\n",
       " 'metadata': {},\n",
       " 'model': 'gpt-5-2025-08-07',\n",
       " 'object': 'response',\n",
       " 'output': [{'id': 'rs_6898d8d5780881a3aaef335ab400e4ec0d2697d31192ac2b',\n",
       "   'summary': [],\n",
       "   'type': 'reasoning'},\n",
       "  {'call_id': 'call_DPCcKx9S7JfMcs86BZ6lfwEe',\n",
       "   'input': \"SELECT customer_id, order_id, order_date, total_amount FROM orders WHERE total_amount > 500 AND order_date > '2025-01-01' ORDER BY order_date DESC LIMIT 5;\",\n",
       "   'name': 'postgres_grammar',\n",
       "   'type': 'custom_tool_call',\n",
       "   'id': 'ctc_6898d8dfbfb881a3ae0e49cb04bc2d280d2697d31192ac2b',\n",
       "   'status': 'completed'}],\n",
       " 'parallel_tool_calls': True,\n",
       " 'temperature': 1.0,\n",
       " 'tool_choice': 'auto',\n",
       " 'tools': [{'name': 'postgres_grammar',\n",
       "   'type': 'custom',\n",
       "   'description': 'Executes read-only PostgreSQL queries limited to SELECT statements with LIMIT and basic WHERE/ORDER BY. YOU MUST REASON HEAVILY ABOUT THE QUERY AND MAKE SURE IT OBEYS THE GRAMMAR.',\n",
       "   'format': {'definition': '\\n// ---------- Punctuation & operators ----------\\nSP: \" \"\\nCOMMA: \",\"\\nGT: \">\"\\nEQ: \"=\"\\nSEMI: \";\"\\n\\n// ---------- Start ----------\\nstart: \"SELECT\" SP select_list SP \"FROM\" SP table SP \"WHERE\" SP amount_filter SP \"AND\" SP date_filter SP \"ORDER\" SP \"BY\" SP sort_cols SP \"LIMIT\" SP NUMBER SEMI\\n\\n// ---------- Projections ----------\\nselect_list: column (COMMA SP column)*\\ncolumn: IDENTIFIER\\n\\n// ---------- Tables ----------\\ntable: IDENTIFIER\\n\\n// ---------- Filters ----------\\namount_filter: \"total_amount\" SP GT SP NUMBER\\ndate_filter: \"order_date\" SP GT SP DATE\\n\\n// ---------- Sorting ----------\\nsort_cols: \"order_date\" SP \"DESC\"\\n\\n// ---------- Terminals ----------\\nIDENTIFIER: /[A-Za-z_][A-Za-z0-9_]*/\\nNUMBER: /[0-9]+/\\nDATE: /\\'[0-9]{4}-[0-9]{2}-[0-9]{2}\\'/\\n',\n",
       "    'syntax': 'lark',\n",
       "    'type': 'grammar'}}],\n",
       " 'top_p': 1.0,\n",
       " 'background': False,\n",
       " 'max_output_tokens': None,\n",
       " 'max_tool_calls': None,\n",
       " 'previous_response_id': None,\n",
       " 'prompt_cache_key': None,\n",
       " 'reasoning': {'effort': 'medium', 'summary': None},\n",
       " 'safety_identifier': None,\n",
       " 'service_tier': 'auto',\n",
       " 'status': 'completed',\n",
       " 'text': {'format': {'type': 'text'}, 'verbosity': 'medium'},\n",
       " 'top_logprobs': 0,\n",
       " 'truncation': 'disabled',\n",
       " 'usage': {'input_tokens': 404,\n",
       "  'input_tokens_details': {'cached_tokens': 0},\n",
       "  'output_tokens': 1082,\n",
       "  'output_tokens_details': {'reasoning_tokens': 1024},\n",
       "  'total_tokens': 1486},\n",
       " 'user': None,\n",
       " 'store': True}"
      ]
     },
     "execution_count": 86,
     "metadata": {},
     "output_type": "execute_result"
    }
   ],
   "source": [
    "response_pg.to_dict()"
   ]
  },
  {
   "cell_type": "code",
   "execution_count": 87,
   "id": "538ff045",
   "metadata": {},
   "outputs": [
    {
     "data": {
      "text/plain": [
       "{'input_tokens': 404,\n",
       " 'input_tokens_details': {'cached_tokens': 0},\n",
       " 'output_tokens': 1082,\n",
       " 'output_tokens_details': {'reasoning_tokens': 1024},\n",
       " 'total_tokens': 1486}"
      ]
     },
     "execution_count": 87,
     "metadata": {},
     "output_type": "execute_result"
    }
   ],
   "source": [
    "response_pg.usage.to_dict()"
   ]
  },
  {
   "cell_type": "code",
   "execution_count": null,
   "id": "1dfef289",
   "metadata": {},
   "outputs": [],
   "source": []
  }
 ],
 "metadata": {
  "kernelspec": {
   "display_name": "adhoc",
   "language": "python",
   "name": "python3"
  },
  "language_info": {
   "codemirror_mode": {
    "name": "ipython",
    "version": 3
   },
   "file_extension": ".py",
   "mimetype": "text/x-python",
   "name": "python",
   "nbconvert_exporter": "python",
   "pygments_lexer": "ipython3",
   "version": "3.12.11"
  }
 },
 "nbformat": 4,
 "nbformat_minor": 5
}
